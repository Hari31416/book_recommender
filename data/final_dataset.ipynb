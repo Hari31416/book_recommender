{
 "cells": [
  {
   "cell_type": "code",
   "execution_count": 1,
   "metadata": {},
   "outputs": [],
   "source": [
    "import pandas as pd\n",
    "import numpy as np\n",
    "import os\n",
    "from datasets import load_dataset\n",
    "from datasets import Dataset\n",
    "from tqdm.auto import tqdm\n",
    "import re\n",
    "import glob\n",
    "tqdm.pandas()"
   ]
  },
  {
   "cell_type": "markdown",
   "metadata": {},
   "source": [
    "This notebook will create the final dataset using what we have done till now. Some preprocessing may also be done.\n"
   ]
  },
  {
   "cell_type": "markdown",
   "metadata": {},
   "source": [
    "# Books\n"
   ]
  },
  {
   "cell_type": "code",
   "execution_count": 2,
   "metadata": {},
   "outputs": [],
   "source": [
    "all_books = pd.read_parquet(\"merged_dataset/all_books.parquet\")"
   ]
  },
  {
   "cell_type": "code",
   "execution_count": 3,
   "metadata": {},
   "outputs": [
    {
     "name": "stdout",
     "output_type": "stream",
     "text": [
      "<class 'pandas.core.frame.DataFrame'>\n",
      "RangeIndex: 60812 entries, 0 to 60811\n",
      "Data columns (total 18 columns):\n",
      " #   Column                 Non-Null Count  Dtype  \n",
      "---  ------                 --------------  -----  \n",
      " 0   num_pages              60812 non-null  int64  \n",
      " 1   star_rating_1          60812 non-null  int64  \n",
      " 2   star_rating_2          60812 non-null  int64  \n",
      " 3   star_rating_3          60812 non-null  int64  \n",
      " 4   star_rating_4          60812 non-null  int64  \n",
      " 5   star_rating_5          60812 non-null  int64  \n",
      " 6   average_rating         60812 non-null  float64\n",
      " 7   total_ratings          60812 non-null  int64  \n",
      " 8   total_reviews          60812 non-null  int64  \n",
      " 9   isbn                   60812 non-null  object \n",
      " 10  publication_date       60812 non-null  object \n",
      " 11  title                  60812 non-null  object \n",
      " 12  series                 60812 non-null  object \n",
      " 13  book_number_in_series  60812 non-null  int64  \n",
      " 14  authors                60812 non-null  object \n",
      " 15  categories             60812 non-null  object \n",
      " 16  format                 60776 non-null  float64\n",
      " 17  lang                   58937 non-null  object \n",
      "dtypes: float64(2), int64(9), object(7)\n",
      "memory usage: 8.4+ MB\n"
     ]
    }
   ],
   "source": [
    "all_books.info()"
   ]
  },
  {
   "cell_type": "markdown",
   "metadata": {},
   "source": [
    "## Add Authors\n"
   ]
  },
  {
   "cell_type": "code",
   "execution_count": 4,
   "metadata": {},
   "outputs": [
    {
     "name": "stdout",
     "output_type": "stream",
     "text": [
      "<class 'pandas.core.frame.DataFrame'>\n",
      "Int64Index: 654019 entries, 0 to 654020\n",
      "Data columns (total 2 columns):\n",
      " #   Column       Non-Null Count   Dtype \n",
      "---  ------       --------------   ----- \n",
      " 0   author_id    654019 non-null  int64 \n",
      " 1   author_name  654019 non-null  object\n",
      "dtypes: int64(1), object(1)\n",
      "memory usage: 15.0+ MB\n"
     ]
    }
   ],
   "source": [
    "authors = pd.read_csv(\"1_clean/authors.csv\")\n",
    "authors.dropna(inplace=True)\n",
    "authors.info()"
   ]
  },
  {
   "cell_type": "code",
   "execution_count": 5,
   "metadata": {},
   "outputs": [
    {
     "data": {
      "text/html": [
       "<div>\n",
       "<style scoped>\n",
       "    .dataframe tbody tr th:only-of-type {\n",
       "        vertical-align: middle;\n",
       "    }\n",
       "\n",
       "    .dataframe tbody tr th {\n",
       "        vertical-align: top;\n",
       "    }\n",
       "\n",
       "    .dataframe thead th {\n",
       "        text-align: right;\n",
       "    }\n",
       "</style>\n",
       "<table border=\"1\" class=\"dataframe\">\n",
       "  <thead>\n",
       "    <tr style=\"text-align: right;\">\n",
       "      <th></th>\n",
       "      <th>author_id</th>\n",
       "      <th>author_name</th>\n",
       "    </tr>\n",
       "  </thead>\n",
       "  <tbody>\n",
       "    <tr>\n",
       "      <th>0</th>\n",
       "      <td>1</td>\n",
       "      <td>Mike Coburn</td>\n",
       "    </tr>\n",
       "    <tr>\n",
       "      <th>1</th>\n",
       "      <td>2</td>\n",
       "      <td>John Silvester</td>\n",
       "    </tr>\n",
       "    <tr>\n",
       "      <th>2</th>\n",
       "      <td>3</td>\n",
       "      <td>Andrew Rule</td>\n",
       "    </tr>\n",
       "    <tr>\n",
       "      <th>3</th>\n",
       "      <td>4</td>\n",
       "      <td>Julia Quinn</td>\n",
       "    </tr>\n",
       "    <tr>\n",
       "      <th>4</th>\n",
       "      <td>5</td>\n",
       "      <td>Andrew Hunter Murray</td>\n",
       "    </tr>\n",
       "  </tbody>\n",
       "</table>\n",
       "</div>"
      ],
      "text/plain": [
       "   author_id           author_name\n",
       "0          1           Mike Coburn\n",
       "1          2        John Silvester\n",
       "2          3           Andrew Rule\n",
       "3          4           Julia Quinn\n",
       "4          5  Andrew Hunter Murray"
      ]
     },
     "execution_count": 5,
     "metadata": {},
     "output_type": "execute_result"
    }
   ],
   "source": [
    "authors.head()"
   ]
  },
  {
   "cell_type": "markdown",
   "metadata": {},
   "source": [
    "We can use indexing with `i-1` to get the author name with the given author id.\n"
   ]
  },
  {
   "cell_type": "code",
   "execution_count": 6,
   "metadata": {},
   "outputs": [],
   "source": [
    "def get_author_name(author_ids):\n",
    "    try:\n",
    "        author_ids = eval(author_ids)\n",
    "    except:\n",
    "        return ['Unknown']\n",
    "    author_ids = [int(id_) for id_ in author_ids]\n",
    "    names = []\n",
    "    for id_ in author_ids:\n",
    "        try:\n",
    "            names.append(authors.loc[id_ - 1]['author_name'])\n",
    "        except:\n",
    "            names.append('Unknown')\n",
    "    return names"
   ]
  },
  {
   "cell_type": "code",
   "execution_count": 7,
   "metadata": {},
   "outputs": [
    {
     "data": {
      "application/vnd.jupyter.widget-view+json": {
       "model_id": "7f7c9455e4994eea8ae6544c09dc8fef",
       "version_major": 2,
       "version_minor": 0
      },
      "text/plain": [
       "  0%|          | 0/60812 [00:00<?, ?it/s]"
      ]
     },
     "metadata": {},
     "output_type": "display_data"
    }
   ],
   "source": [
    "all_books[\"authors\"] = all_books[\"authors\"].progress_apply(get_author_name)"
   ]
  },
  {
   "cell_type": "markdown",
   "metadata": {},
   "source": [
    "## Add Categories\n"
   ]
  },
  {
   "cell_type": "code",
   "execution_count": 8,
   "metadata": {},
   "outputs": [
    {
     "name": "stdout",
     "output_type": "stream",
     "text": [
      "<class 'pandas.core.frame.DataFrame'>\n",
      "RangeIndex: 2775 entries, 0 to 2774\n",
      "Data columns (total 2 columns):\n",
      " #   Column         Non-Null Count  Dtype \n",
      "---  ------         --------------  ----- \n",
      " 0   category_id    2775 non-null   int64 \n",
      " 1   category_name  2775 non-null   object\n",
      "dtypes: int64(1), object(1)\n",
      "memory usage: 43.5+ KB\n"
     ]
    }
   ],
   "source": [
    "categories = pd.read_csv(\"1_clean/categories.csv\")\n",
    "categories.dropna(inplace=True)\n",
    "categories.info()"
   ]
  },
  {
   "cell_type": "code",
   "execution_count": 9,
   "metadata": {},
   "outputs": [],
   "source": [
    "def get_category_name(category_ids):\n",
    "    try:\n",
    "        category_ids = eval(category_ids)\n",
    "    except:\n",
    "        return ['Unknown']\n",
    "    category_ids = [int(id_) for id_ in category_ids]\n",
    "    names = []\n",
    "    for id_ in category_ids:\n",
    "        try:\n",
    "            names.append(categories.loc[categories[\"category_id\"] == id_, \"category_name\"].values[0])\n",
    "        except Exception as e:\n",
    "            names.append('Unknown')\n",
    "    return names"
   ]
  },
  {
   "cell_type": "code",
   "execution_count": 10,
   "metadata": {},
   "outputs": [
    {
     "data": {
      "application/vnd.jupyter.widget-view+json": {
       "model_id": "086b43aa540c4a92bf0cbb68a115208d",
       "version_major": 2,
       "version_minor": 0
      },
      "text/plain": [
       "  0%|          | 0/60812 [00:00<?, ?it/s]"
      ]
     },
     "metadata": {},
     "output_type": "display_data"
    }
   ],
   "source": [
    "all_books[\"categories\"] = all_books[\"categories\"].progress_apply(get_category_name)"
   ]
  },
  {
   "cell_type": "code",
   "execution_count": 11,
   "metadata": {},
   "outputs": [
    {
     "data": {
      "text/html": [
       "<div>\n",
       "<style scoped>\n",
       "    .dataframe tbody tr th:only-of-type {\n",
       "        vertical-align: middle;\n",
       "    }\n",
       "\n",
       "    .dataframe tbody tr th {\n",
       "        vertical-align: top;\n",
       "    }\n",
       "\n",
       "    .dataframe thead th {\n",
       "        text-align: right;\n",
       "    }\n",
       "</style>\n",
       "<table border=\"1\" class=\"dataframe\">\n",
       "  <thead>\n",
       "    <tr style=\"text-align: right;\">\n",
       "      <th></th>\n",
       "      <th>0</th>\n",
       "      <th>1</th>\n",
       "      <th>2</th>\n",
       "    </tr>\n",
       "  </thead>\n",
       "  <tbody>\n",
       "    <tr>\n",
       "      <th>num_pages</th>\n",
       "      <td>870</td>\n",
       "      <td>309</td>\n",
       "      <td>352</td>\n",
       "    </tr>\n",
       "    <tr>\n",
       "      <th>star_rating_1</th>\n",
       "      <td>12455</td>\n",
       "      <td>108202</td>\n",
       "      <td>11896</td>\n",
       "    </tr>\n",
       "    <tr>\n",
       "      <th>star_rating_2</th>\n",
       "      <td>37005</td>\n",
       "      <td>130310</td>\n",
       "      <td>49353</td>\n",
       "    </tr>\n",
       "    <tr>\n",
       "      <th>star_rating_3</th>\n",
       "      <td>211781</td>\n",
       "      <td>567458</td>\n",
       "      <td>288821</td>\n",
       "    </tr>\n",
       "    <tr>\n",
       "      <th>star_rating_4</th>\n",
       "      <td>604283</td>\n",
       "      <td>1513191</td>\n",
       "      <td>706082</td>\n",
       "    </tr>\n",
       "    <tr>\n",
       "      <th>star_rating_5</th>\n",
       "      <td>1493113</td>\n",
       "      <td>4268227</td>\n",
       "      <td>1504505</td>\n",
       "    </tr>\n",
       "    <tr>\n",
       "      <th>average_rating</th>\n",
       "      <td>4.5</td>\n",
       "      <td>4.47</td>\n",
       "      <td>4.42</td>\n",
       "    </tr>\n",
       "    <tr>\n",
       "      <th>total_ratings</th>\n",
       "      <td>2358637</td>\n",
       "      <td>6587388</td>\n",
       "      <td>2560657</td>\n",
       "    </tr>\n",
       "    <tr>\n",
       "      <th>total_reviews</th>\n",
       "      <td>29770</td>\n",
       "      <td>75911</td>\n",
       "      <td>244</td>\n",
       "    </tr>\n",
       "    <tr>\n",
       "      <th>isbn</th>\n",
       "      <td>043935806X</td>\n",
       "      <td>1594130000</td>\n",
       "      <td>0439554896</td>\n",
       "    </tr>\n",
       "    <tr>\n",
       "      <th>publication_date</th>\n",
       "      <td>2004-09-01</td>\n",
       "      <td>2003-11-01</td>\n",
       "      <td>2003-11-01</td>\n",
       "    </tr>\n",
       "    <tr>\n",
       "      <th>title</th>\n",
       "      <td>Harry Potter and the Order of the Phoenix</td>\n",
       "      <td>Harry Potter and the Sorcerer's Stone</td>\n",
       "      <td>Harry Potter and the Chamber of Secrets</td>\n",
       "    </tr>\n",
       "    <tr>\n",
       "      <th>series</th>\n",
       "      <td>Harry Potter</td>\n",
       "      <td>Harry Potter</td>\n",
       "      <td>Harry Potter</td>\n",
       "    </tr>\n",
       "    <tr>\n",
       "      <th>book_number_in_series</th>\n",
       "      <td>5</td>\n",
       "      <td>1</td>\n",
       "      <td>2</td>\n",
       "    </tr>\n",
       "    <tr>\n",
       "      <th>authors</th>\n",
       "      <td>[J.K. Rowling]</td>\n",
       "      <td>[J. K. Rowling]</td>\n",
       "      <td>[J.K. Rowling]</td>\n",
       "    </tr>\n",
       "    <tr>\n",
       "      <th>categories</th>\n",
       "      <td>[Fantasy, Fantasy Books, Fantasy Books for Kids]</td>\n",
       "      <td>[Thriller Books, Thrillers, Adventure Books, S...</td>\n",
       "      <td>[Fantasy, Fantasy Books, Fantasy Books for Kids]</td>\n",
       "    </tr>\n",
       "    <tr>\n",
       "      <th>format</th>\n",
       "      <td>3.0</td>\n",
       "      <td>1.0</td>\n",
       "      <td>3.0</td>\n",
       "    </tr>\n",
       "    <tr>\n",
       "      <th>lang</th>\n",
       "      <td>en</td>\n",
       "      <td>en</td>\n",
       "      <td>en</td>\n",
       "    </tr>\n",
       "  </tbody>\n",
       "</table>\n",
       "</div>"
      ],
      "text/plain": [
       "                                                                      0  \\\n",
       "num_pages                                                           870   \n",
       "star_rating_1                                                     12455   \n",
       "star_rating_2                                                     37005   \n",
       "star_rating_3                                                    211781   \n",
       "star_rating_4                                                    604283   \n",
       "star_rating_5                                                   1493113   \n",
       "average_rating                                                      4.5   \n",
       "total_ratings                                                   2358637   \n",
       "total_reviews                                                     29770   \n",
       "isbn                                                         043935806X   \n",
       "publication_date                                             2004-09-01   \n",
       "title                         Harry Potter and the Order of the Phoenix   \n",
       "series                                                     Harry Potter   \n",
       "book_number_in_series                                                 5   \n",
       "authors                                                  [J.K. Rowling]   \n",
       "categories             [Fantasy, Fantasy Books, Fantasy Books for Kids]   \n",
       "format                                                              3.0   \n",
       "lang                                                                 en   \n",
       "\n",
       "                                                                       1  \\\n",
       "num_pages                                                            309   \n",
       "star_rating_1                                                     108202   \n",
       "star_rating_2                                                     130310   \n",
       "star_rating_3                                                     567458   \n",
       "star_rating_4                                                    1513191   \n",
       "star_rating_5                                                    4268227   \n",
       "average_rating                                                      4.47   \n",
       "total_ratings                                                    6587388   \n",
       "total_reviews                                                      75911   \n",
       "isbn                                                          1594130000   \n",
       "publication_date                                              2003-11-01   \n",
       "title                              Harry Potter and the Sorcerer's Stone   \n",
       "series                                                      Harry Potter   \n",
       "book_number_in_series                                                  1   \n",
       "authors                                                  [J. K. Rowling]   \n",
       "categories             [Thriller Books, Thrillers, Adventure Books, S...   \n",
       "format                                                               1.0   \n",
       "lang                                                                  en   \n",
       "\n",
       "                                                                      2  \n",
       "num_pages                                                           352  \n",
       "star_rating_1                                                     11896  \n",
       "star_rating_2                                                     49353  \n",
       "star_rating_3                                                    288821  \n",
       "star_rating_4                                                    706082  \n",
       "star_rating_5                                                   1504505  \n",
       "average_rating                                                     4.42  \n",
       "total_ratings                                                   2560657  \n",
       "total_reviews                                                       244  \n",
       "isbn                                                         0439554896  \n",
       "publication_date                                             2003-11-01  \n",
       "title                           Harry Potter and the Chamber of Secrets  \n",
       "series                                                     Harry Potter  \n",
       "book_number_in_series                                                 2  \n",
       "authors                                                  [J.K. Rowling]  \n",
       "categories             [Fantasy, Fantasy Books, Fantasy Books for Kids]  \n",
       "format                                                              3.0  \n",
       "lang                                                                 en  "
      ]
     },
     "execution_count": 11,
     "metadata": {},
     "output_type": "execute_result"
    }
   ],
   "source": [
    "all_books.head(3).T"
   ]
  },
  {
   "cell_type": "markdown",
   "metadata": {},
   "source": [
    "## Add Format\n"
   ]
  },
  {
   "cell_type": "code",
   "execution_count": 12,
   "metadata": {},
   "outputs": [
    {
     "name": "stdout",
     "output_type": "stream",
     "text": [
      "<class 'pandas.core.frame.DataFrame'>\n",
      "RangeIndex: 49 entries, 0 to 48\n",
      "Data columns (total 2 columns):\n",
      " #   Column       Non-Null Count  Dtype \n",
      "---  ------       --------------  ----- \n",
      " 0   format_id    49 non-null     int64 \n",
      " 1   format_name  49 non-null     object\n",
      "dtypes: int64(1), object(1)\n",
      "memory usage: 912.0+ bytes\n"
     ]
    }
   ],
   "source": [
    "formats = pd.read_csv(\"1_clean/formats.csv\")\n",
    "formats.dropna(inplace=True)\n",
    "formats.info()"
   ]
  },
  {
   "cell_type": "code",
   "execution_count": 13,
   "metadata": {},
   "outputs": [
    {
     "data": {
      "text/plain": [
       "'Paperback'"
      ]
     },
     "execution_count": 13,
     "metadata": {},
     "output_type": "execute_result"
    }
   ],
   "source": [
    "formats.query(f\"format_id == 1\")[\"format_name\"].values[0]"
   ]
  },
  {
   "cell_type": "code",
   "execution_count": 14,
   "metadata": {},
   "outputs": [],
   "source": [
    "def get_format_name(format_id):\n",
    "    if pd.isna(format_id):\n",
    "        return \"Unknown\"\n",
    "    format_id = int(format_id)\n",
    "    f = formats.query(f\"format_id == {format_id}\")[\"format_name\"].values[0]\n",
    "    return f"
   ]
  },
  {
   "cell_type": "code",
   "execution_count": 15,
   "metadata": {},
   "outputs": [
    {
     "data": {
      "application/vnd.jupyter.widget-view+json": {
       "model_id": "8ba987ce17404ef99ff1a9781c9564dc",
       "version_major": 2,
       "version_minor": 0
      },
      "text/plain": [
       "  0%|          | 0/60812 [00:00<?, ?it/s]"
      ]
     },
     "metadata": {},
     "output_type": "display_data"
    }
   ],
   "source": [
    "all_books[\"format\"] = all_books[\"format\"].progress_apply(get_format_name)"
   ]
  },
  {
   "cell_type": "code",
   "execution_count": 17,
   "metadata": {},
   "outputs": [
    {
     "data": {
      "text/html": [
       "<div>\n",
       "<style scoped>\n",
       "    .dataframe tbody tr th:only-of-type {\n",
       "        vertical-align: middle;\n",
       "    }\n",
       "\n",
       "    .dataframe tbody tr th {\n",
       "        vertical-align: top;\n",
       "    }\n",
       "\n",
       "    .dataframe thead th {\n",
       "        text-align: right;\n",
       "    }\n",
       "</style>\n",
       "<table border=\"1\" class=\"dataframe\">\n",
       "  <thead>\n",
       "    <tr style=\"text-align: right;\">\n",
       "      <th></th>\n",
       "      <th>0</th>\n",
       "      <th>1</th>\n",
       "      <th>2</th>\n",
       "    </tr>\n",
       "  </thead>\n",
       "  <tbody>\n",
       "    <tr>\n",
       "      <th>num_pages</th>\n",
       "      <td>870</td>\n",
       "      <td>309</td>\n",
       "      <td>352</td>\n",
       "    </tr>\n",
       "    <tr>\n",
       "      <th>star_rating_1</th>\n",
       "      <td>12455</td>\n",
       "      <td>108202</td>\n",
       "      <td>11896</td>\n",
       "    </tr>\n",
       "    <tr>\n",
       "      <th>star_rating_2</th>\n",
       "      <td>37005</td>\n",
       "      <td>130310</td>\n",
       "      <td>49353</td>\n",
       "    </tr>\n",
       "    <tr>\n",
       "      <th>star_rating_3</th>\n",
       "      <td>211781</td>\n",
       "      <td>567458</td>\n",
       "      <td>288821</td>\n",
       "    </tr>\n",
       "    <tr>\n",
       "      <th>star_rating_4</th>\n",
       "      <td>604283</td>\n",
       "      <td>1513191</td>\n",
       "      <td>706082</td>\n",
       "    </tr>\n",
       "    <tr>\n",
       "      <th>star_rating_5</th>\n",
       "      <td>1493113</td>\n",
       "      <td>4268227</td>\n",
       "      <td>1504505</td>\n",
       "    </tr>\n",
       "    <tr>\n",
       "      <th>average_rating</th>\n",
       "      <td>4.5</td>\n",
       "      <td>4.47</td>\n",
       "      <td>4.42</td>\n",
       "    </tr>\n",
       "    <tr>\n",
       "      <th>total_ratings</th>\n",
       "      <td>2358637</td>\n",
       "      <td>6587388</td>\n",
       "      <td>2560657</td>\n",
       "    </tr>\n",
       "    <tr>\n",
       "      <th>total_reviews</th>\n",
       "      <td>29770</td>\n",
       "      <td>75911</td>\n",
       "      <td>244</td>\n",
       "    </tr>\n",
       "    <tr>\n",
       "      <th>isbn</th>\n",
       "      <td>043935806X</td>\n",
       "      <td>1594130000</td>\n",
       "      <td>0439554896</td>\n",
       "    </tr>\n",
       "    <tr>\n",
       "      <th>publication_date</th>\n",
       "      <td>2004-09-01</td>\n",
       "      <td>2003-11-01</td>\n",
       "      <td>2003-11-01</td>\n",
       "    </tr>\n",
       "    <tr>\n",
       "      <th>title</th>\n",
       "      <td>Harry Potter and the Order of the Phoenix</td>\n",
       "      <td>Harry Potter and the Sorcerer's Stone</td>\n",
       "      <td>Harry Potter and the Chamber of Secrets</td>\n",
       "    </tr>\n",
       "    <tr>\n",
       "      <th>series</th>\n",
       "      <td>Harry Potter</td>\n",
       "      <td>Harry Potter</td>\n",
       "      <td>Harry Potter</td>\n",
       "    </tr>\n",
       "    <tr>\n",
       "      <th>book_number_in_series</th>\n",
       "      <td>5</td>\n",
       "      <td>1</td>\n",
       "      <td>2</td>\n",
       "    </tr>\n",
       "    <tr>\n",
       "      <th>authors</th>\n",
       "      <td>[J.K. Rowling]</td>\n",
       "      <td>[J. K. Rowling]</td>\n",
       "      <td>[J.K. Rowling]</td>\n",
       "    </tr>\n",
       "    <tr>\n",
       "      <th>categories</th>\n",
       "      <td>[Fantasy, Fantasy Books, Fantasy Books for Kids]</td>\n",
       "      <td>[Thriller Books, Thrillers, Adventure Books, S...</td>\n",
       "      <td>[Fantasy, Fantasy Books, Fantasy Books for Kids]</td>\n",
       "    </tr>\n",
       "    <tr>\n",
       "      <th>format</th>\n",
       "      <td>CD</td>\n",
       "      <td>Paperback</td>\n",
       "      <td>CD</td>\n",
       "    </tr>\n",
       "    <tr>\n",
       "      <th>lang</th>\n",
       "      <td>en</td>\n",
       "      <td>en</td>\n",
       "      <td>en</td>\n",
       "    </tr>\n",
       "  </tbody>\n",
       "</table>\n",
       "</div>"
      ],
      "text/plain": [
       "                                                                      0  \\\n",
       "num_pages                                                           870   \n",
       "star_rating_1                                                     12455   \n",
       "star_rating_2                                                     37005   \n",
       "star_rating_3                                                    211781   \n",
       "star_rating_4                                                    604283   \n",
       "star_rating_5                                                   1493113   \n",
       "average_rating                                                      4.5   \n",
       "total_ratings                                                   2358637   \n",
       "total_reviews                                                     29770   \n",
       "isbn                                                         043935806X   \n",
       "publication_date                                             2004-09-01   \n",
       "title                         Harry Potter and the Order of the Phoenix   \n",
       "series                                                     Harry Potter   \n",
       "book_number_in_series                                                 5   \n",
       "authors                                                  [J.K. Rowling]   \n",
       "categories             [Fantasy, Fantasy Books, Fantasy Books for Kids]   \n",
       "format                                                               CD   \n",
       "lang                                                                 en   \n",
       "\n",
       "                                                                       1  \\\n",
       "num_pages                                                            309   \n",
       "star_rating_1                                                     108202   \n",
       "star_rating_2                                                     130310   \n",
       "star_rating_3                                                     567458   \n",
       "star_rating_4                                                    1513191   \n",
       "star_rating_5                                                    4268227   \n",
       "average_rating                                                      4.47   \n",
       "total_ratings                                                    6587388   \n",
       "total_reviews                                                      75911   \n",
       "isbn                                                          1594130000   \n",
       "publication_date                                              2003-11-01   \n",
       "title                              Harry Potter and the Sorcerer's Stone   \n",
       "series                                                      Harry Potter   \n",
       "book_number_in_series                                                  1   \n",
       "authors                                                  [J. K. Rowling]   \n",
       "categories             [Thriller Books, Thrillers, Adventure Books, S...   \n",
       "format                                                         Paperback   \n",
       "lang                                                                  en   \n",
       "\n",
       "                                                                      2  \n",
       "num_pages                                                           352  \n",
       "star_rating_1                                                     11896  \n",
       "star_rating_2                                                     49353  \n",
       "star_rating_3                                                    288821  \n",
       "star_rating_4                                                    706082  \n",
       "star_rating_5                                                   1504505  \n",
       "average_rating                                                     4.42  \n",
       "total_ratings                                                   2560657  \n",
       "total_reviews                                                       244  \n",
       "isbn                                                         0439554896  \n",
       "publication_date                                             2003-11-01  \n",
       "title                           Harry Potter and the Chamber of Secrets  \n",
       "series                                                     Harry Potter  \n",
       "book_number_in_series                                                 2  \n",
       "authors                                                  [J.K. Rowling]  \n",
       "categories             [Fantasy, Fantasy Books, Fantasy Books for Kids]  \n",
       "format                                                               CD  \n",
       "lang                                                                 en  "
      ]
     },
     "execution_count": 17,
     "metadata": {},
     "output_type": "execute_result"
    }
   ],
   "source": [
    "all_books.head(3).T"
   ]
  },
  {
   "cell_type": "code",
   "execution_count": 23,
   "metadata": {},
   "outputs": [],
   "source": [
    "all_books.rename(\n",
    "    columns = {\n",
    "        \"lang\": \"language\",\n",
    "    },\n",
    "    inplace = True\n",
    ")"
   ]
  },
  {
   "cell_type": "code",
   "execution_count": 27,
   "metadata": {},
   "outputs": [],
   "source": [
    "correct_order = [\n",
    "    \"title\",\n",
    "    \"authors\",\n",
    "    \"categories\",\n",
    "    \"language\",\n",
    "    \"format\",\n",
    "    \"num_pages\",\n",
    "    \"star_rating_1\",\n",
    "    \"star_rating_2\",\n",
    "    \"star_rating_3\",\n",
    "    \"star_rating_4\",\n",
    "    \"star_rating_5\",\n",
    "    \"average_rating\",\n",
    "    \"total_ratings\",\n",
    "    \"total_reviews\",\n",
    "    \"isbn\",\n",
    "    \"publication_date\",\n",
    "    \"series\",\n",
    "    \"book_number_in_series\",\n",
    "]\n",
    "assert len(correct_order) == len(set(correct_order))\n",
    "assert len(correct_order) == len(all_books.columns)"
   ]
  },
  {
   "cell_type": "code",
   "execution_count": 28,
   "metadata": {},
   "outputs": [],
   "source": [
    "all_books = all_books[correct_order]"
   ]
  },
  {
   "cell_type": "code",
   "execution_count": 31,
   "metadata": {},
   "outputs": [],
   "source": [
    "all_books.to_parquet('final_dataset/books.parquet')"
   ]
  },
  {
   "cell_type": "markdown",
   "metadata": {},
   "source": [
    "# Users\n"
   ]
  },
  {
   "cell_type": "code",
   "execution_count": 19,
   "metadata": {},
   "outputs": [
    {
     "data": {
      "text/html": [
       "<div>\n",
       "<style scoped>\n",
       "    .dataframe tbody tr th:only-of-type {\n",
       "        vertical-align: middle;\n",
       "    }\n",
       "\n",
       "    .dataframe tbody tr th {\n",
       "        vertical-align: top;\n",
       "    }\n",
       "\n",
       "    .dataframe thead th {\n",
       "        text-align: right;\n",
       "    }\n",
       "</style>\n",
       "<table border=\"1\" class=\"dataframe\">\n",
       "  <thead>\n",
       "    <tr style=\"text-align: right;\">\n",
       "      <th></th>\n",
       "      <th>user_id</th>\n",
       "      <th>location</th>\n",
       "      <th>age</th>\n",
       "    </tr>\n",
       "  </thead>\n",
       "  <tbody>\n",
       "    <tr>\n",
       "      <th>0</th>\n",
       "      <td>1</td>\n",
       "      <td>nyc, new york, usa</td>\n",
       "      <td>NaN</td>\n",
       "    </tr>\n",
       "    <tr>\n",
       "      <th>1</th>\n",
       "      <td>2</td>\n",
       "      <td>stockton, california, usa</td>\n",
       "      <td>18.0</td>\n",
       "    </tr>\n",
       "    <tr>\n",
       "      <th>2</th>\n",
       "      <td>3</td>\n",
       "      <td>moscow, yukon territory, russia</td>\n",
       "      <td>NaN</td>\n",
       "    </tr>\n",
       "    <tr>\n",
       "      <th>3</th>\n",
       "      <td>4</td>\n",
       "      <td>porto, v.n.gaia, portugal</td>\n",
       "      <td>17.0</td>\n",
       "    </tr>\n",
       "    <tr>\n",
       "      <th>4</th>\n",
       "      <td>5</td>\n",
       "      <td>farnborough, hants, united kingdom</td>\n",
       "      <td>NaN</td>\n",
       "    </tr>\n",
       "  </tbody>\n",
       "</table>\n",
       "</div>"
      ],
      "text/plain": [
       "   user_id                            location   age\n",
       "0        1                  nyc, new york, usa   NaN\n",
       "1        2           stockton, california, usa  18.0\n",
       "2        3     moscow, yukon territory, russia   NaN\n",
       "3        4           porto, v.n.gaia, portugal  17.0\n",
       "4        5  farnborough, hants, united kingdom   NaN"
      ]
     },
     "execution_count": 19,
     "metadata": {},
     "output_type": "execute_result"
    }
   ],
   "source": [
    "users = pd.read_csv(\"3_clean/Users.csv\")\n",
    "users.head()"
   ]
  },
  {
   "cell_type": "markdown",
   "metadata": {},
   "source": [
    "No changes needed.\n"
   ]
  },
  {
   "cell_type": "code",
   "execution_count": 32,
   "metadata": {},
   "outputs": [],
   "source": [
    "users.to_parquet('final_dataset/users.parquet', index=False)"
   ]
  },
  {
   "cell_type": "markdown",
   "metadata": {},
   "source": [
    "# Ratings\n"
   ]
  },
  {
   "cell_type": "code",
   "execution_count": 20,
   "metadata": {},
   "outputs": [
    {
     "data": {
      "text/html": [
       "<div>\n",
       "<style scoped>\n",
       "    .dataframe tbody tr th:only-of-type {\n",
       "        vertical-align: middle;\n",
       "    }\n",
       "\n",
       "    .dataframe tbody tr th {\n",
       "        vertical-align: top;\n",
       "    }\n",
       "\n",
       "    .dataframe thead th {\n",
       "        text-align: right;\n",
       "    }\n",
       "</style>\n",
       "<table border=\"1\" class=\"dataframe\">\n",
       "  <thead>\n",
       "    <tr style=\"text-align: right;\">\n",
       "      <th></th>\n",
       "      <th>user_id</th>\n",
       "      <th>isbn</th>\n",
       "      <th>provided_rating</th>\n",
       "    </tr>\n",
       "  </thead>\n",
       "  <tbody>\n",
       "    <tr>\n",
       "      <th>0</th>\n",
       "      <td>2</td>\n",
       "      <td>0195153448</td>\n",
       "      <td>0</td>\n",
       "    </tr>\n",
       "    <tr>\n",
       "      <th>1</th>\n",
       "      <td>7</td>\n",
       "      <td>034542252</td>\n",
       "      <td>0</td>\n",
       "    </tr>\n",
       "    <tr>\n",
       "      <th>2</th>\n",
       "      <td>8</td>\n",
       "      <td>0771025661</td>\n",
       "      <td>0</td>\n",
       "    </tr>\n",
       "    <tr>\n",
       "      <th>3</th>\n",
       "      <td>8</td>\n",
       "      <td>1881320189</td>\n",
       "      <td>7</td>\n",
       "    </tr>\n",
       "    <tr>\n",
       "      <th>4</th>\n",
       "      <td>8</td>\n",
       "      <td>1575663937</td>\n",
       "      <td>6</td>\n",
       "    </tr>\n",
       "  </tbody>\n",
       "</table>\n",
       "</div>"
      ],
      "text/plain": [
       "   user_id        isbn  provided_rating\n",
       "0        2  0195153448                0\n",
       "1        7   034542252                0\n",
       "2        8  0771025661                0\n",
       "3        8  1881320189                7\n",
       "4        8  1575663937                6"
      ]
     },
     "execution_count": 20,
     "metadata": {},
     "output_type": "execute_result"
    }
   ],
   "source": [
    "ratings = pd.read_csv(\"3_clean/Ratings.csv\")\n",
    "ratings.head()"
   ]
  },
  {
   "cell_type": "markdown",
   "metadata": {},
   "source": [
    "Again, no changes required."
   ]
  },
  {
   "cell_type": "code",
   "execution_count": 33,
   "metadata": {},
   "outputs": [],
   "source": [
    "ratings.to_parquet('final_dataset/ratings.parquet', index=False)"
   ]
  },
  {
   "cell_type": "markdown",
   "metadata": {},
   "source": [
    "## Books Only"
   ]
  },
  {
   "cell_type": "code",
   "execution_count": 37,
   "metadata": {},
   "outputs": [],
   "source": [
    "books = pd.read_parquet(\"merged_dataset/books_only/all_books.parquet\")"
   ]
  },
  {
   "cell_type": "code",
   "execution_count": 38,
   "metadata": {},
   "outputs": [
    {
     "name": "stdout",
     "output_type": "stream",
     "text": [
      "<class 'pandas.core.frame.DataFrame'>\n",
      "RangeIndex: 215397 entries, 0 to 215396\n",
      "Data columns (total 18 columns):\n",
      " #   Column                 Non-Null Count   Dtype  \n",
      "---  ------                 --------------   -----  \n",
      " 0   num_pages              215397 non-null  int64  \n",
      " 1   star_rating_1          215397 non-null  int64  \n",
      " 2   star_rating_2          215397 non-null  int64  \n",
      " 3   star_rating_3          215397 non-null  int64  \n",
      " 4   star_rating_4          215397 non-null  int64  \n",
      " 5   star_rating_5          215397 non-null  int64  \n",
      " 6   average_rating         215397 non-null  float64\n",
      " 7   total_ratings          215397 non-null  int64  \n",
      " 8   total_reviews          215397 non-null  int64  \n",
      " 9   isbn                   214196 non-null  object \n",
      " 10  publication_date       215397 non-null  object \n",
      " 11  title                  215397 non-null  object \n",
      " 12  series                 215397 non-null  object \n",
      " 13  book_number_in_series  215397 non-null  int64  \n",
      " 14  authors                215397 non-null  object \n",
      " 15  categories             215397 non-null  object \n",
      " 16  format                 215153 non-null  float64\n",
      " 17  lang                   209550 non-null  object \n",
      "dtypes: float64(2), int64(9), object(7)\n",
      "memory usage: 29.6+ MB\n"
     ]
    }
   ],
   "source": [
    "books.info()"
   ]
  },
  {
   "cell_type": "code",
   "execution_count": 39,
   "metadata": {},
   "outputs": [
    {
     "data": {
      "application/vnd.jupyter.widget-view+json": {
       "model_id": "f5aee82aa43047a493025420a7948586",
       "version_major": 2,
       "version_minor": 0
      },
      "text/plain": [
       "  0%|          | 0/215397 [00:00<?, ?it/s]"
      ]
     },
     "metadata": {},
     "output_type": "display_data"
    }
   ],
   "source": [
    "books[\"authors\"] = books[\"authors\"].progress_apply(get_author_name)"
   ]
  },
  {
   "cell_type": "code",
   "execution_count": 41,
   "metadata": {},
   "outputs": [
    {
     "data": {
      "application/vnd.jupyter.widget-view+json": {
       "model_id": "49af3f990cce403c8055348b7396b0db",
       "version_major": 2,
       "version_minor": 0
      },
      "text/plain": [
       "  0%|          | 0/215397 [00:00<?, ?it/s]"
      ]
     },
     "metadata": {},
     "output_type": "display_data"
    }
   ],
   "source": [
    "books[\"categories\"] = books[\"categories\"].progress_apply(get_category_name)"
   ]
  },
  {
   "cell_type": "code",
   "execution_count": 44,
   "metadata": {},
   "outputs": [
    {
     "data": {
      "application/vnd.jupyter.widget-view+json": {
       "model_id": "17a7dd3728b342389262f3a14fc74177",
       "version_major": 2,
       "version_minor": 0
      },
      "text/plain": [
       "  0%|          | 0/215397 [00:00<?, ?it/s]"
      ]
     },
     "metadata": {},
     "output_type": "display_data"
    }
   ],
   "source": [
    "books[\"format\"] = books[\"format\"].progress_apply(get_format_name)"
   ]
  },
  {
   "cell_type": "code",
   "execution_count": 48,
   "metadata": {},
   "outputs": [],
   "source": [
    "books.to_parquet('final_dataset/books_all.parquet')"
   ]
  }
 ],
 "metadata": {
  "kernelspec": {
   "display_name": "data-science",
   "language": "python",
   "name": "python3"
  },
  "language_info": {
   "codemirror_mode": {
    "name": "ipython",
    "version": 3
   },
   "file_extension": ".py",
   "mimetype": "text/x-python",
   "name": "python",
   "nbconvert_exporter": "python",
   "pygments_lexer": "ipython3",
   "version": "3.10.12"
  },
  "orig_nbformat": 4
 },
 "nbformat": 4,
 "nbformat_minor": 2
}
