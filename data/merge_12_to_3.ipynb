{
 "cells": [
  {
   "cell_type": "code",
   "execution_count": 2,
   "metadata": {},
   "outputs": [],
   "source": [
    "import pandas as pd\n",
    "import numpy as np\n",
    "import os\n",
    "from datasets import load_dataset\n",
    "from datasets import Dataset\n",
    "from tqdm.auto import tqdm\n",
    "from datetime import datetime\n",
    "import re\n",
    "import glob\n",
    "from transformers import AutoTokenizer, AutoModel\n",
    "import torch\n",
    "tqdm.pandas()"
   ]
  },
  {
   "cell_type": "code",
   "execution_count": 3,
   "metadata": {},
   "outputs": [],
   "source": [
    "def load_parquet_file(file_dir):\n",
    "    books_12 = pd.read_parquet(file_dir)\n",
    "    books_12 = books_12.query(\"book_id !=-1\")\n",
    "    books_12 =  Dataset.from_pandas(books_12)\n",
    "    try:\n",
    "        books_12 = books_12.remove_columns(\"__index_level_0__\")\n",
    "    except:\n",
    "        pass\n",
    "    return books_12"
   ]
  },
  {
   "cell_type": "code",
   "execution_count": 4,
   "metadata": {},
   "outputs": [
    {
     "data": {
      "text/plain": [
       "Dataset({\n",
       "    features: ['isbn', 'title', 'authors', 'publication_year', 'text', 'text_embedding', 'ID'],\n",
       "    num_rows: 271360\n",
       "})"
      ]
     },
     "execution_count": 4,
     "metadata": {},
     "output_type": "execute_result"
    }
   ],
   "source": [
    "all_books = pd.read_parquet(\"3_clean/books_with_id_and_embedding.parquet\")\n",
    "all_books[\"authors\"].fillna(\"Unknown\", inplace=True)\n",
    "all_books =  Dataset.from_pandas(all_books)\n",
    "all_books"
   ]
  },
  {
   "cell_type": "code",
   "execution_count": 5,
   "metadata": {},
   "outputs": [
    {
     "data": {
      "application/vnd.jupyter.widget-view+json": {
       "model_id": "6cb115d613f5460589d4e6bebad6c782",
       "version_major": 2,
       "version_minor": 0
      },
      "text/plain": [
       "  0%|          | 0/272 [00:00<?, ?it/s]"
      ]
     },
     "metadata": {},
     "output_type": "display_data"
    },
    {
     "data": {
      "text/plain": [
       "Dataset({\n",
       "    features: ['isbn', 'title', 'authors', 'publication_year', 'text', 'text_embedding', 'ID'],\n",
       "    num_rows: 271360\n",
       "})"
      ]
     },
     "execution_count": 5,
     "metadata": {},
     "output_type": "execute_result"
    }
   ],
   "source": [
    "all_books.add_faiss_index(column=\"text_embedding\")"
   ]
  },
  {
   "cell_type": "code",
   "execution_count": 6,
   "metadata": {},
   "outputs": [],
   "source": [
    "model_ckpt = \"sentence-transformers/paraphrase-MiniLM-L3-v2\"\n",
    "tokenizer = AutoTokenizer.from_pretrained(model_ckpt)\n",
    "model = AutoModel.from_pretrained(model_ckpt)\n",
    "\n",
    "device = torch.device(\"cpu\")\n",
    "model = model.to(device)\n",
    "model = model.eval()"
   ]
  },
  {
   "cell_type": "code",
   "execution_count": 7,
   "metadata": {},
   "outputs": [],
   "source": [
    "def get_embeddings(text_list):\n",
    "    encoded_input = tokenizer(\n",
    "        text_list, padding=True, truncation=True, return_tensors=\"pt\"\n",
    "    )\n",
    "    encoded_input = {k: v.to(device) for k, v in encoded_input.items()}\n",
    "    model_output = model(**encoded_input)\n",
    "    return model_output.last_hidden_state[:, 0]"
   ]
  },
  {
   "cell_type": "code",
   "execution_count": 8,
   "metadata": {},
   "outputs": [],
   "source": [
    "def create_text(row):\n",
    "    titles = row['title']\n",
    "    authors = row['authors']\n",
    "    authors = [author.replace(\":\", \" and\") for author in authors]\n",
    "    row[\"text\"] =  [f\"{title} by {author}\" for title, author in zip(titles, authors)]\n",
    "    return row"
   ]
  },
  {
   "cell_type": "code",
   "execution_count": 9,
   "metadata": {},
   "outputs": [],
   "source": [
    "# books_12 = books_12.map(create_text, batched=True, batch_size=1000)"
   ]
  },
  {
   "cell_type": "code",
   "execution_count": 10,
   "metadata": {},
   "outputs": [],
   "source": [
    "# all_books = all_books.map(create_text, batched=True, batch_size=1000)"
   ]
  },
  {
   "cell_type": "code",
   "execution_count": 11,
   "metadata": {},
   "outputs": [],
   "source": [
    "class GetEmbeddings:\n",
    "    def __init__(self, df):\n",
    "        self.df = df\n",
    "        model_ckpt = \"sentence-transformers/paraphrase-MiniLM-L3-v2\"\n",
    "        self.tokenizer = AutoTokenizer.from_pretrained(model_ckpt)\n",
    "        self.model = AutoModel.from_pretrained(model_ckpt)\n",
    "\n",
    "        self.device = torch.device(\"cpu\")\n",
    "        self.model = self.model.to(device)\n",
    "        self.model = self.model.eval()\n",
    "    \n",
    "    def get_embeddings(self, row):\n",
    "        text_list = row[\"text\"]\n",
    "        encoded_input = self.tokenizer(\n",
    "            text_list, padding=True, truncation=True, return_tensors=\"pt\"\n",
    "        )\n",
    "        encoded_input = {k: v.to(self.device) for k, v in encoded_input.items()}\n",
    "        model_output = self.model(**encoded_input)\n",
    "        embedding = model_output.last_hidden_state[:, 0]\n",
    "        row[\"text_embedding\"] = embedding\n",
    "        return row\n",
    "\n",
    "    def map(self, **kwargs):\n",
    "        self.df = self.df.map(\n",
    "            self.get_embeddings,\n",
    "            **kwargs\n",
    "\n",
    "            )\n",
    "        return self.df"
   ]
  },
  {
   "cell_type": "code",
   "execution_count": 12,
   "metadata": {},
   "outputs": [],
   "source": [
    "# embedding_getter = GetEmbeddings(all_books)\n",
    "# all_books = embedding_getter.map(batch_size = 128,\n",
    "#     num_proc = 6, batched = True)"
   ]
  },
  {
   "cell_type": "code",
   "execution_count": 13,
   "metadata": {},
   "outputs": [],
   "source": [
    "# ids = np.arange(0,len(all_books),1)\n",
    "# all_books = all_books.add_column(\"ID\", ids)"
   ]
  },
  {
   "cell_type": "code",
   "execution_count": 14,
   "metadata": {},
   "outputs": [],
   "source": [
    "# all_books.to_parquet(\"3_clean/books_with_id_and_embedding.parquet\")"
   ]
  },
  {
   "cell_type": "code",
   "execution_count": 15,
   "metadata": {},
   "outputs": [],
   "source": [
    "threshold = 10"
   ]
  },
  {
   "cell_type": "code",
   "execution_count": 16,
   "metadata": {},
   "outputs": [],
   "source": [
    "def match_book_batched_row(rows):\n",
    "    \"\"\"Use when batch is passed along with the map function\"\"\"\n",
    "    text = rows[\"text\"]\n",
    "    text_embeddings = get_embeddings(text).cpu().detach().numpy()\n",
    "    scores, samples = all_books.get_nearest_examples_batch(\n",
    "        \"text_embedding\", text_embeddings, k=1\n",
    "    )\n",
    "    scores = np.array(scores)\n",
    "    scores = np.squeeze(scores)\n",
    "    mask = scores<=threshold\n",
    "    book_ids = np.ones_like(mask)*-1\n",
    "    sample_ids = np.array([sample[\"ID\"][0] for sample in samples])\n",
    "    book_ids[mask] = sample_ids[mask]\n",
    "    rows[\"book_id_3\"] = book_ids\n",
    "    rows[\"score_3\"] = scores\n",
    "    return rows\n"
   ]
  },
  {
   "cell_type": "code",
   "execution_count": 17,
   "metadata": {},
   "outputs": [],
   "source": [
    "# books_12 = books_12.map(match_book_batched_row, batched=True, batch_size=512)"
   ]
  },
  {
   "cell_type": "code",
   "execution_count": 18,
   "metadata": {},
   "outputs": [],
   "source": [
    "# len(books_12.filter(lambda x: x[\"book_id_3\"] !=-1))"
   ]
  },
  {
   "cell_type": "code",
   "execution_count": 19,
   "metadata": {},
   "outputs": [],
   "source": [
    "def merge_one(file_dir):\n",
    "    \"\"\"Merges one smaller book file with the larger book file.\"\"\"\n",
    "    print(f\"Working on: {file_dir}\")\n",
    "    books_12 = load_parquet_file(file_dir)\n",
    "    books_12 = books_12.map(create_text, batched=True, batch_size=800)\n",
    "    books_12 = books_12.map(match_book_batched_row, batched=True, batch_size=512)\n",
    "    file_name = file_dir.split(os.path.sep)[-1]\n",
    "    file_name = os.path.join(\"2_final\", file_name)\n",
    "    books_12.to_parquet(file_name)\n",
    "    print(f\"saved as: {file_name}\")\n",
    "    return books_12"
   ]
  },
  {
   "cell_type": "code",
   "execution_count": 20,
   "metadata": {},
   "outputs": [],
   "source": [
    "class MatchBook:\n",
    "    def __init__(self, all_books, books):\n",
    "        self.all_books = all_books\n",
    "        self.books = books\n",
    "        model_ckpt = \"sentence-transformers/paraphrase-MiniLM-L3-v2\"\n",
    "        self.tokenizer = AutoTokenizer.from_pretrained(model_ckpt)\n",
    "        self.model = AutoModel.from_pretrained(model_ckpt)\n",
    "\n",
    "        self.device = torch.device(\"cpu\")\n",
    "        self.model = self.model.to(device)\n",
    "        self.model = self.model.eval()\n",
    "        self.array = np.array\n",
    "        self.squeeze = np.squeeze\n",
    "        self.ones_like = np.ones_like\n",
    "        self.threshold = 10\n",
    "\n",
    "    def get_embeddings(self, text_list):\n",
    "        encoded_input = self.tokenizer(\n",
    "            text_list, padding=True, truncation=True, return_tensors=\"pt\"\n",
    "        )\n",
    "        encoded_input = {k: v.to(self.device) for k, v in encoded_input.items()}\n",
    "        model_output = self.model(**encoded_input)\n",
    "        return model_output.last_hidden_state[:, 0]\n",
    "\n",
    "    def match_book_batched_row(self, rows):\n",
    "        \"\"\"Use when batch is passed along with the map function\"\"\"\n",
    "        text = rows[\"text\"]\n",
    "        text_embeddings = self.get_embeddings(text).cpu().detach().numpy()\n",
    "        scores, samples = self.all_books.get_nearest_examples_batch(\n",
    "            \"text_embedding\", text_embeddings, k=1\n",
    "        )\n",
    "        scores = self.array(scores)\n",
    "        scores = self.squeeze(scores)\n",
    "        mask = scores<=self.threshold\n",
    "        book_ids = self.ones_like(mask)*-1\n",
    "        sample_ids = self.array([sample[\"ID\"][0] for sample in samples])\n",
    "        book_ids[mask] = sample_ids[mask]\n",
    "        rows[\"book_id\"] = book_ids\n",
    "        rows[\"score\"] = scores\n",
    "        return rows\n",
    "        \n",
    "    def map(self, **kwargs):\n",
    "        self.books = self.books.map(\n",
    "            self.match_book_batched_row,\n",
    "            **kwargs\n",
    "\n",
    "            )\n",
    "        return self.books\n"
   ]
  },
  {
   "cell_type": "code",
   "execution_count": 21,
   "metadata": {},
   "outputs": [
    {
     "data": {
      "text/plain": [
       "22"
      ]
     },
     "execution_count": 21,
     "metadata": {},
     "output_type": "execute_result"
    }
   ],
   "source": [
    "all_books_dir = glob.glob(\"1_2/book*.parquet\")\n",
    "all_books_dir.sort()\n",
    "len(all_books_dir)"
   ]
  },
  {
   "cell_type": "code",
   "execution_count": 22,
   "metadata": {},
   "outputs": [
    {
     "name": "stdout",
     "output_type": "stream",
     "text": [
      "CURRENTLY WORKING ON: 0\n",
      "Working on: 1_2\\book1-100k.parquet\n"
     ]
    },
    {
     "data": {
      "application/vnd.jupyter.widget-view+json": {
       "model_id": "7404028a321a48e590d367e08fba57fa",
       "version_major": 2,
       "version_minor": 0
      },
      "text/plain": [
       "Map:   0%|          | 0/16146 [00:00<?, ? examples/s]"
      ]
     },
     "metadata": {},
     "output_type": "display_data"
    },
    {
     "data": {
      "application/vnd.jupyter.widget-view+json": {
       "model_id": "09f04162f4544160a3d847f3a5c49689",
       "version_major": 2,
       "version_minor": 0
      },
      "text/plain": [
       "Map:   0%|          | 0/16146 [00:00<?, ? examples/s]"
      ]
     },
     "metadata": {},
     "output_type": "display_data"
    },
    {
     "data": {
      "application/vnd.jupyter.widget-view+json": {
       "model_id": "ce057561a66545bb96e37fbd22c463c3",
       "version_major": 2,
       "version_minor": 0
      },
      "text/plain": [
       "Creating parquet from Arrow format:   0%|          | 0/17 [00:00<?, ?ba/s]"
      ]
     },
     "metadata": {},
     "output_type": "display_data"
    },
    {
     "name": "stdout",
     "output_type": "stream",
     "text": [
      "saved as: 2_final\\book1-100k.parquet\n",
      "----------------------------------------\n",
      "----------------------------------------\n",
      "CURRENTLY WORKING ON: 1\n",
      "Working on: 1_2\\book1000k-1100k.parquet\n"
     ]
    },
    {
     "data": {
      "application/vnd.jupyter.widget-view+json": {
       "model_id": "2f39b109d0e0462781a593faf43599ab",
       "version_major": 2,
       "version_minor": 0
      },
      "text/plain": [
       "Map:   0%|          | 0/6331 [00:00<?, ? examples/s]"
      ]
     },
     "metadata": {},
     "output_type": "display_data"
    },
    {
     "data": {
      "application/vnd.jupyter.widget-view+json": {
       "model_id": "cd2bc7b4662d426aaf1f1987cd8f64a7",
       "version_major": 2,
       "version_minor": 0
      },
      "text/plain": [
       "Map:   0%|          | 0/6331 [00:00<?, ? examples/s]"
      ]
     },
     "metadata": {},
     "output_type": "display_data"
    },
    {
     "data": {
      "application/vnd.jupyter.widget-view+json": {
       "model_id": "3f1dce0ee8bd46329d83f21f02221a88",
       "version_major": 2,
       "version_minor": 0
      },
      "text/plain": [
       "Creating parquet from Arrow format:   0%|          | 0/7 [00:00<?, ?ba/s]"
      ]
     },
     "metadata": {},
     "output_type": "display_data"
    },
    {
     "name": "stdout",
     "output_type": "stream",
     "text": [
      "saved as: 2_final\\book1000k-1100k.parquet\n",
      "----------------------------------------\n",
      "----------------------------------------\n",
      "CURRENTLY WORKING ON: 2\n",
      "Working on: 1_2\\book100k-200k.parquet\n"
     ]
    },
    {
     "data": {
      "application/vnd.jupyter.widget-view+json": {
       "model_id": "ec172850281b4f8ea3a56a66e32d5480",
       "version_major": 2,
       "version_minor": 0
      },
      "text/plain": [
       "Map:   0%|          | 0/11662 [00:00<?, ? examples/s]"
      ]
     },
     "metadata": {},
     "output_type": "display_data"
    },
    {
     "data": {
      "application/vnd.jupyter.widget-view+json": {
       "model_id": "7e4dd42e29fe40bc995f1767c3994a7a",
       "version_major": 2,
       "version_minor": 0
      },
      "text/plain": [
       "Map:   0%|          | 0/11662 [00:00<?, ? examples/s]"
      ]
     },
     "metadata": {},
     "output_type": "display_data"
    },
    {
     "data": {
      "application/vnd.jupyter.widget-view+json": {
       "model_id": "468134f6bf3044819f5cc90095ba9272",
       "version_major": 2,
       "version_minor": 0
      },
      "text/plain": [
       "Creating parquet from Arrow format:   0%|          | 0/12 [00:00<?, ?ba/s]"
      ]
     },
     "metadata": {},
     "output_type": "display_data"
    },
    {
     "name": "stdout",
     "output_type": "stream",
     "text": [
      "saved as: 2_final\\book100k-200k.parquet\n",
      "----------------------------------------\n",
      "----------------------------------------\n",
      "CURRENTLY WORKING ON: 3\n",
      "Working on: 1_2\\book1100k-1200k.parquet\n"
     ]
    },
    {
     "data": {
      "application/vnd.jupyter.widget-view+json": {
       "model_id": "df83fcb24ce34ea49cdffc4e8b5b51b6",
       "version_major": 2,
       "version_minor": 0
      },
      "text/plain": [
       "Map:   0%|          | 0/6467 [00:00<?, ? examples/s]"
      ]
     },
     "metadata": {},
     "output_type": "display_data"
    },
    {
     "data": {
      "application/vnd.jupyter.widget-view+json": {
       "model_id": "1c4f90ba3f974f3ea5ebe98c683b9b25",
       "version_major": 2,
       "version_minor": 0
      },
      "text/plain": [
       "Map:   0%|          | 0/6467 [00:00<?, ? examples/s]"
      ]
     },
     "metadata": {},
     "output_type": "display_data"
    },
    {
     "data": {
      "application/vnd.jupyter.widget-view+json": {
       "model_id": "b0f4fc31b8494422886b6ab9cb968b93",
       "version_major": 2,
       "version_minor": 0
      },
      "text/plain": [
       "Creating parquet from Arrow format:   0%|          | 0/7 [00:00<?, ?ba/s]"
      ]
     },
     "metadata": {},
     "output_type": "display_data"
    },
    {
     "name": "stdout",
     "output_type": "stream",
     "text": [
      "saved as: 2_final\\book1100k-1200k.parquet\n",
      "----------------------------------------\n",
      "----------------------------------------\n",
      "CURRENTLY WORKING ON: 4\n",
      "Working on: 1_2\\book1200k-1300k.parquet\n"
     ]
    },
    {
     "data": {
      "application/vnd.jupyter.widget-view+json": {
       "model_id": "821790c712494a9faeae74cedf95cf4c",
       "version_major": 2,
       "version_minor": 0
      },
      "text/plain": [
       "Map:   0%|          | 0/6136 [00:00<?, ? examples/s]"
      ]
     },
     "metadata": {},
     "output_type": "display_data"
    },
    {
     "data": {
      "application/vnd.jupyter.widget-view+json": {
       "model_id": "c0a89af7339a473da2f0f45ed2cf425a",
       "version_major": 2,
       "version_minor": 0
      },
      "text/plain": [
       "Map:   0%|          | 0/6136 [00:00<?, ? examples/s]"
      ]
     },
     "metadata": {},
     "output_type": "display_data"
    },
    {
     "data": {
      "application/vnd.jupyter.widget-view+json": {
       "model_id": "26d5aa1852e84b4da7eff6ca019df2bd",
       "version_major": 2,
       "version_minor": 0
      },
      "text/plain": [
       "Creating parquet from Arrow format:   0%|          | 0/7 [00:00<?, ?ba/s]"
      ]
     },
     "metadata": {},
     "output_type": "display_data"
    },
    {
     "name": "stdout",
     "output_type": "stream",
     "text": [
      "saved as: 2_final\\book1200k-1300k.parquet\n",
      "----------------------------------------\n",
      "----------------------------------------\n",
      "CURRENTLY WORKING ON: 5\n",
      "Working on: 1_2\\book1300k-1400k.parquet\n"
     ]
    },
    {
     "data": {
      "application/vnd.jupyter.widget-view+json": {
       "model_id": "e90060e4c28a47be90186e7d1d523872",
       "version_major": 2,
       "version_minor": 0
      },
      "text/plain": [
       "Map:   0%|          | 0/5125 [00:00<?, ? examples/s]"
      ]
     },
     "metadata": {},
     "output_type": "display_data"
    },
    {
     "data": {
      "application/vnd.jupyter.widget-view+json": {
       "model_id": "dc3affc208b74490a84e7fd3e2c2603d",
       "version_major": 2,
       "version_minor": 0
      },
      "text/plain": [
       "Map:   0%|          | 0/5125 [00:00<?, ? examples/s]"
      ]
     },
     "metadata": {},
     "output_type": "display_data"
    },
    {
     "data": {
      "application/vnd.jupyter.widget-view+json": {
       "model_id": "0cff21f3e45242caa1a7750ae9ca5aa8",
       "version_major": 2,
       "version_minor": 0
      },
      "text/plain": [
       "Creating parquet from Arrow format:   0%|          | 0/6 [00:00<?, ?ba/s]"
      ]
     },
     "metadata": {},
     "output_type": "display_data"
    },
    {
     "name": "stdout",
     "output_type": "stream",
     "text": [
      "saved as: 2_final\\book1300k-1400k.parquet\n",
      "----------------------------------------\n",
      "----------------------------------------\n",
      "CURRENTLY WORKING ON: 6\n",
      "Working on: 1_2\\book1400k-1500k.parquet\n"
     ]
    },
    {
     "data": {
      "application/vnd.jupyter.widget-view+json": {
       "model_id": "510b92d8f3cd4495b8648902fc828aa7",
       "version_major": 2,
       "version_minor": 0
      },
      "text/plain": [
       "Map:   0%|          | 0/4700 [00:00<?, ? examples/s]"
      ]
     },
     "metadata": {},
     "output_type": "display_data"
    },
    {
     "data": {
      "application/vnd.jupyter.widget-view+json": {
       "model_id": "2e5be427dabe42a28648a602c10a6db7",
       "version_major": 2,
       "version_minor": 0
      },
      "text/plain": [
       "Map:   0%|          | 0/4700 [00:00<?, ? examples/s]"
      ]
     },
     "metadata": {},
     "output_type": "display_data"
    },
    {
     "data": {
      "application/vnd.jupyter.widget-view+json": {
       "model_id": "e39df830cb8547fd974c8887f45b8fba",
       "version_major": 2,
       "version_minor": 0
      },
      "text/plain": [
       "Creating parquet from Arrow format:   0%|          | 0/5 [00:00<?, ?ba/s]"
      ]
     },
     "metadata": {},
     "output_type": "display_data"
    },
    {
     "name": "stdout",
     "output_type": "stream",
     "text": [
      "saved as: 2_final\\book1400k-1500k.parquet\n",
      "----------------------------------------\n",
      "----------------------------------------\n",
      "CURRENTLY WORKING ON: 7\n",
      "Working on: 1_2\\book1500k-1600k.parquet\n"
     ]
    },
    {
     "data": {
      "application/vnd.jupyter.widget-view+json": {
       "model_id": "6b487596edad4c2db758d9d7c5e99ba9",
       "version_major": 2,
       "version_minor": 0
      },
      "text/plain": [
       "Map:   0%|          | 0/3869 [00:00<?, ? examples/s]"
      ]
     },
     "metadata": {},
     "output_type": "display_data"
    },
    {
     "data": {
      "application/vnd.jupyter.widget-view+json": {
       "model_id": "e18bd7001e934028a7c40bdaf43b710b",
       "version_major": 2,
       "version_minor": 0
      },
      "text/plain": [
       "Map:   0%|          | 0/3869 [00:00<?, ? examples/s]"
      ]
     },
     "metadata": {},
     "output_type": "display_data"
    },
    {
     "data": {
      "application/vnd.jupyter.widget-view+json": {
       "model_id": "3aad0cdc6d6040ea940f1517285e5857",
       "version_major": 2,
       "version_minor": 0
      },
      "text/plain": [
       "Creating parquet from Arrow format:   0%|          | 0/4 [00:00<?, ?ba/s]"
      ]
     },
     "metadata": {},
     "output_type": "display_data"
    },
    {
     "name": "stdout",
     "output_type": "stream",
     "text": [
      "saved as: 2_final\\book1500k-1600k.parquet\n",
      "----------------------------------------\n",
      "----------------------------------------\n",
      "CURRENTLY WORKING ON: 8\n",
      "Working on: 1_2\\book1600k-1700k.parquet\n"
     ]
    },
    {
     "data": {
      "application/vnd.jupyter.widget-view+json": {
       "model_id": "9432d46a0409457884817b205062393d",
       "version_major": 2,
       "version_minor": 0
      },
      "text/plain": [
       "Map:   0%|          | 0/3725 [00:00<?, ? examples/s]"
      ]
     },
     "metadata": {},
     "output_type": "display_data"
    },
    {
     "data": {
      "application/vnd.jupyter.widget-view+json": {
       "model_id": "9fcd7f5b58564a98b699c2890d3bdec7",
       "version_major": 2,
       "version_minor": 0
      },
      "text/plain": [
       "Map:   0%|          | 0/3725 [00:00<?, ? examples/s]"
      ]
     },
     "metadata": {},
     "output_type": "display_data"
    },
    {
     "data": {
      "application/vnd.jupyter.widget-view+json": {
       "model_id": "4cf9337f651440cca5117d6ae55a0215",
       "version_major": 2,
       "version_minor": 0
      },
      "text/plain": [
       "Creating parquet from Arrow format:   0%|          | 0/4 [00:00<?, ?ba/s]"
      ]
     },
     "metadata": {},
     "output_type": "display_data"
    },
    {
     "name": "stdout",
     "output_type": "stream",
     "text": [
      "saved as: 2_final\\book1600k-1700k.parquet\n",
      "----------------------------------------\n",
      "----------------------------------------\n",
      "CURRENTLY WORKING ON: 9\n",
      "Working on: 1_2\\book1700k-1800k.parquet\n"
     ]
    },
    {
     "data": {
      "application/vnd.jupyter.widget-view+json": {
       "model_id": "a735eb1751be4276910ddeb335dc01fc",
       "version_major": 2,
       "version_minor": 0
      },
      "text/plain": [
       "Map:   0%|          | 0/3801 [00:00<?, ? examples/s]"
      ]
     },
     "metadata": {},
     "output_type": "display_data"
    },
    {
     "data": {
      "application/vnd.jupyter.widget-view+json": {
       "model_id": "e918e01dbfe5468592b55845f98abd37",
       "version_major": 2,
       "version_minor": 0
      },
      "text/plain": [
       "Map:   0%|          | 0/3801 [00:00<?, ? examples/s]"
      ]
     },
     "metadata": {},
     "output_type": "display_data"
    },
    {
     "data": {
      "application/vnd.jupyter.widget-view+json": {
       "model_id": "d1160306ca644ef5af44d58949223e5c",
       "version_major": 2,
       "version_minor": 0
      },
      "text/plain": [
       "Creating parquet from Arrow format:   0%|          | 0/4 [00:00<?, ?ba/s]"
      ]
     },
     "metadata": {},
     "output_type": "display_data"
    },
    {
     "name": "stdout",
     "output_type": "stream",
     "text": [
      "saved as: 2_final\\book1700k-1800k.parquet\n",
      "----------------------------------------\n",
      "----------------------------------------\n",
      "CURRENTLY WORKING ON: 10\n",
      "Working on: 1_2\\book1800k-1900k.parquet\n"
     ]
    },
    {
     "data": {
      "application/vnd.jupyter.widget-view+json": {
       "model_id": "ecf55480b73f4354bb8ecf12b3266823",
       "version_major": 2,
       "version_minor": 0
      },
      "text/plain": [
       "Map:   0%|          | 0/4418 [00:00<?, ? examples/s]"
      ]
     },
     "metadata": {},
     "output_type": "display_data"
    },
    {
     "data": {
      "application/vnd.jupyter.widget-view+json": {
       "model_id": "c6953d64fc6749a29614265cd7a29531",
       "version_major": 2,
       "version_minor": 0
      },
      "text/plain": [
       "Map:   0%|          | 0/4418 [00:00<?, ? examples/s]"
      ]
     },
     "metadata": {},
     "output_type": "display_data"
    },
    {
     "data": {
      "application/vnd.jupyter.widget-view+json": {
       "model_id": "86a964409ec1477c99ea5d0274472c56",
       "version_major": 2,
       "version_minor": 0
      },
      "text/plain": [
       "Creating parquet from Arrow format:   0%|          | 0/5 [00:00<?, ?ba/s]"
      ]
     },
     "metadata": {},
     "output_type": "display_data"
    },
    {
     "name": "stdout",
     "output_type": "stream",
     "text": [
      "saved as: 2_final\\book1800k-1900k.parquet\n",
      "----------------------------------------\n",
      "----------------------------------------\n",
      "CURRENTLY WORKING ON: 11\n",
      "Working on: 1_2\\book1900k-2000k.parquet\n"
     ]
    },
    {
     "data": {
      "application/vnd.jupyter.widget-view+json": {
       "model_id": "d9a6663632ae4791b0b614e24be637f0",
       "version_major": 2,
       "version_minor": 0
      },
      "text/plain": [
       "Map:   0%|          | 0/4783 [00:00<?, ? examples/s]"
      ]
     },
     "metadata": {},
     "output_type": "display_data"
    },
    {
     "data": {
      "application/vnd.jupyter.widget-view+json": {
       "model_id": "f30c8c7f9fb743efb9ac5dd22975b4d4",
       "version_major": 2,
       "version_minor": 0
      },
      "text/plain": [
       "Map:   0%|          | 0/4783 [00:00<?, ? examples/s]"
      ]
     },
     "metadata": {},
     "output_type": "display_data"
    },
    {
     "data": {
      "application/vnd.jupyter.widget-view+json": {
       "model_id": "4974f06b52274b8a94273348096b111d",
       "version_major": 2,
       "version_minor": 0
      },
      "text/plain": [
       "Creating parquet from Arrow format:   0%|          | 0/5 [00:00<?, ?ba/s]"
      ]
     },
     "metadata": {},
     "output_type": "display_data"
    },
    {
     "name": "stdout",
     "output_type": "stream",
     "text": [
      "saved as: 2_final\\book1900k-2000k.parquet\n",
      "----------------------------------------\n",
      "----------------------------------------\n",
      "CURRENTLY WORKING ON: 12\n",
      "Working on: 1_2\\book2000k-3000k.parquet\n"
     ]
    },
    {
     "data": {
      "application/vnd.jupyter.widget-view+json": {
       "model_id": "2ee6c981936a44f0b7ffc1ebbd53993e",
       "version_major": 2,
       "version_minor": 0
      },
      "text/plain": [
       "Map:   0%|          | 0/38540 [00:00<?, ? examples/s]"
      ]
     },
     "metadata": {},
     "output_type": "display_data"
    },
    {
     "data": {
      "application/vnd.jupyter.widget-view+json": {
       "model_id": "546e9dcbf18f43aba1e4f075795f4a1c",
       "version_major": 2,
       "version_minor": 0
      },
      "text/plain": [
       "Map:   0%|          | 0/38540 [00:00<?, ? examples/s]"
      ]
     },
     "metadata": {},
     "output_type": "display_data"
    },
    {
     "data": {
      "application/vnd.jupyter.widget-view+json": {
       "model_id": "a373dbaf485e47fd959af7c9cd541087",
       "version_major": 2,
       "version_minor": 0
      },
      "text/plain": [
       "Creating parquet from Arrow format:   0%|          | 0/39 [00:00<?, ?ba/s]"
      ]
     },
     "metadata": {},
     "output_type": "display_data"
    },
    {
     "name": "stdout",
     "output_type": "stream",
     "text": [
      "saved as: 2_final\\book2000k-3000k.parquet\n",
      "----------------------------------------\n",
      "----------------------------------------\n",
      "CURRENTLY WORKING ON: 13\n",
      "Working on: 1_2\\book200k-300k.parquet\n"
     ]
    },
    {
     "data": {
      "application/vnd.jupyter.widget-view+json": {
       "model_id": "3598ba45656942589ae0cfa09fbd6ddc",
       "version_major": 2,
       "version_minor": 0
      },
      "text/plain": [
       "Map:   0%|          | 0/10157 [00:00<?, ? examples/s]"
      ]
     },
     "metadata": {},
     "output_type": "display_data"
    },
    {
     "data": {
      "application/vnd.jupyter.widget-view+json": {
       "model_id": "e5daae2ba7ac41978e70b87f3e40dfe3",
       "version_major": 2,
       "version_minor": 0
      },
      "text/plain": [
       "Map:   0%|          | 0/10157 [00:00<?, ? examples/s]"
      ]
     },
     "metadata": {},
     "output_type": "display_data"
    },
    {
     "data": {
      "application/vnd.jupyter.widget-view+json": {
       "model_id": "035e22e49175406697b2ee4c90f06073",
       "version_major": 2,
       "version_minor": 0
      },
      "text/plain": [
       "Creating parquet from Arrow format:   0%|          | 0/11 [00:00<?, ?ba/s]"
      ]
     },
     "metadata": {},
     "output_type": "display_data"
    },
    {
     "name": "stdout",
     "output_type": "stream",
     "text": [
      "saved as: 2_final\\book200k-300k.parquet\n",
      "----------------------------------------\n",
      "----------------------------------------\n",
      "CURRENTLY WORKING ON: 14\n",
      "Working on: 1_2\\book3000k-4000k.parquet\n"
     ]
    },
    {
     "data": {
      "application/vnd.jupyter.widget-view+json": {
       "model_id": "f49ed1c88c81421983b7013bd39a0fa6",
       "version_major": 2,
       "version_minor": 0
      },
      "text/plain": [
       "Map:   0%|          | 0/21446 [00:00<?, ? examples/s]"
      ]
     },
     "metadata": {},
     "output_type": "display_data"
    },
    {
     "data": {
      "application/vnd.jupyter.widget-view+json": {
       "model_id": "b804dc6cc094432ea597daf23093c95f",
       "version_major": 2,
       "version_minor": 0
      },
      "text/plain": [
       "Map:   0%|          | 0/21446 [00:00<?, ? examples/s]"
      ]
     },
     "metadata": {},
     "output_type": "display_data"
    },
    {
     "data": {
      "application/vnd.jupyter.widget-view+json": {
       "model_id": "138fb21333f9457aa37ff895adbdcdb3",
       "version_major": 2,
       "version_minor": 0
      },
      "text/plain": [
       "Creating parquet from Arrow format:   0%|          | 0/22 [00:00<?, ?ba/s]"
      ]
     },
     "metadata": {},
     "output_type": "display_data"
    },
    {
     "name": "stdout",
     "output_type": "stream",
     "text": [
      "saved as: 2_final\\book3000k-4000k.parquet\n",
      "----------------------------------------\n",
      "----------------------------------------\n",
      "CURRENTLY WORKING ON: 15\n",
      "Working on: 1_2\\book4000k-5000k.parquet\n"
     ]
    },
    {
     "data": {
      "application/vnd.jupyter.widget-view+json": {
       "model_id": "d23710eb612243f1bebc82ca32992d95",
       "version_major": 2,
       "version_minor": 0
      },
      "text/plain": [
       "Map:   0%|          | 0/18425 [00:00<?, ? examples/s]"
      ]
     },
     "metadata": {},
     "output_type": "display_data"
    },
    {
     "data": {
      "application/vnd.jupyter.widget-view+json": {
       "model_id": "19c6b51f7def4c9ca280899fc9741d41",
       "version_major": 2,
       "version_minor": 0
      },
      "text/plain": [
       "Map:   0%|          | 0/18425 [00:00<?, ? examples/s]"
      ]
     },
     "metadata": {},
     "output_type": "display_data"
    },
    {
     "data": {
      "application/vnd.jupyter.widget-view+json": {
       "model_id": "b601904867474ed398c1535d94e8c164",
       "version_major": 2,
       "version_minor": 0
      },
      "text/plain": [
       "Creating parquet from Arrow format:   0%|          | 0/19 [00:00<?, ?ba/s]"
      ]
     },
     "metadata": {},
     "output_type": "display_data"
    },
    {
     "name": "stdout",
     "output_type": "stream",
     "text": [
      "saved as: 2_final\\book4000k-5000k.parquet\n",
      "----------------------------------------\n",
      "----------------------------------------\n",
      "CURRENTLY WORKING ON: 16\n",
      "Working on: 1_2\\book400k-500k.parquet\n"
     ]
    },
    {
     "data": {
      "application/vnd.jupyter.widget-view+json": {
       "model_id": "1b3c9bbef94147299f49523d001f5d75",
       "version_major": 2,
       "version_minor": 0
      },
      "text/plain": [
       "Map:   0%|          | 0/8169 [00:00<?, ? examples/s]"
      ]
     },
     "metadata": {},
     "output_type": "display_data"
    },
    {
     "data": {
      "application/vnd.jupyter.widget-view+json": {
       "model_id": "0636dad2da0b40989c188500c3c671c7",
       "version_major": 2,
       "version_minor": 0
      },
      "text/plain": [
       "Map:   0%|          | 0/8169 [00:00<?, ? examples/s]"
      ]
     },
     "metadata": {},
     "output_type": "display_data"
    },
    {
     "data": {
      "application/vnd.jupyter.widget-view+json": {
       "model_id": "9128ad8509c14e069c930c58e9e37f0c",
       "version_major": 2,
       "version_minor": 0
      },
      "text/plain": [
       "Creating parquet from Arrow format:   0%|          | 0/9 [00:00<?, ?ba/s]"
      ]
     },
     "metadata": {},
     "output_type": "display_data"
    },
    {
     "name": "stdout",
     "output_type": "stream",
     "text": [
      "saved as: 2_final\\book400k-500k.parquet\n",
      "----------------------------------------\n",
      "----------------------------------------\n",
      "CURRENTLY WORKING ON: 17\n",
      "Working on: 1_2\\book500k-600k.parquet\n"
     ]
    },
    {
     "data": {
      "application/vnd.jupyter.widget-view+json": {
       "model_id": "bedd598b1b7f452e8fae63690452d9fd",
       "version_major": 2,
       "version_minor": 0
      },
      "text/plain": [
       "Map:   0%|          | 0/8889 [00:00<?, ? examples/s]"
      ]
     },
     "metadata": {},
     "output_type": "display_data"
    },
    {
     "data": {
      "application/vnd.jupyter.widget-view+json": {
       "model_id": "45262710e42841218b527bf35388d3ce",
       "version_major": 2,
       "version_minor": 0
      },
      "text/plain": [
       "Map:   0%|          | 0/8889 [00:00<?, ? examples/s]"
      ]
     },
     "metadata": {},
     "output_type": "display_data"
    },
    {
     "data": {
      "application/vnd.jupyter.widget-view+json": {
       "model_id": "92b32ccd321f463c94bc2efe804f0a44",
       "version_major": 2,
       "version_minor": 0
      },
      "text/plain": [
       "Creating parquet from Arrow format:   0%|          | 0/9 [00:00<?, ?ba/s]"
      ]
     },
     "metadata": {},
     "output_type": "display_data"
    },
    {
     "name": "stdout",
     "output_type": "stream",
     "text": [
      "saved as: 2_final\\book500k-600k.parquet\n",
      "----------------------------------------\n",
      "----------------------------------------\n",
      "CURRENTLY WORKING ON: 18\n",
      "Working on: 1_2\\book600k-700k.parquet\n"
     ]
    },
    {
     "data": {
      "application/vnd.jupyter.widget-view+json": {
       "model_id": "f26163782b744783b1ce09716443dd2e",
       "version_major": 2,
       "version_minor": 0
      },
      "text/plain": [
       "Map:   0%|          | 0/7973 [00:00<?, ? examples/s]"
      ]
     },
     "metadata": {},
     "output_type": "display_data"
    },
    {
     "data": {
      "application/vnd.jupyter.widget-view+json": {
       "model_id": "7045061c6117496287982c8ee8ad2586",
       "version_major": 2,
       "version_minor": 0
      },
      "text/plain": [
       "Map:   0%|          | 0/7973 [00:00<?, ? examples/s]"
      ]
     },
     "metadata": {},
     "output_type": "display_data"
    },
    {
     "data": {
      "application/vnd.jupyter.widget-view+json": {
       "model_id": "4f2747fe7ef54be0a3e331729b332fe3",
       "version_major": 2,
       "version_minor": 0
      },
      "text/plain": [
       "Creating parquet from Arrow format:   0%|          | 0/8 [00:00<?, ?ba/s]"
      ]
     },
     "metadata": {},
     "output_type": "display_data"
    },
    {
     "name": "stdout",
     "output_type": "stream",
     "text": [
      "saved as: 2_final\\book600k-700k.parquet\n",
      "----------------------------------------\n",
      "----------------------------------------\n",
      "CURRENTLY WORKING ON: 19\n",
      "Working on: 1_2\\book700k-800k.parquet\n"
     ]
    },
    {
     "data": {
      "application/vnd.jupyter.widget-view+json": {
       "model_id": "f0152336c8b841028f31ce542f4f283a",
       "version_major": 2,
       "version_minor": 0
      },
      "text/plain": [
       "Map:   0%|          | 0/7926 [00:00<?, ? examples/s]"
      ]
     },
     "metadata": {},
     "output_type": "display_data"
    },
    {
     "data": {
      "application/vnd.jupyter.widget-view+json": {
       "model_id": "0f6e28bdafca4eb4a0b0f925eacd6437",
       "version_major": 2,
       "version_minor": 0
      },
      "text/plain": [
       "Map:   0%|          | 0/7926 [00:00<?, ? examples/s]"
      ]
     },
     "metadata": {},
     "output_type": "display_data"
    },
    {
     "data": {
      "application/vnd.jupyter.widget-view+json": {
       "model_id": "de307ec1ef624ad1afa784bb615400eb",
       "version_major": 2,
       "version_minor": 0
      },
      "text/plain": [
       "Creating parquet from Arrow format:   0%|          | 0/8 [00:00<?, ?ba/s]"
      ]
     },
     "metadata": {},
     "output_type": "display_data"
    },
    {
     "name": "stdout",
     "output_type": "stream",
     "text": [
      "saved as: 2_final\\book700k-800k.parquet\n",
      "----------------------------------------\n",
      "----------------------------------------\n",
      "CURRENTLY WORKING ON: 20\n",
      "Working on: 1_2\\book800k-900k.parquet\n"
     ]
    },
    {
     "data": {
      "application/vnd.jupyter.widget-view+json": {
       "model_id": "4f1a428b59774f0da90c1ddf43ee1deb",
       "version_major": 2,
       "version_minor": 0
      },
      "text/plain": [
       "Map:   0%|          | 0/9384 [00:00<?, ? examples/s]"
      ]
     },
     "metadata": {},
     "output_type": "display_data"
    },
    {
     "data": {
      "application/vnd.jupyter.widget-view+json": {
       "model_id": "166ecc05339d4d98879d0b64bbcc8457",
       "version_major": 2,
       "version_minor": 0
      },
      "text/plain": [
       "Map:   0%|          | 0/9384 [00:00<?, ? examples/s]"
      ]
     },
     "metadata": {},
     "output_type": "display_data"
    },
    {
     "data": {
      "application/vnd.jupyter.widget-view+json": {
       "model_id": "c3e80a96d45e49a587e185a12458d66c",
       "version_major": 2,
       "version_minor": 0
      },
      "text/plain": [
       "Creating parquet from Arrow format:   0%|          | 0/10 [00:00<?, ?ba/s]"
      ]
     },
     "metadata": {},
     "output_type": "display_data"
    },
    {
     "name": "stdout",
     "output_type": "stream",
     "text": [
      "saved as: 2_final\\book800k-900k.parquet\n",
      "----------------------------------------\n",
      "----------------------------------------\n",
      "CURRENTLY WORKING ON: 21\n",
      "Working on: 1_2\\book900k-1000k.parquet\n"
     ]
    },
    {
     "data": {
      "application/vnd.jupyter.widget-view+json": {
       "model_id": "2f7ed3d5847d4999a2a2ccca7d62503b",
       "version_major": 2,
       "version_minor": 0
      },
      "text/plain": [
       "Map:   0%|          | 0/7325 [00:00<?, ? examples/s]"
      ]
     },
     "metadata": {},
     "output_type": "display_data"
    },
    {
     "data": {
      "application/vnd.jupyter.widget-view+json": {
       "model_id": "68967cf6f9f841c0a652d7e010f2725e",
       "version_major": 2,
       "version_minor": 0
      },
      "text/plain": [
       "Map:   0%|          | 0/7325 [00:00<?, ? examples/s]"
      ]
     },
     "metadata": {},
     "output_type": "display_data"
    },
    {
     "data": {
      "application/vnd.jupyter.widget-view+json": {
       "model_id": "5c64a16bfa224d7f90d6fa42b4eb8061",
       "version_major": 2,
       "version_minor": 0
      },
      "text/plain": [
       "Creating parquet from Arrow format:   0%|          | 0/8 [00:00<?, ?ba/s]"
      ]
     },
     "metadata": {},
     "output_type": "display_data"
    },
    {
     "name": "stdout",
     "output_type": "stream",
     "text": [
      "saved as: 2_final\\book900k-1000k.parquet\n",
      "----------------------------------------\n",
      "----------------------------------------\n"
     ]
    }
   ],
   "source": [
    "start_id = 0\n",
    "for current_id in range(start_id, len(all_books_dir)):\n",
    "    print(f\"CURRENTLY WORKING ON: {current_id}\")\n",
    "    merge_one(all_books_dir[current_id])\n",
    "    print(\"----\"*10)\n",
    "    print(\"----\"*10)"
   ]
  }
 ],
 "metadata": {
  "kernelspec": {
   "display_name": "data-science",
   "language": "python",
   "name": "python3"
  },
  "language_info": {
   "codemirror_mode": {
    "name": "ipython",
    "version": 3
   },
   "file_extension": ".py",
   "mimetype": "text/x-python",
   "name": "python",
   "nbconvert_exporter": "python",
   "pygments_lexer": "ipython3",
   "version": "3.10.12"
  },
  "orig_nbformat": 4
 },
 "nbformat": 4,
 "nbformat_minor": 2
}
