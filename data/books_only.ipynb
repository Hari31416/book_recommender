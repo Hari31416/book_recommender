{
 "cells": [
  {
   "cell_type": "markdown",
   "metadata": {},
   "source": [
    "# Imports"
   ]
  },
  {
   "cell_type": "code",
   "execution_count": 1,
   "metadata": {},
   "outputs": [],
   "source": [
    "import pandas as pd\n",
    "import numpy as np\n",
    "import os\n",
    "from datasets import load_dataset\n",
    "from datasets import Dataset\n",
    "from tqdm.auto import tqdm\n",
    "import re\n",
    "import glob\n",
    "tqdm.pandas()"
   ]
  },
  {
   "cell_type": "markdown",
   "metadata": {},
   "source": [
    "This notebook will create the book dataset only. We will merge books from [1] and [2]."
   ]
  },
  {
   "cell_type": "markdown",
   "metadata": {},
   "source": [
    "The folder `2_final` has parquet files having the books from [2] with the matching ID from [1] and [3]. We will use them to create a final book dataset."
   ]
  },
  {
   "cell_type": "markdown",
   "metadata": {},
   "source": [
    "The idea is to use the author and genre information from [1] and the rest of the information from [2] for books. These will then be merged with [3] to give us a final book dataset along with the ratings of the books for different users."
   ]
  },
  {
   "cell_type": "markdown",
   "metadata": {},
   "source": [
    "## Loading Data and Preprocessing"
   ]
  },
  {
   "cell_type": "markdown",
   "metadata": {},
   "source": [
    "### Books from [1]"
   ]
  },
  {
   "cell_type": "markdown",
   "metadata": {},
   "source": [
    "Some preprocessing needs to be done before we can merge the data. This section will deal with it."
   ]
  },
  {
   "cell_type": "code",
   "execution_count": 3,
   "metadata": {},
   "outputs": [],
   "source": [
    "books1 = pd.read_parquet(\"1_2/all_books_with_id.parquet\")\n",
    "books1 = Dataset.from_pandas(books1)"
   ]
  },
  {
   "cell_type": "code",
   "execution_count": 4,
   "metadata": {},
   "outputs": [
    {
     "data": {
      "text/plain": [
       "{'authors': '[2, 3]',\n",
       " 'categories': '[235, 3386]',\n",
       " 'format': 1.0,\n",
       " 'isbn10': '184454737X',\n",
       " 'lang': 'en',\n",
       " 'publication-date': '2009-03-13 00:00:00',\n",
       " 'title': 'Underbelly : The Gangland War',\n",
       " 'authors_': 'John Silvester: Andrew Rule',\n",
       " 'ID': 1}"
      ]
     },
     "execution_count": 4,
     "metadata": {},
     "output_type": "execute_result"
    }
   ],
   "source": [
    "books1[1]"
   ]
  },
  {
   "cell_type": "markdown",
   "metadata": {},
   "source": [
    "Let's remove the following columns, as they will not be used later:\n",
    "- authors_\n",
    "- isbn10 ([3] will be used)\n",
    "- title (will be used from [2])\n",
    "- publication-date (will be used from [2])"
   ]
  },
  {
   "cell_type": "code",
   "execution_count": 5,
   "metadata": {},
   "outputs": [
    {
     "data": {
      "text/plain": [
       "Dataset({\n",
       "    features: ['authors', 'categories', 'format', 'lang', 'ID'],\n",
       "    num_rows: 1109383\n",
       "})"
      ]
     },
     "execution_count": 5,
     "metadata": {},
     "output_type": "execute_result"
    }
   ],
   "source": [
    "columns_to_remove = ['isbn10', 'publication-date', 'title', 'authors_']\n",
    "books1 = books1.remove_columns(columns_to_remove)\n",
    "books1"
   ]
  },
  {
   "cell_type": "code",
   "execution_count": 6,
   "metadata": {},
   "outputs": [
    {
     "data": {
      "text/plain": [
       "{'authors': '[631]',\n",
       " 'categories': '[2978, 2452, 3385]',\n",
       " 'format': 9.0,\n",
       " 'lang': 'en',\n",
       " 'ID': 1213}"
      ]
     },
     "execution_count": 6,
     "metadata": {},
     "output_type": "execute_result"
    }
   ],
   "source": [
    "books1[1213]"
   ]
  },
  {
   "cell_type": "markdown",
   "metadata": {},
   "source": [
    "The `ID` column will be used to match the books. It is a simple integer, so it can be used as the index."
   ]
  },
  {
   "cell_type": "markdown",
   "metadata": {},
   "source": [
    "### Books from [2]"
   ]
  },
  {
   "cell_type": "markdown",
   "metadata": {},
   "source": [
    "Books from [2] are divided into many files. Let's use a sample file to work with."
   ]
  },
  {
   "cell_type": "code",
   "execution_count": 20,
   "metadata": {},
   "outputs": [
    {
     "data": {
      "text/plain": [
       "Dataset({\n",
       "    features: ['id', 'title', 'authors', 'pages', 'pages.1', 'language', 'star_1', 'star_2', 'star_3', 'star_4', 'star_5', 'rating', 'total_ratings', 'total_reviews', 'isbn', 'publication_date', 'title_', 'series', 'book_num', 'book_id', 'score', 'text', 'book_id_3', 'score_3'],\n",
       "    num_rows: 8169\n",
       "})"
      ]
     },
     "execution_count": 20,
     "metadata": {},
     "output_type": "execute_result"
    }
   ],
   "source": [
    "books2 = pd.read_parquet(f\"2_final/book400k-500k.parquet\")\n",
    "books2 = Dataset.from_pandas(books2)\n",
    "books2"
   ]
  },
  {
   "cell_type": "code",
   "execution_count": 21,
   "metadata": {},
   "outputs": [
    {
     "data": {
      "text/plain": [
       "{'id': 400054,\n",
       " 'title': 'One Day in the Desert',\n",
       " 'authors': 'Jean Craighead George',\n",
       " 'pages': 64,\n",
       " 'pages.1': 64,\n",
       " 'language': None,\n",
       " 'star_1': 2,\n",
       " 'star_2': 4,\n",
       " 'star_3': 24,\n",
       " 'star_4': 26,\n",
       " 'star_5': 17,\n",
       " 'rating': 3.71,\n",
       " 'total_ratings': 73,\n",
       " 'total_reviews': 14,\n",
       " 'isbn': '0064420388',\n",
       " 'publication_date': '1996-04-12',\n",
       " 'title_': 'One Day in the Desert',\n",
       " 'series': 'Standalone',\n",
       " 'book_num': 1,\n",
       " 'book_id': 1003093,\n",
       " 'score': 7.20892333984375,\n",
       " 'text': 'One Day in the Desert by Jean Craighead George',\n",
       " 'book_id_3': -1,\n",
       " 'score_3': 16.608840942382812}"
      ]
     },
     "execution_count": 21,
     "metadata": {},
     "output_type": "execute_result"
    }
   ],
   "source": [
    "books2[5]"
   ]
  },
  {
   "cell_type": "markdown",
   "metadata": {},
   "source": [
    "We will be dropping the following columns:\n",
    "- pages.1 (Duplicate of pages)\n",
    "- authors (To be used from [1])\n",
    "- language (most of them are Null, we will use [1] to get the language)\n",
    "- title (the columns title_ and series will be used instead)\n",
    "- text (redundant column)\n",
    "- isbn (will be used from [3])\n",
    "- book_id_3\n",
    "- score_3"
   ]
  },
  {
   "cell_type": "code",
   "execution_count": 22,
   "metadata": {},
   "outputs": [
    {
     "data": {
      "text/plain": [
       "Dataset({\n",
       "    features: ['id', 'pages', 'star_1', 'star_2', 'star_3', 'star_4', 'star_5', 'rating', 'total_ratings', 'total_reviews', 'publication_date', 'title_', 'series', 'book_num', 'book_id', 'score'],\n",
       "    num_rows: 8169\n",
       "})"
      ]
     },
     "execution_count": 22,
     "metadata": {},
     "output_type": "execute_result"
    }
   ],
   "source": [
    "columns_to_remove = [\"title\", \"pages.1\", \"language\", \"text\", \"authors\", \"isbn\", \"book_id_3\", \"score_3\"]\n",
    "books2 = books2.remove_columns(columns_to_remove)\n",
    "books2"
   ]
  },
  {
   "cell_type": "markdown",
   "metadata": {},
   "source": [
    "We will also need to rename some column name:"
   ]
  },
  {
   "cell_type": "code",
   "execution_count": 23,
   "metadata": {},
   "outputs": [],
   "source": [
    "rename_map = {\n",
    "    \"title_\": \"title\",\n",
    "    \"book_id\": \"book_id_1\",\n",
    "    \"score\": \"score_1\",\n",
    "}\n",
    "\n",
    "for key, value in rename_map.items():\n",
    "    books2 = books2.rename_column(key, value)"
   ]
  },
  {
   "cell_type": "code",
   "execution_count": 24,
   "metadata": {},
   "outputs": [
    {
     "data": {
      "text/plain": [
       "Dataset({\n",
       "    features: ['id', 'pages', 'star_1', 'star_2', 'star_3', 'star_4', 'star_5', 'rating', 'total_ratings', 'total_reviews', 'publication_date', 'title', 'series', 'book_num', 'book_id_1', 'score_1'],\n",
       "    num_rows: 8169\n",
       "})"
      ]
     },
     "execution_count": 24,
     "metadata": {},
     "output_type": "execute_result"
    }
   ],
   "source": [
    "books2"
   ]
  },
  {
   "cell_type": "markdown",
   "metadata": {},
   "source": [
    "We will create a function for all these steps as we will need to repeat this for many datasets."
   ]
  },
  {
   "cell_type": "code",
   "execution_count": 25,
   "metadata": {},
   "outputs": [],
   "source": [
    "def load_and_preprocess_2(file_dir):\n",
    "    books2 = pd.read_parquet(file_dir)\n",
    "    books2 = Dataset.from_pandas(books2)\n",
    "\n",
    "    columns_to_remove = [\"title\", \"pages.1\", \"language\", \"text\", \"authors\", \"book_id_3\", \"score_3\"]\n",
    "    try:\n",
    "        books2 = books2.remove_columns(columns_to_remove)\n",
    "    except ValueError:\n",
    "        columns_to_remove.pop(1)\n",
    "        books2 = books2.remove_columns(columns_to_remove)\n",
    "    rename_map = {\n",
    "        \"title_\": \"title\",\n",
    "        \"book_id\": \"book_id_1\",\n",
    "        \"score\": \"score_1\",\n",
    "    }\n",
    "\n",
    "    for key, value in rename_map.items():\n",
    "        books2 = books2.rename_column(key, value)\n",
    "    return books2"
   ]
  },
  {
   "cell_type": "code",
   "execution_count": 26,
   "metadata": {},
   "outputs": [
    {
     "data": {
      "text/plain": [
       "{'id': 400074,\n",
       " 'pages': 6,\n",
       " 'star_1': 301,\n",
       " 'star_2': 1213,\n",
       " 'star_3': 5878,\n",
       " 'star_4': 10626,\n",
       " 'star_5': 7925,\n",
       " 'rating': 3.95,\n",
       " 'total_ratings': 25943,\n",
       " 'total_reviews': 16,\n",
       " 'isbn': '1572704438',\n",
       " 'publication_date': '2008-01-22',\n",
       " 'title': 'The Thin Man',\n",
       " 'series': 'Standalone',\n",
       " 'book_num': 1,\n",
       " 'book_id_1': 364146,\n",
       " 'score_1': 0.0}"
      ]
     },
     "execution_count": 26,
     "metadata": {},
     "output_type": "execute_result"
    }
   ],
   "source": [
    "books2 = load_and_preprocess_2(\"2_final/book400k-500k.parquet\")\n",
    "books2[10]"
   ]
  },
  {
   "cell_type": "markdown",
   "metadata": {},
   "source": [
    "## Merging the Dataframes"
   ]
  },
  {
   "cell_type": "markdown",
   "metadata": {},
   "source": [
    "The books from [2] has the IDs for the matching book in [1] and [3]. If no match is found, we have imputed -1. Also, this ID is nothing but the index of the book in the dataframe [1] and [3], if not shuffled. Using these, the next section will deal with merging the all three dataframes into one."
   ]
  },
  {
   "cell_type": "markdown",
   "metadata": {},
   "source": [
    "We will start by filtering out only those rows in [2] where a match has been found for both [1] and [3]:"
   ]
  },
  {
   "cell_type": "code",
   "execution_count": 27,
   "metadata": {},
   "outputs": [],
   "source": [
    "def filter_function(row):\n",
    "    id_1 = row[\"book_id_1\"]\n",
    "    if id_1 == -1:\n",
    "        return False\n",
    "    return True"
   ]
  },
  {
   "cell_type": "code",
   "execution_count": 28,
   "metadata": {},
   "outputs": [
    {
     "data": {
      "application/vnd.jupyter.widget-view+json": {
       "model_id": "71b1ee821c2a404b949eca8209f6d004",
       "version_major": 2,
       "version_minor": 0
      },
      "text/plain": [
       "Filter:   0%|          | 0/8169 [00:00<?, ? examples/s]"
      ]
     },
     "metadata": {},
     "output_type": "display_data"
    },
    {
     "name": "stdout",
     "output_type": "stream",
     "text": [
      "Number of books before filtering: 8169\n",
      "Number of books after filtering: 8169\n"
     ]
    }
   ],
   "source": [
    "books2_filtered = books2.filter(filter_function)\n",
    "print(f\"Number of books before filtering: {len(books2)}\")\n",
    "print(f\"Number of books after filtering: {len(books2_filtered)}\")"
   ]
  },
  {
   "cell_type": "markdown",
   "metadata": {},
   "source": [
    "We can see that far more books are matching this way compared to when we were using all the three datasets to create a match."
   ]
  },
  {
   "cell_type": "code",
   "execution_count": 29,
   "metadata": {},
   "outputs": [],
   "source": [
    "def match_book(row):\n",
    "    book1_id = row[\"book_id_1\"]\n",
    "    info_from_book1 = books1[book1_id]\n",
    "    info_from_book1.pop(\"ID\")\n",
    "    final_info = {**row, **info_from_book1}\n",
    "    return final_info"
   ]
  },
  {
   "cell_type": "code",
   "execution_count": 30,
   "metadata": {},
   "outputs": [
    {
     "data": {
      "application/vnd.jupyter.widget-view+json": {
       "model_id": "8fbc819ba9a34152a3ab1575d497324f",
       "version_major": 2,
       "version_minor": 0
      },
      "text/plain": [
       "Map:   0%|          | 0/8169 [00:00<?, ? examples/s]"
      ]
     },
     "metadata": {},
     "output_type": "display_data"
    }
   ],
   "source": [
    "books2_matched = books2_filtered.map(match_book)"
   ]
  },
  {
   "cell_type": "code",
   "execution_count": 31,
   "metadata": {},
   "outputs": [
    {
     "data": {
      "text/html": [
       "<div>\n",
       "<style scoped>\n",
       "    .dataframe tbody tr th:only-of-type {\n",
       "        vertical-align: middle;\n",
       "    }\n",
       "\n",
       "    .dataframe tbody tr th {\n",
       "        vertical-align: top;\n",
       "    }\n",
       "\n",
       "    .dataframe thead th {\n",
       "        text-align: right;\n",
       "    }\n",
       "</style>\n",
       "<table border=\"1\" class=\"dataframe\">\n",
       "  <thead>\n",
       "    <tr style=\"text-align: right;\">\n",
       "      <th></th>\n",
       "      <th>0</th>\n",
       "      <th>1</th>\n",
       "      <th>2</th>\n",
       "      <th>3</th>\n",
       "      <th>4</th>\n",
       "    </tr>\n",
       "  </thead>\n",
       "  <tbody>\n",
       "    <tr>\n",
       "      <th>id</th>\n",
       "      <td>400006</td>\n",
       "      <td>400019</td>\n",
       "      <td>400026</td>\n",
       "      <td>400034</td>\n",
       "      <td>400052</td>\n",
       "    </tr>\n",
       "    <tr>\n",
       "      <th>pages</th>\n",
       "      <td>2</td>\n",
       "      <td>304</td>\n",
       "      <td>137</td>\n",
       "      <td>242</td>\n",
       "      <td>64</td>\n",
       "    </tr>\n",
       "    <tr>\n",
       "      <th>star_1</th>\n",
       "      <td>2</td>\n",
       "      <td>5</td>\n",
       "      <td>0</td>\n",
       "      <td>5</td>\n",
       "      <td>1</td>\n",
       "    </tr>\n",
       "    <tr>\n",
       "      <th>star_2</th>\n",
       "      <td>2</td>\n",
       "      <td>16</td>\n",
       "      <td>0</td>\n",
       "      <td>3</td>\n",
       "      <td>7</td>\n",
       "    </tr>\n",
       "    <tr>\n",
       "      <th>star_3</th>\n",
       "      <td>5</td>\n",
       "      <td>106</td>\n",
       "      <td>0</td>\n",
       "      <td>28</td>\n",
       "      <td>37</td>\n",
       "    </tr>\n",
       "    <tr>\n",
       "      <th>star_4</th>\n",
       "      <td>8</td>\n",
       "      <td>128</td>\n",
       "      <td>0</td>\n",
       "      <td>48</td>\n",
       "      <td>31</td>\n",
       "    </tr>\n",
       "    <tr>\n",
       "      <th>star_5</th>\n",
       "      <td>1</td>\n",
       "      <td>86</td>\n",
       "      <td>1</td>\n",
       "      <td>91</td>\n",
       "      <td>31</td>\n",
       "    </tr>\n",
       "    <tr>\n",
       "      <th>rating</th>\n",
       "      <td>3.22</td>\n",
       "      <td>3.8</td>\n",
       "      <td>5.0</td>\n",
       "      <td>4.24</td>\n",
       "      <td>3.79</td>\n",
       "    </tr>\n",
       "    <tr>\n",
       "      <th>total_ratings</th>\n",
       "      <td>18</td>\n",
       "      <td>341</td>\n",
       "      <td>1</td>\n",
       "      <td>175</td>\n",
       "      <td>107</td>\n",
       "    </tr>\n",
       "    <tr>\n",
       "      <th>total_reviews</th>\n",
       "      <td>0</td>\n",
       "      <td>54</td>\n",
       "      <td>0</td>\n",
       "      <td>0</td>\n",
       "      <td>2</td>\n",
       "    </tr>\n",
       "    <tr>\n",
       "      <th>isbn</th>\n",
       "      <td>0811728536</td>\n",
       "      <td>0786886579</td>\n",
       "      <td>2825413941</td>\n",
       "      <td>0520024869</td>\n",
       "      <td>0590379445</td>\n",
       "    </tr>\n",
       "    <tr>\n",
       "      <th>publication_date</th>\n",
       "      <td>1998-06-01</td>\n",
       "      <td>2003-08-20</td>\n",
       "      <td>2004-09-01</td>\n",
       "      <td>1972-01-01</td>\n",
       "      <td>1999-01-01</td>\n",
       "    </tr>\n",
       "    <tr>\n",
       "      <th>title</th>\n",
       "      <td>John Gill: Master of Rock PB</td>\n",
       "      <td>Girls Will Be Girls: Raising Confident and Cou...</td>\n",
       "      <td>Axis of Peace: Christian Faith in Times of Vio...</td>\n",
       "      <td>A Sufi Saint of the Twentieth Century: Shaikh ...</td>\n",
       "      <td>One Day In The Woods</td>\n",
       "    </tr>\n",
       "    <tr>\n",
       "      <th>series</th>\n",
       "      <td>Standalone</td>\n",
       "      <td>Standalone</td>\n",
       "      <td>Standalone</td>\n",
       "      <td>Standalone</td>\n",
       "      <td>Standalone</td>\n",
       "    </tr>\n",
       "    <tr>\n",
       "      <th>book_num</th>\n",
       "      <td>1</td>\n",
       "      <td>1</td>\n",
       "      <td>1</td>\n",
       "      <td>1</td>\n",
       "      <td>1</td>\n",
       "    </tr>\n",
       "    <tr>\n",
       "      <th>book_id_1</th>\n",
       "      <td>1106646</td>\n",
       "      <td>460389</td>\n",
       "      <td>497562</td>\n",
       "      <td>437481</td>\n",
       "      <td>1019003</td>\n",
       "    </tr>\n",
       "    <tr>\n",
       "      <th>score_1</th>\n",
       "      <td>3.981544</td>\n",
       "      <td>0.000065</td>\n",
       "      <td>0.000011</td>\n",
       "      <td>4.688293</td>\n",
       "      <td>6.437046</td>\n",
       "    </tr>\n",
       "    <tr>\n",
       "      <th>authors</th>\n",
       "      <td>[652490]</td>\n",
       "      <td>[45039]</td>\n",
       "      <td>[328208]</td>\n",
       "      <td>[35093]</td>\n",
       "      <td>[350440, 17823]</td>\n",
       "    </tr>\n",
       "    <tr>\n",
       "      <th>categories</th>\n",
       "      <td>[226, 3093]</td>\n",
       "      <td>[684, 696, 2791, 2797, 2800]</td>\n",
       "      <td>[413, 2720, 3134, 3158, 3177]</td>\n",
       "      <td>[214, 3191, 3196, 3232, 702]</td>\n",
       "      <td>[2491, 2522, 2526, 2577]</td>\n",
       "    </tr>\n",
       "    <tr>\n",
       "      <th>format</th>\n",
       "      <td>1.0</td>\n",
       "      <td>1.0</td>\n",
       "      <td>1.0</td>\n",
       "      <td>1.0</td>\n",
       "      <td>1.0</td>\n",
       "    </tr>\n",
       "    <tr>\n",
       "      <th>lang</th>\n",
       "      <td>en</td>\n",
       "      <td>en</td>\n",
       "      <td>en</td>\n",
       "      <td>en</td>\n",
       "      <td>en</td>\n",
       "    </tr>\n",
       "  </tbody>\n",
       "</table>\n",
       "</div>"
      ],
      "text/plain": [
       "                                             0  \\\n",
       "id                                      400006   \n",
       "pages                                        2   \n",
       "star_1                                       2   \n",
       "star_2                                       2   \n",
       "star_3                                       5   \n",
       "star_4                                       8   \n",
       "star_5                                       1   \n",
       "rating                                    3.22   \n",
       "total_ratings                               18   \n",
       "total_reviews                                0   \n",
       "isbn                                0811728536   \n",
       "publication_date                    1998-06-01   \n",
       "title             John Gill: Master of Rock PB   \n",
       "series                              Standalone   \n",
       "book_num                                     1   \n",
       "book_id_1                              1106646   \n",
       "score_1                               3.981544   \n",
       "authors                               [652490]   \n",
       "categories                         [226, 3093]   \n",
       "format                                     1.0   \n",
       "lang                                        en   \n",
       "\n",
       "                                                                  1  \\\n",
       "id                                                           400019   \n",
       "pages                                                           304   \n",
       "star_1                                                            5   \n",
       "star_2                                                           16   \n",
       "star_3                                                          106   \n",
       "star_4                                                          128   \n",
       "star_5                                                           86   \n",
       "rating                                                          3.8   \n",
       "total_ratings                                                   341   \n",
       "total_reviews                                                    54   \n",
       "isbn                                                     0786886579   \n",
       "publication_date                                         2003-08-20   \n",
       "title             Girls Will Be Girls: Raising Confident and Cou...   \n",
       "series                                                   Standalone   \n",
       "book_num                                                          1   \n",
       "book_id_1                                                    460389   \n",
       "score_1                                                    0.000065   \n",
       "authors                                                     [45039]   \n",
       "categories                             [684, 696, 2791, 2797, 2800]   \n",
       "format                                                          1.0   \n",
       "lang                                                             en   \n",
       "\n",
       "                                                                  2  \\\n",
       "id                                                           400026   \n",
       "pages                                                           137   \n",
       "star_1                                                            0   \n",
       "star_2                                                            0   \n",
       "star_3                                                            0   \n",
       "star_4                                                            0   \n",
       "star_5                                                            1   \n",
       "rating                                                          5.0   \n",
       "total_ratings                                                     1   \n",
       "total_reviews                                                     0   \n",
       "isbn                                                     2825413941   \n",
       "publication_date                                         2004-09-01   \n",
       "title             Axis of Peace: Christian Faith in Times of Vio...   \n",
       "series                                                   Standalone   \n",
       "book_num                                                          1   \n",
       "book_id_1                                                    497562   \n",
       "score_1                                                    0.000011   \n",
       "authors                                                    [328208]   \n",
       "categories                            [413, 2720, 3134, 3158, 3177]   \n",
       "format                                                          1.0   \n",
       "lang                                                             en   \n",
       "\n",
       "                                                                  3  \\\n",
       "id                                                           400034   \n",
       "pages                                                           242   \n",
       "star_1                                                            5   \n",
       "star_2                                                            3   \n",
       "star_3                                                           28   \n",
       "star_4                                                           48   \n",
       "star_5                                                           91   \n",
       "rating                                                         4.24   \n",
       "total_ratings                                                   175   \n",
       "total_reviews                                                     0   \n",
       "isbn                                                     0520024869   \n",
       "publication_date                                         1972-01-01   \n",
       "title             A Sufi Saint of the Twentieth Century: Shaikh ...   \n",
       "series                                                   Standalone   \n",
       "book_num                                                          1   \n",
       "book_id_1                                                    437481   \n",
       "score_1                                                    4.688293   \n",
       "authors                                                     [35093]   \n",
       "categories                             [214, 3191, 3196, 3232, 702]   \n",
       "format                                                          1.0   \n",
       "lang                                                             en   \n",
       "\n",
       "                                         4  \n",
       "id                                  400052  \n",
       "pages                                   64  \n",
       "star_1                                   1  \n",
       "star_2                                   7  \n",
       "star_3                                  37  \n",
       "star_4                                  31  \n",
       "star_5                                  31  \n",
       "rating                                3.79  \n",
       "total_ratings                          107  \n",
       "total_reviews                            2  \n",
       "isbn                            0590379445  \n",
       "publication_date                1999-01-01  \n",
       "title                 One Day In The Woods  \n",
       "series                          Standalone  \n",
       "book_num                                 1  \n",
       "book_id_1                          1019003  \n",
       "score_1                           6.437046  \n",
       "authors                    [350440, 17823]  \n",
       "categories        [2491, 2522, 2526, 2577]  \n",
       "format                                 1.0  \n",
       "lang                                    en  "
      ]
     },
     "execution_count": 31,
     "metadata": {},
     "output_type": "execute_result"
    }
   ],
   "source": [
    "pd.DataFrame(books2_matched[:5]).T"
   ]
  },
  {
   "cell_type": "markdown",
   "metadata": {},
   "source": [
    "This is working as intended. Let's make a final function to be used for each dataframe from [2]."
   ]
  },
  {
   "cell_type": "code",
   "execution_count": 32,
   "metadata": {},
   "outputs": [],
   "source": [
    "to_save_dir = os.path.join(\"merged_dataset\", \"books_only\")"
   ]
  },
  {
   "cell_type": "code",
   "execution_count": 33,
   "metadata": {},
   "outputs": [],
   "source": [
    "def match_one_book_df(file_dir):\n",
    "    books2 = load_and_preprocess_2(file_dir)\n",
    "    books2_filtered = books2.filter(filter_function)\n",
    "    print(f\"Number of books before filtering: {len(books2)}\")\n",
    "    print(f\"Number of books after filtering: {len(books2_filtered)}\")\n",
    "    books2_matched = books2_filtered.map(match_book)\n",
    "    file_name = file_dir.split(os.path.sep)[-1]\n",
    "    file_name = os.path.join(to_save_dir, file_name)\n",
    "    books2_matched.to_parquet(file_name)\n",
    "    print(f\"Saved to {file_name}\")"
   ]
  },
  {
   "cell_type": "code",
   "execution_count": 34,
   "metadata": {},
   "outputs": [
    {
     "data": {
      "text/plain": [
       "22"
      ]
     },
     "execution_count": 34,
     "metadata": {},
     "output_type": "execute_result"
    }
   ],
   "source": [
    "all_books_dir = glob.glob(\"2_final/book*.parquet\")\n",
    "all_books_dir.sort()\n",
    "len(all_books_dir)"
   ]
  },
  {
   "cell_type": "code",
   "execution_count": 35,
   "metadata": {},
   "outputs": [
    {
     "name": "stdout",
     "output_type": "stream",
     "text": [
      "CURRENTLY WORKING ON: 0\n"
     ]
    },
    {
     "data": {
      "application/vnd.jupyter.widget-view+json": {
       "model_id": "9509fd971e304de097692aea0015e3f4",
       "version_major": 2,
       "version_minor": 0
      },
      "text/plain": [
       "Filter:   0%|          | 0/16146 [00:00<?, ? examples/s]"
      ]
     },
     "metadata": {},
     "output_type": "display_data"
    },
    {
     "name": "stdout",
     "output_type": "stream",
     "text": [
      "Number of books before filtering: 16146\n",
      "Number of books after filtering: 16146\n"
     ]
    },
    {
     "data": {
      "application/vnd.jupyter.widget-view+json": {
       "model_id": "e0f6427b68cd458bbc785c8b4ecfe688",
       "version_major": 2,
       "version_minor": 0
      },
      "text/plain": [
       "Map:   0%|          | 0/16146 [00:00<?, ? examples/s]"
      ]
     },
     "metadata": {},
     "output_type": "display_data"
    },
    {
     "data": {
      "application/vnd.jupyter.widget-view+json": {
       "model_id": "c4897acee2b44aca846c514d221a369c",
       "version_major": 2,
       "version_minor": 0
      },
      "text/plain": [
       "Creating parquet from Arrow format:   0%|          | 0/17 [00:00<?, ?ba/s]"
      ]
     },
     "metadata": {},
     "output_type": "display_data"
    },
    {
     "name": "stdout",
     "output_type": "stream",
     "text": [
      "Saved to merged_dataset\\books_only\\book1-100k.parquet\n",
      "----------------------------------------\n",
      "----------------------------------------\n",
      "CURRENTLY WORKING ON: 1\n"
     ]
    },
    {
     "data": {
      "application/vnd.jupyter.widget-view+json": {
       "model_id": "b14155aeb4124c978466592a757bceb4",
       "version_major": 2,
       "version_minor": 0
      },
      "text/plain": [
       "Filter:   0%|          | 0/6331 [00:00<?, ? examples/s]"
      ]
     },
     "metadata": {},
     "output_type": "display_data"
    },
    {
     "name": "stdout",
     "output_type": "stream",
     "text": [
      "Number of books before filtering: 6331\n",
      "Number of books after filtering: 6331\n"
     ]
    },
    {
     "data": {
      "application/vnd.jupyter.widget-view+json": {
       "model_id": "6b9416c0b19b4165abee3e765d6412c6",
       "version_major": 2,
       "version_minor": 0
      },
      "text/plain": [
       "Map:   0%|          | 0/6331 [00:00<?, ? examples/s]"
      ]
     },
     "metadata": {},
     "output_type": "display_data"
    },
    {
     "data": {
      "application/vnd.jupyter.widget-view+json": {
       "model_id": "08c9504ff2d74a09865ec25a2616fce5",
       "version_major": 2,
       "version_minor": 0
      },
      "text/plain": [
       "Creating parquet from Arrow format:   0%|          | 0/7 [00:00<?, ?ba/s]"
      ]
     },
     "metadata": {},
     "output_type": "display_data"
    },
    {
     "name": "stdout",
     "output_type": "stream",
     "text": [
      "Saved to merged_dataset\\books_only\\book1000k-1100k.parquet\n",
      "----------------------------------------\n",
      "----------------------------------------\n",
      "CURRENTLY WORKING ON: 2\n"
     ]
    },
    {
     "data": {
      "application/vnd.jupyter.widget-view+json": {
       "model_id": "2f8d765de1cb4be8b3559f94ae125011",
       "version_major": 2,
       "version_minor": 0
      },
      "text/plain": [
       "Filter:   0%|          | 0/11662 [00:00<?, ? examples/s]"
      ]
     },
     "metadata": {},
     "output_type": "display_data"
    },
    {
     "name": "stdout",
     "output_type": "stream",
     "text": [
      "Number of books before filtering: 11662\n",
      "Number of books after filtering: 11662\n"
     ]
    },
    {
     "data": {
      "application/vnd.jupyter.widget-view+json": {
       "model_id": "fcb0b5bb79764c43996e01758f3b79a0",
       "version_major": 2,
       "version_minor": 0
      },
      "text/plain": [
       "Map:   0%|          | 0/11662 [00:00<?, ? examples/s]"
      ]
     },
     "metadata": {},
     "output_type": "display_data"
    },
    {
     "data": {
      "application/vnd.jupyter.widget-view+json": {
       "model_id": "75136b20e0e942f4becf5fa8f64cf783",
       "version_major": 2,
       "version_minor": 0
      },
      "text/plain": [
       "Creating parquet from Arrow format:   0%|          | 0/12 [00:00<?, ?ba/s]"
      ]
     },
     "metadata": {},
     "output_type": "display_data"
    },
    {
     "name": "stdout",
     "output_type": "stream",
     "text": [
      "Saved to merged_dataset\\books_only\\book100k-200k.parquet\n",
      "----------------------------------------\n",
      "----------------------------------------\n",
      "CURRENTLY WORKING ON: 3\n"
     ]
    },
    {
     "data": {
      "application/vnd.jupyter.widget-view+json": {
       "model_id": "ba5fdf7438d944f8a8ecc9ec7875eea4",
       "version_major": 2,
       "version_minor": 0
      },
      "text/plain": [
       "Filter:   0%|          | 0/6467 [00:00<?, ? examples/s]"
      ]
     },
     "metadata": {},
     "output_type": "display_data"
    },
    {
     "name": "stdout",
     "output_type": "stream",
     "text": [
      "Number of books before filtering: 6467\n",
      "Number of books after filtering: 6467\n"
     ]
    },
    {
     "data": {
      "application/vnd.jupyter.widget-view+json": {
       "model_id": "8bcd49800652403f87d4758a50a316a4",
       "version_major": 2,
       "version_minor": 0
      },
      "text/plain": [
       "Map:   0%|          | 0/6467 [00:00<?, ? examples/s]"
      ]
     },
     "metadata": {},
     "output_type": "display_data"
    },
    {
     "data": {
      "application/vnd.jupyter.widget-view+json": {
       "model_id": "09517830e85b46b2bb4a04201f2a5aec",
       "version_major": 2,
       "version_minor": 0
      },
      "text/plain": [
       "Creating parquet from Arrow format:   0%|          | 0/7 [00:00<?, ?ba/s]"
      ]
     },
     "metadata": {},
     "output_type": "display_data"
    },
    {
     "name": "stdout",
     "output_type": "stream",
     "text": [
      "Saved to merged_dataset\\books_only\\book1100k-1200k.parquet\n",
      "----------------------------------------\n",
      "----------------------------------------\n",
      "CURRENTLY WORKING ON: 4\n"
     ]
    },
    {
     "data": {
      "application/vnd.jupyter.widget-view+json": {
       "model_id": "33c994f9d4aa4e04a94eae29ea1cdbbb",
       "version_major": 2,
       "version_minor": 0
      },
      "text/plain": [
       "Filter:   0%|          | 0/6136 [00:00<?, ? examples/s]"
      ]
     },
     "metadata": {},
     "output_type": "display_data"
    },
    {
     "name": "stdout",
     "output_type": "stream",
     "text": [
      "Number of books before filtering: 6136\n",
      "Number of books after filtering: 6136\n"
     ]
    },
    {
     "data": {
      "application/vnd.jupyter.widget-view+json": {
       "model_id": "1e004d3b165649b99c25d106e3b6e018",
       "version_major": 2,
       "version_minor": 0
      },
      "text/plain": [
       "Map:   0%|          | 0/6136 [00:00<?, ? examples/s]"
      ]
     },
     "metadata": {},
     "output_type": "display_data"
    },
    {
     "data": {
      "application/vnd.jupyter.widget-view+json": {
       "model_id": "9f4e636e646d4b4b911641c3955c7b62",
       "version_major": 2,
       "version_minor": 0
      },
      "text/plain": [
       "Creating parquet from Arrow format:   0%|          | 0/7 [00:00<?, ?ba/s]"
      ]
     },
     "metadata": {},
     "output_type": "display_data"
    },
    {
     "name": "stdout",
     "output_type": "stream",
     "text": [
      "Saved to merged_dataset\\books_only\\book1200k-1300k.parquet\n",
      "----------------------------------------\n",
      "----------------------------------------\n",
      "CURRENTLY WORKING ON: 5\n"
     ]
    },
    {
     "data": {
      "application/vnd.jupyter.widget-view+json": {
       "model_id": "92cd4ea36a2f46c899602dbed751c6d2",
       "version_major": 2,
       "version_minor": 0
      },
      "text/plain": [
       "Filter:   0%|          | 0/5125 [00:00<?, ? examples/s]"
      ]
     },
     "metadata": {},
     "output_type": "display_data"
    },
    {
     "name": "stdout",
     "output_type": "stream",
     "text": [
      "Number of books before filtering: 5125\n",
      "Number of books after filtering: 5125\n"
     ]
    },
    {
     "data": {
      "application/vnd.jupyter.widget-view+json": {
       "model_id": "caedee42977f40f4a3be65043473e5e2",
       "version_major": 2,
       "version_minor": 0
      },
      "text/plain": [
       "Map:   0%|          | 0/5125 [00:00<?, ? examples/s]"
      ]
     },
     "metadata": {},
     "output_type": "display_data"
    },
    {
     "data": {
      "application/vnd.jupyter.widget-view+json": {
       "model_id": "9a387bc1657343b2bb3cc4c8d31afa71",
       "version_major": 2,
       "version_minor": 0
      },
      "text/plain": [
       "Creating parquet from Arrow format:   0%|          | 0/6 [00:00<?, ?ba/s]"
      ]
     },
     "metadata": {},
     "output_type": "display_data"
    },
    {
     "name": "stdout",
     "output_type": "stream",
     "text": [
      "Saved to merged_dataset\\books_only\\book1300k-1400k.parquet\n",
      "----------------------------------------\n",
      "----------------------------------------\n",
      "CURRENTLY WORKING ON: 6\n"
     ]
    },
    {
     "data": {
      "application/vnd.jupyter.widget-view+json": {
       "model_id": "e872ca9428724e4cad8330853fdac0b0",
       "version_major": 2,
       "version_minor": 0
      },
      "text/plain": [
       "Filter:   0%|          | 0/4700 [00:00<?, ? examples/s]"
      ]
     },
     "metadata": {},
     "output_type": "display_data"
    },
    {
     "name": "stdout",
     "output_type": "stream",
     "text": [
      "Number of books before filtering: 4700\n",
      "Number of books after filtering: 4700\n"
     ]
    },
    {
     "data": {
      "application/vnd.jupyter.widget-view+json": {
       "model_id": "dc50897de8a243bd9765544148ecf43a",
       "version_major": 2,
       "version_minor": 0
      },
      "text/plain": [
       "Map:   0%|          | 0/4700 [00:00<?, ? examples/s]"
      ]
     },
     "metadata": {},
     "output_type": "display_data"
    },
    {
     "data": {
      "application/vnd.jupyter.widget-view+json": {
       "model_id": "2a4d0cc0f0994ff895ba9d2f07620a3f",
       "version_major": 2,
       "version_minor": 0
      },
      "text/plain": [
       "Creating parquet from Arrow format:   0%|          | 0/5 [00:00<?, ?ba/s]"
      ]
     },
     "metadata": {},
     "output_type": "display_data"
    },
    {
     "name": "stdout",
     "output_type": "stream",
     "text": [
      "Saved to merged_dataset\\books_only\\book1400k-1500k.parquet\n",
      "----------------------------------------\n",
      "----------------------------------------\n",
      "CURRENTLY WORKING ON: 7\n"
     ]
    },
    {
     "data": {
      "application/vnd.jupyter.widget-view+json": {
       "model_id": "259468d5ccd34c5e89d1a85fc1bb68d8",
       "version_major": 2,
       "version_minor": 0
      },
      "text/plain": [
       "Filter:   0%|          | 0/3869 [00:00<?, ? examples/s]"
      ]
     },
     "metadata": {},
     "output_type": "display_data"
    },
    {
     "name": "stdout",
     "output_type": "stream",
     "text": [
      "Number of books before filtering: 3869\n",
      "Number of books after filtering: 3869\n"
     ]
    },
    {
     "data": {
      "application/vnd.jupyter.widget-view+json": {
       "model_id": "f38b942af39b44418694b8705a1b4c3d",
       "version_major": 2,
       "version_minor": 0
      },
      "text/plain": [
       "Map:   0%|          | 0/3869 [00:00<?, ? examples/s]"
      ]
     },
     "metadata": {},
     "output_type": "display_data"
    },
    {
     "data": {
      "application/vnd.jupyter.widget-view+json": {
       "model_id": "38b87f5ce91e46fd83ece7c4286699de",
       "version_major": 2,
       "version_minor": 0
      },
      "text/plain": [
       "Creating parquet from Arrow format:   0%|          | 0/4 [00:00<?, ?ba/s]"
      ]
     },
     "metadata": {},
     "output_type": "display_data"
    },
    {
     "name": "stdout",
     "output_type": "stream",
     "text": [
      "Saved to merged_dataset\\books_only\\book1500k-1600k.parquet\n",
      "----------------------------------------\n",
      "----------------------------------------\n",
      "CURRENTLY WORKING ON: 8\n"
     ]
    },
    {
     "data": {
      "application/vnd.jupyter.widget-view+json": {
       "model_id": "f74dcba6fd75479ca23c8ceb1f3b1cb2",
       "version_major": 2,
       "version_minor": 0
      },
      "text/plain": [
       "Filter:   0%|          | 0/3725 [00:00<?, ? examples/s]"
      ]
     },
     "metadata": {},
     "output_type": "display_data"
    },
    {
     "name": "stdout",
     "output_type": "stream",
     "text": [
      "Number of books before filtering: 3725\n",
      "Number of books after filtering: 3725\n"
     ]
    },
    {
     "data": {
      "application/vnd.jupyter.widget-view+json": {
       "model_id": "1d46a575d61f40bbab58cc529773c66e",
       "version_major": 2,
       "version_minor": 0
      },
      "text/plain": [
       "Map:   0%|          | 0/3725 [00:00<?, ? examples/s]"
      ]
     },
     "metadata": {},
     "output_type": "display_data"
    },
    {
     "data": {
      "application/vnd.jupyter.widget-view+json": {
       "model_id": "c48022a6ef954d8ca09d44aae31ef883",
       "version_major": 2,
       "version_minor": 0
      },
      "text/plain": [
       "Creating parquet from Arrow format:   0%|          | 0/4 [00:00<?, ?ba/s]"
      ]
     },
     "metadata": {},
     "output_type": "display_data"
    },
    {
     "name": "stdout",
     "output_type": "stream",
     "text": [
      "Saved to merged_dataset\\books_only\\book1600k-1700k.parquet\n",
      "----------------------------------------\n",
      "----------------------------------------\n",
      "CURRENTLY WORKING ON: 9\n"
     ]
    },
    {
     "data": {
      "application/vnd.jupyter.widget-view+json": {
       "model_id": "71082219332d431f930b1334bc33467e",
       "version_major": 2,
       "version_minor": 0
      },
      "text/plain": [
       "Filter:   0%|          | 0/3801 [00:00<?, ? examples/s]"
      ]
     },
     "metadata": {},
     "output_type": "display_data"
    },
    {
     "name": "stdout",
     "output_type": "stream",
     "text": [
      "Number of books before filtering: 3801\n",
      "Number of books after filtering: 3801\n"
     ]
    },
    {
     "data": {
      "application/vnd.jupyter.widget-view+json": {
       "model_id": "d4c172ce585c4bec8b5305eabdf97ef2",
       "version_major": 2,
       "version_minor": 0
      },
      "text/plain": [
       "Map:   0%|          | 0/3801 [00:00<?, ? examples/s]"
      ]
     },
     "metadata": {},
     "output_type": "display_data"
    },
    {
     "data": {
      "application/vnd.jupyter.widget-view+json": {
       "model_id": "2e39a2ca42414581af22854cfd63d97d",
       "version_major": 2,
       "version_minor": 0
      },
      "text/plain": [
       "Creating parquet from Arrow format:   0%|          | 0/4 [00:00<?, ?ba/s]"
      ]
     },
     "metadata": {},
     "output_type": "display_data"
    },
    {
     "name": "stdout",
     "output_type": "stream",
     "text": [
      "Saved to merged_dataset\\books_only\\book1700k-1800k.parquet\n",
      "----------------------------------------\n",
      "----------------------------------------\n",
      "CURRENTLY WORKING ON: 10\n"
     ]
    },
    {
     "data": {
      "application/vnd.jupyter.widget-view+json": {
       "model_id": "99a6f93c5f26464581855b5117b521e5",
       "version_major": 2,
       "version_minor": 0
      },
      "text/plain": [
       "Filter:   0%|          | 0/4418 [00:00<?, ? examples/s]"
      ]
     },
     "metadata": {},
     "output_type": "display_data"
    },
    {
     "name": "stdout",
     "output_type": "stream",
     "text": [
      "Number of books before filtering: 4418\n",
      "Number of books after filtering: 4418\n"
     ]
    },
    {
     "data": {
      "application/vnd.jupyter.widget-view+json": {
       "model_id": "74f00ebc2e37471f8079e74ed49d2c5e",
       "version_major": 2,
       "version_minor": 0
      },
      "text/plain": [
       "Map:   0%|          | 0/4418 [00:00<?, ? examples/s]"
      ]
     },
     "metadata": {},
     "output_type": "display_data"
    },
    {
     "data": {
      "application/vnd.jupyter.widget-view+json": {
       "model_id": "33c55e4d84c347ea83150e9b7a11b041",
       "version_major": 2,
       "version_minor": 0
      },
      "text/plain": [
       "Creating parquet from Arrow format:   0%|          | 0/5 [00:00<?, ?ba/s]"
      ]
     },
     "metadata": {},
     "output_type": "display_data"
    },
    {
     "name": "stdout",
     "output_type": "stream",
     "text": [
      "Saved to merged_dataset\\books_only\\book1800k-1900k.parquet\n",
      "----------------------------------------\n",
      "----------------------------------------\n",
      "CURRENTLY WORKING ON: 11\n"
     ]
    },
    {
     "data": {
      "application/vnd.jupyter.widget-view+json": {
       "model_id": "ea0b5c11b0cd40528f9f65a2dbee8ca4",
       "version_major": 2,
       "version_minor": 0
      },
      "text/plain": [
       "Filter:   0%|          | 0/4783 [00:00<?, ? examples/s]"
      ]
     },
     "metadata": {},
     "output_type": "display_data"
    },
    {
     "name": "stdout",
     "output_type": "stream",
     "text": [
      "Number of books before filtering: 4783\n",
      "Number of books after filtering: 4783\n"
     ]
    },
    {
     "data": {
      "application/vnd.jupyter.widget-view+json": {
       "model_id": "513659dfe73549928064d35c9815a738",
       "version_major": 2,
       "version_minor": 0
      },
      "text/plain": [
       "Map:   0%|          | 0/4783 [00:00<?, ? examples/s]"
      ]
     },
     "metadata": {},
     "output_type": "display_data"
    },
    {
     "data": {
      "application/vnd.jupyter.widget-view+json": {
       "model_id": "2b3938c0411c488a9c5990d43f2933ff",
       "version_major": 2,
       "version_minor": 0
      },
      "text/plain": [
       "Creating parquet from Arrow format:   0%|          | 0/5 [00:00<?, ?ba/s]"
      ]
     },
     "metadata": {},
     "output_type": "display_data"
    },
    {
     "name": "stdout",
     "output_type": "stream",
     "text": [
      "Saved to merged_dataset\\books_only\\book1900k-2000k.parquet\n",
      "----------------------------------------\n",
      "----------------------------------------\n",
      "CURRENTLY WORKING ON: 12\n"
     ]
    },
    {
     "data": {
      "application/vnd.jupyter.widget-view+json": {
       "model_id": "93844340a3c2463eb35b5b71f0332637",
       "version_major": 2,
       "version_minor": 0
      },
      "text/plain": [
       "Filter:   0%|          | 0/38540 [00:00<?, ? examples/s]"
      ]
     },
     "metadata": {},
     "output_type": "display_data"
    },
    {
     "name": "stdout",
     "output_type": "stream",
     "text": [
      "Number of books before filtering: 38540\n",
      "Number of books after filtering: 38540\n"
     ]
    },
    {
     "data": {
      "application/vnd.jupyter.widget-view+json": {
       "model_id": "6d17c3e952ce441ba9155dadac600679",
       "version_major": 2,
       "version_minor": 0
      },
      "text/plain": [
       "Map:   0%|          | 0/38540 [00:00<?, ? examples/s]"
      ]
     },
     "metadata": {},
     "output_type": "display_data"
    },
    {
     "data": {
      "application/vnd.jupyter.widget-view+json": {
       "model_id": "0faf045898c34768af560687f5a32a3c",
       "version_major": 2,
       "version_minor": 0
      },
      "text/plain": [
       "Creating parquet from Arrow format:   0%|          | 0/39 [00:00<?, ?ba/s]"
      ]
     },
     "metadata": {},
     "output_type": "display_data"
    },
    {
     "name": "stdout",
     "output_type": "stream",
     "text": [
      "Saved to merged_dataset\\books_only\\book2000k-3000k.parquet\n",
      "----------------------------------------\n",
      "----------------------------------------\n",
      "CURRENTLY WORKING ON: 13\n"
     ]
    },
    {
     "data": {
      "application/vnd.jupyter.widget-view+json": {
       "model_id": "ee5e8f7fd366436babcf64c69ae420d8",
       "version_major": 2,
       "version_minor": 0
      },
      "text/plain": [
       "Filter:   0%|          | 0/10157 [00:00<?, ? examples/s]"
      ]
     },
     "metadata": {},
     "output_type": "display_data"
    },
    {
     "name": "stdout",
     "output_type": "stream",
     "text": [
      "Number of books before filtering: 10157\n",
      "Number of books after filtering: 10157\n"
     ]
    },
    {
     "data": {
      "application/vnd.jupyter.widget-view+json": {
       "model_id": "07a9f27c18514fb1bedaab94368e372b",
       "version_major": 2,
       "version_minor": 0
      },
      "text/plain": [
       "Map:   0%|          | 0/10157 [00:00<?, ? examples/s]"
      ]
     },
     "metadata": {},
     "output_type": "display_data"
    },
    {
     "data": {
      "application/vnd.jupyter.widget-view+json": {
       "model_id": "d1586f08231f40b09529bd020045ce70",
       "version_major": 2,
       "version_minor": 0
      },
      "text/plain": [
       "Creating parquet from Arrow format:   0%|          | 0/11 [00:00<?, ?ba/s]"
      ]
     },
     "metadata": {},
     "output_type": "display_data"
    },
    {
     "name": "stdout",
     "output_type": "stream",
     "text": [
      "Saved to merged_dataset\\books_only\\book200k-300k.parquet\n",
      "----------------------------------------\n",
      "----------------------------------------\n",
      "CURRENTLY WORKING ON: 14\n"
     ]
    },
    {
     "data": {
      "application/vnd.jupyter.widget-view+json": {
       "model_id": "e9972702c2d84fc9bc5ccaae40fbae4b",
       "version_major": 2,
       "version_minor": 0
      },
      "text/plain": [
       "Filter:   0%|          | 0/21446 [00:00<?, ? examples/s]"
      ]
     },
     "metadata": {},
     "output_type": "display_data"
    },
    {
     "name": "stdout",
     "output_type": "stream",
     "text": [
      "Number of books before filtering: 21446\n",
      "Number of books after filtering: 21446\n"
     ]
    },
    {
     "data": {
      "application/vnd.jupyter.widget-view+json": {
       "model_id": "0e2ea930cdce4b58b157904c36e0ba12",
       "version_major": 2,
       "version_minor": 0
      },
      "text/plain": [
       "Map:   0%|          | 0/21446 [00:00<?, ? examples/s]"
      ]
     },
     "metadata": {},
     "output_type": "display_data"
    },
    {
     "data": {
      "application/vnd.jupyter.widget-view+json": {
       "model_id": "6fa5d892d1914ce098928e084b1cfd26",
       "version_major": 2,
       "version_minor": 0
      },
      "text/plain": [
       "Creating parquet from Arrow format:   0%|          | 0/22 [00:00<?, ?ba/s]"
      ]
     },
     "metadata": {},
     "output_type": "display_data"
    },
    {
     "name": "stdout",
     "output_type": "stream",
     "text": [
      "Saved to merged_dataset\\books_only\\book3000k-4000k.parquet\n",
      "----------------------------------------\n",
      "----------------------------------------\n",
      "CURRENTLY WORKING ON: 15\n"
     ]
    },
    {
     "data": {
      "application/vnd.jupyter.widget-view+json": {
       "model_id": "5221b190876541c09d88afb640ecd59d",
       "version_major": 2,
       "version_minor": 0
      },
      "text/plain": [
       "Filter:   0%|          | 0/18425 [00:00<?, ? examples/s]"
      ]
     },
     "metadata": {},
     "output_type": "display_data"
    },
    {
     "name": "stdout",
     "output_type": "stream",
     "text": [
      "Number of books before filtering: 18425\n",
      "Number of books after filtering: 18425\n"
     ]
    },
    {
     "data": {
      "application/vnd.jupyter.widget-view+json": {
       "model_id": "d77e1b14ee1640e782be49e0c1769597",
       "version_major": 2,
       "version_minor": 0
      },
      "text/plain": [
       "Map:   0%|          | 0/18425 [00:00<?, ? examples/s]"
      ]
     },
     "metadata": {},
     "output_type": "display_data"
    },
    {
     "data": {
      "application/vnd.jupyter.widget-view+json": {
       "model_id": "5f0b1aa3cfbc4cf0a2ee47928c1de982",
       "version_major": 2,
       "version_minor": 0
      },
      "text/plain": [
       "Creating parquet from Arrow format:   0%|          | 0/19 [00:00<?, ?ba/s]"
      ]
     },
     "metadata": {},
     "output_type": "display_data"
    },
    {
     "name": "stdout",
     "output_type": "stream",
     "text": [
      "Saved to merged_dataset\\books_only\\book4000k-5000k.parquet\n",
      "----------------------------------------\n",
      "----------------------------------------\n",
      "CURRENTLY WORKING ON: 16\n"
     ]
    },
    {
     "data": {
      "application/vnd.jupyter.widget-view+json": {
       "model_id": "056d15a517b7433d8bbbef6fc11122f6",
       "version_major": 2,
       "version_minor": 0
      },
      "text/plain": [
       "Filter:   0%|          | 0/8169 [00:00<?, ? examples/s]"
      ]
     },
     "metadata": {},
     "output_type": "display_data"
    },
    {
     "name": "stdout",
     "output_type": "stream",
     "text": [
      "Number of books before filtering: 8169\n",
      "Number of books after filtering: 8169\n"
     ]
    },
    {
     "data": {
      "application/vnd.jupyter.widget-view+json": {
       "model_id": "c1a3e579d3f44d1e8c956c47eded3f5d",
       "version_major": 2,
       "version_minor": 0
      },
      "text/plain": [
       "Map:   0%|          | 0/8169 [00:00<?, ? examples/s]"
      ]
     },
     "metadata": {},
     "output_type": "display_data"
    },
    {
     "data": {
      "application/vnd.jupyter.widget-view+json": {
       "model_id": "068ec03532ff4a2782302aec0fead273",
       "version_major": 2,
       "version_minor": 0
      },
      "text/plain": [
       "Creating parquet from Arrow format:   0%|          | 0/9 [00:00<?, ?ba/s]"
      ]
     },
     "metadata": {},
     "output_type": "display_data"
    },
    {
     "name": "stdout",
     "output_type": "stream",
     "text": [
      "Saved to merged_dataset\\books_only\\book400k-500k.parquet\n",
      "----------------------------------------\n",
      "----------------------------------------\n",
      "CURRENTLY WORKING ON: 17\n"
     ]
    },
    {
     "data": {
      "application/vnd.jupyter.widget-view+json": {
       "model_id": "19fcb2ef36754776ac9c2691e3cfb1c5",
       "version_major": 2,
       "version_minor": 0
      },
      "text/plain": [
       "Filter:   0%|          | 0/8889 [00:00<?, ? examples/s]"
      ]
     },
     "metadata": {},
     "output_type": "display_data"
    },
    {
     "name": "stdout",
     "output_type": "stream",
     "text": [
      "Number of books before filtering: 8889\n",
      "Number of books after filtering: 8889\n"
     ]
    },
    {
     "data": {
      "application/vnd.jupyter.widget-view+json": {
       "model_id": "0e88a19058ae4afab657ea38b2142cfd",
       "version_major": 2,
       "version_minor": 0
      },
      "text/plain": [
       "Map:   0%|          | 0/8889 [00:00<?, ? examples/s]"
      ]
     },
     "metadata": {},
     "output_type": "display_data"
    },
    {
     "data": {
      "application/vnd.jupyter.widget-view+json": {
       "model_id": "ae7cda14482e416a815dbb0a7e0f4acf",
       "version_major": 2,
       "version_minor": 0
      },
      "text/plain": [
       "Creating parquet from Arrow format:   0%|          | 0/9 [00:00<?, ?ba/s]"
      ]
     },
     "metadata": {},
     "output_type": "display_data"
    },
    {
     "name": "stdout",
     "output_type": "stream",
     "text": [
      "Saved to merged_dataset\\books_only\\book500k-600k.parquet\n",
      "----------------------------------------\n",
      "----------------------------------------\n",
      "CURRENTLY WORKING ON: 18\n"
     ]
    },
    {
     "data": {
      "application/vnd.jupyter.widget-view+json": {
       "model_id": "afed8ea807bc4d9795443c6c60f6a5dd",
       "version_major": 2,
       "version_minor": 0
      },
      "text/plain": [
       "Filter:   0%|          | 0/7973 [00:00<?, ? examples/s]"
      ]
     },
     "metadata": {},
     "output_type": "display_data"
    },
    {
     "name": "stdout",
     "output_type": "stream",
     "text": [
      "Number of books before filtering: 7973\n",
      "Number of books after filtering: 7973\n"
     ]
    },
    {
     "data": {
      "application/vnd.jupyter.widget-view+json": {
       "model_id": "63956c1896d24199bb6fd3db2b96eefd",
       "version_major": 2,
       "version_minor": 0
      },
      "text/plain": [
       "Map:   0%|          | 0/7973 [00:00<?, ? examples/s]"
      ]
     },
     "metadata": {},
     "output_type": "display_data"
    },
    {
     "data": {
      "application/vnd.jupyter.widget-view+json": {
       "model_id": "d2d0966d1cd14d079533cb29fa0f6be1",
       "version_major": 2,
       "version_minor": 0
      },
      "text/plain": [
       "Creating parquet from Arrow format:   0%|          | 0/8 [00:00<?, ?ba/s]"
      ]
     },
     "metadata": {},
     "output_type": "display_data"
    },
    {
     "name": "stdout",
     "output_type": "stream",
     "text": [
      "Saved to merged_dataset\\books_only\\book600k-700k.parquet\n",
      "----------------------------------------\n",
      "----------------------------------------\n",
      "CURRENTLY WORKING ON: 19\n"
     ]
    },
    {
     "data": {
      "application/vnd.jupyter.widget-view+json": {
       "model_id": "06f4d4d37a834b74a18fc0b563ae0e4b",
       "version_major": 2,
       "version_minor": 0
      },
      "text/plain": [
       "Filter:   0%|          | 0/7926 [00:00<?, ? examples/s]"
      ]
     },
     "metadata": {},
     "output_type": "display_data"
    },
    {
     "name": "stdout",
     "output_type": "stream",
     "text": [
      "Number of books before filtering: 7926\n",
      "Number of books after filtering: 7926\n"
     ]
    },
    {
     "data": {
      "application/vnd.jupyter.widget-view+json": {
       "model_id": "e9b41d4dc0fc41fd9c01ea24addbcb31",
       "version_major": 2,
       "version_minor": 0
      },
      "text/plain": [
       "Map:   0%|          | 0/7926 [00:00<?, ? examples/s]"
      ]
     },
     "metadata": {},
     "output_type": "display_data"
    },
    {
     "data": {
      "application/vnd.jupyter.widget-view+json": {
       "model_id": "960a254e74cb47458540559883a3bb07",
       "version_major": 2,
       "version_minor": 0
      },
      "text/plain": [
       "Creating parquet from Arrow format:   0%|          | 0/8 [00:00<?, ?ba/s]"
      ]
     },
     "metadata": {},
     "output_type": "display_data"
    },
    {
     "name": "stdout",
     "output_type": "stream",
     "text": [
      "Saved to merged_dataset\\books_only\\book700k-800k.parquet\n",
      "----------------------------------------\n",
      "----------------------------------------\n",
      "CURRENTLY WORKING ON: 20\n"
     ]
    },
    {
     "data": {
      "application/vnd.jupyter.widget-view+json": {
       "model_id": "31c17435f47f4354b5d2ff99536a85dd",
       "version_major": 2,
       "version_minor": 0
      },
      "text/plain": [
       "Filter:   0%|          | 0/9384 [00:00<?, ? examples/s]"
      ]
     },
     "metadata": {},
     "output_type": "display_data"
    },
    {
     "name": "stdout",
     "output_type": "stream",
     "text": [
      "Number of books before filtering: 9384\n",
      "Number of books after filtering: 9384\n"
     ]
    },
    {
     "data": {
      "application/vnd.jupyter.widget-view+json": {
       "model_id": "7855e2236c9c4f779a1baaef4fbcff98",
       "version_major": 2,
       "version_minor": 0
      },
      "text/plain": [
       "Map:   0%|          | 0/9384 [00:00<?, ? examples/s]"
      ]
     },
     "metadata": {},
     "output_type": "display_data"
    },
    {
     "data": {
      "application/vnd.jupyter.widget-view+json": {
       "model_id": "54a9594c0c704a94bb67111e5e17ad1f",
       "version_major": 2,
       "version_minor": 0
      },
      "text/plain": [
       "Creating parquet from Arrow format:   0%|          | 0/10 [00:00<?, ?ba/s]"
      ]
     },
     "metadata": {},
     "output_type": "display_data"
    },
    {
     "name": "stdout",
     "output_type": "stream",
     "text": [
      "Saved to merged_dataset\\books_only\\book800k-900k.parquet\n",
      "----------------------------------------\n",
      "----------------------------------------\n",
      "CURRENTLY WORKING ON: 21\n"
     ]
    },
    {
     "data": {
      "application/vnd.jupyter.widget-view+json": {
       "model_id": "275e239c04364ee6bbdbe064ff580010",
       "version_major": 2,
       "version_minor": 0
      },
      "text/plain": [
       "Filter:   0%|          | 0/7325 [00:00<?, ? examples/s]"
      ]
     },
     "metadata": {},
     "output_type": "display_data"
    },
    {
     "name": "stdout",
     "output_type": "stream",
     "text": [
      "Number of books before filtering: 7325\n",
      "Number of books after filtering: 7325\n"
     ]
    },
    {
     "data": {
      "application/vnd.jupyter.widget-view+json": {
       "model_id": "2692d94b35414edab61702b5a7b64164",
       "version_major": 2,
       "version_minor": 0
      },
      "text/plain": [
       "Map:   0%|          | 0/7325 [00:00<?, ? examples/s]"
      ]
     },
     "metadata": {},
     "output_type": "display_data"
    },
    {
     "data": {
      "application/vnd.jupyter.widget-view+json": {
       "model_id": "e01dc665205d445f85a771e866f909cf",
       "version_major": 2,
       "version_minor": 0
      },
      "text/plain": [
       "Creating parquet from Arrow format:   0%|          | 0/8 [00:00<?, ?ba/s]"
      ]
     },
     "metadata": {},
     "output_type": "display_data"
    },
    {
     "name": "stdout",
     "output_type": "stream",
     "text": [
      "Saved to merged_dataset\\books_only\\book900k-1000k.parquet\n",
      "----------------------------------------\n",
      "----------------------------------------\n"
     ]
    }
   ],
   "source": [
    "start_id = 0\n",
    "for current_id in range(start_id, len(all_books_dir)):\n",
    "    print(f\"CURRENTLY WORKING ON: {current_id}\")\n",
    "    match_one_book_df(all_books_dir[current_id])\n",
    "    print(\"----\"*10)\n",
    "    print(\"----\"*10)"
   ]
  },
  {
   "cell_type": "markdown",
   "metadata": {},
   "source": [
    "## Creating a Single Dataframe"
   ]
  },
  {
   "cell_type": "markdown",
   "metadata": {},
   "source": [
    "We will be creating a single big dataframe for all the books. This may later be cleaned and post-processed to create a final dataset."
   ]
  },
  {
   "cell_type": "code",
   "execution_count": 2,
   "metadata": {},
   "outputs": [
    {
     "data": {
      "text/plain": [
       "22"
      ]
     },
     "execution_count": 2,
     "metadata": {},
     "output_type": "execute_result"
    }
   ],
   "source": [
    "all_books_dir = glob.glob(\"merged_dataset/books_only/book*.parquet\")\n",
    "all_books_dir.sort()\n",
    "len(all_books_dir)"
   ]
  },
  {
   "cell_type": "code",
   "execution_count": 6,
   "metadata": {},
   "outputs": [],
   "source": [
    "rename_map = {\n",
    "    \"pages\": \"num_pages\",\n",
    "    \"star_1\": \"star_rating_1\",\n",
    "    \"star_2\": \"star_rating_2\",\n",
    "    \"star_3\": \"star_rating_3\",\n",
    "    \"star_4\": \"star_rating_4\",\n",
    "    \"star_5\": \"star_rating_5\",\n",
    "    \"rating\": \"average_rating\",\n",
    "    \"book_num\": \"book_number_in_series\",\n",
    "}\n",
    "columns_to_drop = [\n",
    "        'id', 'book_id_1', 'score_1'\n",
    "    ]"
   ]
  },
  {
   "cell_type": "code",
   "execution_count": 7,
   "metadata": {},
   "outputs": [],
   "source": [
    "def read_and_preprocess(file_dir):\n",
    "    df = pd.read_parquet(file_dir)\n",
    "    df = df.drop(columns_to_drop, axis=1)\n",
    "    df[\"publication_date\"] = df[\"publication_date\"].apply(lambda x: x.split(\" \")[0])\n",
    "    df = df.rename(columns=rename_map)\n",
    "    return df"
   ]
  },
  {
   "cell_type": "code",
   "execution_count": 11,
   "metadata": {},
   "outputs": [
    {
     "data": {
      "application/vnd.jupyter.widget-view+json": {
       "model_id": "f25b899b0bc74d6b96a02ae0051cab59",
       "version_major": 2,
       "version_minor": 0
      },
      "text/plain": [
       "Reading and preprocessing books:   0%|          | 0/22 [00:00<?, ?it/s]"
      ]
     },
     "metadata": {},
     "output_type": "display_data"
    },
    {
     "name": "stdout",
     "output_type": "stream",
     "text": [
      "(16146, 18)\n",
      "(6331, 18)\n",
      "(11662, 18)\n",
      "(6467, 18)\n",
      "(6136, 18)\n",
      "(5125, 18)\n",
      "(4700, 18)\n",
      "(3869, 18)\n",
      "(3725, 18)\n",
      "(3801, 18)\n",
      "(4418, 18)\n",
      "(4783, 18)\n",
      "(38540, 18)\n",
      "(10157, 18)\n",
      "(21446, 18)\n",
      "(18425, 18)\n",
      "(8169, 18)\n",
      "(8889, 18)\n",
      "(7973, 18)\n",
      "(7926, 18)\n",
      "(9384, 18)\n",
      "(7325, 18)\n"
     ]
    }
   ],
   "source": [
    "dfs = []\n",
    "for file_path in tqdm(all_books_dir, desc='Reading and preprocessing books'):\n",
    "    df = read_and_preprocess(file_path)\n",
    "    print(df.shape)\n",
    "    dfs.append(df)\n",
    "final_df = pd.concat(dfs, ignore_index=True)"
   ]
  },
  {
   "cell_type": "code",
   "execution_count": 12,
   "metadata": {},
   "outputs": [
    {
     "name": "stdout",
     "output_type": "stream",
     "text": [
      "<class 'pandas.core.frame.DataFrame'>\n",
      "RangeIndex: 215397 entries, 0 to 215396\n",
      "Data columns (total 18 columns):\n",
      " #   Column                 Non-Null Count   Dtype  \n",
      "---  ------                 --------------   -----  \n",
      " 0   num_pages              215397 non-null  int64  \n",
      " 1   star_rating_1          215397 non-null  int64  \n",
      " 2   star_rating_2          215397 non-null  int64  \n",
      " 3   star_rating_3          215397 non-null  int64  \n",
      " 4   star_rating_4          215397 non-null  int64  \n",
      " 5   star_rating_5          215397 non-null  int64  \n",
      " 6   average_rating         215397 non-null  float64\n",
      " 7   total_ratings          215397 non-null  int64  \n",
      " 8   total_reviews          215397 non-null  int64  \n",
      " 9   isbn                   214196 non-null  object \n",
      " 10  publication_date       215397 non-null  object \n",
      " 11  title                  215397 non-null  object \n",
      " 12  series                 215397 non-null  object \n",
      " 13  book_number_in_series  215397 non-null  int64  \n",
      " 14  authors                215397 non-null  object \n",
      " 15  categories             215397 non-null  object \n",
      " 16  format                 215153 non-null  float64\n",
      " 17  lang                   209550 non-null  object \n",
      "dtypes: float64(2), int64(9), object(7)\n",
      "memory usage: 29.6+ MB\n"
     ]
    }
   ],
   "source": [
    "final_df.info()"
   ]
  },
  {
   "cell_type": "markdown",
   "metadata": {},
   "source": [
    "In this case, we get over 210k books!"
   ]
  },
  {
   "cell_type": "code",
   "execution_count": 13,
   "metadata": {},
   "outputs": [],
   "source": [
    "final_df.to_parquet('merged_dataset/books_only/all_books.parquet')"
   ]
  }
 ],
 "metadata": {
  "kernelspec": {
   "display_name": "data-science",
   "language": "python",
   "name": "python3"
  },
  "language_info": {
   "codemirror_mode": {
    "name": "ipython",
    "version": 3
   },
   "file_extension": ".py",
   "mimetype": "text/x-python",
   "name": "python",
   "nbconvert_exporter": "python",
   "pygments_lexer": "ipython3",
   "version": "3.10.12"
  },
  "orig_nbformat": 4
 },
 "nbformat": 4,
 "nbformat_minor": 2
}
