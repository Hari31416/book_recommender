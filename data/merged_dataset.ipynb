{
 "cells": [
  {
   "cell_type": "markdown",
   "metadata": {},
   "source": [
    "# Imports"
   ]
  },
  {
   "cell_type": "code",
   "execution_count": 2,
   "metadata": {},
   "outputs": [],
   "source": [
    "import pandas as pd\n",
    "import numpy as np\n",
    "import os\n",
    "from datasets import load_dataset\n",
    "from datasets import Dataset\n",
    "from tqdm.auto import tqdm\n",
    "import re\n",
    "import glob\n",
    "tqdm.pandas()"
   ]
  },
  {
   "cell_type": "markdown",
   "metadata": {},
   "source": [
    "This notebook will create the final dataset for the project. The book datasets will be merged from source [1], [2] to [3] to give use the final book dataset. The users will be used as is from [3]."
   ]
  },
  {
   "cell_type": "markdown",
   "metadata": {},
   "source": [
    "# Books"
   ]
  },
  {
   "cell_type": "markdown",
   "metadata": {},
   "source": [
    "The folder `2_final` has parquet files having the books from [2] with the matching ID from [1] and [3]. We will use them to create a final book dataset."
   ]
  },
  {
   "cell_type": "markdown",
   "metadata": {},
   "source": [
    "The idea is to use the author and genre information from [1] and the rest of the information from [2] for books. These will then be merged with [3] to give us a final book dataset along with the ratings of the books for different users."
   ]
  },
  {
   "cell_type": "markdown",
   "metadata": {},
   "source": [
    "## Loading Data and Preprocessing"
   ]
  },
  {
   "cell_type": "markdown",
   "metadata": {},
   "source": [
    "### Books from [1]"
   ]
  },
  {
   "cell_type": "markdown",
   "metadata": {},
   "source": [
    "Some preprocessing needs to be done before we can merge the data. This section will deal with it."
   ]
  },
  {
   "cell_type": "code",
   "execution_count": 2,
   "metadata": {},
   "outputs": [],
   "source": [
    "books1 = pd.read_parquet(\"1_2/all_books_with_id.parquet\")\n",
    "books1 = Dataset.from_pandas(books1)"
   ]
  },
  {
   "cell_type": "code",
   "execution_count": 3,
   "metadata": {},
   "outputs": [
    {
     "data": {
      "text/plain": [
       "{'authors': '[2, 3]',\n",
       " 'categories': '[235, 3386]',\n",
       " 'format': 1.0,\n",
       " 'isbn10': '184454737X',\n",
       " 'lang': 'en',\n",
       " 'publication-date': '2009-03-13 00:00:00',\n",
       " 'title': 'Underbelly : The Gangland War',\n",
       " 'authors_': 'John Silvester: Andrew Rule',\n",
       " 'ID': 1}"
      ]
     },
     "execution_count": 3,
     "metadata": {},
     "output_type": "execute_result"
    }
   ],
   "source": [
    "books1[1]"
   ]
  },
  {
   "cell_type": "markdown",
   "metadata": {},
   "source": [
    "Let's remove the following columns, as they will not be used later:\n",
    "- authors_\n",
    "- isbn10 ([3] will be used)\n",
    "- title (will be used from [2])\n",
    "- publication-date (will be used from [2])"
   ]
  },
  {
   "cell_type": "code",
   "execution_count": 4,
   "metadata": {},
   "outputs": [
    {
     "data": {
      "text/plain": [
       "Dataset({\n",
       "    features: ['authors', 'categories', 'format', 'lang', 'ID'],\n",
       "    num_rows: 1109383\n",
       "})"
      ]
     },
     "execution_count": 4,
     "metadata": {},
     "output_type": "execute_result"
    }
   ],
   "source": [
    "columns_to_remove = ['isbn10', 'publication-date', 'title', 'authors_']\n",
    "books1 = books1.remove_columns(columns_to_remove)\n",
    "books1"
   ]
  },
  {
   "cell_type": "code",
   "execution_count": 5,
   "metadata": {},
   "outputs": [
    {
     "data": {
      "text/plain": [
       "{'authors': '[631]',\n",
       " 'categories': '[2978, 2452, 3385]',\n",
       " 'format': 9.0,\n",
       " 'lang': 'en',\n",
       " 'ID': 1213}"
      ]
     },
     "execution_count": 5,
     "metadata": {},
     "output_type": "execute_result"
    }
   ],
   "source": [
    "books1[1213]"
   ]
  },
  {
   "cell_type": "markdown",
   "metadata": {},
   "source": [
    "The `ID` column will be used to match the books. It is a simple integer, so it can be used as the index."
   ]
  },
  {
   "cell_type": "markdown",
   "metadata": {},
   "source": [
    "### Books from [2]"
   ]
  },
  {
   "cell_type": "markdown",
   "metadata": {},
   "source": [
    "Books from [2] are divided into many files. Let's use a sample file to work with."
   ]
  },
  {
   "cell_type": "code",
   "execution_count": 6,
   "metadata": {},
   "outputs": [
    {
     "data": {
      "text/plain": [
       "Dataset({\n",
       "    features: ['id', 'title', 'authors', 'pages', 'pages.1', 'language', 'star_1', 'star_2', 'star_3', 'star_4', 'star_5', 'rating', 'total_ratings', 'total_reviews', 'isbn', 'publication_date', 'title_', 'series', 'book_num', 'book_id', 'score', 'text', 'book_id_3', 'score_3'],\n",
       "    num_rows: 8169\n",
       "})"
      ]
     },
     "execution_count": 6,
     "metadata": {},
     "output_type": "execute_result"
    }
   ],
   "source": [
    "books2 = pd.read_parquet(f\"2_final/book400k-500k.parquet\")\n",
    "books2 = Dataset.from_pandas(books2)\n",
    "books2"
   ]
  },
  {
   "cell_type": "code",
   "execution_count": 7,
   "metadata": {},
   "outputs": [
    {
     "data": {
      "text/plain": [
       "{'id': 400054,\n",
       " 'title': 'One Day in the Desert',\n",
       " 'authors': 'Jean Craighead George',\n",
       " 'pages': 64,\n",
       " 'pages.1': 64,\n",
       " 'language': None,\n",
       " 'star_1': 2,\n",
       " 'star_2': 4,\n",
       " 'star_3': 24,\n",
       " 'star_4': 26,\n",
       " 'star_5': 17,\n",
       " 'rating': 3.71,\n",
       " 'total_ratings': 73,\n",
       " 'total_reviews': 14,\n",
       " 'isbn': '0064420388',\n",
       " 'publication_date': '1996-04-12',\n",
       " 'title_': 'One Day in the Desert',\n",
       " 'series': 'Standalone',\n",
       " 'book_num': 1,\n",
       " 'book_id': 1003093,\n",
       " 'score': 7.20892333984375,\n",
       " 'text': 'One Day in the Desert by Jean Craighead George',\n",
       " 'book_id_3': -1,\n",
       " 'score_3': 16.608840942382812}"
      ]
     },
     "execution_count": 7,
     "metadata": {},
     "output_type": "execute_result"
    }
   ],
   "source": [
    "books2[5]"
   ]
  },
  {
   "cell_type": "markdown",
   "metadata": {},
   "source": [
    "We will be dropping the following columns:\n",
    "- pages.1 (Duplicate of pages)\n",
    "- authors (To be used from [1])\n",
    "- language (most of them are Null, we will use [1] to get the language)\n",
    "- title (the columns title_ and series will be used instead)\n",
    "- text (redundant column)\n",
    "- isbn (will be used from [3])"
   ]
  },
  {
   "cell_type": "code",
   "execution_count": 8,
   "metadata": {},
   "outputs": [
    {
     "data": {
      "text/plain": [
       "Dataset({\n",
       "    features: ['id', 'pages', 'star_1', 'star_2', 'star_3', 'star_4', 'star_5', 'rating', 'total_ratings', 'total_reviews', 'publication_date', 'title_', 'series', 'book_num', 'book_id', 'score', 'book_id_3', 'score_3'],\n",
       "    num_rows: 8169\n",
       "})"
      ]
     },
     "execution_count": 8,
     "metadata": {},
     "output_type": "execute_result"
    }
   ],
   "source": [
    "columns_to_remove = [\"title\", \"pages.1\", \"language\", \"text\", \"authors\", \"isbn\"]\n",
    "books2 = books2.remove_columns(columns_to_remove)\n",
    "books2"
   ]
  },
  {
   "cell_type": "markdown",
   "metadata": {},
   "source": [
    "We will also need to rename some column name:"
   ]
  },
  {
   "cell_type": "code",
   "execution_count": 9,
   "metadata": {},
   "outputs": [],
   "source": [
    "rename_map = {\n",
    "    \"title_\": \"title\",\n",
    "    \"book_id\": \"book_id_1\",\n",
    "    \"score\": \"score_1\",\n",
    "}\n",
    "\n",
    "for key, value in rename_map.items():\n",
    "    books2 = books2.rename_column(key, value)"
   ]
  },
  {
   "cell_type": "code",
   "execution_count": 10,
   "metadata": {},
   "outputs": [
    {
     "data": {
      "text/plain": [
       "Dataset({\n",
       "    features: ['id', 'pages', 'star_1', 'star_2', 'star_3', 'star_4', 'star_5', 'rating', 'total_ratings', 'total_reviews', 'publication_date', 'title', 'series', 'book_num', 'book_id_1', 'score_1', 'book_id_3', 'score_3'],\n",
       "    num_rows: 8169\n",
       "})"
      ]
     },
     "execution_count": 10,
     "metadata": {},
     "output_type": "execute_result"
    }
   ],
   "source": [
    "books2"
   ]
  },
  {
   "cell_type": "markdown",
   "metadata": {},
   "source": [
    "We will create a function for all these steps as we will need to repeat this for many datasets."
   ]
  },
  {
   "cell_type": "code",
   "execution_count": 11,
   "metadata": {},
   "outputs": [],
   "source": [
    "def load_and_preprocess_2(file_dir):\n",
    "    books2 = pd.read_parquet(file_dir)\n",
    "    books2 = Dataset.from_pandas(books2)\n",
    "\n",
    "    columns_to_remove = [\"title\", \"pages.1\", \"language\", \"text\", \"authors\"]\n",
    "    try:\n",
    "        books2 = books2.remove_columns(columns_to_remove)\n",
    "    except ValueError:\n",
    "        columns_to_remove.pop(1)\n",
    "        books2 = books2.remove_columns(columns_to_remove)\n",
    "    rename_map = {\n",
    "        \"title_\": \"title\",\n",
    "        \"book_id\": \"book_id_1\",\n",
    "        \"score\": \"score_1\",\n",
    "    }\n",
    "\n",
    "    for key, value in rename_map.items():\n",
    "        books2 = books2.rename_column(key, value)\n",
    "    return books2"
   ]
  },
  {
   "cell_type": "code",
   "execution_count": 12,
   "metadata": {},
   "outputs": [
    {
     "data": {
      "text/plain": [
       "{'id': 400074,\n",
       " 'pages': 6,\n",
       " 'star_1': 301,\n",
       " 'star_2': 1213,\n",
       " 'star_3': 5878,\n",
       " 'star_4': 10626,\n",
       " 'star_5': 7925,\n",
       " 'rating': 3.95,\n",
       " 'total_ratings': 25943,\n",
       " 'total_reviews': 16,\n",
       " 'isbn': '1572704438',\n",
       " 'publication_date': '2008-01-22',\n",
       " 'title': 'The Thin Man',\n",
       " 'series': 'Standalone',\n",
       " 'book_num': 1,\n",
       " 'book_id_1': 364146,\n",
       " 'score_1': 0.0,\n",
       " 'book_id_3': 20735,\n",
       " 'score_3': 1.9559478759765625}"
      ]
     },
     "execution_count": 12,
     "metadata": {},
     "output_type": "execute_result"
    }
   ],
   "source": [
    "books2 = load_and_preprocess_2(\"2_final/book400k-500k.parquet\")\n",
    "books2[10]"
   ]
  },
  {
   "cell_type": "markdown",
   "metadata": {},
   "source": [
    "### Books from [3]"
   ]
  },
  {
   "cell_type": "code",
   "execution_count": 13,
   "metadata": {},
   "outputs": [],
   "source": [
    "books3 = load_dataset(\"parquet\", data_files=\"3_clean/books_with_id_and_embedding.parquet\")"
   ]
  },
  {
   "cell_type": "code",
   "execution_count": 14,
   "metadata": {},
   "outputs": [
    {
     "data": {
      "text/plain": [
       "Dataset({\n",
       "    features: ['isbn', 'title', 'authors', 'publication_year', 'text', 'text_embedding', 'ID'],\n",
       "    num_rows: 271360\n",
       "})"
      ]
     },
     "execution_count": 14,
     "metadata": {},
     "output_type": "execute_result"
    }
   ],
   "source": [
    "books3 = books3[\"train\"]\n",
    "books3"
   ]
  },
  {
   "cell_type": "markdown",
   "metadata": {},
   "source": [
    "We will be removing the following columns:\n",
    "- text (redundant)\n",
    "- text_embedding (redundant)\n",
    "- authors (to be used from [1])\n",
    "- publication_year"
   ]
  },
  {
   "cell_type": "markdown",
   "metadata": {},
   "source": [
    "We will keep the `title` column for the time being, so that we can verify the final dataset. Later, it will be dropped in favor of `title` from [2]."
   ]
  },
  {
   "cell_type": "code",
   "execution_count": 15,
   "metadata": {},
   "outputs": [
    {
     "data": {
      "text/plain": [
       "Dataset({\n",
       "    features: ['isbn', 'title', 'ID'],\n",
       "    num_rows: 271360\n",
       "})"
      ]
     },
     "execution_count": 15,
     "metadata": {},
     "output_type": "execute_result"
    }
   ],
   "source": [
    "columns_to_remove = [\"text\", \"text_embedding\", \"authors\", \"publication_year\"]\n",
    "books3 = books3.remove_columns(columns_to_remove)\n",
    "books3"
   ]
  },
  {
   "cell_type": "code",
   "execution_count": 16,
   "metadata": {},
   "outputs": [],
   "source": [
    "books3 =books3.rename_column(\"title\", \"title3\")"
   ]
  },
  {
   "cell_type": "code",
   "execution_count": 17,
   "metadata": {},
   "outputs": [
    {
     "data": {
      "text/plain": [
       "{'isbn': '0002005018', 'title3': 'Clara Callan', 'ID': 1}"
      ]
     },
     "execution_count": 17,
     "metadata": {},
     "output_type": "execute_result"
    }
   ],
   "source": [
    "books3[1]"
   ]
  },
  {
   "cell_type": "markdown",
   "metadata": {},
   "source": [
    "The `isbn` column will be used to map with the users."
   ]
  },
  {
   "cell_type": "markdown",
   "metadata": {},
   "source": [
    "## Merging the Dataframes"
   ]
  },
  {
   "cell_type": "markdown",
   "metadata": {},
   "source": [
    "The books from [2] has the IDs for the matching book in [1] and [3]. If no match is found, we have imputed -1. Also, this ID is nothing but the index of the book in the dataframe [1] and [3], if not shuffled. Using these, the next section will deal with merging the all three dataframes into one."
   ]
  },
  {
   "cell_type": "markdown",
   "metadata": {},
   "source": [
    "We will start by filtering out only those rows in [2] where a match has been found for both [1] and [3]:"
   ]
  },
  {
   "cell_type": "code",
   "execution_count": 18,
   "metadata": {},
   "outputs": [],
   "source": [
    "def filter_function(row):\n",
    "    id_1 = row[\"book_id_1\"]\n",
    "    id_3 = row[\"book_id_3\"]\n",
    "    if id_1 == -1 or id_3 == -1:\n",
    "        return False\n",
    "    return True"
   ]
  },
  {
   "cell_type": "code",
   "execution_count": 19,
   "metadata": {},
   "outputs": [
    {
     "data": {
      "application/vnd.jupyter.widget-view+json": {
       "model_id": "6044603319114b1c9bde14310f041c6f",
       "version_major": 2,
       "version_minor": 0
      },
      "text/plain": [
       "Filter:   0%|          | 0/8169 [00:00<?, ? examples/s]"
      ]
     },
     "metadata": {},
     "output_type": "display_data"
    },
    {
     "name": "stdout",
     "output_type": "stream",
     "text": [
      "Number of books before filtering: 8169\n",
      "Number of books after filtering: 2497\n"
     ]
    }
   ],
   "source": [
    "books2_filtered = books2.filter(filter_function)\n",
    "print(f\"Number of books before filtering: {len(books2)}\")\n",
    "print(f\"Number of books after filtering: {len(books2_filtered)}\")"
   ]
  },
  {
   "cell_type": "markdown",
   "metadata": {},
   "source": [
    "It seems the just about 30% books are matching in both the datasets. We have to make work with this data only."
   ]
  },
  {
   "cell_type": "code",
   "execution_count": 20,
   "metadata": {},
   "outputs": [
    {
     "data": {
      "text/plain": [
       "{'id': 439490,\n",
       " 'pages': 670,\n",
       " 'star_1': 41593,\n",
       " 'star_2': 74409,\n",
       " 'star_3': 248277,\n",
       " 'star_4': 481402,\n",
       " 'star_5': 712095,\n",
       " 'rating': 4.12,\n",
       " 'total_ratings': 1557776,\n",
       " 'total_reviews': 4,\n",
       " 'isbn': '8497593456',\n",
       " 'publication_date': '2003-02-28',\n",
       " 'title': 'Jane Eyre',\n",
       " 'series': 'Standalone',\n",
       " 'book_num': 1,\n",
       " 'book_id_1': 255627,\n",
       " 'score_1': 0.0,\n",
       " 'book_id_3': 3323,\n",
       " 'score_3': 0.0}"
      ]
     },
     "execution_count": 20,
     "metadata": {},
     "output_type": "execute_result"
    }
   ],
   "source": [
    "sample_book_id = 1212\n",
    "book2_detail = books2_filtered[sample_book_id]\n",
    "book2_detail"
   ]
  },
  {
   "cell_type": "code",
   "execution_count": 21,
   "metadata": {},
   "outputs": [],
   "source": [
    "def match_book(row):\n",
    "    book1_id = row[\"book_id_1\"]\n",
    "    book3_id = row[\"book_id_3\"]\n",
    "    info_from_book1 = books1[book1_id]\n",
    "    info_from_book3 = books3[book3_id]\n",
    "    info_from_book1.pop(\"ID\")\n",
    "    info_from_book3.pop(\"ID\")\n",
    "    final_info = {**row, **info_from_book1, **info_from_book3}\n",
    "    return final_info"
   ]
  },
  {
   "cell_type": "code",
   "execution_count": 22,
   "metadata": {},
   "outputs": [
    {
     "data": {
      "application/vnd.jupyter.widget-view+json": {
       "model_id": "1310f3000cf1476694237ced5ddc06e8",
       "version_major": 2,
       "version_minor": 0
      },
      "text/plain": [
       "Map:   0%|          | 0/2497 [00:00<?, ? examples/s]"
      ]
     },
     "metadata": {},
     "output_type": "display_data"
    }
   ],
   "source": [
    "books2_matched = books2_filtered.map(match_book)"
   ]
  },
  {
   "cell_type": "code",
   "execution_count": 23,
   "metadata": {},
   "outputs": [
    {
     "data": {
      "text/html": [
       "<div>\n",
       "<style scoped>\n",
       "    .dataframe tbody tr th:only-of-type {\n",
       "        vertical-align: middle;\n",
       "    }\n",
       "\n",
       "    .dataframe tbody tr th {\n",
       "        vertical-align: top;\n",
       "    }\n",
       "\n",
       "    .dataframe thead th {\n",
       "        text-align: right;\n",
       "    }\n",
       "</style>\n",
       "<table border=\"1\" class=\"dataframe\">\n",
       "  <thead>\n",
       "    <tr style=\"text-align: right;\">\n",
       "      <th></th>\n",
       "      <th>0</th>\n",
       "      <th>1</th>\n",
       "      <th>2</th>\n",
       "      <th>3</th>\n",
       "      <th>4</th>\n",
       "    </tr>\n",
       "  </thead>\n",
       "  <tbody>\n",
       "    <tr>\n",
       "      <th>id</th>\n",
       "      <td>400019</td>\n",
       "      <td>400074</td>\n",
       "      <td>400082</td>\n",
       "      <td>400083</td>\n",
       "      <td>400096</td>\n",
       "    </tr>\n",
       "    <tr>\n",
       "      <th>pages</th>\n",
       "      <td>304</td>\n",
       "      <td>6</td>\n",
       "      <td>192</td>\n",
       "      <td>111</td>\n",
       "      <td>92</td>\n",
       "    </tr>\n",
       "    <tr>\n",
       "      <th>star_1</th>\n",
       "      <td>5</td>\n",
       "      <td>301</td>\n",
       "      <td>43</td>\n",
       "      <td>30</td>\n",
       "      <td>117</td>\n",
       "    </tr>\n",
       "    <tr>\n",
       "      <th>star_2</th>\n",
       "      <td>16</td>\n",
       "      <td>1213</td>\n",
       "      <td>100</td>\n",
       "      <td>71</td>\n",
       "      <td>313</td>\n",
       "    </tr>\n",
       "    <tr>\n",
       "      <th>star_3</th>\n",
       "      <td>106</td>\n",
       "      <td>5878</td>\n",
       "      <td>309</td>\n",
       "      <td>284</td>\n",
       "      <td>1233</td>\n",
       "    </tr>\n",
       "    <tr>\n",
       "      <th>star_4</th>\n",
       "      <td>128</td>\n",
       "      <td>10626</td>\n",
       "      <td>406</td>\n",
       "      <td>457</td>\n",
       "      <td>1692</td>\n",
       "    </tr>\n",
       "    <tr>\n",
       "      <th>star_5</th>\n",
       "      <td>86</td>\n",
       "      <td>7925</td>\n",
       "      <td>381</td>\n",
       "      <td>429</td>\n",
       "      <td>1393</td>\n",
       "    </tr>\n",
       "    <tr>\n",
       "      <th>rating</th>\n",
       "      <td>3.8</td>\n",
       "      <td>3.95</td>\n",
       "      <td>3.79</td>\n",
       "      <td>3.93</td>\n",
       "      <td>3.83</td>\n",
       "    </tr>\n",
       "    <tr>\n",
       "      <th>total_ratings</th>\n",
       "      <td>341</td>\n",
       "      <td>25943</td>\n",
       "      <td>1239</td>\n",
       "      <td>1271</td>\n",
       "      <td>4748</td>\n",
       "    </tr>\n",
       "    <tr>\n",
       "      <th>total_reviews</th>\n",
       "      <td>54</td>\n",
       "      <td>16</td>\n",
       "      <td>12</td>\n",
       "      <td>9</td>\n",
       "      <td>9</td>\n",
       "    </tr>\n",
       "    <tr>\n",
       "      <th>isbn</th>\n",
       "      <td>078686768X</td>\n",
       "      <td>0394717740</td>\n",
       "      <td>0152928782</td>\n",
       "      <td>0385729499</td>\n",
       "      <td>0440219361</td>\n",
       "    </tr>\n",
       "    <tr>\n",
       "      <th>publication_date</th>\n",
       "      <td>2003-08-20</td>\n",
       "      <td>2008-01-22</td>\n",
       "      <td>1994-03-30</td>\n",
       "      <td>2003-01-14</td>\n",
       "      <td>1993-01-01</td>\n",
       "    </tr>\n",
       "    <tr>\n",
       "      <th>title</th>\n",
       "      <td>Girls Will Be Girls: Raising Confident and Cou...</td>\n",
       "      <td>The Thin Man</td>\n",
       "      <td>The Car</td>\n",
       "      <td>How Angel Peterson Got His Name</td>\n",
       "      <td>Nightjohn</td>\n",
       "    </tr>\n",
       "    <tr>\n",
       "      <th>series</th>\n",
       "      <td>Standalone</td>\n",
       "      <td>Standalone</td>\n",
       "      <td>Standalone</td>\n",
       "      <td>Standalone</td>\n",
       "      <td>Standalone</td>\n",
       "    </tr>\n",
       "    <tr>\n",
       "      <th>book_num</th>\n",
       "      <td>1</td>\n",
       "      <td>1</td>\n",
       "      <td>1</td>\n",
       "      <td>1</td>\n",
       "      <td>1</td>\n",
       "    </tr>\n",
       "    <tr>\n",
       "      <th>book_id_1</th>\n",
       "      <td>460389</td>\n",
       "      <td>364146</td>\n",
       "      <td>43954</td>\n",
       "      <td>997309</td>\n",
       "      <td>1012665</td>\n",
       "    </tr>\n",
       "    <tr>\n",
       "      <th>score_1</th>\n",
       "      <td>0.000065</td>\n",
       "      <td>0.0</td>\n",
       "      <td>0.000031</td>\n",
       "      <td>1.366302</td>\n",
       "      <td>1.033901</td>\n",
       "    </tr>\n",
       "    <tr>\n",
       "      <th>book_id_3</th>\n",
       "      <td>77823</td>\n",
       "      <td>20735</td>\n",
       "      <td>268377</td>\n",
       "      <td>246668</td>\n",
       "      <td>114434</td>\n",
       "    </tr>\n",
       "    <tr>\n",
       "      <th>score_3</th>\n",
       "      <td>0.0</td>\n",
       "      <td>1.955948</td>\n",
       "      <td>0.000008</td>\n",
       "      <td>0.000015</td>\n",
       "      <td>0.0</td>\n",
       "    </tr>\n",
       "    <tr>\n",
       "      <th>authors</th>\n",
       "      <td>[45039]</td>\n",
       "      <td>[16274]</td>\n",
       "      <td>[5545]</td>\n",
       "      <td>[5545]</td>\n",
       "      <td>[614458]</td>\n",
       "    </tr>\n",
       "    <tr>\n",
       "      <th>categories</th>\n",
       "      <td>[684, 696, 2791, 2797, 2800]</td>\n",
       "      <td>[336, 2617]</td>\n",
       "      <td>[2597]</td>\n",
       "      <td>[334, 2491, 2518, 2521, 2538, 2543]</td>\n",
       "      <td>[2504]</td>\n",
       "    </tr>\n",
       "    <tr>\n",
       "      <th>format</th>\n",
       "      <td>1.0</td>\n",
       "      <td>1.0</td>\n",
       "      <td>1.0</td>\n",
       "      <td>1.0</td>\n",
       "      <td>1.0</td>\n",
       "    </tr>\n",
       "    <tr>\n",
       "      <th>lang</th>\n",
       "      <td>en</td>\n",
       "      <td>en</td>\n",
       "      <td>en</td>\n",
       "      <td>en</td>\n",
       "      <td>en</td>\n",
       "    </tr>\n",
       "    <tr>\n",
       "      <th>title3</th>\n",
       "      <td>Girls Will Be Girls: Raising Confident and Cou...</td>\n",
       "      <td>Thin Man</td>\n",
       "      <td>The Car</td>\n",
       "      <td>How Angel Peterson Got His Name</td>\n",
       "      <td>Nightjohn</td>\n",
       "    </tr>\n",
       "  </tbody>\n",
       "</table>\n",
       "</div>"
      ],
      "text/plain": [
       "                                                                  0  \\\n",
       "id                                                           400019   \n",
       "pages                                                           304   \n",
       "star_1                                                            5   \n",
       "star_2                                                           16   \n",
       "star_3                                                          106   \n",
       "star_4                                                          128   \n",
       "star_5                                                           86   \n",
       "rating                                                          3.8   \n",
       "total_ratings                                                   341   \n",
       "total_reviews                                                    54   \n",
       "isbn                                                     078686768X   \n",
       "publication_date                                         2003-08-20   \n",
       "title             Girls Will Be Girls: Raising Confident and Cou...   \n",
       "series                                                   Standalone   \n",
       "book_num                                                          1   \n",
       "book_id_1                                                    460389   \n",
       "score_1                                                    0.000065   \n",
       "book_id_3                                                     77823   \n",
       "score_3                                                         0.0   \n",
       "authors                                                     [45039]   \n",
       "categories                             [684, 696, 2791, 2797, 2800]   \n",
       "format                                                          1.0   \n",
       "lang                                                             en   \n",
       "title3            Girls Will Be Girls: Raising Confident and Cou...   \n",
       "\n",
       "                             1           2  \\\n",
       "id                      400074      400082   \n",
       "pages                        6         192   \n",
       "star_1                     301          43   \n",
       "star_2                    1213         100   \n",
       "star_3                    5878         309   \n",
       "star_4                   10626         406   \n",
       "star_5                    7925         381   \n",
       "rating                    3.95        3.79   \n",
       "total_ratings            25943        1239   \n",
       "total_reviews               16          12   \n",
       "isbn                0394717740  0152928782   \n",
       "publication_date    2008-01-22  1994-03-30   \n",
       "title             The Thin Man     The Car   \n",
       "series              Standalone  Standalone   \n",
       "book_num                     1           1   \n",
       "book_id_1               364146       43954   \n",
       "score_1                    0.0    0.000031   \n",
       "book_id_3                20735      268377   \n",
       "score_3               1.955948    0.000008   \n",
       "authors                [16274]      [5545]   \n",
       "categories         [336, 2617]      [2597]   \n",
       "format                     1.0         1.0   \n",
       "lang                        en          en   \n",
       "title3                Thin Man     The Car   \n",
       "\n",
       "                                                    3           4  \n",
       "id                                             400083      400096  \n",
       "pages                                             111          92  \n",
       "star_1                                             30         117  \n",
       "star_2                                             71         313  \n",
       "star_3                                            284        1233  \n",
       "star_4                                            457        1692  \n",
       "star_5                                            429        1393  \n",
       "rating                                           3.93        3.83  \n",
       "total_ratings                                    1271        4748  \n",
       "total_reviews                                       9           9  \n",
       "isbn                                       0385729499  0440219361  \n",
       "publication_date                           2003-01-14  1993-01-01  \n",
       "title                 How Angel Peterson Got His Name   Nightjohn  \n",
       "series                                     Standalone  Standalone  \n",
       "book_num                                            1           1  \n",
       "book_id_1                                      997309     1012665  \n",
       "score_1                                      1.366302    1.033901  \n",
       "book_id_3                                      246668      114434  \n",
       "score_3                                      0.000015         0.0  \n",
       "authors                                        [5545]    [614458]  \n",
       "categories        [334, 2491, 2518, 2521, 2538, 2543]      [2504]  \n",
       "format                                            1.0         1.0  \n",
       "lang                                               en          en  \n",
       "title3                How Angel Peterson Got His Name   Nightjohn  "
      ]
     },
     "execution_count": 23,
     "metadata": {},
     "output_type": "execute_result"
    }
   ],
   "source": [
    "pd.DataFrame(books2_matched[:5]).T"
   ]
  },
  {
   "cell_type": "markdown",
   "metadata": {},
   "source": [
    "This is working as intended. Let's make a final function to be used for each dataframe from [2]."
   ]
  },
  {
   "cell_type": "code",
   "execution_count": 24,
   "metadata": {},
   "outputs": [],
   "source": [
    "to_save_dir = \"merged_dataset\""
   ]
  },
  {
   "cell_type": "code",
   "execution_count": 25,
   "metadata": {},
   "outputs": [],
   "source": [
    "def match_one_book_df(file_dir):\n",
    "    books2 = load_and_preprocess_2(file_dir)\n",
    "    books2_filtered = books2.filter(filter_function)\n",
    "    print(f\"Number of books before filtering: {len(books2)}\")\n",
    "    print(f\"Number of books after filtering: {len(books2_filtered)}\")\n",
    "    books2_matched = books2_filtered.map(match_book)\n",
    "    file_name = file_dir.split(os.path.sep)[-1]\n",
    "    file_name = os.path.join(to_save_dir, file_name)\n",
    "    books2_matched.to_parquet(file_name)\n",
    "    print(f\"Saved to {file_name}\")"
   ]
  },
  {
   "cell_type": "code",
   "execution_count": 26,
   "metadata": {},
   "outputs": [
    {
     "data": {
      "text/plain": [
       "22"
      ]
     },
     "execution_count": 26,
     "metadata": {},
     "output_type": "execute_result"
    }
   ],
   "source": [
    "all_books_dir = glob.glob(\"2_final/book*.parquet\")\n",
    "all_books_dir.sort()\n",
    "len(all_books_dir)"
   ]
  },
  {
   "cell_type": "code",
   "execution_count": 27,
   "metadata": {},
   "outputs": [
    {
     "name": "stdout",
     "output_type": "stream",
     "text": [
      "CURRENTLY WORKING ON: 0\n"
     ]
    },
    {
     "data": {
      "application/vnd.jupyter.widget-view+json": {
       "model_id": "363847f972e245f4b504602f1ac980fa",
       "version_major": 2,
       "version_minor": 0
      },
      "text/plain": [
       "Filter:   0%|          | 0/16146 [00:00<?, ? examples/s]"
      ]
     },
     "metadata": {},
     "output_type": "display_data"
    },
    {
     "name": "stdout",
     "output_type": "stream",
     "text": [
      "Number of books before filtering: 16146\n",
      "Number of books after filtering: 7718\n"
     ]
    },
    {
     "data": {
      "application/vnd.jupyter.widget-view+json": {
       "model_id": "ace805fc0cf844b8b41a582d7eeca630",
       "version_major": 2,
       "version_minor": 0
      },
      "text/plain": [
       "Map:   0%|          | 0/7718 [00:00<?, ? examples/s]"
      ]
     },
     "metadata": {},
     "output_type": "display_data"
    },
    {
     "data": {
      "application/vnd.jupyter.widget-view+json": {
       "model_id": "8f618c888e264a2f8ae1a7dab171fc1e",
       "version_major": 2,
       "version_minor": 0
      },
      "text/plain": [
       "Creating parquet from Arrow format:   0%|          | 0/8 [00:00<?, ?ba/s]"
      ]
     },
     "metadata": {},
     "output_type": "display_data"
    },
    {
     "name": "stdout",
     "output_type": "stream",
     "text": [
      "Saved to merged_dataset\\book1-100k.parquet\n",
      "----------------------------------------\n",
      "----------------------------------------\n",
      "CURRENTLY WORKING ON: 1\n"
     ]
    },
    {
     "data": {
      "application/vnd.jupyter.widget-view+json": {
       "model_id": "72532d5dbffc46579e88f04400b2abb9",
       "version_major": 2,
       "version_minor": 0
      },
      "text/plain": [
       "Filter:   0%|          | 0/6331 [00:00<?, ? examples/s]"
      ]
     },
     "metadata": {},
     "output_type": "display_data"
    },
    {
     "name": "stdout",
     "output_type": "stream",
     "text": [
      "Number of books before filtering: 6331\n",
      "Number of books after filtering: 2165\n"
     ]
    },
    {
     "data": {
      "application/vnd.jupyter.widget-view+json": {
       "model_id": "fe0e5e85e74d4bc28ae311849dd9acf2",
       "version_major": 2,
       "version_minor": 0
      },
      "text/plain": [
       "Map:   0%|          | 0/2165 [00:00<?, ? examples/s]"
      ]
     },
     "metadata": {},
     "output_type": "display_data"
    },
    {
     "data": {
      "application/vnd.jupyter.widget-view+json": {
       "model_id": "5b6cc1d3635d4e99b970886eb5daa55f",
       "version_major": 2,
       "version_minor": 0
      },
      "text/plain": [
       "Creating parquet from Arrow format:   0%|          | 0/3 [00:00<?, ?ba/s]"
      ]
     },
     "metadata": {},
     "output_type": "display_data"
    },
    {
     "name": "stdout",
     "output_type": "stream",
     "text": [
      "Saved to merged_dataset\\book1000k-1100k.parquet\n",
      "----------------------------------------\n",
      "----------------------------------------\n",
      "CURRENTLY WORKING ON: 2\n"
     ]
    },
    {
     "data": {
      "application/vnd.jupyter.widget-view+json": {
       "model_id": "c62013a9e55c403cb800e13f0ad2e93a",
       "version_major": 2,
       "version_minor": 0
      },
      "text/plain": [
       "Filter:   0%|          | 0/11662 [00:00<?, ? examples/s]"
      ]
     },
     "metadata": {},
     "output_type": "display_data"
    },
    {
     "name": "stdout",
     "output_type": "stream",
     "text": [
      "Number of books before filtering: 11662\n",
      "Number of books after filtering: 4198\n"
     ]
    },
    {
     "data": {
      "application/vnd.jupyter.widget-view+json": {
       "model_id": "95ca1cb328e946b789d015b52ddc540d",
       "version_major": 2,
       "version_minor": 0
      },
      "text/plain": [
       "Map:   0%|          | 0/4198 [00:00<?, ? examples/s]"
      ]
     },
     "metadata": {},
     "output_type": "display_data"
    },
    {
     "data": {
      "application/vnd.jupyter.widget-view+json": {
       "model_id": "3bb5ebb7a8d84d7cad2dcefd4d440d5b",
       "version_major": 2,
       "version_minor": 0
      },
      "text/plain": [
       "Creating parquet from Arrow format:   0%|          | 0/5 [00:00<?, ?ba/s]"
      ]
     },
     "metadata": {},
     "output_type": "display_data"
    },
    {
     "name": "stdout",
     "output_type": "stream",
     "text": [
      "Saved to merged_dataset\\book100k-200k.parquet\n",
      "----------------------------------------\n",
      "----------------------------------------\n",
      "CURRENTLY WORKING ON: 3\n"
     ]
    },
    {
     "data": {
      "application/vnd.jupyter.widget-view+json": {
       "model_id": "1af479920a82479890685e90332c56a0",
       "version_major": 2,
       "version_minor": 0
      },
      "text/plain": [
       "Filter:   0%|          | 0/6467 [00:00<?, ? examples/s]"
      ]
     },
     "metadata": {},
     "output_type": "display_data"
    },
    {
     "name": "stdout",
     "output_type": "stream",
     "text": [
      "Number of books before filtering: 6467\n",
      "Number of books after filtering: 2173\n"
     ]
    },
    {
     "data": {
      "application/vnd.jupyter.widget-view+json": {
       "model_id": "d10e3832b74041a4b21498342a52d9fb",
       "version_major": 2,
       "version_minor": 0
      },
      "text/plain": [
       "Map:   0%|          | 0/2173 [00:00<?, ? examples/s]"
      ]
     },
     "metadata": {},
     "output_type": "display_data"
    },
    {
     "data": {
      "application/vnd.jupyter.widget-view+json": {
       "model_id": "e1a3c44892ec4d7f8fa444141f3bd95d",
       "version_major": 2,
       "version_minor": 0
      },
      "text/plain": [
       "Creating parquet from Arrow format:   0%|          | 0/3 [00:00<?, ?ba/s]"
      ]
     },
     "metadata": {},
     "output_type": "display_data"
    },
    {
     "name": "stdout",
     "output_type": "stream",
     "text": [
      "Saved to merged_dataset\\book1100k-1200k.parquet\n",
      "----------------------------------------\n",
      "----------------------------------------\n",
      "CURRENTLY WORKING ON: 4\n"
     ]
    },
    {
     "data": {
      "application/vnd.jupyter.widget-view+json": {
       "model_id": "55ee751244b4456c8b2040c6e8bc7dc9",
       "version_major": 2,
       "version_minor": 0
      },
      "text/plain": [
       "Filter:   0%|          | 0/6136 [00:00<?, ? examples/s]"
      ]
     },
     "metadata": {},
     "output_type": "display_data"
    },
    {
     "name": "stdout",
     "output_type": "stream",
     "text": [
      "Number of books before filtering: 6136\n",
      "Number of books after filtering: 1900\n"
     ]
    },
    {
     "data": {
      "application/vnd.jupyter.widget-view+json": {
       "model_id": "1eef66f5f2f342dfa9e444cb6af6f2de",
       "version_major": 2,
       "version_minor": 0
      },
      "text/plain": [
       "Map:   0%|          | 0/1900 [00:00<?, ? examples/s]"
      ]
     },
     "metadata": {},
     "output_type": "display_data"
    },
    {
     "data": {
      "application/vnd.jupyter.widget-view+json": {
       "model_id": "51b6122c649f4bd3bc98a082404b9f3c",
       "version_major": 2,
       "version_minor": 0
      },
      "text/plain": [
       "Creating parquet from Arrow format:   0%|          | 0/2 [00:00<?, ?ba/s]"
      ]
     },
     "metadata": {},
     "output_type": "display_data"
    },
    {
     "name": "stdout",
     "output_type": "stream",
     "text": [
      "Saved to merged_dataset\\book1200k-1300k.parquet\n",
      "----------------------------------------\n",
      "----------------------------------------\n",
      "CURRENTLY WORKING ON: 5\n"
     ]
    },
    {
     "data": {
      "application/vnd.jupyter.widget-view+json": {
       "model_id": "74bb1910025b4ec785dd4eaa69dd1519",
       "version_major": 2,
       "version_minor": 0
      },
      "text/plain": [
       "Filter:   0%|          | 0/5125 [00:00<?, ? examples/s]"
      ]
     },
     "metadata": {},
     "output_type": "display_data"
    },
    {
     "name": "stdout",
     "output_type": "stream",
     "text": [
      "Number of books before filtering: 5125\n",
      "Number of books after filtering: 1568\n"
     ]
    },
    {
     "data": {
      "application/vnd.jupyter.widget-view+json": {
       "model_id": "93d353f75c9f4595bd42687f910aa32f",
       "version_major": 2,
       "version_minor": 0
      },
      "text/plain": [
       "Map:   0%|          | 0/1568 [00:00<?, ? examples/s]"
      ]
     },
     "metadata": {},
     "output_type": "display_data"
    },
    {
     "data": {
      "application/vnd.jupyter.widget-view+json": {
       "model_id": "31900648e9df4597b74ec6ce59d2d764",
       "version_major": 2,
       "version_minor": 0
      },
      "text/plain": [
       "Creating parquet from Arrow format:   0%|          | 0/2 [00:00<?, ?ba/s]"
      ]
     },
     "metadata": {},
     "output_type": "display_data"
    },
    {
     "name": "stdout",
     "output_type": "stream",
     "text": [
      "Saved to merged_dataset\\book1300k-1400k.parquet\n",
      "----------------------------------------\n",
      "----------------------------------------\n",
      "CURRENTLY WORKING ON: 6\n"
     ]
    },
    {
     "data": {
      "application/vnd.jupyter.widget-view+json": {
       "model_id": "ed13bd12976046f099684639ccced6cd",
       "version_major": 2,
       "version_minor": 0
      },
      "text/plain": [
       "Filter:   0%|          | 0/4700 [00:00<?, ? examples/s]"
      ]
     },
     "metadata": {},
     "output_type": "display_data"
    },
    {
     "name": "stdout",
     "output_type": "stream",
     "text": [
      "Number of books before filtering: 4700\n",
      "Number of books after filtering: 1521\n"
     ]
    },
    {
     "data": {
      "application/vnd.jupyter.widget-view+json": {
       "model_id": "9780c0b6f44240e097bd3489563d0638",
       "version_major": 2,
       "version_minor": 0
      },
      "text/plain": [
       "Map:   0%|          | 0/1521 [00:00<?, ? examples/s]"
      ]
     },
     "metadata": {},
     "output_type": "display_data"
    },
    {
     "data": {
      "application/vnd.jupyter.widget-view+json": {
       "model_id": "60e58f39d0954458a13228020387db18",
       "version_major": 2,
       "version_minor": 0
      },
      "text/plain": [
       "Creating parquet from Arrow format:   0%|          | 0/2 [00:00<?, ?ba/s]"
      ]
     },
     "metadata": {},
     "output_type": "display_data"
    },
    {
     "name": "stdout",
     "output_type": "stream",
     "text": [
      "Saved to merged_dataset\\book1400k-1500k.parquet\n",
      "----------------------------------------\n",
      "----------------------------------------\n",
      "CURRENTLY WORKING ON: 7\n"
     ]
    },
    {
     "data": {
      "application/vnd.jupyter.widget-view+json": {
       "model_id": "c27c3d8eca544789b523f91bd151b088",
       "version_major": 2,
       "version_minor": 0
      },
      "text/plain": [
       "Filter:   0%|          | 0/3869 [00:00<?, ? examples/s]"
      ]
     },
     "metadata": {},
     "output_type": "display_data"
    },
    {
     "name": "stdout",
     "output_type": "stream",
     "text": [
      "Number of books before filtering: 3869\n",
      "Number of books after filtering: 1049\n"
     ]
    },
    {
     "data": {
      "application/vnd.jupyter.widget-view+json": {
       "model_id": "33e9a87768cb42f78fe77c248822678a",
       "version_major": 2,
       "version_minor": 0
      },
      "text/plain": [
       "Map:   0%|          | 0/1049 [00:00<?, ? examples/s]"
      ]
     },
     "metadata": {},
     "output_type": "display_data"
    },
    {
     "data": {
      "application/vnd.jupyter.widget-view+json": {
       "model_id": "de909a125b2f4df4b44ba0101d5f6650",
       "version_major": 2,
       "version_minor": 0
      },
      "text/plain": [
       "Creating parquet from Arrow format:   0%|          | 0/2 [00:00<?, ?ba/s]"
      ]
     },
     "metadata": {},
     "output_type": "display_data"
    },
    {
     "name": "stdout",
     "output_type": "stream",
     "text": [
      "Saved to merged_dataset\\book1500k-1600k.parquet\n",
      "----------------------------------------\n",
      "----------------------------------------\n",
      "CURRENTLY WORKING ON: 8\n"
     ]
    },
    {
     "data": {
      "application/vnd.jupyter.widget-view+json": {
       "model_id": "90f92921b2c74202a9406f3d24f63e8e",
       "version_major": 2,
       "version_minor": 0
      },
      "text/plain": [
       "Filter:   0%|          | 0/3725 [00:00<?, ? examples/s]"
      ]
     },
     "metadata": {},
     "output_type": "display_data"
    },
    {
     "name": "stdout",
     "output_type": "stream",
     "text": [
      "Number of books before filtering: 3725\n",
      "Number of books after filtering: 1019\n"
     ]
    },
    {
     "data": {
      "application/vnd.jupyter.widget-view+json": {
       "model_id": "195930cbd0544fe0bd55fb92f8b59581",
       "version_major": 2,
       "version_minor": 0
      },
      "text/plain": [
       "Map:   0%|          | 0/1019 [00:00<?, ? examples/s]"
      ]
     },
     "metadata": {},
     "output_type": "display_data"
    },
    {
     "data": {
      "application/vnd.jupyter.widget-view+json": {
       "model_id": "69ec7a80bdb64e50885f6956da384bd8",
       "version_major": 2,
       "version_minor": 0
      },
      "text/plain": [
       "Creating parquet from Arrow format:   0%|          | 0/2 [00:00<?, ?ba/s]"
      ]
     },
     "metadata": {},
     "output_type": "display_data"
    },
    {
     "name": "stdout",
     "output_type": "stream",
     "text": [
      "Saved to merged_dataset\\book1600k-1700k.parquet\n",
      "----------------------------------------\n",
      "----------------------------------------\n",
      "CURRENTLY WORKING ON: 9\n"
     ]
    },
    {
     "data": {
      "application/vnd.jupyter.widget-view+json": {
       "model_id": "0ca119b1d9e8468f9f1a77e82d2a8742",
       "version_major": 2,
       "version_minor": 0
      },
      "text/plain": [
       "Filter:   0%|          | 0/3801 [00:00<?, ? examples/s]"
      ]
     },
     "metadata": {},
     "output_type": "display_data"
    },
    {
     "name": "stdout",
     "output_type": "stream",
     "text": [
      "Number of books before filtering: 3801\n",
      "Number of books after filtering: 1087\n"
     ]
    },
    {
     "data": {
      "application/vnd.jupyter.widget-view+json": {
       "model_id": "2bbaf888c5134a9c8dd278a408e21586",
       "version_major": 2,
       "version_minor": 0
      },
      "text/plain": [
       "Map:   0%|          | 0/1087 [00:00<?, ? examples/s]"
      ]
     },
     "metadata": {},
     "output_type": "display_data"
    },
    {
     "data": {
      "application/vnd.jupyter.widget-view+json": {
       "model_id": "37cc3361ec404f1884e2d1e51083c3d0",
       "version_major": 2,
       "version_minor": 0
      },
      "text/plain": [
       "Creating parquet from Arrow format:   0%|          | 0/2 [00:00<?, ?ba/s]"
      ]
     },
     "metadata": {},
     "output_type": "display_data"
    },
    {
     "name": "stdout",
     "output_type": "stream",
     "text": [
      "Saved to merged_dataset\\book1700k-1800k.parquet\n",
      "----------------------------------------\n",
      "----------------------------------------\n",
      "CURRENTLY WORKING ON: 10\n"
     ]
    },
    {
     "data": {
      "application/vnd.jupyter.widget-view+json": {
       "model_id": "4567eaa6710c4f7e9da4c8c21c3c362f",
       "version_major": 2,
       "version_minor": 0
      },
      "text/plain": [
       "Filter:   0%|          | 0/4418 [00:00<?, ? examples/s]"
      ]
     },
     "metadata": {},
     "output_type": "display_data"
    },
    {
     "name": "stdout",
     "output_type": "stream",
     "text": [
      "Number of books before filtering: 4418\n",
      "Number of books after filtering: 1248\n"
     ]
    },
    {
     "data": {
      "application/vnd.jupyter.widget-view+json": {
       "model_id": "261ab872b12343deb760353c24b95ce6",
       "version_major": 2,
       "version_minor": 0
      },
      "text/plain": [
       "Map:   0%|          | 0/1248 [00:00<?, ? examples/s]"
      ]
     },
     "metadata": {},
     "output_type": "display_data"
    },
    {
     "data": {
      "application/vnd.jupyter.widget-view+json": {
       "model_id": "5972de38ac5046b9a4de35248119a460",
       "version_major": 2,
       "version_minor": 0
      },
      "text/plain": [
       "Creating parquet from Arrow format:   0%|          | 0/2 [00:00<?, ?ba/s]"
      ]
     },
     "metadata": {},
     "output_type": "display_data"
    },
    {
     "name": "stdout",
     "output_type": "stream",
     "text": [
      "Saved to merged_dataset\\book1800k-1900k.parquet\n",
      "----------------------------------------\n",
      "----------------------------------------\n",
      "CURRENTLY WORKING ON: 11\n"
     ]
    },
    {
     "data": {
      "application/vnd.jupyter.widget-view+json": {
       "model_id": "505bc8c728f04c23b801e89247604178",
       "version_major": 2,
       "version_minor": 0
      },
      "text/plain": [
       "Filter:   0%|          | 0/4783 [00:00<?, ? examples/s]"
      ]
     },
     "metadata": {},
     "output_type": "display_data"
    },
    {
     "name": "stdout",
     "output_type": "stream",
     "text": [
      "Number of books before filtering: 4783\n",
      "Number of books after filtering: 1284\n"
     ]
    },
    {
     "data": {
      "application/vnd.jupyter.widget-view+json": {
       "model_id": "8d8cb25045184f42a156357706a1337d",
       "version_major": 2,
       "version_minor": 0
      },
      "text/plain": [
       "Map:   0%|          | 0/1284 [00:00<?, ? examples/s]"
      ]
     },
     "metadata": {},
     "output_type": "display_data"
    },
    {
     "data": {
      "application/vnd.jupyter.widget-view+json": {
       "model_id": "b3af13593afa4ba19d13af2ec3674ccd",
       "version_major": 2,
       "version_minor": 0
      },
      "text/plain": [
       "Creating parquet from Arrow format:   0%|          | 0/2 [00:00<?, ?ba/s]"
      ]
     },
     "metadata": {},
     "output_type": "display_data"
    },
    {
     "name": "stdout",
     "output_type": "stream",
     "text": [
      "Saved to merged_dataset\\book1900k-2000k.parquet\n",
      "----------------------------------------\n",
      "----------------------------------------\n",
      "CURRENTLY WORKING ON: 12\n"
     ]
    },
    {
     "data": {
      "application/vnd.jupyter.widget-view+json": {
       "model_id": "a50f99aecd504fe99980d7bf27fdac39",
       "version_major": 2,
       "version_minor": 0
      },
      "text/plain": [
       "Filter:   0%|          | 0/38540 [00:00<?, ? examples/s]"
      ]
     },
     "metadata": {},
     "output_type": "display_data"
    },
    {
     "name": "stdout",
     "output_type": "stream",
     "text": [
      "Number of books before filtering: 38540\n",
      "Number of books after filtering: 7883\n"
     ]
    },
    {
     "data": {
      "application/vnd.jupyter.widget-view+json": {
       "model_id": "f0e852b929e84f8bbdfc0294eb61bee7",
       "version_major": 2,
       "version_minor": 0
      },
      "text/plain": [
       "Map:   0%|          | 0/7883 [00:00<?, ? examples/s]"
      ]
     },
     "metadata": {},
     "output_type": "display_data"
    },
    {
     "data": {
      "application/vnd.jupyter.widget-view+json": {
       "model_id": "ddc55a3e3dcc4ce9a3c015b925aa41c8",
       "version_major": 2,
       "version_minor": 0
      },
      "text/plain": [
       "Creating parquet from Arrow format:   0%|          | 0/8 [00:00<?, ?ba/s]"
      ]
     },
     "metadata": {},
     "output_type": "display_data"
    },
    {
     "name": "stdout",
     "output_type": "stream",
     "text": [
      "Saved to merged_dataset\\book2000k-3000k.parquet\n",
      "----------------------------------------\n",
      "----------------------------------------\n",
      "CURRENTLY WORKING ON: 13\n"
     ]
    },
    {
     "data": {
      "application/vnd.jupyter.widget-view+json": {
       "model_id": "f025d65bdfb84cb2b163325e26c81f22",
       "version_major": 2,
       "version_minor": 0
      },
      "text/plain": [
       "Filter:   0%|          | 0/10157 [00:00<?, ? examples/s]"
      ]
     },
     "metadata": {},
     "output_type": "display_data"
    },
    {
     "name": "stdout",
     "output_type": "stream",
     "text": [
      "Number of books before filtering: 10157\n",
      "Number of books after filtering: 3351\n"
     ]
    },
    {
     "data": {
      "application/vnd.jupyter.widget-view+json": {
       "model_id": "3346d95459d244fc9d6ca4e25933b02d",
       "version_major": 2,
       "version_minor": 0
      },
      "text/plain": [
       "Map:   0%|          | 0/3351 [00:00<?, ? examples/s]"
      ]
     },
     "metadata": {},
     "output_type": "display_data"
    },
    {
     "data": {
      "application/vnd.jupyter.widget-view+json": {
       "model_id": "94a931cea4844e628b7a06131b59e414",
       "version_major": 2,
       "version_minor": 0
      },
      "text/plain": [
       "Creating parquet from Arrow format:   0%|          | 0/4 [00:00<?, ?ba/s]"
      ]
     },
     "metadata": {},
     "output_type": "display_data"
    },
    {
     "name": "stdout",
     "output_type": "stream",
     "text": [
      "Saved to merged_dataset\\book200k-300k.parquet\n",
      "----------------------------------------\n",
      "----------------------------------------\n",
      "CURRENTLY WORKING ON: 14\n"
     ]
    },
    {
     "data": {
      "application/vnd.jupyter.widget-view+json": {
       "model_id": "4b4a0cc37a07499abcfd7e7da9ad453f",
       "version_major": 2,
       "version_minor": 0
      },
      "text/plain": [
       "Filter:   0%|          | 0/21446 [00:00<?, ? examples/s]"
      ]
     },
     "metadata": {},
     "output_type": "display_data"
    },
    {
     "name": "stdout",
     "output_type": "stream",
     "text": [
      "Number of books before filtering: 21446\n",
      "Number of books after filtering: 4126\n"
     ]
    },
    {
     "data": {
      "application/vnd.jupyter.widget-view+json": {
       "model_id": "6dd78ab6049e496da04f2b45454d247d",
       "version_major": 2,
       "version_minor": 0
      },
      "text/plain": [
       "Map:   0%|          | 0/4126 [00:00<?, ? examples/s]"
      ]
     },
     "metadata": {},
     "output_type": "display_data"
    },
    {
     "data": {
      "application/vnd.jupyter.widget-view+json": {
       "model_id": "98093662257b4877a4adab166747b724",
       "version_major": 2,
       "version_minor": 0
      },
      "text/plain": [
       "Creating parquet from Arrow format:   0%|          | 0/5 [00:00<?, ?ba/s]"
      ]
     },
     "metadata": {},
     "output_type": "display_data"
    },
    {
     "name": "stdout",
     "output_type": "stream",
     "text": [
      "Saved to merged_dataset\\book3000k-4000k.parquet\n",
      "----------------------------------------\n",
      "----------------------------------------\n",
      "CURRENTLY WORKING ON: 15\n"
     ]
    },
    {
     "data": {
      "application/vnd.jupyter.widget-view+json": {
       "model_id": "2114d06a05174cd28a58ad2e981346ad",
       "version_major": 2,
       "version_minor": 0
      },
      "text/plain": [
       "Filter:   0%|          | 0/18425 [00:00<?, ? examples/s]"
      ]
     },
     "metadata": {},
     "output_type": "display_data"
    },
    {
     "name": "stdout",
     "output_type": "stream",
     "text": [
      "Number of books before filtering: 18425\n",
      "Number of books after filtering: 2412\n"
     ]
    },
    {
     "data": {
      "application/vnd.jupyter.widget-view+json": {
       "model_id": "6cda12aaf14f495294daf671a893baf2",
       "version_major": 2,
       "version_minor": 0
      },
      "text/plain": [
       "Map:   0%|          | 0/2412 [00:00<?, ? examples/s]"
      ]
     },
     "metadata": {},
     "output_type": "display_data"
    },
    {
     "data": {
      "application/vnd.jupyter.widget-view+json": {
       "model_id": "7e9f71261ee74e4ab106bf321db991d2",
       "version_major": 2,
       "version_minor": 0
      },
      "text/plain": [
       "Creating parquet from Arrow format:   0%|          | 0/3 [00:00<?, ?ba/s]"
      ]
     },
     "metadata": {},
     "output_type": "display_data"
    },
    {
     "name": "stdout",
     "output_type": "stream",
     "text": [
      "Saved to merged_dataset\\book4000k-5000k.parquet\n",
      "----------------------------------------\n",
      "----------------------------------------\n",
      "CURRENTLY WORKING ON: 16\n"
     ]
    },
    {
     "data": {
      "application/vnd.jupyter.widget-view+json": {
       "model_id": "f492825cecd2485eaa724ceb7f12371a",
       "version_major": 2,
       "version_minor": 0
      },
      "text/plain": [
       "Filter:   0%|          | 0/8169 [00:00<?, ? examples/s]"
      ]
     },
     "metadata": {},
     "output_type": "display_data"
    },
    {
     "name": "stdout",
     "output_type": "stream",
     "text": [
      "Number of books before filtering: 8169\n",
      "Number of books after filtering: 2497\n"
     ]
    },
    {
     "data": {
      "application/vnd.jupyter.widget-view+json": {
       "model_id": "d9948f4a4b0147e488113d74f2a56b43",
       "version_major": 2,
       "version_minor": 0
      },
      "text/plain": [
       "Map:   0%|          | 0/2497 [00:00<?, ? examples/s]"
      ]
     },
     "metadata": {},
     "output_type": "display_data"
    },
    {
     "data": {
      "application/vnd.jupyter.widget-view+json": {
       "model_id": "70c8b6bb9cd94859b10f85ceec305e05",
       "version_major": 2,
       "version_minor": 0
      },
      "text/plain": [
       "Creating parquet from Arrow format:   0%|          | 0/3 [00:00<?, ?ba/s]"
      ]
     },
     "metadata": {},
     "output_type": "display_data"
    },
    {
     "name": "stdout",
     "output_type": "stream",
     "text": [
      "Saved to merged_dataset\\book400k-500k.parquet\n",
      "----------------------------------------\n",
      "----------------------------------------\n",
      "CURRENTLY WORKING ON: 17\n"
     ]
    },
    {
     "data": {
      "application/vnd.jupyter.widget-view+json": {
       "model_id": "c06a69c04f13425b832137606ab8c640",
       "version_major": 2,
       "version_minor": 0
      },
      "text/plain": [
       "Filter:   0%|          | 0/8889 [00:00<?, ? examples/s]"
      ]
     },
     "metadata": {},
     "output_type": "display_data"
    },
    {
     "name": "stdout",
     "output_type": "stream",
     "text": [
      "Number of books before filtering: 8889\n",
      "Number of books after filtering: 2979\n"
     ]
    },
    {
     "data": {
      "application/vnd.jupyter.widget-view+json": {
       "model_id": "d26830e2142b49b480c7499117047f24",
       "version_major": 2,
       "version_minor": 0
      },
      "text/plain": [
       "Map:   0%|          | 0/2979 [00:00<?, ? examples/s]"
      ]
     },
     "metadata": {},
     "output_type": "display_data"
    },
    {
     "data": {
      "application/vnd.jupyter.widget-view+json": {
       "model_id": "286761eef5814d5e835000b1a7ae007f",
       "version_major": 2,
       "version_minor": 0
      },
      "text/plain": [
       "Creating parquet from Arrow format:   0%|          | 0/3 [00:00<?, ?ba/s]"
      ]
     },
     "metadata": {},
     "output_type": "display_data"
    },
    {
     "name": "stdout",
     "output_type": "stream",
     "text": [
      "Saved to merged_dataset\\book500k-600k.parquet\n",
      "----------------------------------------\n",
      "----------------------------------------\n",
      "CURRENTLY WORKING ON: 18\n"
     ]
    },
    {
     "data": {
      "application/vnd.jupyter.widget-view+json": {
       "model_id": "c538b2b84f524876b356c31809edf1e7",
       "version_major": 2,
       "version_minor": 0
      },
      "text/plain": [
       "Filter:   0%|          | 0/7973 [00:00<?, ? examples/s]"
      ]
     },
     "metadata": {},
     "output_type": "display_data"
    },
    {
     "name": "stdout",
     "output_type": "stream",
     "text": [
      "Number of books before filtering: 7973\n",
      "Number of books after filtering: 2244\n"
     ]
    },
    {
     "data": {
      "application/vnd.jupyter.widget-view+json": {
       "model_id": "c482cf6ea26a43628a1a2b6dd02f7f0b",
       "version_major": 2,
       "version_minor": 0
      },
      "text/plain": [
       "Map:   0%|          | 0/2244 [00:00<?, ? examples/s]"
      ]
     },
     "metadata": {},
     "output_type": "display_data"
    },
    {
     "data": {
      "application/vnd.jupyter.widget-view+json": {
       "model_id": "b0819ddb810545b5add5fe41f726ec7e",
       "version_major": 2,
       "version_minor": 0
      },
      "text/plain": [
       "Creating parquet from Arrow format:   0%|          | 0/3 [00:00<?, ?ba/s]"
      ]
     },
     "metadata": {},
     "output_type": "display_data"
    },
    {
     "name": "stdout",
     "output_type": "stream",
     "text": [
      "Saved to merged_dataset\\book600k-700k.parquet\n",
      "----------------------------------------\n",
      "----------------------------------------\n",
      "CURRENTLY WORKING ON: 19\n"
     ]
    },
    {
     "data": {
      "application/vnd.jupyter.widget-view+json": {
       "model_id": "78e092af1dcd4d948e88afffd3464c00",
       "version_major": 2,
       "version_minor": 0
      },
      "text/plain": [
       "Filter:   0%|          | 0/7926 [00:00<?, ? examples/s]"
      ]
     },
     "metadata": {},
     "output_type": "display_data"
    },
    {
     "name": "stdout",
     "output_type": "stream",
     "text": [
      "Number of books before filtering: 7926\n",
      "Number of books after filtering: 2333\n"
     ]
    },
    {
     "data": {
      "application/vnd.jupyter.widget-view+json": {
       "model_id": "248857199770440e93de74a2a57c74b5",
       "version_major": 2,
       "version_minor": 0
      },
      "text/plain": [
       "Map:   0%|          | 0/2333 [00:00<?, ? examples/s]"
      ]
     },
     "metadata": {},
     "output_type": "display_data"
    },
    {
     "data": {
      "application/vnd.jupyter.widget-view+json": {
       "model_id": "06e8725c93e746f59c9e43e8f15e72f0",
       "version_major": 2,
       "version_minor": 0
      },
      "text/plain": [
       "Creating parquet from Arrow format:   0%|          | 0/3 [00:00<?, ?ba/s]"
      ]
     },
     "metadata": {},
     "output_type": "display_data"
    },
    {
     "name": "stdout",
     "output_type": "stream",
     "text": [
      "Saved to merged_dataset\\book700k-800k.parquet\n",
      "----------------------------------------\n",
      "----------------------------------------\n",
      "CURRENTLY WORKING ON: 20\n"
     ]
    },
    {
     "data": {
      "application/vnd.jupyter.widget-view+json": {
       "model_id": "a04041b520dd4231b76330fcc6d3c5b9",
       "version_major": 2,
       "version_minor": 0
      },
      "text/plain": [
       "Filter:   0%|          | 0/9384 [00:00<?, ? examples/s]"
      ]
     },
     "metadata": {},
     "output_type": "display_data"
    },
    {
     "name": "stdout",
     "output_type": "stream",
     "text": [
      "Number of books before filtering: 9384\n",
      "Number of books after filtering: 3381\n"
     ]
    },
    {
     "data": {
      "application/vnd.jupyter.widget-view+json": {
       "model_id": "7fff8eb331c34d50af20cc5dd4ee7962",
       "version_major": 2,
       "version_minor": 0
      },
      "text/plain": [
       "Map:   0%|          | 0/3381 [00:00<?, ? examples/s]"
      ]
     },
     "metadata": {},
     "output_type": "display_data"
    },
    {
     "data": {
      "application/vnd.jupyter.widget-view+json": {
       "model_id": "bda953a9f3704a1d8651d16f2e966289",
       "version_major": 2,
       "version_minor": 0
      },
      "text/plain": [
       "Creating parquet from Arrow format:   0%|          | 0/4 [00:00<?, ?ba/s]"
      ]
     },
     "metadata": {},
     "output_type": "display_data"
    },
    {
     "name": "stdout",
     "output_type": "stream",
     "text": [
      "Saved to merged_dataset\\book800k-900k.parquet\n",
      "----------------------------------------\n",
      "----------------------------------------\n",
      "CURRENTLY WORKING ON: 21\n"
     ]
    },
    {
     "data": {
      "application/vnd.jupyter.widget-view+json": {
       "model_id": "95028c3794ed441fb15699c256da1356",
       "version_major": 2,
       "version_minor": 0
      },
      "text/plain": [
       "Filter:   0%|          | 0/7325 [00:00<?, ? examples/s]"
      ]
     },
     "metadata": {},
     "output_type": "display_data"
    },
    {
     "name": "stdout",
     "output_type": "stream",
     "text": [
      "Number of books before filtering: 7325\n",
      "Number of books after filtering: 2676\n"
     ]
    },
    {
     "data": {
      "application/vnd.jupyter.widget-view+json": {
       "model_id": "9687c48511f94b62baf23e54915f68e8",
       "version_major": 2,
       "version_minor": 0
      },
      "text/plain": [
       "Map:   0%|          | 0/2676 [00:00<?, ? examples/s]"
      ]
     },
     "metadata": {},
     "output_type": "display_data"
    },
    {
     "data": {
      "application/vnd.jupyter.widget-view+json": {
       "model_id": "47701b3565ef460e86124588b095dcf3",
       "version_major": 2,
       "version_minor": 0
      },
      "text/plain": [
       "Creating parquet from Arrow format:   0%|          | 0/3 [00:00<?, ?ba/s]"
      ]
     },
     "metadata": {},
     "output_type": "display_data"
    },
    {
     "name": "stdout",
     "output_type": "stream",
     "text": [
      "Saved to merged_dataset\\book900k-1000k.parquet\n",
      "----------------------------------------\n",
      "----------------------------------------\n"
     ]
    }
   ],
   "source": [
    "start_id = 0\n",
    "for current_id in range(start_id, len(all_books_dir)):\n",
    "    print(f\"CURRENTLY WORKING ON: {current_id}\")\n",
    "    match_one_book_df(all_books_dir[current_id])\n",
    "    print(\"----\"*10)\n",
    "    print(\"----\"*10)"
   ]
  },
  {
   "cell_type": "markdown",
   "metadata": {},
   "source": [
    "## Creating a Single Dataframe"
   ]
  },
  {
   "cell_type": "markdown",
   "metadata": {},
   "source": [
    "We will be creating a single big dataframe for all the books. This may later be cleaned and post-processed to create a final dataset."
   ]
  },
  {
   "cell_type": "code",
   "execution_count": 3,
   "metadata": {},
   "outputs": [
    {
     "data": {
      "text/plain": [
       "22"
      ]
     },
     "execution_count": 3,
     "metadata": {},
     "output_type": "execute_result"
    }
   ],
   "source": [
    "all_books_dir = glob.glob(\"merged_dataset/book*.parquet\")\n",
    "all_books_dir.sort()\n",
    "len(all_books_dir)"
   ]
  },
  {
   "cell_type": "code",
   "execution_count": 23,
   "metadata": {},
   "outputs": [],
   "source": [
    "rename_map = {\n",
    "    \"pages\": \"num_pages\",\n",
    "    \"star_1\": \"star_rating_1\",\n",
    "    \"star_2\": \"star_rating_2\",\n",
    "    \"star_3\": \"star_rating_3\",\n",
    "    \"star_4\": \"star_rating_4\",\n",
    "    \"star_5\": \"star_rating_5\",\n",
    "    \"rating\": \"average_rating\",\n",
    "    \"book_num\": \"book_number_in_series\",\n",
    "}\n",
    "columns_to_drop = [\n",
    "        'id', 'book_id_1', 'score_1', 'book_id_3', 'score_3', \"title3\"\n",
    "    ]"
   ]
  },
  {
   "cell_type": "code",
   "execution_count": 24,
   "metadata": {},
   "outputs": [],
   "source": [
    "def read_and_preprocess(file_dir):\n",
    "    df = pd.read_parquet(file_dir)\n",
    "    df = df.drop(columns_to_drop, axis=1)\n",
    "    df[\"publication_date\"] = df[\"publication_date\"].apply(lambda x: x.split(\" \")[0])\n",
    "    df = df.rename(columns=rename_map)\n",
    "    return df"
   ]
  },
  {
   "cell_type": "code",
   "execution_count": 30,
   "metadata": {},
   "outputs": [
    {
     "data": {
      "application/vnd.jupyter.widget-view+json": {
       "model_id": "5418524ed6084bd78efd9cf0097730e2",
       "version_major": 2,
       "version_minor": 0
      },
      "text/plain": [
       "Reading and preprocessing books:   0%|          | 0/22 [00:00<?, ?it/s]"
      ]
     },
     "metadata": {},
     "output_type": "display_data"
    },
    {
     "name": "stdout",
     "output_type": "stream",
     "text": [
      "(7718, 18)\n",
      "(2165, 18)\n",
      "(4198, 18)\n",
      "(2173, 18)\n",
      "(1900, 18)\n",
      "(1568, 18)\n",
      "(1521, 18)\n",
      "(1049, 18)\n",
      "(1019, 18)\n",
      "(1087, 18)\n",
      "(1248, 18)\n",
      "(1284, 18)\n",
      "(7883, 18)\n",
      "(3351, 18)\n",
      "(4126, 18)\n",
      "(2412, 18)\n",
      "(2497, 18)\n",
      "(2979, 18)\n",
      "(2244, 18)\n",
      "(2333, 18)\n",
      "(3381, 18)\n",
      "(2676, 18)\n"
     ]
    }
   ],
   "source": [
    "dfs = []\n",
    "for file_path in tqdm(all_books_dir, desc='Reading and preprocessing books'):\n",
    "    df = read_and_preprocess(file_path)\n",
    "    print(df.shape)\n",
    "    dfs.append(df)\n",
    "final_df = pd.concat(dfs, ignore_index=True)"
   ]
  },
  {
   "cell_type": "code",
   "execution_count": 31,
   "metadata": {},
   "outputs": [
    {
     "name": "stdout",
     "output_type": "stream",
     "text": [
      "<class 'pandas.core.frame.DataFrame'>\n",
      "RangeIndex: 60812 entries, 0 to 60811\n",
      "Data columns (total 18 columns):\n",
      " #   Column                 Non-Null Count  Dtype  \n",
      "---  ------                 --------------  -----  \n",
      " 0   num_pages              60812 non-null  int64  \n",
      " 1   star_rating_1          60812 non-null  int64  \n",
      " 2   star_rating_2          60812 non-null  int64  \n",
      " 3   star_rating_3          60812 non-null  int64  \n",
      " 4   star_rating_4          60812 non-null  int64  \n",
      " 5   star_rating_5          60812 non-null  int64  \n",
      " 6   average_rating         60812 non-null  float64\n",
      " 7   total_ratings          60812 non-null  int64  \n",
      " 8   total_reviews          60812 non-null  int64  \n",
      " 9   isbn                   60812 non-null  object \n",
      " 10  publication_date       60812 non-null  object \n",
      " 11  title                  60812 non-null  object \n",
      " 12  series                 60812 non-null  object \n",
      " 13  book_number_in_series  60812 non-null  int64  \n",
      " 14  authors                60812 non-null  object \n",
      " 15  categories             60812 non-null  object \n",
      " 16  format                 60776 non-null  float64\n",
      " 17  lang                   58937 non-null  object \n",
      "dtypes: float64(2), int64(9), object(7)\n",
      "memory usage: 8.4+ MB\n"
     ]
    }
   ],
   "source": [
    "final_df.info()"
   ]
  },
  {
   "cell_type": "markdown",
   "metadata": {},
   "source": [
    "It seems we have about 60k books that are matching out of over 200k books that we started with. I think we have make work with this."
   ]
  },
  {
   "cell_type": "code",
   "execution_count": 32,
   "metadata": {},
   "outputs": [],
   "source": [
    "final_df.to_parquet('merged_dataset/all_books.parquet')"
   ]
  }
 ],
 "metadata": {
  "kernelspec": {
   "display_name": "data-science",
   "language": "python",
   "name": "python3"
  },
  "language_info": {
   "codemirror_mode": {
    "name": "ipython",
    "version": 3
   },
   "file_extension": ".py",
   "mimetype": "text/x-python",
   "name": "python",
   "nbconvert_exporter": "python",
   "pygments_lexer": "ipython3",
   "version": "3.10.12"
  },
  "orig_nbformat": 4
 },
 "nbformat": 4,
 "nbformat_minor": 2
}
