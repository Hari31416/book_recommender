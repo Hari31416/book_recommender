{
 "cells": [
  {
   "cell_type": "markdown",
   "metadata": {},
   "source": [
    "# Imports"
   ]
  },
  {
   "cell_type": "code",
   "execution_count": 158,
   "metadata": {},
   "outputs": [],
   "source": [
    "import pandas as pd\n",
    "import numpy as np\n",
    "import os\n",
    "from datasets import load_dataset\n",
    "from tqdm.auto import tqdm\n",
    "from datetime import datetime\n",
    "import re\n",
    "tqdm.pandas()"
   ]
  },
  {
   "cell_type": "markdown",
   "metadata": {},
   "source": [
    "# Data Cleaning"
   ]
  },
  {
   "cell_type": "markdown",
   "metadata": {},
   "source": [
    "Clean the data and remove extra columns."
   ]
  },
  {
   "cell_type": "markdown",
   "metadata": {},
   "source": [
    "## 1"
   ]
  },
  {
   "cell_type": "markdown",
   "metadata": {},
   "source": [
    "### Authors"
   ]
  },
  {
   "cell_type": "code",
   "execution_count": 2,
   "metadata": {},
   "outputs": [
    {
     "name": "stdout",
     "output_type": "stream",
     "text": [
      "<class 'pandas.core.frame.DataFrame'>\n",
      "RangeIndex: 654021 entries, 0 to 654020\n",
      "Data columns (total 2 columns):\n",
      " #   Column       Non-Null Count   Dtype \n",
      "---  ------       --------------   ----- \n",
      " 0   author_id    654021 non-null  int64 \n",
      " 1   author_name  654019 non-null  object\n",
      "dtypes: int64(1), object(1)\n",
      "memory usage: 10.0+ MB\n"
     ]
    }
   ],
   "source": [
    "authors = pd.read_csv(\"1/authors.csv\")\n",
    "authors.info()"
   ]
  },
  {
   "cell_type": "markdown",
   "metadata": {},
   "source": [
    "`author_id` is sequential."
   ]
  },
  {
   "cell_type": "code",
   "execution_count": 7,
   "metadata": {},
   "outputs": [],
   "source": [
    "authors.sort_values(\"author_id\", inplace=True)\n",
    "authors.reset_index(drop=True, inplace=True)"
   ]
  },
  {
   "cell_type": "code",
   "execution_count": 43,
   "metadata": {},
   "outputs": [],
   "source": [
    "authors.to_csv(\"1_clean/authors.csv\", index=False)"
   ]
  },
  {
   "cell_type": "markdown",
   "metadata": {},
   "source": [
    "### Categories"
   ]
  },
  {
   "cell_type": "code",
   "execution_count": 21,
   "metadata": {},
   "outputs": [
    {
     "name": "stdout",
     "output_type": "stream",
     "text": [
      "<class 'pandas.core.frame.DataFrame'>\n",
      "RangeIndex: 2775 entries, 0 to 2774\n",
      "Data columns (total 2 columns):\n",
      " #   Column         Non-Null Count  Dtype \n",
      "---  ------         --------------  ----- \n",
      " 0   category_id    2775 non-null   int64 \n",
      " 1   category_name  2775 non-null   object\n",
      "dtypes: int64(1), object(1)\n",
      "memory usage: 43.5+ KB\n"
     ]
    }
   ],
   "source": [
    "categories = pd.read_csv(\"1/categories.csv\")\n",
    "categories.info()"
   ]
  },
  {
   "cell_type": "code",
   "execution_count": 22,
   "metadata": {},
   "outputs": [
    {
     "data": {
      "text/plain": [
       "(2, 3390)"
      ]
     },
     "execution_count": 22,
     "metadata": {},
     "output_type": "execute_result"
    }
   ],
   "source": [
    "categories[\"category_id\"].min(), categories[\"category_id\"].max()"
   ]
  },
  {
   "cell_type": "markdown",
   "metadata": {},
   "source": [
    "Nothing to change."
   ]
  },
  {
   "cell_type": "code",
   "execution_count": 24,
   "metadata": {},
   "outputs": [],
   "source": [
    "categories.to_csv(\"1_clean/categories.csv\", index=False)"
   ]
  },
  {
   "cell_type": "markdown",
   "metadata": {},
   "source": [
    "### Dataset"
   ]
  },
  {
   "cell_type": "code",
   "execution_count": 25,
   "metadata": {},
   "outputs": [
    {
     "name": "stderr",
     "output_type": "stream",
     "text": [
      "Found cached dataset csv (C:/Users/harik/.cache/huggingface/datasets/csv/default-b1d2ec91dd99d993/0.0.0/eea64c71ca8b46dd3f537ed218fc9bf495d5707789152eb2764f5c78fa66d59d)\n"
     ]
    },
    {
     "data": {
      "application/vnd.jupyter.widget-view+json": {
       "model_id": "76239ec5f990492a974df608cda7e6e7",
       "version_major": 2,
       "version_minor": 0
      },
      "text/plain": [
       "  0%|          | 0/1 [00:00<?, ?it/s]"
      ]
     },
     "metadata": {},
     "output_type": "display_data"
    }
   ],
   "source": [
    "dataset = load_dataset(\"csv\", data_files=\"1/dataset.csv\", delimiter=\",\")"
   ]
  },
  {
   "cell_type": "code",
   "execution_count": 29,
   "metadata": {},
   "outputs": [
    {
     "data": {
      "text/plain": [
       "['authors',\n",
       " 'bestsellers-rank',\n",
       " 'categories',\n",
       " 'description',\n",
       " 'dimension-x',\n",
       " 'dimension-y',\n",
       " 'dimension-z',\n",
       " 'edition',\n",
       " 'edition-statement',\n",
       " 'for-ages',\n",
       " 'format',\n",
       " 'id',\n",
       " 'illustrations-note',\n",
       " 'image-checksum',\n",
       " 'image-path',\n",
       " 'image-url',\n",
       " 'imprint',\n",
       " 'index-date',\n",
       " 'isbn10',\n",
       " 'isbn13',\n",
       " 'lang',\n",
       " 'publication-date',\n",
       " 'publication-place',\n",
       " 'rating-avg',\n",
       " 'rating-count',\n",
       " 'title',\n",
       " 'url',\n",
       " 'weight']"
      ]
     },
     "execution_count": 29,
     "metadata": {},
     "output_type": "execute_result"
    }
   ],
   "source": [
    "dataset[\"train\"].column_names"
   ]
  },
  {
   "cell_type": "code",
   "execution_count": 30,
   "metadata": {},
   "outputs": [],
   "source": [
    "columns_take = [\n",
    "    \"authors\",\n",
    "    \"categories\",\n",
    "    # \"isbn13\",\n",
    "    \"isbn10\",\n",
    "    \"title\",\n",
    "    \"lang\",\n",
    "    \"publication-date\",\n",
    "    \"format\",\n",
    "]\n",
    "all_columns = dataset[\"train\"].column_names\n",
    "columns_drop = [column for column in all_columns if column not in columns_take]\n",
    "dataset[\"train\"] = dataset[\"train\"].remove_columns(columns_drop)"
   ]
  },
  {
   "cell_type": "code",
   "execution_count": 33,
   "metadata": {},
   "outputs": [
    {
     "data": {
      "application/vnd.jupyter.widget-view+json": {
       "model_id": "8a8e235aca39426b90af4deed50a88d9",
       "version_major": 2,
       "version_minor": 0
      },
      "text/plain": [
       "Creating parquet from Arrow format:   0%|          | 0/1110 [00:00<?, ?ba/s]"
      ]
     },
     "metadata": {},
     "output_type": "display_data"
    },
    {
     "data": {
      "text/plain": [
       "167608449"
      ]
     },
     "execution_count": 33,
     "metadata": {},
     "output_type": "execute_result"
    }
   ],
   "source": [
    "dataset[\"train\"].to_parquet(\"1_clean/dataset.parquet\")"
   ]
  },
  {
   "cell_type": "code",
   "execution_count": 38,
   "metadata": {},
   "outputs": [
    {
     "data": {
      "text/plain": [
       "{'authors': '[1384, 1385]',\n",
       " 'categories': '[253, 272, 314, 787, 3332, 833, 3378, 834, 3379]',\n",
       " 'format': 2.0,\n",
       " 'isbn10': '1847697909',\n",
       " 'lang': 'en',\n",
       " 'publication-date': '2012-09-15 00:00:00',\n",
       " 'title': 'Researching Language Teacher Cognition and Practice : International Case Studies'}"
      ]
     },
     "execution_count": 38,
     "metadata": {},
     "output_type": "execute_result"
    }
   ],
   "source": [
    "dataset[\"train\"][1000]"
   ]
  },
  {
   "cell_type": "markdown",
   "metadata": {},
   "source": [
    "### Formats"
   ]
  },
  {
   "cell_type": "code",
   "execution_count": 39,
   "metadata": {},
   "outputs": [
    {
     "name": "stdout",
     "output_type": "stream",
     "text": [
      "<class 'pandas.core.frame.DataFrame'>\n",
      "RangeIndex: 49 entries, 0 to 48\n",
      "Data columns (total 2 columns):\n",
      " #   Column       Non-Null Count  Dtype \n",
      "---  ------       --------------  ----- \n",
      " 0   format_id    49 non-null     int64 \n",
      " 1   format_name  49 non-null     object\n",
      "dtypes: int64(1), object(1)\n",
      "memory usage: 912.0+ bytes\n"
     ]
    }
   ],
   "source": [
    "formats = pd.read_csv(\"1/formats.csv\")\n",
    "formats.info()"
   ]
  },
  {
   "cell_type": "code",
   "execution_count": 40,
   "metadata": {},
   "outputs": [
    {
     "data": {
      "text/plain": [
       "(1, 49)"
      ]
     },
     "execution_count": 40,
     "metadata": {},
     "output_type": "execute_result"
    }
   ],
   "source": [
    "formats[\"format_id\"].min(), formats[\"format_id\"].max()"
   ]
  },
  {
   "cell_type": "code",
   "execution_count": 42,
   "metadata": {},
   "outputs": [],
   "source": [
    "formats.sort_values(\"format_id\", inplace=True)\n",
    "formats.reset_index(drop=True, inplace=True)"
   ]
  },
  {
   "cell_type": "code",
   "execution_count": 44,
   "metadata": {},
   "outputs": [],
   "source": [
    "formats.to_csv(\"1_clean/formats.csv\", index=False)"
   ]
  },
  {
   "cell_type": "markdown",
   "metadata": {},
   "source": [
    "## 2"
   ]
  },
  {
   "cell_type": "markdown",
   "metadata": {},
   "source": [
    "### Books"
   ]
  },
  {
   "cell_type": "markdown",
   "metadata": {},
   "source": [
    "```python\n",
    "columns_take = [\n",
    "    \"authors\",\n",
    "    \"categories\",\n",
    "    # \"isbn13\",\n",
    "    \"isbn10\",\n",
    "    \"title\",\n",
    "    \"lang\",\n",
    "    \"publication-date\",\n",
    "    \"format\",\n",
    "]\n",
    "```"
   ]
  },
  {
   "cell_type": "code",
   "execution_count": 55,
   "metadata": {},
   "outputs": [
    {
     "name": "stdout",
     "output_type": "stream",
     "text": [
      "<class 'pandas.core.frame.DataFrame'>\n",
      "RangeIndex: 58292 entries, 0 to 58291\n",
      "Data columns (total 18 columns):\n",
      " #   Column           Non-Null Count  Dtype  \n",
      "---  ------           --------------  -----  \n",
      " 0   Id               58292 non-null  int64  \n",
      " 1   Name             58292 non-null  object \n",
      " 2   RatingDist1      58292 non-null  object \n",
      " 3   pagesNumber      58292 non-null  int64  \n",
      " 4   RatingDist4      58292 non-null  object \n",
      " 5   RatingDistTotal  58292 non-null  object \n",
      " 6   PublishMonth     58292 non-null  int64  \n",
      " 7   PublishDay       58292 non-null  int64  \n",
      " 8   Publisher        57798 non-null  object \n",
      " 9   CountsOfReview   58292 non-null  int64  \n",
      " 10  PublishYear      58292 non-null  int64  \n",
      " 11  Language         20294 non-null  object \n",
      " 12  Authors          58292 non-null  object \n",
      " 13  Rating           58292 non-null  float64\n",
      " 14  RatingDist2      58292 non-null  object \n",
      " 15  RatingDist5      58292 non-null  object \n",
      " 16  ISBN             57746 non-null  object \n",
      " 17  RatingDist3      58292 non-null  object \n",
      "dtypes: float64(1), int64(6), object(11)\n",
      "memory usage: 8.0+ MB\n"
     ]
    }
   ],
   "source": [
    "books1 = pd.read_csv(\"2/book1-100k.csv\")\n",
    "books1.info()"
   ]
  },
  {
   "cell_type": "code",
   "execution_count": 142,
   "metadata": {},
   "outputs": [],
   "source": [
    "def clean_rating(rating):\n",
    "    if pd.isna(rating):\n",
    "        return rating\n",
    "    return int(rating.split(\":\")[-1])\n",
    "\n",
    "def publish_date(row):\n",
    "    month, day, year = row[\"PublishDay\"], row[\"PublishMonth\"], row[\"PublishYear\"]\n",
    "    try:\n",
    "        date = datetime(year, month=month, day=day)\n",
    "    except ValueError as e:\n",
    "        if \"year\" in str(e) and \"out of range\" in str(e):\n",
    "            return pd.NaT\n",
    "        if \"day\" in str(e) and \"out of range\" in str(e):\n",
    "            day = day - 1\n",
    "        if \"month must be\" in str(e):\n",
    "            month = 12\n",
    "        try:\n",
    "            date = datetime(year, month=month, day=day)\n",
    "        except:\n",
    "            return pd.NaT\n",
    "    return date\n",
    "\n",
    "rename_map = {\n",
    "    \"Id\": \"id\",\n",
    "    \"Name\": \"title\",\n",
    "    \"Authors\": \"authors\",\n",
    "    \"pagesNumber\": \"pages\",\n",
    "    \"PagesNumber\": \"pages\",\n",
    "    \"Language\": \"language\",\n",
    "    \"RatingDist1\": \"star_1\",\n",
    "    \"RatingDist2\": \"star_2\",\n",
    "    \"RatingDist3\": \"star_3\",\n",
    "    \"RatingDist4\": \"star_4\",\n",
    "    \"RatingDist5\": \"star_5\",\n",
    "    \"Rating\": \"rating\",\n",
    "    \"RatingDistTotal\": \"total_ratings\",\n",
    "    \"CountsOfReview\": \"total_reviews\",\n",
    "    \"ISBN\": \"isbn\",\n",
    "    \"publication_date\": \"publication_date\",\n",
    "}"
   ]
  },
  {
   "cell_type": "code",
   "execution_count": 143,
   "metadata": {},
   "outputs": [],
   "source": [
    "def preprocess_one(file_path, save = True):\n",
    "    file_name = file_path.split(\"/\")[-1]\n",
    "    books = pd.read_csv(file_path)\n",
    "\n",
    "    for i in range(1, 6):\n",
    "        books[f\"RatingDist{i}\"] = books[f\"RatingDist{i}\"].apply(clean_rating)\n",
    "\n",
    "    books[\"RatingDistTotal\"] = books[\"RatingDistTotal\"].apply(clean_rating)\n",
    "    books[\"publication_date\"] = books.apply(publish_date, axis = 1)\n",
    "    \n",
    "    books = books.rename(columns=rename_map)\n",
    "    correct_order = list(rename_map.values())\n",
    "    books = books[correct_order]\n",
    "    if save:\n",
    "        books.to_csv(f\"2_clean/{file_name}\", index=False)\n",
    "        return None\n",
    "    else:\n",
    "        return books"
   ]
  },
  {
   "cell_type": "code",
   "execution_count": 144,
   "metadata": {},
   "outputs": [
    {
     "data": {
      "text/plain": [
       "23"
      ]
     },
     "execution_count": 144,
     "metadata": {},
     "output_type": "execute_result"
    }
   ],
   "source": [
    "books_path = os.listdir(\"2\")\n",
    "books_path = [f\"2/{f}\" for f in books_path if \"book\" in f]\n",
    "len(books_path)"
   ]
  },
  {
   "cell_type": "code",
   "execution_count": 146,
   "metadata": {},
   "outputs": [
    {
     "data": {
      "application/vnd.jupyter.widget-view+json": {
       "model_id": "df6d67104085407d81cacbaadfb1629a",
       "version_major": 2,
       "version_minor": 0
      },
      "text/plain": [
       "Preprocessing...:   0%|          | 0/9 [00:00<?, ?it/s]"
      ]
     },
     "metadata": {},
     "output_type": "display_data"
    }
   ],
   "source": [
    "for file in tqdm(books_path[14:], desc=\"Preprocessing...\"):\n",
    "    preprocess_one(file)"
   ]
  },
  {
   "cell_type": "markdown",
   "metadata": {},
   "source": [
    "### Ratings"
   ]
  },
  {
   "cell_type": "markdown",
   "metadata": {},
   "source": [
    "Not relavant."
   ]
  },
  {
   "cell_type": "markdown",
   "metadata": {},
   "source": [
    "## 3"
   ]
  },
  {
   "cell_type": "markdown",
   "metadata": {},
   "source": [
    "### Books"
   ]
  },
  {
   "cell_type": "code",
   "execution_count": 147,
   "metadata": {},
   "outputs": [
    {
     "name": "stderr",
     "output_type": "stream",
     "text": [
      "C:\\Users\\harik\\AppData\\Local\\Temp\\ipykernel_11408\\2423675164.py:1: DtypeWarning: Columns (3) have mixed types. Specify dtype option on import or set low_memory=False.\n",
      "  books3 = pd.read_csv(\"3/Books.csv\")\n"
     ]
    },
    {
     "name": "stdout",
     "output_type": "stream",
     "text": [
      "<class 'pandas.core.frame.DataFrame'>\n",
      "RangeIndex: 271360 entries, 0 to 271359\n",
      "Data columns (total 8 columns):\n",
      " #   Column               Non-Null Count   Dtype \n",
      "---  ------               --------------   ----- \n",
      " 0   ISBN                 271360 non-null  object\n",
      " 1   Book-Title           271360 non-null  object\n",
      " 2   Book-Author          271359 non-null  object\n",
      " 3   Year-Of-Publication  271360 non-null  object\n",
      " 4   Publisher            271358 non-null  object\n",
      " 5   Image-URL-S          271360 non-null  object\n",
      " 6   Image-URL-M          271360 non-null  object\n",
      " 7   Image-URL-L          271357 non-null  object\n",
      "dtypes: object(8)\n",
      "memory usage: 16.6+ MB\n"
     ]
    }
   ],
   "source": [
    "books3 = pd.read_csv(\"3/Books.csv\")\n",
    "books3.info()"
   ]
  },
  {
   "cell_type": "code",
   "execution_count": 150,
   "metadata": {},
   "outputs": [
    {
     "data": {
      "text/plain": [
       "Index(['ISBN', 'Book-Title', 'Book-Author', 'Year-Of-Publication', 'Publisher',\n",
       "       'Image-URL-S', 'Image-URL-M', 'Image-URL-L'],\n",
       "      dtype='object')"
      ]
     },
     "execution_count": 150,
     "metadata": {},
     "output_type": "execute_result"
    }
   ],
   "source": [
    "books3.columns"
   ]
  },
  {
   "cell_type": "code",
   "execution_count": 152,
   "metadata": {},
   "outputs": [],
   "source": [
    "rename_map = {\n",
    "    \"ISBN\": \"isbn\",\n",
    "    \"Book-Title\": \"title\",\n",
    "    \"Book-Author\": \"authors\",\n",
    "    \"Year-Of-Publication\": \"publication_year\"\n",
    "}\n",
    "\n",
    "books3 = books3.rename(columns=rename_map)\n",
    "correct_order = list(rename_map.values())\n",
    "books3 = books3[correct_order]"
   ]
  },
  {
   "cell_type": "code",
   "execution_count": 160,
   "metadata": {},
   "outputs": [
    {
     "data": {
      "text/html": [
       "<div>\n",
       "<style scoped>\n",
       "    .dataframe tbody tr th:only-of-type {\n",
       "        vertical-align: middle;\n",
       "    }\n",
       "\n",
       "    .dataframe tbody tr th {\n",
       "        vertical-align: top;\n",
       "    }\n",
       "\n",
       "    .dataframe thead th {\n",
       "        text-align: right;\n",
       "    }\n",
       "</style>\n",
       "<table border=\"1\" class=\"dataframe\">\n",
       "  <thead>\n",
       "    <tr style=\"text-align: right;\">\n",
       "      <th></th>\n",
       "      <th>isbn</th>\n",
       "      <th>title</th>\n",
       "      <th>authors</th>\n",
       "      <th>publication_year</th>\n",
       "    </tr>\n",
       "  </thead>\n",
       "  <tbody>\n",
       "    <tr>\n",
       "      <th>156156</th>\n",
       "      <td>0316955116</td>\n",
       "      <td>City Boy</td>\n",
       "      <td>Herman Wouk</td>\n",
       "      <td>1992</td>\n",
       "    </tr>\n",
       "    <tr>\n",
       "      <th>135390</th>\n",
       "      <td>0373121598</td>\n",
       "      <td>Bedroom Business (Presents Passion) (Harlequin...</td>\n",
       "      <td>Sandra Marton</td>\n",
       "      <td>2001</td>\n",
       "    </tr>\n",
       "    <tr>\n",
       "      <th>261976</th>\n",
       "      <td>0789473968</td>\n",
       "      <td>Eyewitness: Everest (Eyewitness Books)</td>\n",
       "      <td>Rebecca Stephens</td>\n",
       "      <td>2001</td>\n",
       "    </tr>\n",
       "    <tr>\n",
       "      <th>118566</th>\n",
       "      <td>0333452984</td>\n",
       "      <td>Sphere</td>\n",
       "      <td>Michael Crichton</td>\n",
       "      <td>0</td>\n",
       "    </tr>\n",
       "    <tr>\n",
       "      <th>92031</th>\n",
       "      <td>0345324145</td>\n",
       "      <td>From Doon with Death</td>\n",
       "      <td>Ruth Rendell</td>\n",
       "      <td>1985</td>\n",
       "    </tr>\n",
       "  </tbody>\n",
       "</table>\n",
       "</div>"
      ],
      "text/plain": [
       "              isbn                                              title  \\\n",
       "156156  0316955116                                           City Boy   \n",
       "135390  0373121598  Bedroom Business (Presents Passion) (Harlequin...   \n",
       "261976  0789473968             Eyewitness: Everest (Eyewitness Books)   \n",
       "118566  0333452984                                             Sphere   \n",
       "92031   0345324145                               From Doon with Death   \n",
       "\n",
       "                 authors publication_year  \n",
       "156156       Herman Wouk             1992  \n",
       "135390     Sandra Marton             2001  \n",
       "261976  Rebecca Stephens             2001  \n",
       "118566  Michael Crichton                0  \n",
       "92031       Ruth Rendell             1985  "
      ]
     },
     "execution_count": 160,
     "metadata": {},
     "output_type": "execute_result"
    }
   ],
   "source": [
    "books3.sample(5)"
   ]
  },
  {
   "cell_type": "code",
   "execution_count": 185,
   "metadata": {},
   "outputs": [],
   "source": [
    "def find_year(stamp):\n",
    "    if pd.isna(stamp) or str(stamp) == '0':\n",
    "        return 1000\n",
    "    stamp = str(stamp)\n",
    "    stamp = stamp.strip()\n",
    "    # print(stamp)\n",
    "    regex = re.compile(r\"(\\d{4})\")\n",
    "    match_ = regex.findall(stamp)\n",
    "    if len(match_):\n",
    "        return int(match_[0])\n",
    "    return 1000"
   ]
  },
  {
   "cell_type": "code",
   "execution_count": 187,
   "metadata": {},
   "outputs": [],
   "source": [
    "books3[\"publication_year\"] = books3[\"publication_year\"].apply(find_year)"
   ]
  },
  {
   "cell_type": "code",
   "execution_count": 189,
   "metadata": {},
   "outputs": [
    {
     "data": {
      "text/plain": [
       "isbn                object\n",
       "title               object\n",
       "authors             object\n",
       "publication_year     int64\n",
       "dtype: object"
      ]
     },
     "execution_count": 189,
     "metadata": {},
     "output_type": "execute_result"
    }
   ],
   "source": [
    "books3.dtypes"
   ]
  },
  {
   "cell_type": "code",
   "execution_count": 199,
   "metadata": {},
   "outputs": [],
   "source": [
    "books3.to_csv(\"3_clean/Books.csv\", index=False)"
   ]
  },
  {
   "cell_type": "markdown",
   "metadata": {},
   "source": [
    "### Users"
   ]
  },
  {
   "cell_type": "code",
   "execution_count": 191,
   "metadata": {},
   "outputs": [
    {
     "name": "stdout",
     "output_type": "stream",
     "text": [
      "<class 'pandas.core.frame.DataFrame'>\n",
      "RangeIndex: 278858 entries, 0 to 278857\n",
      "Data columns (total 3 columns):\n",
      " #   Column    Non-Null Count   Dtype  \n",
      "---  ------    --------------   -----  \n",
      " 0   User-ID   278858 non-null  int64  \n",
      " 1   Location  278858 non-null  object \n",
      " 2   Age       168096 non-null  float64\n",
      "dtypes: float64(1), int64(1), object(1)\n",
      "memory usage: 6.4+ MB\n"
     ]
    }
   ],
   "source": [
    "users3 = pd.read_csv(\"3/Users.csv\")\n",
    "users3.info()"
   ]
  },
  {
   "cell_type": "code",
   "execution_count": 192,
   "metadata": {},
   "outputs": [
    {
     "data": {
      "text/html": [
       "<div>\n",
       "<style scoped>\n",
       "    .dataframe tbody tr th:only-of-type {\n",
       "        vertical-align: middle;\n",
       "    }\n",
       "\n",
       "    .dataframe tbody tr th {\n",
       "        vertical-align: top;\n",
       "    }\n",
       "\n",
       "    .dataframe thead th {\n",
       "        text-align: right;\n",
       "    }\n",
       "</style>\n",
       "<table border=\"1\" class=\"dataframe\">\n",
       "  <thead>\n",
       "    <tr style=\"text-align: right;\">\n",
       "      <th></th>\n",
       "      <th>User-ID</th>\n",
       "      <th>Location</th>\n",
       "      <th>Age</th>\n",
       "    </tr>\n",
       "  </thead>\n",
       "  <tbody>\n",
       "    <tr>\n",
       "      <th>111123</th>\n",
       "      <td>111124</td>\n",
       "      <td>stayner, ontario, canada</td>\n",
       "      <td>NaN</td>\n",
       "    </tr>\n",
       "    <tr>\n",
       "      <th>129214</th>\n",
       "      <td>129215</td>\n",
       "      <td>mafraq, mafraq, jordan</td>\n",
       "      <td>30.0</td>\n",
       "    </tr>\n",
       "    <tr>\n",
       "      <th>236025</th>\n",
       "      <td>236026</td>\n",
       "      <td>marina del rey, california, usa</td>\n",
       "      <td>NaN</td>\n",
       "    </tr>\n",
       "    <tr>\n",
       "      <th>262225</th>\n",
       "      <td>262226</td>\n",
       "      <td>apt, vaucluse, france</td>\n",
       "      <td>62.0</td>\n",
       "    </tr>\n",
       "    <tr>\n",
       "      <th>261896</th>\n",
       "      <td>261897</td>\n",
       "      <td>oakland, california, usa</td>\n",
       "      <td>24.0</td>\n",
       "    </tr>\n",
       "    <tr>\n",
       "      <th>175547</th>\n",
       "      <td>175548</td>\n",
       "      <td>greensborough, victoria, australia</td>\n",
       "      <td>46.0</td>\n",
       "    </tr>\n",
       "    <tr>\n",
       "      <th>111265</th>\n",
       "      <td>111266</td>\n",
       "      <td>, ,</td>\n",
       "      <td>26.0</td>\n",
       "    </tr>\n",
       "    <tr>\n",
       "      <th>206737</th>\n",
       "      <td>206738</td>\n",
       "      <td>basel, basel, switzerland</td>\n",
       "      <td>NaN</td>\n",
       "    </tr>\n",
       "    <tr>\n",
       "      <th>131730</th>\n",
       "      <td>131731</td>\n",
       "      <td>dortmund, nordrhein-westfalen, germany</td>\n",
       "      <td>NaN</td>\n",
       "    </tr>\n",
       "    <tr>\n",
       "      <th>96742</th>\n",
       "      <td>96743</td>\n",
       "      <td>baldwin, new york, usa</td>\n",
       "      <td>NaN</td>\n",
       "    </tr>\n",
       "  </tbody>\n",
       "</table>\n",
       "</div>"
      ],
      "text/plain": [
       "        User-ID                                Location   Age\n",
       "111123   111124                stayner, ontario, canada   NaN\n",
       "129214   129215                  mafraq, mafraq, jordan  30.0\n",
       "236025   236026         marina del rey, california, usa   NaN\n",
       "262225   262226                   apt, vaucluse, france  62.0\n",
       "261896   261897                oakland, california, usa  24.0\n",
       "175547   175548      greensborough, victoria, australia  46.0\n",
       "111265   111266                                     , ,  26.0\n",
       "206737   206738               basel, basel, switzerland   NaN\n",
       "131730   131731  dortmund, nordrhein-westfalen, germany   NaN\n",
       "96742     96743                  baldwin, new york, usa   NaN"
      ]
     },
     "execution_count": 192,
     "metadata": {},
     "output_type": "execute_result"
    }
   ],
   "source": [
    "users3.sample(10)"
   ]
  },
  {
   "cell_type": "code",
   "execution_count": 193,
   "metadata": {},
   "outputs": [
    {
     "data": {
      "text/plain": [
       "(1, 278858)"
      ]
     },
     "execution_count": 193,
     "metadata": {},
     "output_type": "execute_result"
    }
   ],
   "source": [
    "users3[\"User-ID\"].min(), users3[\"User-ID\"].max()"
   ]
  },
  {
   "cell_type": "markdown",
   "metadata": {},
   "source": [
    "`User-ID` is sequential."
   ]
  },
  {
   "cell_type": "code",
   "execution_count": 196,
   "metadata": {},
   "outputs": [],
   "source": [
    "users3.sort_values(\"User-ID\", inplace=True)\n",
    "rename_map = {\n",
    "    \"User-ID\": \"user_id\",\n",
    "    \"Location\": \"location\",\n",
    "    \"Age\": \"age\",\n",
    "}\n",
    "\n",
    "users3 = users3.rename(columns=rename_map)\n",
    "correct_order = list(rename_map.values())\n",
    "users3 = users3[correct_order]"
   ]
  },
  {
   "cell_type": "code",
   "execution_count": 198,
   "metadata": {},
   "outputs": [],
   "source": [
    "users3.to_csv(\"3_clean/Users.csv\", index=False)"
   ]
  },
  {
   "cell_type": "markdown",
   "metadata": {},
   "source": [
    "### Ratings"
   ]
  },
  {
   "cell_type": "code",
   "execution_count": 200,
   "metadata": {},
   "outputs": [
    {
     "name": "stdout",
     "output_type": "stream",
     "text": [
      "<class 'pandas.core.frame.DataFrame'>\n",
      "RangeIndex: 1149780 entries, 0 to 1149779\n",
      "Data columns (total 3 columns):\n",
      " #   Column       Non-Null Count    Dtype \n",
      "---  ------       --------------    ----- \n",
      " 0   User-ID      1149780 non-null  int64 \n",
      " 1   ISBN         1149780 non-null  object\n",
      " 2   Book-Rating  1149780 non-null  int64 \n",
      "dtypes: int64(2), object(1)\n",
      "memory usage: 26.3+ MB\n"
     ]
    }
   ],
   "source": [
    "ratings3 = pd.read_csv(\"3/Ratings.csv\")\n",
    "ratings3.info()"
   ]
  },
  {
   "cell_type": "code",
   "execution_count": 201,
   "metadata": {},
   "outputs": [
    {
     "data": {
      "text/html": [
       "<div>\n",
       "<style scoped>\n",
       "    .dataframe tbody tr th:only-of-type {\n",
       "        vertical-align: middle;\n",
       "    }\n",
       "\n",
       "    .dataframe tbody tr th {\n",
       "        vertical-align: top;\n",
       "    }\n",
       "\n",
       "    .dataframe thead th {\n",
       "        text-align: right;\n",
       "    }\n",
       "</style>\n",
       "<table border=\"1\" class=\"dataframe\">\n",
       "  <thead>\n",
       "    <tr style=\"text-align: right;\">\n",
       "      <th></th>\n",
       "      <th>User-ID</th>\n",
       "      <th>ISBN</th>\n",
       "      <th>Book-Rating</th>\n",
       "    </tr>\n",
       "  </thead>\n",
       "  <tbody>\n",
       "    <tr>\n",
       "      <th>740180</th>\n",
       "      <td>178941</td>\n",
       "      <td>3681305929</td>\n",
       "      <td>0</td>\n",
       "    </tr>\n",
       "    <tr>\n",
       "      <th>1046842</th>\n",
       "      <td>250405</td>\n",
       "      <td>0140296549</td>\n",
       "      <td>0</td>\n",
       "    </tr>\n",
       "    <tr>\n",
       "      <th>996274</th>\n",
       "      <td>238961</td>\n",
       "      <td>0451162072</td>\n",
       "      <td>0</td>\n",
       "    </tr>\n",
       "    <tr>\n",
       "      <th>1070926</th>\n",
       "      <td>255943</td>\n",
       "      <td>0752208497</td>\n",
       "      <td>0</td>\n",
       "    </tr>\n",
       "    <tr>\n",
       "      <th>817385</th>\n",
       "      <td>198711</td>\n",
       "      <td>0373095600</td>\n",
       "      <td>0</td>\n",
       "    </tr>\n",
       "    <tr>\n",
       "      <th>493417</th>\n",
       "      <td>118228</td>\n",
       "      <td>0486295060</td>\n",
       "      <td>0</td>\n",
       "    </tr>\n",
       "    <tr>\n",
       "      <th>990006</th>\n",
       "      <td>238120</td>\n",
       "      <td>0451185110</td>\n",
       "      <td>0</td>\n",
       "    </tr>\n",
       "    <tr>\n",
       "      <th>579836</th>\n",
       "      <td>139630</td>\n",
       "      <td>014014773X</td>\n",
       "      <td>5</td>\n",
       "    </tr>\n",
       "    <tr>\n",
       "      <th>400885</th>\n",
       "      <td>96448</td>\n",
       "      <td>0590863703</td>\n",
       "      <td>6</td>\n",
       "    </tr>\n",
       "    <tr>\n",
       "      <th>729301</th>\n",
       "      <td>175984</td>\n",
       "      <td>3446151982</td>\n",
       "      <td>6</td>\n",
       "    </tr>\n",
       "  </tbody>\n",
       "</table>\n",
       "</div>"
      ],
      "text/plain": [
       "         User-ID        ISBN  Book-Rating\n",
       "740180    178941  3681305929            0\n",
       "1046842   250405  0140296549            0\n",
       "996274    238961  0451162072            0\n",
       "1070926   255943  0752208497            0\n",
       "817385    198711  0373095600            0\n",
       "493417    118228  0486295060            0\n",
       "990006    238120  0451185110            0\n",
       "579836    139630  014014773X            5\n",
       "400885     96448  0590863703            6\n",
       "729301    175984  3446151982            6"
      ]
     },
     "execution_count": 201,
     "metadata": {},
     "output_type": "execute_result"
    }
   ],
   "source": [
    "ratings3.sample(10)"
   ]
  },
  {
   "cell_type": "code",
   "execution_count": 204,
   "metadata": {},
   "outputs": [],
   "source": [
    "ratings3.sort_values(\"User-ID\", inplace=True)\n",
    "rename_map = {\n",
    "    \"User-ID\": \"user_id\",\n",
    "    \"ISBN\": \"isbn\",\n",
    "    \"Book-Rating\": \"provided_rating\",\n",
    "}\n",
    "\n",
    "ratings3 = ratings3.rename(columns=rename_map)\n",
    "correct_order = list(rename_map.values())\n",
    "ratings3 = ratings3[correct_order]"
   ]
  },
  {
   "cell_type": "code",
   "execution_count": 205,
   "metadata": {},
   "outputs": [
    {
     "data": {
      "text/html": [
       "<div>\n",
       "<style scoped>\n",
       "    .dataframe tbody tr th:only-of-type {\n",
       "        vertical-align: middle;\n",
       "    }\n",
       "\n",
       "    .dataframe tbody tr th {\n",
       "        vertical-align: top;\n",
       "    }\n",
       "\n",
       "    .dataframe thead th {\n",
       "        text-align: right;\n",
       "    }\n",
       "</style>\n",
       "<table border=\"1\" class=\"dataframe\">\n",
       "  <thead>\n",
       "    <tr style=\"text-align: right;\">\n",
       "      <th></th>\n",
       "      <th>user_id</th>\n",
       "      <th>isbn</th>\n",
       "      <th>provided_rating</th>\n",
       "    </tr>\n",
       "  </thead>\n",
       "  <tbody>\n",
       "    <tr>\n",
       "      <th>460760</th>\n",
       "      <td>110608</td>\n",
       "      <td>0449225046</td>\n",
       "      <td>0</td>\n",
       "    </tr>\n",
       "    <tr>\n",
       "      <th>748821</th>\n",
       "      <td>181165</td>\n",
       "      <td>0375703632</td>\n",
       "      <td>7</td>\n",
       "    </tr>\n",
       "    <tr>\n",
       "      <th>1053982</th>\n",
       "      <td>251613</td>\n",
       "      <td>0877849390</td>\n",
       "      <td>0</td>\n",
       "    </tr>\n",
       "    <tr>\n",
       "      <th>616323</th>\n",
       "      <td>148966</td>\n",
       "      <td>0373123973</td>\n",
       "      <td>6</td>\n",
       "    </tr>\n",
       "    <tr>\n",
       "      <th>470532</th>\n",
       "      <td>112559</td>\n",
       "      <td>0373242867</td>\n",
       "      <td>0</td>\n",
       "    </tr>\n",
       "  </tbody>\n",
       "</table>\n",
       "</div>"
      ],
      "text/plain": [
       "         user_id        isbn  provided_rating\n",
       "460760    110608  0449225046                0\n",
       "748821    181165  0375703632                7\n",
       "1053982   251613  0877849390                0\n",
       "616323    148966  0373123973                6\n",
       "470532    112559  0373242867                0"
      ]
     },
     "execution_count": 205,
     "metadata": {},
     "output_type": "execute_result"
    }
   ],
   "source": [
    "ratings3.sample(5)"
   ]
  },
  {
   "cell_type": "code",
   "execution_count": 206,
   "metadata": {},
   "outputs": [],
   "source": [
    "ratings3.to_csv(\"3_clean/Ratings.csv\", index=False)"
   ]
  }
 ],
 "metadata": {
  "kernelspec": {
   "display_name": "data-science",
   "language": "python",
   "name": "python3"
  },
  "language_info": {
   "codemirror_mode": {
    "name": "ipython",
    "version": 3
   },
   "file_extension": ".py",
   "mimetype": "text/x-python",
   "name": "python",
   "nbconvert_exporter": "python",
   "pygments_lexer": "ipython3",
   "version": "3.9.12"
  },
  "orig_nbformat": 4
 },
 "nbformat": 4,
 "nbformat_minor": 2
}
