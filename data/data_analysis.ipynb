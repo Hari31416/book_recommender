{
 "cells": [
  {
   "cell_type": "code",
   "execution_count": 1,
   "metadata": {},
   "outputs": [],
   "source": [
    "import pandas as pd\n",
    "import numpy as np\n",
    "import matplotlib.pyplot as plt\n",
    "import seaborn as sns"
   ]
  },
  {
   "attachments": {},
   "cell_type": "markdown",
   "metadata": {},
   "source": [
    "# 3"
   ]
  },
  {
   "cell_type": "markdown",
   "metadata": {},
   "source": [
    "## Users"
   ]
  },
  {
   "cell_type": "code",
   "execution_count": 2,
   "metadata": {},
   "outputs": [
    {
     "data": {
      "text/html": [
       "<div>\n",
       "<style scoped>\n",
       "    .dataframe tbody tr th:only-of-type {\n",
       "        vertical-align: middle;\n",
       "    }\n",
       "\n",
       "    .dataframe tbody tr th {\n",
       "        vertical-align: top;\n",
       "    }\n",
       "\n",
       "    .dataframe thead th {\n",
       "        text-align: right;\n",
       "    }\n",
       "</style>\n",
       "<table border=\"1\" class=\"dataframe\">\n",
       "  <thead>\n",
       "    <tr style=\"text-align: right;\">\n",
       "      <th></th>\n",
       "      <th>User-ID</th>\n",
       "      <th>Location</th>\n",
       "      <th>Age</th>\n",
       "    </tr>\n",
       "  </thead>\n",
       "  <tbody>\n",
       "    <tr>\n",
       "      <th>0</th>\n",
       "      <td>1</td>\n",
       "      <td>nyc, new york, usa</td>\n",
       "      <td>NaN</td>\n",
       "    </tr>\n",
       "    <tr>\n",
       "      <th>1</th>\n",
       "      <td>2</td>\n",
       "      <td>stockton, california, usa</td>\n",
       "      <td>18.0</td>\n",
       "    </tr>\n",
       "    <tr>\n",
       "      <th>2</th>\n",
       "      <td>3</td>\n",
       "      <td>moscow, yukon territory, russia</td>\n",
       "      <td>NaN</td>\n",
       "    </tr>\n",
       "    <tr>\n",
       "      <th>3</th>\n",
       "      <td>4</td>\n",
       "      <td>porto, v.n.gaia, portugal</td>\n",
       "      <td>17.0</td>\n",
       "    </tr>\n",
       "    <tr>\n",
       "      <th>4</th>\n",
       "      <td>5</td>\n",
       "      <td>farnborough, hants, united kingdom</td>\n",
       "      <td>NaN</td>\n",
       "    </tr>\n",
       "  </tbody>\n",
       "</table>\n",
       "</div>"
      ],
      "text/plain": [
       "   User-ID                            Location   Age\n",
       "0        1                  nyc, new york, usa   NaN\n",
       "1        2           stockton, california, usa  18.0\n",
       "2        3     moscow, yukon territory, russia   NaN\n",
       "3        4           porto, v.n.gaia, portugal  17.0\n",
       "4        5  farnborough, hants, united kingdom   NaN"
      ]
     },
     "execution_count": 2,
     "metadata": {},
     "output_type": "execute_result"
    }
   ],
   "source": [
    "user3 = pd.read_csv(\"3/Users.csv\")\n",
    "user3.head()"
   ]
  },
  {
   "cell_type": "code",
   "execution_count": 7,
   "metadata": {},
   "outputs": [
    {
     "name": "stdout",
     "output_type": "stream",
     "text": [
      "<class 'pandas.core.frame.DataFrame'>\n",
      "RangeIndex: 278858 entries, 0 to 278857\n",
      "Data columns (total 3 columns):\n",
      " #   Column    Non-Null Count   Dtype  \n",
      "---  ------    --------------   -----  \n",
      " 0   User-ID   278858 non-null  int64  \n",
      " 1   Location  278858 non-null  object \n",
      " 2   Age       168096 non-null  float64\n",
      "dtypes: float64(1), int64(1), object(1)\n",
      "memory usage: 6.4+ MB\n"
     ]
    }
   ],
   "source": [
    "user3.info()"
   ]
  },
  {
   "cell_type": "code",
   "execution_count": 5,
   "metadata": {},
   "outputs": [
    {
     "data": {
      "text/plain": [
       "User-ID     0.000000\n",
       "Location    0.000000\n",
       "Age         0.397199\n",
       "dtype: float64"
      ]
     },
     "execution_count": 5,
     "metadata": {},
     "output_type": "execute_result"
    }
   ],
   "source": [
    "user3.isna().sum()/len(user3)"
   ]
  },
  {
   "cell_type": "markdown",
   "metadata": {},
   "source": [
    "## Ratings"
   ]
  },
  {
   "cell_type": "code",
   "execution_count": 6,
   "metadata": {},
   "outputs": [
    {
     "data": {
      "text/html": [
       "<div>\n",
       "<style scoped>\n",
       "    .dataframe tbody tr th:only-of-type {\n",
       "        vertical-align: middle;\n",
       "    }\n",
       "\n",
       "    .dataframe tbody tr th {\n",
       "        vertical-align: top;\n",
       "    }\n",
       "\n",
       "    .dataframe thead th {\n",
       "        text-align: right;\n",
       "    }\n",
       "</style>\n",
       "<table border=\"1\" class=\"dataframe\">\n",
       "  <thead>\n",
       "    <tr style=\"text-align: right;\">\n",
       "      <th></th>\n",
       "      <th>User-ID</th>\n",
       "      <th>ISBN</th>\n",
       "      <th>Book-Rating</th>\n",
       "    </tr>\n",
       "  </thead>\n",
       "  <tbody>\n",
       "    <tr>\n",
       "      <th>0</th>\n",
       "      <td>276725</td>\n",
       "      <td>034545104X</td>\n",
       "      <td>0</td>\n",
       "    </tr>\n",
       "    <tr>\n",
       "      <th>1</th>\n",
       "      <td>276726</td>\n",
       "      <td>0155061224</td>\n",
       "      <td>5</td>\n",
       "    </tr>\n",
       "    <tr>\n",
       "      <th>2</th>\n",
       "      <td>276727</td>\n",
       "      <td>0446520802</td>\n",
       "      <td>0</td>\n",
       "    </tr>\n",
       "    <tr>\n",
       "      <th>3</th>\n",
       "      <td>276729</td>\n",
       "      <td>052165615X</td>\n",
       "      <td>3</td>\n",
       "    </tr>\n",
       "    <tr>\n",
       "      <th>4</th>\n",
       "      <td>276729</td>\n",
       "      <td>0521795028</td>\n",
       "      <td>6</td>\n",
       "    </tr>\n",
       "  </tbody>\n",
       "</table>\n",
       "</div>"
      ],
      "text/plain": [
       "   User-ID        ISBN  Book-Rating\n",
       "0   276725  034545104X            0\n",
       "1   276726  0155061224            5\n",
       "2   276727  0446520802            0\n",
       "3   276729  052165615X            3\n",
       "4   276729  0521795028            6"
      ]
     },
     "execution_count": 6,
     "metadata": {},
     "output_type": "execute_result"
    }
   ],
   "source": [
    "rating = pd.read_csv(\"3/Ratings.csv\")\n",
    "rating.head()"
   ]
  },
  {
   "cell_type": "code",
   "execution_count": 8,
   "metadata": {},
   "outputs": [
    {
     "name": "stdout",
     "output_type": "stream",
     "text": [
      "<class 'pandas.core.frame.DataFrame'>\n",
      "RangeIndex: 1149780 entries, 0 to 1149779\n",
      "Data columns (total 3 columns):\n",
      " #   Column       Non-Null Count    Dtype \n",
      "---  ------       --------------    ----- \n",
      " 0   User-ID      1149780 non-null  int64 \n",
      " 1   ISBN         1149780 non-null  object\n",
      " 2   Book-Rating  1149780 non-null  int64 \n",
      "dtypes: int64(2), object(1)\n",
      "memory usage: 26.3+ MB\n"
     ]
    }
   ],
   "source": [
    "rating.info()"
   ]
  },
  {
   "cell_type": "code",
   "execution_count": 9,
   "metadata": {},
   "outputs": [
    {
     "data": {
      "text/plain": [
       "278858"
      ]
     },
     "execution_count": 9,
     "metadata": {},
     "output_type": "execute_result"
    }
   ],
   "source": [
    "user3[\"User-ID\"].nunique()"
   ]
  },
  {
   "cell_type": "code",
   "execution_count": 10,
   "metadata": {},
   "outputs": [
    {
     "data": {
      "text/plain": [
       "105283"
      ]
     },
     "execution_count": 10,
     "metadata": {},
     "output_type": "execute_result"
    }
   ],
   "source": [
    "rating[\"User-ID\"].nunique()"
   ]
  },
  {
   "cell_type": "code",
   "execution_count": 11,
   "metadata": {},
   "outputs": [
    {
     "data": {
      "text/plain": [
       "340556"
      ]
     },
     "execution_count": 11,
     "metadata": {},
     "output_type": "execute_result"
    }
   ],
   "source": [
    "rating[\"ISBN\"].nunique()"
   ]
  },
  {
   "cell_type": "code",
   "execution_count": 12,
   "metadata": {},
   "outputs": [
    {
     "data": {
      "text/plain": [
       "156150    1104\n",
       "248718    1104\n",
       "225810    1100\n",
       "35857     1099\n",
       "63714     1068\n",
       "          ... \n",
       "116180       1\n",
       "116166       1\n",
       "116154       1\n",
       "116137       1\n",
       "276723       1\n",
       "Name: User-ID, Length: 105183, dtype: int64"
      ]
     },
     "execution_count": 12,
     "metadata": {},
     "output_type": "execute_result"
    }
   ],
   "source": [
    "rating[\"User-ID\"].value_counts().iloc[100:]"
   ]
  },
  {
   "cell_type": "markdown",
   "metadata": {},
   "source": [
    "## Books"
   ]
  },
  {
   "cell_type": "code",
   "execution_count": 2,
   "metadata": {},
   "outputs": [
    {
     "name": "stderr",
     "output_type": "stream",
     "text": [
      "C:\\Users\\harik\\AppData\\Local\\Temp\\ipykernel_3916\\2423675164.py:1: DtypeWarning: Columns (3) have mixed types. Specify dtype option on import or set low_memory=False.\n",
      "  books3 = pd.read_csv(\"3/Books.csv\")\n"
     ]
    },
    {
     "name": "stdout",
     "output_type": "stream",
     "text": [
      "<class 'pandas.core.frame.DataFrame'>\n",
      "RangeIndex: 271360 entries, 0 to 271359\n",
      "Data columns (total 8 columns):\n",
      " #   Column               Non-Null Count   Dtype \n",
      "---  ------               --------------   ----- \n",
      " 0   ISBN                 271360 non-null  object\n",
      " 1   Book-Title           271360 non-null  object\n",
      " 2   Book-Author          271359 non-null  object\n",
      " 3   Year-Of-Publication  271360 non-null  object\n",
      " 4   Publisher            271358 non-null  object\n",
      " 5   Image-URL-S          271360 non-null  object\n",
      " 6   Image-URL-M          271360 non-null  object\n",
      " 7   Image-URL-L          271357 non-null  object\n",
      "dtypes: object(8)\n",
      "memory usage: 16.6+ MB\n"
     ]
    }
   ],
   "source": [
    "books3 = pd.read_csv(\"3/Books.csv\")\n",
    "books3.info()"
   ]
  },
  {
   "attachments": {},
   "cell_type": "markdown",
   "metadata": {},
   "source": [
    "# 2"
   ]
  },
  {
   "cell_type": "markdown",
   "metadata": {},
   "source": [
    "## Book"
   ]
  },
  {
   "cell_type": "code",
   "execution_count": 13,
   "metadata": {},
   "outputs": [
    {
     "data": {
      "text/html": [
       "<div>\n",
       "<style scoped>\n",
       "    .dataframe tbody tr th:only-of-type {\n",
       "        vertical-align: middle;\n",
       "    }\n",
       "\n",
       "    .dataframe tbody tr th {\n",
       "        vertical-align: top;\n",
       "    }\n",
       "\n",
       "    .dataframe thead th {\n",
       "        text-align: right;\n",
       "    }\n",
       "</style>\n",
       "<table border=\"1\" class=\"dataframe\">\n",
       "  <thead>\n",
       "    <tr style=\"text-align: right;\">\n",
       "      <th></th>\n",
       "      <th>0</th>\n",
       "      <th>1</th>\n",
       "      <th>2</th>\n",
       "      <th>3</th>\n",
       "      <th>4</th>\n",
       "    </tr>\n",
       "  </thead>\n",
       "  <tbody>\n",
       "    <tr>\n",
       "      <th>Id</th>\n",
       "      <td>1400000</td>\n",
       "      <td>1400002</td>\n",
       "      <td>1400008</td>\n",
       "      <td>1400009</td>\n",
       "      <td>1400010</td>\n",
       "    </tr>\n",
       "    <tr>\n",
       "      <th>Name</th>\n",
       "      <td>Wege zum Gleichgewicht.</td>\n",
       "      <td>Len Lye</td>\n",
       "      <td>Trust: Reason, Routine, Reflexivity</td>\n",
       "      <td>Hoobastank - The Reason</td>\n",
       "      <td>Unconditional Parenting: Moving from Rewards a...</td>\n",
       "    </tr>\n",
       "    <tr>\n",
       "      <th>Authors</th>\n",
       "      <td>Al Gore</td>\n",
       "      <td>Roger Horrocks</td>\n",
       "      <td>Guido Mollering</td>\n",
       "      <td>Hoobastank</td>\n",
       "      <td>Alfie Kohn</td>\n",
       "    </tr>\n",
       "    <tr>\n",
       "      <th>ISBN</th>\n",
       "      <td>3596123453</td>\n",
       "      <td>1869402472</td>\n",
       "      <td>0080448550</td>\n",
       "      <td>0757923070</td>\n",
       "      <td>0743487478</td>\n",
       "    </tr>\n",
       "    <tr>\n",
       "      <th>Rating</th>\n",
       "      <td>3.79</td>\n",
       "      <td>4.4</td>\n",
       "      <td>4.25</td>\n",
       "      <td>5.0</td>\n",
       "      <td>4.13</td>\n",
       "    </tr>\n",
       "    <tr>\n",
       "      <th>PublishYear</th>\n",
       "      <td>1994</td>\n",
       "      <td>2001</td>\n",
       "      <td>2006</td>\n",
       "      <td>2006</td>\n",
       "      <td>2005</td>\n",
       "    </tr>\n",
       "    <tr>\n",
       "      <th>PublishMonth</th>\n",
       "      <td>1</td>\n",
       "      <td>1</td>\n",
       "      <td>1</td>\n",
       "      <td>1</td>\n",
       "      <td>1</td>\n",
       "    </tr>\n",
       "    <tr>\n",
       "      <th>PublishDay</th>\n",
       "      <td>6</td>\n",
       "      <td>8</td>\n",
       "      <td>5</td>\n",
       "      <td>1</td>\n",
       "      <td>3</td>\n",
       "    </tr>\n",
       "    <tr>\n",
       "      <th>Publisher</th>\n",
       "      <td>Fischer Taschenbuch Vlg.</td>\n",
       "      <td>Auckland University Press</td>\n",
       "      <td>Elsevier Science Ltd</td>\n",
       "      <td>Alfred Publishing Co.</td>\n",
       "      <td>Atria Books</td>\n",
       "    </tr>\n",
       "    <tr>\n",
       "      <th>RatingDist5</th>\n",
       "      <td>5:372</td>\n",
       "      <td>5:8</td>\n",
       "      <td>5:1</td>\n",
       "      <td>5:1</td>\n",
       "      <td>5:2550</td>\n",
       "    </tr>\n",
       "    <tr>\n",
       "      <th>RatingDist4</th>\n",
       "      <td>4:506</td>\n",
       "      <td>4:5</td>\n",
       "      <td>4:3</td>\n",
       "      <td>4:0</td>\n",
       "      <td>4:1913</td>\n",
       "    </tr>\n",
       "    <tr>\n",
       "      <th>RatingDist3</th>\n",
       "      <td>3:341</td>\n",
       "      <td>3:2</td>\n",
       "      <td>3:0</td>\n",
       "      <td>3:0</td>\n",
       "      <td>3:901</td>\n",
       "    </tr>\n",
       "    <tr>\n",
       "      <th>RatingDist2</th>\n",
       "      <td>2:90</td>\n",
       "      <td>2:0</td>\n",
       "      <td>2:0</td>\n",
       "      <td>2:0</td>\n",
       "      <td>2:301</td>\n",
       "    </tr>\n",
       "    <tr>\n",
       "      <th>RatingDist1</th>\n",
       "      <td>1:45</td>\n",
       "      <td>1:0</td>\n",
       "      <td>1:0</td>\n",
       "      <td>1:0</td>\n",
       "      <td>1:100</td>\n",
       "    </tr>\n",
       "    <tr>\n",
       "      <th>RatingDistTotal</th>\n",
       "      <td>total:1354</td>\n",
       "      <td>total:15</td>\n",
       "      <td>total:4</td>\n",
       "      <td>total:1</td>\n",
       "      <td>total:5765</td>\n",
       "    </tr>\n",
       "    <tr>\n",
       "      <th>CountsOfReview</th>\n",
       "      <td>0</td>\n",
       "      <td>1</td>\n",
       "      <td>0</td>\n",
       "      <td>0</td>\n",
       "      <td>8</td>\n",
       "    </tr>\n",
       "    <tr>\n",
       "      <th>Language</th>\n",
       "      <td>NaN</td>\n",
       "      <td>NaN</td>\n",
       "      <td>NaN</td>\n",
       "      <td>NaN</td>\n",
       "      <td>NaN</td>\n",
       "    </tr>\n",
       "    <tr>\n",
       "      <th>pagesNumber</th>\n",
       "      <td>383</td>\n",
       "      <td>460</td>\n",
       "      <td>230</td>\n",
       "      <td>100</td>\n",
       "      <td>264</td>\n",
       "    </tr>\n",
       "    <tr>\n",
       "      <th>Description</th>\n",
       "      <td>&lt;div&gt;\\n  &lt;div&gt;Re-released on the heels of Al G...</td>\n",
       "      <td>&lt;i&gt;Len Lye: A Biography&lt;/i&gt; tells for the firs...</td>\n",
       "      <td>What makes trust such a powerful concept? Is i...</td>\n",
       "      <td>(Guitar Recorded Versions). This album-matchin...</td>\n",
       "      <td>From a nationally respected educator, the auth...</td>\n",
       "    </tr>\n",
       "    <tr>\n",
       "      <th>Count of text reviews</th>\n",
       "      <td>0</td>\n",
       "      <td>1</td>\n",
       "      <td>0</td>\n",
       "      <td>0</td>\n",
       "      <td>8</td>\n",
       "    </tr>\n",
       "  </tbody>\n",
       "</table>\n",
       "</div>"
      ],
      "text/plain": [
       "                                                                       0  \\\n",
       "Id                                                               1400000   \n",
       "Name                                             Wege zum Gleichgewicht.   \n",
       "Authors                                                          Al Gore   \n",
       "ISBN                                                          3596123453   \n",
       "Rating                                                              3.79   \n",
       "PublishYear                                                         1994   \n",
       "PublishMonth                                                           1   \n",
       "PublishDay                                                             6   \n",
       "Publisher                                       Fischer Taschenbuch Vlg.   \n",
       "RatingDist5                                                        5:372   \n",
       "RatingDist4                                                        4:506   \n",
       "RatingDist3                                                        3:341   \n",
       "RatingDist2                                                         2:90   \n",
       "RatingDist1                                                         1:45   \n",
       "RatingDistTotal                                               total:1354   \n",
       "CountsOfReview                                                         0   \n",
       "Language                                                             NaN   \n",
       "pagesNumber                                                          383   \n",
       "Description            <div>\\n  <div>Re-released on the heels of Al G...   \n",
       "Count of text reviews                                                  0   \n",
       "\n",
       "                                                                       1  \\\n",
       "Id                                                               1400002   \n",
       "Name                                                             Len Lye   \n",
       "Authors                                                   Roger Horrocks   \n",
       "ISBN                                                          1869402472   \n",
       "Rating                                                               4.4   \n",
       "PublishYear                                                         2001   \n",
       "PublishMonth                                                           1   \n",
       "PublishDay                                                             8   \n",
       "Publisher                                      Auckland University Press   \n",
       "RatingDist5                                                          5:8   \n",
       "RatingDist4                                                          4:5   \n",
       "RatingDist3                                                          3:2   \n",
       "RatingDist2                                                          2:0   \n",
       "RatingDist1                                                          1:0   \n",
       "RatingDistTotal                                                 total:15   \n",
       "CountsOfReview                                                         1   \n",
       "Language                                                             NaN   \n",
       "pagesNumber                                                          460   \n",
       "Description            <i>Len Lye: A Biography</i> tells for the firs...   \n",
       "Count of text reviews                                                  1   \n",
       "\n",
       "                                                                       2  \\\n",
       "Id                                                               1400008   \n",
       "Name                                 Trust: Reason, Routine, Reflexivity   \n",
       "Authors                                                  Guido Mollering   \n",
       "ISBN                                                          0080448550   \n",
       "Rating                                                              4.25   \n",
       "PublishYear                                                         2006   \n",
       "PublishMonth                                                           1   \n",
       "PublishDay                                                             5   \n",
       "Publisher                                           Elsevier Science Ltd   \n",
       "RatingDist5                                                          5:1   \n",
       "RatingDist4                                                          4:3   \n",
       "RatingDist3                                                          3:0   \n",
       "RatingDist2                                                          2:0   \n",
       "RatingDist1                                                          1:0   \n",
       "RatingDistTotal                                                  total:4   \n",
       "CountsOfReview                                                         0   \n",
       "Language                                                             NaN   \n",
       "pagesNumber                                                          230   \n",
       "Description            What makes trust such a powerful concept? Is i...   \n",
       "Count of text reviews                                                  0   \n",
       "\n",
       "                                                                       3  \\\n",
       "Id                                                               1400009   \n",
       "Name                                             Hoobastank - The Reason   \n",
       "Authors                                                       Hoobastank   \n",
       "ISBN                                                          0757923070   \n",
       "Rating                                                               5.0   \n",
       "PublishYear                                                         2006   \n",
       "PublishMonth                                                           1   \n",
       "PublishDay                                                             1   \n",
       "Publisher                                          Alfred Publishing Co.   \n",
       "RatingDist5                                                          5:1   \n",
       "RatingDist4                                                          4:0   \n",
       "RatingDist3                                                          3:0   \n",
       "RatingDist2                                                          2:0   \n",
       "RatingDist1                                                          1:0   \n",
       "RatingDistTotal                                                  total:1   \n",
       "CountsOfReview                                                         0   \n",
       "Language                                                             NaN   \n",
       "pagesNumber                                                          100   \n",
       "Description            (Guitar Recorded Versions). This album-matchin...   \n",
       "Count of text reviews                                                  0   \n",
       "\n",
       "                                                                       4  \n",
       "Id                                                               1400010  \n",
       "Name                   Unconditional Parenting: Moving from Rewards a...  \n",
       "Authors                                                       Alfie Kohn  \n",
       "ISBN                                                          0743487478  \n",
       "Rating                                                              4.13  \n",
       "PublishYear                                                         2005  \n",
       "PublishMonth                                                           1  \n",
       "PublishDay                                                             3  \n",
       "Publisher                                                    Atria Books  \n",
       "RatingDist5                                                       5:2550  \n",
       "RatingDist4                                                       4:1913  \n",
       "RatingDist3                                                        3:901  \n",
       "RatingDist2                                                        2:301  \n",
       "RatingDist1                                                        1:100  \n",
       "RatingDistTotal                                               total:5765  \n",
       "CountsOfReview                                                         8  \n",
       "Language                                                             NaN  \n",
       "pagesNumber                                                          264  \n",
       "Description            From a nationally respected educator, the auth...  \n",
       "Count of text reviews                                                  8  "
      ]
     },
     "execution_count": 13,
     "metadata": {},
     "output_type": "execute_result"
    }
   ],
   "source": [
    "book2 = pd.read_csv(\"2/book1400k-1500k.csv\")\n",
    "book2.head().T"
   ]
  },
  {
   "cell_type": "code",
   "execution_count": 14,
   "metadata": {},
   "outputs": [
    {
     "name": "stdout",
     "output_type": "stream",
     "text": [
      "<class 'pandas.core.frame.DataFrame'>\n",
      "RangeIndex: 34759 entries, 0 to 34758\n",
      "Data columns (total 20 columns):\n",
      " #   Column                 Non-Null Count  Dtype  \n",
      "---  ------                 --------------  -----  \n",
      " 0   Id                     34759 non-null  int64  \n",
      " 1   Name                   34759 non-null  object \n",
      " 2   Authors                34759 non-null  object \n",
      " 3   ISBN                   34647 non-null  object \n",
      " 4   Rating                 34759 non-null  float64\n",
      " 5   PublishYear            34759 non-null  int64  \n",
      " 6   PublishMonth           34759 non-null  int64  \n",
      " 7   PublishDay             34759 non-null  int64  \n",
      " 8   Publisher              34356 non-null  object \n",
      " 9   RatingDist5            34759 non-null  object \n",
      " 10  RatingDist4            34759 non-null  object \n",
      " 11  RatingDist3            34759 non-null  object \n",
      " 12  RatingDist2            34759 non-null  object \n",
      " 13  RatingDist1            34759 non-null  object \n",
      " 14  RatingDistTotal        34759 non-null  object \n",
      " 15  CountsOfReview         34759 non-null  int64  \n",
      " 16  Language               5729 non-null   object \n",
      " 17  pagesNumber            34759 non-null  int64  \n",
      " 18  Description            29406 non-null  object \n",
      " 19  Count of text reviews  34759 non-null  int64  \n",
      "dtypes: float64(1), int64(7), object(12)\n",
      "memory usage: 5.3+ MB\n"
     ]
    }
   ],
   "source": [
    "book2.info()"
   ]
  },
  {
   "cell_type": "markdown",
   "metadata": {},
   "source": [
    "## Rating"
   ]
  },
  {
   "cell_type": "code",
   "execution_count": 15,
   "metadata": {},
   "outputs": [
    {
     "data": {
      "text/html": [
       "<div>\n",
       "<style scoped>\n",
       "    .dataframe tbody tr th:only-of-type {\n",
       "        vertical-align: middle;\n",
       "    }\n",
       "\n",
       "    .dataframe tbody tr th {\n",
       "        vertical-align: top;\n",
       "    }\n",
       "\n",
       "    .dataframe thead th {\n",
       "        text-align: right;\n",
       "    }\n",
       "</style>\n",
       "<table border=\"1\" class=\"dataframe\">\n",
       "  <thead>\n",
       "    <tr style=\"text-align: right;\">\n",
       "      <th></th>\n",
       "      <th>ID</th>\n",
       "      <th>Name</th>\n",
       "      <th>Rating</th>\n",
       "    </tr>\n",
       "  </thead>\n",
       "  <tbody>\n",
       "    <tr>\n",
       "      <th>0</th>\n",
       "      <td>1</td>\n",
       "      <td>Agile Web Development with Rails: A Pragmatic ...</td>\n",
       "      <td>it was amazing</td>\n",
       "    </tr>\n",
       "    <tr>\n",
       "      <th>1</th>\n",
       "      <td>1</td>\n",
       "      <td>The Restaurant at the End of the Universe (Hit...</td>\n",
       "      <td>it was amazing</td>\n",
       "    </tr>\n",
       "    <tr>\n",
       "      <th>2</th>\n",
       "      <td>1</td>\n",
       "      <td>Siddhartha</td>\n",
       "      <td>it was amazing</td>\n",
       "    </tr>\n",
       "    <tr>\n",
       "      <th>3</th>\n",
       "      <td>1</td>\n",
       "      <td>The Clock of the Long Now: Time and Responsibi...</td>\n",
       "      <td>really liked it</td>\n",
       "    </tr>\n",
       "    <tr>\n",
       "      <th>4</th>\n",
       "      <td>1</td>\n",
       "      <td>Ready Player One (Ready Player One, #1)</td>\n",
       "      <td>really liked it</td>\n",
       "    </tr>\n",
       "  </tbody>\n",
       "</table>\n",
       "</div>"
      ],
      "text/plain": [
       "   ID                                               Name           Rating\n",
       "0   1  Agile Web Development with Rails: A Pragmatic ...   it was amazing\n",
       "1   1  The Restaurant at the End of the Universe (Hit...   it was amazing\n",
       "2   1                                         Siddhartha   it was amazing\n",
       "3   1  The Clock of the Long Now: Time and Responsibi...  really liked it\n",
       "4   1            Ready Player One (Ready Player One, #1)  really liked it"
      ]
     },
     "execution_count": 15,
     "metadata": {},
     "output_type": "execute_result"
    }
   ],
   "source": [
    "rating = pd.read_csv(\"2/user_rating_0_to_1000.csv\")\n",
    "rating.head()"
   ]
  },
  {
   "cell_type": "code",
   "execution_count": 16,
   "metadata": {},
   "outputs": [
    {
     "name": "stdout",
     "output_type": "stream",
     "text": [
      "<class 'pandas.core.frame.DataFrame'>\n",
      "RangeIndex: 51945 entries, 0 to 51944\n",
      "Data columns (total 3 columns):\n",
      " #   Column  Non-Null Count  Dtype \n",
      "---  ------  --------------  ----- \n",
      " 0   ID      51945 non-null  int64 \n",
      " 1   Name    51945 non-null  object\n",
      " 2   Rating  51945 non-null  object\n",
      "dtypes: int64(1), object(2)\n",
      "memory usage: 1.2+ MB\n"
     ]
    }
   ],
   "source": [
    "rating.info()"
   ]
  },
  {
   "cell_type": "code",
   "execution_count": 17,
   "metadata": {},
   "outputs": [
    {
     "data": {
      "text/plain": [
       "834"
      ]
     },
     "execution_count": 17,
     "metadata": {},
     "output_type": "execute_result"
    }
   ],
   "source": [
    "rating[\"ID\"].nunique()"
   ]
  },
  {
   "cell_type": "markdown",
   "metadata": {},
   "source": [
    "# 1"
   ]
  },
  {
   "cell_type": "markdown",
   "metadata": {},
   "source": [
    "## Authors"
   ]
  },
  {
   "cell_type": "code",
   "execution_count": 19,
   "metadata": {},
   "outputs": [
    {
     "data": {
      "text/html": [
       "<div>\n",
       "<style scoped>\n",
       "    .dataframe tbody tr th:only-of-type {\n",
       "        vertical-align: middle;\n",
       "    }\n",
       "\n",
       "    .dataframe tbody tr th {\n",
       "        vertical-align: top;\n",
       "    }\n",
       "\n",
       "    .dataframe thead th {\n",
       "        text-align: right;\n",
       "    }\n",
       "</style>\n",
       "<table border=\"1\" class=\"dataframe\">\n",
       "  <thead>\n",
       "    <tr style=\"text-align: right;\">\n",
       "      <th></th>\n",
       "      <th>author_id</th>\n",
       "      <th>author_name</th>\n",
       "    </tr>\n",
       "  </thead>\n",
       "  <tbody>\n",
       "    <tr>\n",
       "      <th>0</th>\n",
       "      <td>9561</td>\n",
       "      <td>NaN</td>\n",
       "    </tr>\n",
       "    <tr>\n",
       "      <th>1</th>\n",
       "      <td>451324</td>\n",
       "      <td># House Press</td>\n",
       "    </tr>\n",
       "    <tr>\n",
       "      <th>2</th>\n",
       "      <td>454250</td>\n",
       "      <td># Petal Press</td>\n",
       "    </tr>\n",
       "    <tr>\n",
       "      <th>3</th>\n",
       "      <td>249724</td>\n",
       "      <td>#GARCIA MIGUELE</td>\n",
       "    </tr>\n",
       "    <tr>\n",
       "      <th>4</th>\n",
       "      <td>287710</td>\n",
       "      <td>#Worldlcass Media</td>\n",
       "    </tr>\n",
       "  </tbody>\n",
       "</table>\n",
       "</div>"
      ],
      "text/plain": [
       "   author_id        author_name\n",
       "0       9561                NaN\n",
       "1     451324      # House Press\n",
       "2     454250      # Petal Press\n",
       "3     249724    #GARCIA MIGUELE\n",
       "4     287710  #Worldlcass Media"
      ]
     },
     "execution_count": 19,
     "metadata": {},
     "output_type": "execute_result"
    }
   ],
   "source": [
    "authors = pd.read_csv(\"1/authors.csv\")\n",
    "authors.head()"
   ]
  },
  {
   "cell_type": "code",
   "execution_count": 20,
   "metadata": {},
   "outputs": [
    {
     "name": "stdout",
     "output_type": "stream",
     "text": [
      "<class 'pandas.core.frame.DataFrame'>\n",
      "RangeIndex: 654021 entries, 0 to 654020\n",
      "Data columns (total 2 columns):\n",
      " #   Column       Non-Null Count   Dtype \n",
      "---  ------       --------------   ----- \n",
      " 0   author_id    654021 non-null  int64 \n",
      " 1   author_name  654019 non-null  object\n",
      "dtypes: int64(1), object(1)\n",
      "memory usage: 10.0+ MB\n"
     ]
    }
   ],
   "source": [
    "authors.info()"
   ]
  },
  {
   "cell_type": "markdown",
   "metadata": {},
   "source": [
    "## Categories"
   ]
  },
  {
   "cell_type": "code",
   "execution_count": 22,
   "metadata": {},
   "outputs": [
    {
     "data": {
      "text/html": [
       "<div>\n",
       "<style scoped>\n",
       "    .dataframe tbody tr th:only-of-type {\n",
       "        vertical-align: middle;\n",
       "    }\n",
       "\n",
       "    .dataframe tbody tr th {\n",
       "        vertical-align: top;\n",
       "    }\n",
       "\n",
       "    .dataframe thead th {\n",
       "        text-align: right;\n",
       "    }\n",
       "</style>\n",
       "<table border=\"1\" class=\"dataframe\">\n",
       "  <thead>\n",
       "    <tr style=\"text-align: right;\">\n",
       "      <th></th>\n",
       "      <th>category_id</th>\n",
       "      <th>category_name</th>\n",
       "    </tr>\n",
       "  </thead>\n",
       "  <tbody>\n",
       "    <tr>\n",
       "      <th>0</th>\n",
       "      <td>1998</td>\n",
       "      <td>.Net Programming</td>\n",
       "    </tr>\n",
       "    <tr>\n",
       "      <th>1</th>\n",
       "      <td>176</td>\n",
       "      <td>20th Century &amp; Contemporary Classical Music</td>\n",
       "    </tr>\n",
       "    <tr>\n",
       "      <th>2</th>\n",
       "      <td>3291</td>\n",
       "      <td>20th Century &amp; Contemporary Classical Music</td>\n",
       "    </tr>\n",
       "    <tr>\n",
       "      <th>3</th>\n",
       "      <td>2659</td>\n",
       "      <td>20th Century History: C 1900  To C 2000</td>\n",
       "    </tr>\n",
       "    <tr>\n",
       "      <th>4</th>\n",
       "      <td>2661</td>\n",
       "      <td>21st Century History: From C 2000 -</td>\n",
       "    </tr>\n",
       "  </tbody>\n",
       "</table>\n",
       "</div>"
      ],
      "text/plain": [
       "   category_id                                category_name\n",
       "0         1998                             .Net Programming\n",
       "1          176  20th Century & Contemporary Classical Music\n",
       "2         3291  20th Century & Contemporary Classical Music\n",
       "3         2659      20th Century History: C 1900  To C 2000\n",
       "4         2661          21st Century History: From C 2000 -"
      ]
     },
     "execution_count": 22,
     "metadata": {},
     "output_type": "execute_result"
    }
   ],
   "source": [
    "categories = pd.read_csv(\"1/categories.csv\")\n",
    "categories.head()"
   ]
  },
  {
   "cell_type": "code",
   "execution_count": 23,
   "metadata": {},
   "outputs": [
    {
     "name": "stdout",
     "output_type": "stream",
     "text": [
      "<class 'pandas.core.frame.DataFrame'>\n",
      "RangeIndex: 2775 entries, 0 to 2774\n",
      "Data columns (total 2 columns):\n",
      " #   Column         Non-Null Count  Dtype \n",
      "---  ------         --------------  ----- \n",
      " 0   category_id    2775 non-null   int64 \n",
      " 1   category_name  2775 non-null   object\n",
      "dtypes: int64(1), object(1)\n",
      "memory usage: 43.5+ KB\n"
     ]
    }
   ],
   "source": [
    "categories.info()"
   ]
  },
  {
   "cell_type": "markdown",
   "metadata": {},
   "source": [
    "## Dataset"
   ]
  },
  {
   "cell_type": "code",
   "execution_count": 59,
   "metadata": {},
   "outputs": [
    {
     "name": "stderr",
     "output_type": "stream",
     "text": [
      "Found cached dataset csv (C:/Users/harik/.cache/huggingface/datasets/csv/default-b1d2ec91dd99d993/0.0.0/eea64c71ca8b46dd3f537ed218fc9bf495d5707789152eb2764f5c78fa66d59d)\n"
     ]
    },
    {
     "data": {
      "application/vnd.jupyter.widget-view+json": {
       "model_id": "538234ad96e142cd87c5c5ff3f735d37",
       "version_major": 2,
       "version_minor": 0
      },
      "text/plain": [
       "  0%|          | 0/1 [00:00<?, ?it/s]"
      ]
     },
     "metadata": {},
     "output_type": "display_data"
    }
   ],
   "source": [
    "# Use huggingface datasets to reade csv file\n",
    "from datasets import load_dataset\n",
    "dataset = load_dataset(\"csv\", data_files=\"1/dataset.csv\", delimiter=\",\")"
   ]
  },
  {
   "cell_type": "code",
   "execution_count": 60,
   "metadata": {},
   "outputs": [
    {
     "data": {
      "text/plain": [
       "['authors',\n",
       " 'bestsellers-rank',\n",
       " 'categories',\n",
       " 'description',\n",
       " 'dimension-x',\n",
       " 'dimension-y',\n",
       " 'dimension-z',\n",
       " 'edition',\n",
       " 'edition-statement',\n",
       " 'for-ages',\n",
       " 'format',\n",
       " 'id',\n",
       " 'illustrations-note',\n",
       " 'image-checksum',\n",
       " 'image-path',\n",
       " 'image-url',\n",
       " 'imprint',\n",
       " 'index-date',\n",
       " 'isbn10',\n",
       " 'isbn13',\n",
       " 'lang',\n",
       " 'publication-date',\n",
       " 'publication-place',\n",
       " 'rating-avg',\n",
       " 'rating-count',\n",
       " 'title',\n",
       " 'url',\n",
       " 'weight']"
      ]
     },
     "execution_count": 60,
     "metadata": {},
     "output_type": "execute_result"
    }
   ],
   "source": [
    "dataset[\"train\"].column_names"
   ]
  },
  {
   "cell_type": "code",
   "execution_count": 61,
   "metadata": {},
   "outputs": [],
   "source": [
    "# def map_fn(row):\n",
    "#     new_row = {}\n",
    "#     new_row[\"authors\"] = row[\"authors\"]\n",
    "#     new_row[\"categories\"] = row[\"categories\"]\n",
    "#     new_row[\"isbn13\"] = row[\"isbn13\"]\n",
    "#     new_row[\"isbn10\"] = row[\"isbn10\"]\n",
    "#     new_row[\"title\"] = row[\"title\"]\n",
    "#     new_row[\"lang\"] = row[\"lang\"]\n",
    "#     new_row[\"publication-date\"] = row[\"publication-date\"]\n",
    "#     return new_row\n",
    "\n",
    "# dataset[\"train\"] = dataset[\"train\"].map(map_fn, batch_size=1000, num_proc=4)"
   ]
  },
  {
   "cell_type": "code",
   "execution_count": 62,
   "metadata": {},
   "outputs": [],
   "source": [
    "columns_take = [\"authors\", \"categories\", \"isbn13\", \"isbn10\", \"title\", \"lang\", \"publication-date\", \"format\"]\n",
    "all_columns = dataset[\"train\"].column_names\n",
    "columns_drop = [column for column in all_columns if column not in columns_take]\n",
    "dataset[\"train\"] = dataset[\"train\"].remove_columns(columns_drop)"
   ]
  },
  {
   "cell_type": "code",
   "execution_count": 63,
   "metadata": {},
   "outputs": [
    {
     "data": {
      "text/plain": [
       "1109383"
      ]
     },
     "execution_count": 63,
     "metadata": {},
     "output_type": "execute_result"
    }
   ],
   "source": [
    "#See the dataset size\n",
    "dataset[\"train\"].num_rows"
   ]
  },
  {
   "cell_type": "code",
   "execution_count": 64,
   "metadata": {},
   "outputs": [
    {
     "data": {
      "application/vnd.jupyter.widget-view+json": {
       "model_id": "2631ea945e1a4abdbf6fb09ca7962e5d",
       "version_major": 2,
       "version_minor": 0
      },
      "text/plain": [
       "Creating CSV from Arrow format:   0%|          | 0/1110 [00:00<?, ?ba/s]"
      ]
     },
     "metadata": {},
     "output_type": "display_data"
    },
    {
     "data": {
      "text/plain": [
       "162455833"
      ]
     },
     "execution_count": 64,
     "metadata": {},
     "output_type": "execute_result"
    }
   ],
   "source": [
    "dataset[\"train\"].to_csv(\"1/dataset_.csv\")"
   ]
  },
  {
   "cell_type": "code",
   "execution_count": 65,
   "metadata": {},
   "outputs": [
    {
     "data": {
      "application/vnd.jupyter.widget-view+json": {
       "model_id": "da0ed00c1ab24300836c5d3c7c61fff2",
       "version_major": 2,
       "version_minor": 0
      },
      "text/plain": [
       "Creating parquet from Arrow format:   0%|          | 0/1110 [00:00<?, ?ba/s]"
      ]
     },
     "metadata": {},
     "output_type": "display_data"
    },
    {
     "data": {
      "text/plain": [
       "176483513"
      ]
     },
     "execution_count": 65,
     "metadata": {},
     "output_type": "execute_result"
    }
   ],
   "source": [
    "# save to parquet\n",
    "dataset[\"train\"].to_parquet(\"1/dataset.parquet\")"
   ]
  },
  {
   "cell_type": "code",
   "execution_count": 58,
   "metadata": {},
   "outputs": [
    {
     "data": {
      "application/vnd.jupyter.widget-view+json": {
       "model_id": "4194a27000bf42e29abc61a5f1ef7b20",
       "version_major": 2,
       "version_minor": 0
      },
      "text/plain": [
       "Saving the dataset (0/1 shards):   0%|          | 0/1109383 [00:00<?, ? examples/s]"
      ]
     },
     "metadata": {},
     "output_type": "display_data"
    }
   ],
   "source": [
    "# # save as arrow\n",
    "# dataset[\"train\"].save_to_disk(\"1/dataset.arrow\")"
   ]
  }
 ],
 "metadata": {
  "kernelspec": {
   "display_name": "data-science",
   "language": "python",
   "name": "python3"
  },
  "language_info": {
   "codemirror_mode": {
    "name": "ipython",
    "version": 3
   },
   "file_extension": ".py",
   "mimetype": "text/x-python",
   "name": "python",
   "nbconvert_exporter": "python",
   "pygments_lexer": "ipython3",
   "version": "3.9.12"
  },
  "orig_nbformat": 4
 },
 "nbformat": 4,
 "nbformat_minor": 2
}
