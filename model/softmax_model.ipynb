{
 "cells": [
  {
   "cell_type": "markdown",
   "metadata": {},
   "source": [
    "# Imports"
   ]
  },
  {
   "cell_type": "code",
   "execution_count": 14,
   "metadata": {},
   "outputs": [],
   "source": [
    "import pandas as pd\n",
    "import numpy as np\n",
    "import matplotlib.pyplot as plt\n",
    "import seaborn as sns\n",
    "import os\n",
    "from tqdm.auto import tqdm\n",
    "from scipy import sparse\n",
    "import torch\n",
    "\n",
    "import warnings\n",
    "warnings.filterwarnings('ignore')"
   ]
  },
  {
   "cell_type": "markdown",
   "metadata": {},
   "source": [
    "# Data"
   ]
  },
  {
   "cell_type": "markdown",
   "metadata": {},
   "source": [
    "## Load data"
   ]
  },
  {
   "cell_type": "code",
   "execution_count": 3,
   "metadata": {},
   "outputs": [],
   "source": [
    "DATA_DIR = os.path.join(\"..\", \"data\", \"final_dataset\")"
   ]
  },
  {
   "cell_type": "code",
   "execution_count": 35,
   "metadata": {},
   "outputs": [
    {
     "name": "stdout",
     "output_type": "stream",
     "text": [
      "Number of ratings: 104756\n",
      "Number of unique users: 31940\n",
      "Number of books: 22020\n"
     ]
    },
    {
     "data": {
      "text/html": [
       "<div>\n",
       "<style scoped>\n",
       "    .dataframe tbody tr th:only-of-type {\n",
       "        vertical-align: middle;\n",
       "    }\n",
       "\n",
       "    .dataframe tbody tr th {\n",
       "        vertical-align: top;\n",
       "    }\n",
       "\n",
       "    .dataframe thead th {\n",
       "        text-align: right;\n",
       "    }\n",
       "</style>\n",
       "<table border=\"1\" class=\"dataframe\">\n",
       "  <thead>\n",
       "    <tr style=\"text-align: right;\">\n",
       "      <th></th>\n",
       "      <th>user_id</th>\n",
       "      <th>isbn</th>\n",
       "      <th>provided_rating</th>\n",
       "    </tr>\n",
       "  </thead>\n",
       "  <tbody>\n",
       "    <tr>\n",
       "      <th>0</th>\n",
       "      <td>17</td>\n",
       "      <td>0891075275</td>\n",
       "      <td>6</td>\n",
       "    </tr>\n",
       "    <tr>\n",
       "      <th>1</th>\n",
       "      <td>17</td>\n",
       "      <td>0553264990</td>\n",
       "      <td>5</td>\n",
       "    </tr>\n",
       "    <tr>\n",
       "      <th>2</th>\n",
       "      <td>26</td>\n",
       "      <td>0449005615</td>\n",
       "      <td>9</td>\n",
       "    </tr>\n",
       "    <tr>\n",
       "      <th>3</th>\n",
       "      <td>39</td>\n",
       "      <td>0671888587</td>\n",
       "      <td>7</td>\n",
       "    </tr>\n",
       "    <tr>\n",
       "      <th>4</th>\n",
       "      <td>69</td>\n",
       "      <td>1853260053</td>\n",
       "      <td>8</td>\n",
       "    </tr>\n",
       "  </tbody>\n",
       "</table>\n",
       "</div>"
      ],
      "text/plain": [
       "   user_id        isbn  provided_rating\n",
       "0       17  0891075275                6\n",
       "1       17  0553264990                5\n",
       "2       26  0449005615                9\n",
       "3       39  0671888587                7\n",
       "4       69  1853260053                8"
      ]
     },
     "execution_count": 35,
     "metadata": {},
     "output_type": "execute_result"
    }
   ],
   "source": [
    "interactions = pd.read_parquet(os.path.join(DATA_DIR, 'ratings.parquet'))\n",
    "books= pd.read_parquet(os.path.join(DATA_DIR, 'books_all.parquet'))\n",
    "users = pd.read_parquet(os.path.join(DATA_DIR, 'users.parquet'))\n",
    "interactions = interactions[interactions[\"isbn\"].isin(books[\"isbn\"])]\n",
    "interactions = interactions.query(\"provided_rating!=0\")\n",
    "interactions.reset_index(drop=True, inplace=True)\n",
    "print(f\"Number of ratings: {len(interactions)}\")\n",
    "print(f\"Number of unique users: {interactions['user_id'].nunique()}\")\n",
    "print(f\"Number of books: {interactions['isbn'].nunique()}\")\n",
    "interactions.head()"
   ]
  },
  {
   "cell_type": "code",
   "execution_count": 29,
   "metadata": {},
   "outputs": [
    {
     "data": {
      "text/html": [
       "<div>\n",
       "<style scoped>\n",
       "    .dataframe tbody tr th:only-of-type {\n",
       "        vertical-align: middle;\n",
       "    }\n",
       "\n",
       "    .dataframe tbody tr th {\n",
       "        vertical-align: top;\n",
       "    }\n",
       "\n",
       "    .dataframe thead th {\n",
       "        text-align: right;\n",
       "    }\n",
       "</style>\n",
       "<table border=\"1\" class=\"dataframe\">\n",
       "  <thead>\n",
       "    <tr style=\"text-align: right;\">\n",
       "      <th></th>\n",
       "      <th>num_pages</th>\n",
       "      <th>star_rating_1</th>\n",
       "      <th>star_rating_2</th>\n",
       "      <th>star_rating_3</th>\n",
       "      <th>star_rating_4</th>\n",
       "      <th>star_rating_5</th>\n",
       "      <th>average_rating</th>\n",
       "      <th>total_ratings</th>\n",
       "      <th>total_reviews</th>\n",
       "      <th>isbn</th>\n",
       "      <th>publication_date</th>\n",
       "      <th>title</th>\n",
       "      <th>series</th>\n",
       "      <th>book_number_in_series</th>\n",
       "      <th>authors</th>\n",
       "      <th>categories</th>\n",
       "      <th>format</th>\n",
       "      <th>lang</th>\n",
       "    </tr>\n",
       "  </thead>\n",
       "  <tbody>\n",
       "    <tr>\n",
       "      <th>0</th>\n",
       "      <td>652</td>\n",
       "      <td>9896</td>\n",
       "      <td>25317</td>\n",
       "      <td>159960</td>\n",
       "      <td>556485</td>\n",
       "      <td>1546466</td>\n",
       "      <td>4.57</td>\n",
       "      <td>2298124</td>\n",
       "      <td>28062</td>\n",
       "      <td>None</td>\n",
       "      <td>2006-09-16</td>\n",
       "      <td>Harry Potter and the Half-Blood Prince</td>\n",
       "      <td>Harry Potter</td>\n",
       "      <td>6</td>\n",
       "      <td>[J. K. Rowling]</td>\n",
       "      <td>[Fantasy, Fantasy Books]</td>\n",
       "      <td>CD</td>\n",
       "      <td>en</td>\n",
       "    </tr>\n",
       "    <tr>\n",
       "      <th>1</th>\n",
       "      <td>870</td>\n",
       "      <td>12455</td>\n",
       "      <td>37005</td>\n",
       "      <td>211781</td>\n",
       "      <td>604283</td>\n",
       "      <td>1493113</td>\n",
       "      <td>4.50</td>\n",
       "      <td>2358637</td>\n",
       "      <td>29770</td>\n",
       "      <td>0439358078</td>\n",
       "      <td>2004-09-01</td>\n",
       "      <td>Harry Potter and the Order of the Phoenix</td>\n",
       "      <td>Harry Potter</td>\n",
       "      <td>5</td>\n",
       "      <td>[J.K. Rowling]</td>\n",
       "      <td>[Fantasy, Fantasy Books, Fantasy Books for Kids]</td>\n",
       "      <td>CD</td>\n",
       "      <td>en</td>\n",
       "    </tr>\n",
       "    <tr>\n",
       "      <th>2</th>\n",
       "      <td>309</td>\n",
       "      <td>108202</td>\n",
       "      <td>130310</td>\n",
       "      <td>567458</td>\n",
       "      <td>1513191</td>\n",
       "      <td>4268227</td>\n",
       "      <td>4.47</td>\n",
       "      <td>6587388</td>\n",
       "      <td>75911</td>\n",
       "      <td>None</td>\n",
       "      <td>2003-11-01</td>\n",
       "      <td>Harry Potter and the Sorcerer's Stone</td>\n",
       "      <td>Harry Potter</td>\n",
       "      <td>1</td>\n",
       "      <td>[J. K. Rowling]</td>\n",
       "      <td>[Thriller Books, Thrillers, Adventure Books, S...</td>\n",
       "      <td>Paperback</td>\n",
       "      <td>en</td>\n",
       "    </tr>\n",
       "    <tr>\n",
       "      <th>3</th>\n",
       "      <td>352</td>\n",
       "      <td>11896</td>\n",
       "      <td>49353</td>\n",
       "      <td>288821</td>\n",
       "      <td>706082</td>\n",
       "      <td>1504505</td>\n",
       "      <td>4.42</td>\n",
       "      <td>2560657</td>\n",
       "      <td>244</td>\n",
       "      <td>0439554896</td>\n",
       "      <td>2003-11-01</td>\n",
       "      <td>Harry Potter and the Chamber of Secrets</td>\n",
       "      <td>Harry Potter</td>\n",
       "      <td>2</td>\n",
       "      <td>[J.K. Rowling]</td>\n",
       "      <td>[Fantasy, Fantasy Books, Fantasy Books for Kids]</td>\n",
       "      <td>CD</td>\n",
       "      <td>en</td>\n",
       "    </tr>\n",
       "    <tr>\n",
       "      <th>4</th>\n",
       "      <td>435</td>\n",
       "      <td>10128</td>\n",
       "      <td>24849</td>\n",
       "      <td>194848</td>\n",
       "      <td>630534</td>\n",
       "      <td>1749958</td>\n",
       "      <td>4.57</td>\n",
       "      <td>2610317</td>\n",
       "      <td>37093</td>\n",
       "      <td>043965548X</td>\n",
       "      <td>2004-05-01</td>\n",
       "      <td>Harry Potter and the Prisoner of Azkaban</td>\n",
       "      <td>Harry Potter</td>\n",
       "      <td>3</td>\n",
       "      <td>[J.K. Rowling]</td>\n",
       "      <td>[Fantasy, Fantasy Books, Fantasy Books for Kids]</td>\n",
       "      <td>CD</td>\n",
       "      <td>en</td>\n",
       "    </tr>\n",
       "  </tbody>\n",
       "</table>\n",
       "</div>"
      ],
      "text/plain": [
       "   num_pages  star_rating_1  star_rating_2  star_rating_3  star_rating_4  \\\n",
       "0        652           9896          25317         159960         556485   \n",
       "1        870          12455          37005         211781         604283   \n",
       "2        309         108202         130310         567458        1513191   \n",
       "3        352          11896          49353         288821         706082   \n",
       "4        435          10128          24849         194848         630534   \n",
       "\n",
       "   star_rating_5  average_rating  total_ratings  total_reviews        isbn  \\\n",
       "0        1546466            4.57        2298124          28062        None   \n",
       "1        1493113            4.50        2358637          29770  0439358078   \n",
       "2        4268227            4.47        6587388          75911        None   \n",
       "3        1504505            4.42        2560657            244  0439554896   \n",
       "4        1749958            4.57        2610317          37093  043965548X   \n",
       "\n",
       "  publication_date                                      title        series  \\\n",
       "0       2006-09-16     Harry Potter and the Half-Blood Prince  Harry Potter   \n",
       "1       2004-09-01  Harry Potter and the Order of the Phoenix  Harry Potter   \n",
       "2       2003-11-01      Harry Potter and the Sorcerer's Stone  Harry Potter   \n",
       "3       2003-11-01    Harry Potter and the Chamber of Secrets  Harry Potter   \n",
       "4       2004-05-01   Harry Potter and the Prisoner of Azkaban  Harry Potter   \n",
       "\n",
       "   book_number_in_series          authors  \\\n",
       "0                      6  [J. K. Rowling]   \n",
       "1                      5   [J.K. Rowling]   \n",
       "2                      1  [J. K. Rowling]   \n",
       "3                      2   [J.K. Rowling]   \n",
       "4                      3   [J.K. Rowling]   \n",
       "\n",
       "                                          categories     format lang  \n",
       "0                           [Fantasy, Fantasy Books]         CD   en  \n",
       "1   [Fantasy, Fantasy Books, Fantasy Books for Kids]         CD   en  \n",
       "2  [Thriller Books, Thrillers, Adventure Books, S...  Paperback   en  \n",
       "3   [Fantasy, Fantasy Books, Fantasy Books for Kids]         CD   en  \n",
       "4   [Fantasy, Fantasy Books, Fantasy Books for Kids]         CD   en  "
      ]
     },
     "execution_count": 29,
     "metadata": {},
     "output_type": "execute_result"
    }
   ],
   "source": [
    "books.head()"
   ]
  },
  {
   "cell_type": "code",
   "execution_count": 36,
   "metadata": {},
   "outputs": [
    {
     "data": {
      "text/html": [
       "<div>\n",
       "<style scoped>\n",
       "    .dataframe tbody tr th:only-of-type {\n",
       "        vertical-align: middle;\n",
       "    }\n",
       "\n",
       "    .dataframe tbody tr th {\n",
       "        vertical-align: top;\n",
       "    }\n",
       "\n",
       "    .dataframe thead th {\n",
       "        text-align: right;\n",
       "    }\n",
       "</style>\n",
       "<table border=\"1\" class=\"dataframe\">\n",
       "  <thead>\n",
       "    <tr style=\"text-align: right;\">\n",
       "      <th></th>\n",
       "      <th>user_id</th>\n",
       "      <th>location</th>\n",
       "      <th>age</th>\n",
       "    </tr>\n",
       "  </thead>\n",
       "  <tbody>\n",
       "    <tr>\n",
       "      <th>0</th>\n",
       "      <td>1</td>\n",
       "      <td>nyc, new york, usa</td>\n",
       "      <td>NaN</td>\n",
       "    </tr>\n",
       "    <tr>\n",
       "      <th>1</th>\n",
       "      <td>2</td>\n",
       "      <td>stockton, california, usa</td>\n",
       "      <td>18.0</td>\n",
       "    </tr>\n",
       "    <tr>\n",
       "      <th>2</th>\n",
       "      <td>3</td>\n",
       "      <td>moscow, yukon territory, russia</td>\n",
       "      <td>NaN</td>\n",
       "    </tr>\n",
       "    <tr>\n",
       "      <th>3</th>\n",
       "      <td>4</td>\n",
       "      <td>porto, v.n.gaia, portugal</td>\n",
       "      <td>17.0</td>\n",
       "    </tr>\n",
       "    <tr>\n",
       "      <th>4</th>\n",
       "      <td>5</td>\n",
       "      <td>farnborough, hants, united kingdom</td>\n",
       "      <td>NaN</td>\n",
       "    </tr>\n",
       "  </tbody>\n",
       "</table>\n",
       "</div>"
      ],
      "text/plain": [
       "   user_id                            location   age\n",
       "0        1                  nyc, new york, usa   NaN\n",
       "1        2           stockton, california, usa  18.0\n",
       "2        3     moscow, yukon territory, russia   NaN\n",
       "3        4           porto, v.n.gaia, portugal  17.0\n",
       "4        5  farnborough, hants, united kingdom   NaN"
      ]
     },
     "execution_count": 36,
     "metadata": {},
     "output_type": "execute_result"
    }
   ],
   "source": [
    "users.head()"
   ]
  },
  {
   "cell_type": "markdown",
   "metadata": {},
   "source": [
    "## Preprocessing"
   ]
  },
  {
   "cell_type": "markdown",
   "metadata": {},
   "source": [
    "As a part of preprocessing, we will do the following steps:\n",
    "1. Create new columns, city, state and country from the location column.\n",
    "2. Remove the location column.\n",
    "3. Fill the age column with mean of the group of city, state and country. If some are remaining, use overall mean.\n",
    "4. Select columns to be used from book details."
   ]
  },
  {
   "cell_type": "markdown",
   "metadata": {},
   "source": [
    "### Users Dataset"
   ]
  },
  {
   "cell_type": "code",
   "execution_count": 37,
   "metadata": {},
   "outputs": [],
   "source": [
    "users[\"city\"] = users[\"location\"].str.split(\", \").str[0]\n",
    "users[\"state\"] = users[\"location\"].str.split(\", \").str[1]\n",
    "users[\"country\"] = users[\"location\"].str.split(\", \").str[2]"
   ]
  },
  {
   "cell_type": "code",
   "execution_count": 48,
   "metadata": {},
   "outputs": [
    {
     "data": {
      "application/vnd.jupyter.widget-view+json": {
       "model_id": "4b0afc7be9e44ca9a3cb559c602d678a",
       "version_major": 2,
       "version_minor": 0
      },
      "text/plain": [
       "  0%|          | 0/57297 [00:00<?, ?it/s]"
      ]
     },
     "metadata": {},
     "output_type": "display_data"
    }
   ],
   "source": [
    "groups = users.groupby([\"city\", \"state\", \"country\"]).groups\n",
    "users_final = pd.DataFrame()\n",
    "for group in tqdm(groups):\n",
    "    temp_df = users.loc[groups[group]]\n",
    "    if len(temp_df[\"age\"].notnull()) == 0:\n",
    "        users_final = pd.concat([users_final, temp_df], ignore_index=True)\n",
    "    temp_df[\"age\"].fillna(temp_df[\"age\"].mean(), inplace=True)\n",
    "    users_final = users_final.append(temp_df)\n"
   ]
  },
  {
   "cell_type": "code",
   "execution_count": 56,
   "metadata": {},
   "outputs": [
    {
     "data": {
      "text/plain": [
       "(18273, 110762)"
      ]
     },
     "execution_count": 56,
     "metadata": {},
     "output_type": "execute_result"
    }
   ],
   "source": [
    "users_final[\"age\"].isna().sum(), users[\"age\"].isna().sum()"
   ]
  },
  {
   "cell_type": "code",
   "execution_count": 57,
   "metadata": {},
   "outputs": [],
   "source": [
    "users_final[\"age\"].fillna(users_final[\"age\"].mean(), inplace=True)"
   ]
  },
  {
   "cell_type": "code",
   "execution_count": 58,
   "metadata": {},
   "outputs": [
    {
     "data": {
      "text/plain": [
       "0"
      ]
     },
     "execution_count": 58,
     "metadata": {},
     "output_type": "execute_result"
    }
   ],
   "source": [
    "users_final[\"age\"].isna().sum()"
   ]
  },
  {
   "cell_type": "code",
   "execution_count": 64,
   "metadata": {},
   "outputs": [
    {
     "data": {
      "text/html": [
       "<div>\n",
       "<style scoped>\n",
       "    .dataframe tbody tr th:only-of-type {\n",
       "        vertical-align: middle;\n",
       "    }\n",
       "\n",
       "    .dataframe tbody tr th {\n",
       "        vertical-align: top;\n",
       "    }\n",
       "\n",
       "    .dataframe thead th {\n",
       "        text-align: right;\n",
       "    }\n",
       "</style>\n",
       "<table border=\"1\" class=\"dataframe\">\n",
       "  <thead>\n",
       "    <tr style=\"text-align: right;\">\n",
       "      <th></th>\n",
       "      <th>user_id</th>\n",
       "      <th>age</th>\n",
       "      <th>city</th>\n",
       "      <th>state</th>\n",
       "      <th>country</th>\n",
       "    </tr>\n",
       "  </thead>\n",
       "  <tbody>\n",
       "    <tr>\n",
       "      <th>0</th>\n",
       "      <td>1</td>\n",
       "      <td>31</td>\n",
       "      <td>nyc</td>\n",
       "      <td>new york</td>\n",
       "      <td>usa</td>\n",
       "    </tr>\n",
       "    <tr>\n",
       "      <th>1</th>\n",
       "      <td>2</td>\n",
       "      <td>18</td>\n",
       "      <td>stockton</td>\n",
       "      <td>california</td>\n",
       "      <td>usa</td>\n",
       "    </tr>\n",
       "    <tr>\n",
       "      <th>2</th>\n",
       "      <td>3</td>\n",
       "      <td>55</td>\n",
       "      <td>moscow</td>\n",
       "      <td>yukon territory</td>\n",
       "      <td>russia</td>\n",
       "    </tr>\n",
       "    <tr>\n",
       "      <th>3</th>\n",
       "      <td>4</td>\n",
       "      <td>17</td>\n",
       "      <td>porto</td>\n",
       "      <td>v.n.gaia</td>\n",
       "      <td>portugal</td>\n",
       "    </tr>\n",
       "    <tr>\n",
       "      <th>4</th>\n",
       "      <td>5</td>\n",
       "      <td>35</td>\n",
       "      <td>farnborough</td>\n",
       "      <td>hants</td>\n",
       "      <td>united kingdom</td>\n",
       "    </tr>\n",
       "  </tbody>\n",
       "</table>\n",
       "</div>"
      ],
      "text/plain": [
       "   user_id  age         city            state         country\n",
       "0        1   31          nyc         new york             usa\n",
       "1        2   18     stockton       california             usa\n",
       "2        3   55       moscow  yukon territory          russia\n",
       "3        4   17        porto         v.n.gaia        portugal\n",
       "4        5   35  farnborough            hants  united kingdom"
      ]
     },
     "execution_count": 64,
     "metadata": {},
     "output_type": "execute_result"
    }
   ],
   "source": [
    "users_final = users_final[[\"user_id\", \"age\", \"city\", \"state\", \"country\"]]\n",
    "users_final[\"age\"] = users_final[\"age\"].astype(int)\n",
    "users_final.sort_values(by=\"user_id\", inplace=True)\n",
    "users_final.reset_index(drop=True, inplace=True)\n",
    "users_final.head()"
   ]
  },
  {
   "cell_type": "markdown",
   "metadata": {},
   "source": [
    "### The Books Dataset"
   ]
  },
  {
   "cell_type": "code",
   "execution_count": 67,
   "metadata": {},
   "outputs": [
    {
     "data": {
      "text/html": [
       "<div>\n",
       "<style scoped>\n",
       "    .dataframe tbody tr th:only-of-type {\n",
       "        vertical-align: middle;\n",
       "    }\n",
       "\n",
       "    .dataframe tbody tr th {\n",
       "        vertical-align: top;\n",
       "    }\n",
       "\n",
       "    .dataframe thead th {\n",
       "        text-align: right;\n",
       "    }\n",
       "</style>\n",
       "<table border=\"1\" class=\"dataframe\">\n",
       "  <thead>\n",
       "    <tr style=\"text-align: right;\">\n",
       "      <th></th>\n",
       "      <th>0</th>\n",
       "      <th>1</th>\n",
       "      <th>2</th>\n",
       "      <th>3</th>\n",
       "      <th>4</th>\n",
       "    </tr>\n",
       "  </thead>\n",
       "  <tbody>\n",
       "    <tr>\n",
       "      <th>num_pages</th>\n",
       "      <td>652</td>\n",
       "      <td>870</td>\n",
       "      <td>309</td>\n",
       "      <td>352</td>\n",
       "      <td>435</td>\n",
       "    </tr>\n",
       "    <tr>\n",
       "      <th>star_rating_1</th>\n",
       "      <td>9896</td>\n",
       "      <td>12455</td>\n",
       "      <td>108202</td>\n",
       "      <td>11896</td>\n",
       "      <td>10128</td>\n",
       "    </tr>\n",
       "    <tr>\n",
       "      <th>star_rating_2</th>\n",
       "      <td>25317</td>\n",
       "      <td>37005</td>\n",
       "      <td>130310</td>\n",
       "      <td>49353</td>\n",
       "      <td>24849</td>\n",
       "    </tr>\n",
       "    <tr>\n",
       "      <th>star_rating_3</th>\n",
       "      <td>159960</td>\n",
       "      <td>211781</td>\n",
       "      <td>567458</td>\n",
       "      <td>288821</td>\n",
       "      <td>194848</td>\n",
       "    </tr>\n",
       "    <tr>\n",
       "      <th>star_rating_4</th>\n",
       "      <td>556485</td>\n",
       "      <td>604283</td>\n",
       "      <td>1513191</td>\n",
       "      <td>706082</td>\n",
       "      <td>630534</td>\n",
       "    </tr>\n",
       "    <tr>\n",
       "      <th>star_rating_5</th>\n",
       "      <td>1546466</td>\n",
       "      <td>1493113</td>\n",
       "      <td>4268227</td>\n",
       "      <td>1504505</td>\n",
       "      <td>1749958</td>\n",
       "    </tr>\n",
       "    <tr>\n",
       "      <th>average_rating</th>\n",
       "      <td>4.57</td>\n",
       "      <td>4.5</td>\n",
       "      <td>4.47</td>\n",
       "      <td>4.42</td>\n",
       "      <td>4.57</td>\n",
       "    </tr>\n",
       "    <tr>\n",
       "      <th>total_ratings</th>\n",
       "      <td>2298124</td>\n",
       "      <td>2358637</td>\n",
       "      <td>6587388</td>\n",
       "      <td>2560657</td>\n",
       "      <td>2610317</td>\n",
       "    </tr>\n",
       "    <tr>\n",
       "      <th>total_reviews</th>\n",
       "      <td>28062</td>\n",
       "      <td>29770</td>\n",
       "      <td>75911</td>\n",
       "      <td>244</td>\n",
       "      <td>37093</td>\n",
       "    </tr>\n",
       "    <tr>\n",
       "      <th>isbn</th>\n",
       "      <td>None</td>\n",
       "      <td>0439358078</td>\n",
       "      <td>None</td>\n",
       "      <td>0439554896</td>\n",
       "      <td>043965548X</td>\n",
       "    </tr>\n",
       "    <tr>\n",
       "      <th>publication_date</th>\n",
       "      <td>2006-09-16</td>\n",
       "      <td>2004-09-01</td>\n",
       "      <td>2003-11-01</td>\n",
       "      <td>2003-11-01</td>\n",
       "      <td>2004-05-01</td>\n",
       "    </tr>\n",
       "    <tr>\n",
       "      <th>title</th>\n",
       "      <td>Harry Potter and the Half-Blood Prince</td>\n",
       "      <td>Harry Potter and the Order of the Phoenix</td>\n",
       "      <td>Harry Potter and the Sorcerer's Stone</td>\n",
       "      <td>Harry Potter and the Chamber of Secrets</td>\n",
       "      <td>Harry Potter and the Prisoner of Azkaban</td>\n",
       "    </tr>\n",
       "    <tr>\n",
       "      <th>series</th>\n",
       "      <td>Harry Potter</td>\n",
       "      <td>Harry Potter</td>\n",
       "      <td>Harry Potter</td>\n",
       "      <td>Harry Potter</td>\n",
       "      <td>Harry Potter</td>\n",
       "    </tr>\n",
       "    <tr>\n",
       "      <th>book_number_in_series</th>\n",
       "      <td>6</td>\n",
       "      <td>5</td>\n",
       "      <td>1</td>\n",
       "      <td>2</td>\n",
       "      <td>3</td>\n",
       "    </tr>\n",
       "    <tr>\n",
       "      <th>authors</th>\n",
       "      <td>[J. K. Rowling]</td>\n",
       "      <td>[J.K. Rowling]</td>\n",
       "      <td>[J. K. Rowling]</td>\n",
       "      <td>[J.K. Rowling]</td>\n",
       "      <td>[J.K. Rowling]</td>\n",
       "    </tr>\n",
       "    <tr>\n",
       "      <th>categories</th>\n",
       "      <td>[Fantasy, Fantasy Books]</td>\n",
       "      <td>[Fantasy, Fantasy Books, Fantasy Books for Kids]</td>\n",
       "      <td>[Thriller Books, Thrillers, Adventure Books, S...</td>\n",
       "      <td>[Fantasy, Fantasy Books, Fantasy Books for Kids]</td>\n",
       "      <td>[Fantasy, Fantasy Books, Fantasy Books for Kids]</td>\n",
       "    </tr>\n",
       "    <tr>\n",
       "      <th>format</th>\n",
       "      <td>CD</td>\n",
       "      <td>CD</td>\n",
       "      <td>Paperback</td>\n",
       "      <td>CD</td>\n",
       "      <td>CD</td>\n",
       "    </tr>\n",
       "    <tr>\n",
       "      <th>lang</th>\n",
       "      <td>en</td>\n",
       "      <td>en</td>\n",
       "      <td>en</td>\n",
       "      <td>en</td>\n",
       "      <td>en</td>\n",
       "    </tr>\n",
       "  </tbody>\n",
       "</table>\n",
       "</div>"
      ],
      "text/plain": [
       "                                                            0  \\\n",
       "num_pages                                                 652   \n",
       "star_rating_1                                            9896   \n",
       "star_rating_2                                           25317   \n",
       "star_rating_3                                          159960   \n",
       "star_rating_4                                          556485   \n",
       "star_rating_5                                         1546466   \n",
       "average_rating                                           4.57   \n",
       "total_ratings                                         2298124   \n",
       "total_reviews                                           28062   \n",
       "isbn                                                     None   \n",
       "publication_date                                   2006-09-16   \n",
       "title                  Harry Potter and the Half-Blood Prince   \n",
       "series                                           Harry Potter   \n",
       "book_number_in_series                                       6   \n",
       "authors                                       [J. K. Rowling]   \n",
       "categories                           [Fantasy, Fantasy Books]   \n",
       "format                                                     CD   \n",
       "lang                                                       en   \n",
       "\n",
       "                                                                      1  \\\n",
       "num_pages                                                           870   \n",
       "star_rating_1                                                     12455   \n",
       "star_rating_2                                                     37005   \n",
       "star_rating_3                                                    211781   \n",
       "star_rating_4                                                    604283   \n",
       "star_rating_5                                                   1493113   \n",
       "average_rating                                                      4.5   \n",
       "total_ratings                                                   2358637   \n",
       "total_reviews                                                     29770   \n",
       "isbn                                                         0439358078   \n",
       "publication_date                                             2004-09-01   \n",
       "title                         Harry Potter and the Order of the Phoenix   \n",
       "series                                                     Harry Potter   \n",
       "book_number_in_series                                                 5   \n",
       "authors                                                  [J.K. Rowling]   \n",
       "categories             [Fantasy, Fantasy Books, Fantasy Books for Kids]   \n",
       "format                                                               CD   \n",
       "lang                                                                 en   \n",
       "\n",
       "                                                                       2  \\\n",
       "num_pages                                                            309   \n",
       "star_rating_1                                                     108202   \n",
       "star_rating_2                                                     130310   \n",
       "star_rating_3                                                     567458   \n",
       "star_rating_4                                                    1513191   \n",
       "star_rating_5                                                    4268227   \n",
       "average_rating                                                      4.47   \n",
       "total_ratings                                                    6587388   \n",
       "total_reviews                                                      75911   \n",
       "isbn                                                                None   \n",
       "publication_date                                              2003-11-01   \n",
       "title                              Harry Potter and the Sorcerer's Stone   \n",
       "series                                                      Harry Potter   \n",
       "book_number_in_series                                                  1   \n",
       "authors                                                  [J. K. Rowling]   \n",
       "categories             [Thriller Books, Thrillers, Adventure Books, S...   \n",
       "format                                                         Paperback   \n",
       "lang                                                                  en   \n",
       "\n",
       "                                                                      3  \\\n",
       "num_pages                                                           352   \n",
       "star_rating_1                                                     11896   \n",
       "star_rating_2                                                     49353   \n",
       "star_rating_3                                                    288821   \n",
       "star_rating_4                                                    706082   \n",
       "star_rating_5                                                   1504505   \n",
       "average_rating                                                     4.42   \n",
       "total_ratings                                                   2560657   \n",
       "total_reviews                                                       244   \n",
       "isbn                                                         0439554896   \n",
       "publication_date                                             2003-11-01   \n",
       "title                           Harry Potter and the Chamber of Secrets   \n",
       "series                                                     Harry Potter   \n",
       "book_number_in_series                                                 2   \n",
       "authors                                                  [J.K. Rowling]   \n",
       "categories             [Fantasy, Fantasy Books, Fantasy Books for Kids]   \n",
       "format                                                               CD   \n",
       "lang                                                                 en   \n",
       "\n",
       "                                                                      4  \n",
       "num_pages                                                           435  \n",
       "star_rating_1                                                     10128  \n",
       "star_rating_2                                                     24849  \n",
       "star_rating_3                                                    194848  \n",
       "star_rating_4                                                    630534  \n",
       "star_rating_5                                                   1749958  \n",
       "average_rating                                                     4.57  \n",
       "total_ratings                                                   2610317  \n",
       "total_reviews                                                     37093  \n",
       "isbn                                                         043965548X  \n",
       "publication_date                                             2004-05-01  \n",
       "title                          Harry Potter and the Prisoner of Azkaban  \n",
       "series                                                     Harry Potter  \n",
       "book_number_in_series                                                 3  \n",
       "authors                                                  [J.K. Rowling]  \n",
       "categories             [Fantasy, Fantasy Books, Fantasy Books for Kids]  \n",
       "format                                                               CD  \n",
       "lang                                                                 en  "
      ]
     },
     "execution_count": 67,
     "metadata": {},
     "output_type": "execute_result"
    }
   ],
   "source": [
    "books.head().T"
   ]
  },
  {
   "cell_type": "code",
   "execution_count": 66,
   "metadata": {},
   "outputs": [
    {
     "data": {
      "text/plain": [
       "Index(['num_pages', 'star_rating_1', 'star_rating_2', 'star_rating_3',\n",
       "       'star_rating_4', 'star_rating_5', 'average_rating', 'total_ratings',\n",
       "       'total_reviews', 'isbn', 'publication_date', 'title', 'series',\n",
       "       'book_number_in_series', 'authors', 'categories', 'format', 'lang'],\n",
       "      dtype='object')"
      ]
     },
     "execution_count": 66,
     "metadata": {},
     "output_type": "execute_result"
    }
   ],
   "source": [
    "books.columns"
   ]
  },
  {
   "cell_type": "markdown",
   "metadata": {},
   "source": [
    "## Smaller Dataset"
   ]
  },
  {
   "cell_type": "code",
   "execution_count": 5,
   "metadata": {},
   "outputs": [
    {
     "data": {
      "text/plain": [
       "isbn\n",
       "0316666343    707\n",
       "0060928336    320\n",
       "0671027360    269\n",
       "067976402X    256\n",
       "0786868716    242\n",
       "Name: provided_rating, dtype: int64"
      ]
     },
     "execution_count": 5,
     "metadata": {},
     "output_type": "execute_result"
    }
   ],
   "source": [
    "num_ratings = df.groupby('isbn')['provided_rating'].count().sort_values(ascending=False)\n",
    "most_rated_books = num_ratings.index[:10]\n",
    "num_ratings = df.groupby('isbn')['provided_rating'].count().sort_values(ascending=False)\n",
    "most_rated_books = num_ratings.index[:10]\n",
    "num_ratings.head()"
   ]
  },
  {
   "cell_type": "code",
   "execution_count": 6,
   "metadata": {},
   "outputs": [
    {
     "data": {
      "text/plain": [
       "user_id\n",
       "11676     1593\n",
       "98391      595\n",
       "189835     371\n",
       "76499      333\n",
       "153662     322\n",
       "          ... \n",
       "59675        1\n",
       "157184       1\n",
       "59685        1\n",
       "59697        1\n",
       "278854       1\n",
       "Name: provided_rating, Length: 31940, dtype: int64"
      ]
     },
     "execution_count": 6,
     "metadata": {},
     "output_type": "execute_result"
    }
   ],
   "source": [
    "df.groupby('user_id')['provided_rating'].count().sort_values(ascending=False)"
   ]
  },
  {
   "cell_type": "code",
   "execution_count": 7,
   "metadata": {},
   "outputs": [
    {
     "data": {
      "text/html": [
       "<div>\n",
       "<style scoped>\n",
       "    .dataframe tbody tr th:only-of-type {\n",
       "        vertical-align: middle;\n",
       "    }\n",
       "\n",
       "    .dataframe tbody tr th {\n",
       "        vertical-align: top;\n",
       "    }\n",
       "\n",
       "    .dataframe thead th {\n",
       "        text-align: right;\n",
       "    }\n",
       "</style>\n",
       "<table border=\"1\" class=\"dataframe\">\n",
       "  <thead>\n",
       "    <tr style=\"text-align: right;\">\n",
       "      <th></th>\n",
       "      <th>provided_rating</th>\n",
       "      <th>num_ratings</th>\n",
       "    </tr>\n",
       "    <tr>\n",
       "      <th>isbn</th>\n",
       "      <th></th>\n",
       "      <th></th>\n",
       "    </tr>\n",
       "  </thead>\n",
       "  <tbody>\n",
       "    <tr>\n",
       "      <th>0002163578</th>\n",
       "      <td>5.0</td>\n",
       "      <td>1</td>\n",
       "    </tr>\n",
       "    <tr>\n",
       "      <th>0002190915</th>\n",
       "      <td>9.5</td>\n",
       "      <td>2</td>\n",
       "    </tr>\n",
       "    <tr>\n",
       "      <th>0002210479</th>\n",
       "      <td>6.0</td>\n",
       "      <td>1</td>\n",
       "    </tr>\n",
       "    <tr>\n",
       "      <th>0002222469</th>\n",
       "      <td>8.0</td>\n",
       "      <td>1</td>\n",
       "    </tr>\n",
       "    <tr>\n",
       "      <th>0002241358</th>\n",
       "      <td>8.0</td>\n",
       "      <td>1</td>\n",
       "    </tr>\n",
       "  </tbody>\n",
       "</table>\n",
       "</div>"
      ],
      "text/plain": [
       "            provided_rating  num_ratings\n",
       "isbn                                    \n",
       "0002163578              5.0            1\n",
       "0002190915              9.5            2\n",
       "0002210479              6.0            1\n",
       "0002222469              8.0            1\n",
       "0002241358              8.0            1"
      ]
     },
     "execution_count": 7,
     "metadata": {},
     "output_type": "execute_result"
    }
   ],
   "source": [
    "ratings = pd.DataFrame(df.groupby('isbn')['provided_rating'].mean())\n",
    "ratings['num_ratings'] = pd.DataFrame(df.groupby('isbn')['provided_rating'].count())\n",
    "ratings.head()"
   ]
  },
  {
   "cell_type": "code",
   "execution_count": 8,
   "metadata": {},
   "outputs": [
    {
     "name": "stdout",
     "output_type": "stream",
     "text": [
      "Number of books_ with more than 5 ratings: 3823\n",
      "Original number of books_: 22020\n",
      "Number of rows in the original dataset: 104756\n",
      "Number of rows in the new dataset: 72190\n",
      "Number of unique users in the new dataset: 25812\n"
     ]
    }
   ],
   "source": [
    "min_ratings = 5\n",
    "books_ = ratings.query(f\"num_ratings > {min_ratings}\").index\n",
    "print(f\"Number of books_ with more than {min_ratings} ratings: {len(books_)}\")\n",
    "print(f\"Original number of books_: {df['isbn'].nunique()}\")\n",
    "print(f\"Number of rows in the original dataset: {df.shape[0]}\")\n",
    "df_small = df[df['isbn'].isin(books_)]\n",
    "unique_users = df_small['user_id'].nunique()\n",
    "print(f\"Number of rows in the new dataset: {df_small.shape[0]}\")\n",
    "print(f\"Number of unique users in the new dataset: {unique_users}\")"
   ]
  },
  {
   "cell_type": "markdown",
   "metadata": {},
   "source": [
    "## Preprocessing"
   ]
  },
  {
   "cell_type": "code",
   "execution_count": 9,
   "metadata": {},
   "outputs": [
    {
     "name": "stdout",
     "output_type": "stream",
     "text": [
      "Num. of Users: 25812\n",
      "Num of Movies: 3823\n"
     ]
    }
   ],
   "source": [
    "n_users = df_small.user_id.nunique()\n",
    "n_items = df_small.isbn.nunique()\n",
    "\n",
    "print('Num. of Users: '+ str(n_users))\n",
    "print('Num of Movies: '+str(n_items))"
   ]
  },
  {
   "cell_type": "code",
   "execution_count": 10,
   "metadata": {},
   "outputs": [],
   "source": [
    "user_id_map = dict(zip(df_small.user_id.unique(), list(range(n_users))))\n",
    "book_id_map = dict(zip(df_small.isbn.unique(), list(range(n_items))))\n",
    "user_id_map_df  = pd.DataFrame(\n",
    "    {\n",
    "        \"user_id\":user_id_map.keys(),\n",
    "        \"user_id_new\": user_id_map.values(),\n",
    "    }\n",
    ")\n",
    "book_id_map_df  = pd.DataFrame(\n",
    "    {\n",
    "        \"isbn\":book_id_map.keys(),\n",
    "        \"isbn_new\": book_id_map.values(),\n",
    "    }\n",
    ")\n",
    "df_small[\"user_id\"] = df_small[\"user_id\"].map(user_id_map)\n",
    "df_small[\"isbn\"] = df_small[\"isbn\"].map(book_id_map)"
   ]
  },
  {
   "cell_type": "code",
   "execution_count": 28,
   "metadata": {},
   "outputs": [
    {
     "data": {
      "text/html": [
       "<div>\n",
       "<style scoped>\n",
       "    .dataframe tbody tr th:only-of-type {\n",
       "        vertical-align: middle;\n",
       "    }\n",
       "\n",
       "    .dataframe tbody tr th {\n",
       "        vertical-align: top;\n",
       "    }\n",
       "\n",
       "    .dataframe thead th {\n",
       "        text-align: right;\n",
       "    }\n",
       "</style>\n",
       "<table border=\"1\" class=\"dataframe\">\n",
       "  <thead>\n",
       "    <tr style=\"text-align: right;\">\n",
       "      <th></th>\n",
       "      <th>user_id</th>\n",
       "      <th>isbn</th>\n",
       "      <th>provided_rating</th>\n",
       "    </tr>\n",
       "  </thead>\n",
       "  <tbody>\n",
       "    <tr>\n",
       "      <th>0</th>\n",
       "      <td>0</td>\n",
       "      <td>0</td>\n",
       "      <td>6</td>\n",
       "    </tr>\n",
       "    <tr>\n",
       "      <th>1</th>\n",
       "      <td>0</td>\n",
       "      <td>1</td>\n",
       "      <td>5</td>\n",
       "    </tr>\n",
       "    <tr>\n",
       "      <th>2</th>\n",
       "      <td>1</td>\n",
       "      <td>2</td>\n",
       "      <td>9</td>\n",
       "    </tr>\n",
       "    <tr>\n",
       "      <th>3</th>\n",
       "      <td>2</td>\n",
       "      <td>3</td>\n",
       "      <td>7</td>\n",
       "    </tr>\n",
       "    <tr>\n",
       "      <th>4</th>\n",
       "      <td>3</td>\n",
       "      <td>4</td>\n",
       "      <td>8</td>\n",
       "    </tr>\n",
       "  </tbody>\n",
       "</table>\n",
       "</div>"
      ],
      "text/plain": [
       "   user_id  isbn  provided_rating\n",
       "0        0     0                6\n",
       "1        0     1                5\n",
       "2        1     2                9\n",
       "3        2     3                7\n",
       "4        3     4                8"
      ]
     },
     "execution_count": 28,
     "metadata": {},
     "output_type": "execute_result"
    }
   ],
   "source": [
    "df_small.head()"
   ]
  },
  {
   "cell_type": "code",
   "execution_count": 11,
   "metadata": {},
   "outputs": [],
   "source": [
    "def split_dataframe(df, holdout_fraction=0.1):\n",
    "  \"\"\"Splits a DataFrame into training and test sets.\n",
    "  Args:\n",
    "    df: a dataframe.\n",
    "    holdout_fraction: fraction of dataframe rows to use in the test set.\n",
    "  Returns:\n",
    "    train: dataframe for training\n",
    "    test: dataframe for testing\n",
    "  \"\"\"\n",
    "  test = df.sample(frac=holdout_fraction, replace=False)\n",
    "  train = df[~df.index.isin(test.index)]\n",
    "  return train, test\n",
    "\n",
    "train_df_, test_df_ = split_dataframe(df_small)"
   ]
  },
  {
   "cell_type": "markdown",
   "metadata": {},
   "source": [
    "# Theory"
   ]
  },
  {
   "cell_type": "markdown",
   "metadata": {},
   "source": [
    "Using neural networks instead of matrix factorization (MF) for recommendation systems has a number of advantages. See the notes section for detail. Here, we will be providing the model architecture that will be used for the recommendation system."
   ]
  },
  {
   "cell_type": "markdown",
   "metadata": {},
   "source": [
    "The model will consist of two steps:"
   ]
  },
  {
   "cell_type": "markdown",
   "metadata": {},
   "source": [
    "## The Embedding Layer"
   ]
  },
  {
   "cell_type": "markdown",
   "metadata": {},
   "source": [
    "This layer will take the user and item IDs in one-hot encoded form along with any other user and item feature and will pass it through a fully connected layer. The output of this layer will be the latent representation of the user and item. Let use denote $\\mathbf{u}$ as the user and $\\mathbf{v}$ as the item. Their dimensions will be $m+m_{uf}$ and $n+n_{if}$ respectively where $m$ and $n$ are the number of users and items and $m_{uf}$ and $n_{if}$ are the number of user and item features respectively. The output of the embedding layer will be $\\mathbf{u} \\in \\mathbb{R}^d$ and $\\mathbf{v} \\in \\mathbb{R}^d$ where $d$ is the dimension of the latent space."
   ]
  },
  {
   "cell_type": "markdown",
   "metadata": {},
   "source": [
    "We will have two different layers, one for users and the other of items. This is required because the number of users and items are different and we want to learn different embeddings for them. The user embedding layer will have $m+m_{uf}$ neurons and the item embedding layer will have $n+n_{if}$ neurons."
   ]
  },
  {
   "cell_type": "markdown",
   "metadata": {},
   "source": [
    "## CF Layers"
   ]
  },
  {
   "cell_type": "markdown",
   "metadata": {},
   "source": [
    "CF layers, or collaborative filtering layers are made up of one or more layers of fully connected layers. The input to these layers will be the concatenation of the user and item latent representations. The output of the CF layers will be the predicted rating.\n",
    "\n",
    "![](images/dl_01.png)"
   ]
  },
  {
   "cell_type": "markdown",
   "metadata": {},
   "source": [
    "## Loss Function"
   ]
  },
  {
   "cell_type": "markdown",
   "metadata": {},
   "source": [
    "The loss function can either be MSE or cross entropy. We will be experimenting with both."
   ]
  },
  {
   "cell_type": "markdown",
   "metadata": {},
   "source": [
    "## Data"
   ]
  },
  {
   "cell_type": "markdown",
   "metadata": {},
   "source": [
    "We will be using all the positive data and a random sample of the negative data. The ratio of positive to negative data will be decided by a parameter."
   ]
  },
  {
   "cell_type": "markdown",
   "metadata": {},
   "source": [
    "# Model"
   ]
  },
  {
   "cell_type": "code",
   "execution_count": 27,
   "metadata": {},
   "outputs": [
    {
     "data": {
      "text/html": [
       "<div>\n",
       "<style scoped>\n",
       "    .dataframe tbody tr th:only-of-type {\n",
       "        vertical-align: middle;\n",
       "    }\n",
       "\n",
       "    .dataframe tbody tr th {\n",
       "        vertical-align: top;\n",
       "    }\n",
       "\n",
       "    .dataframe thead th {\n",
       "        text-align: right;\n",
       "    }\n",
       "</style>\n",
       "<table border=\"1\" class=\"dataframe\">\n",
       "  <thead>\n",
       "    <tr style=\"text-align: right;\">\n",
       "      <th></th>\n",
       "      <th>user_id</th>\n",
       "      <th>isbn</th>\n",
       "      <th>provided_rating</th>\n",
       "    </tr>\n",
       "  </thead>\n",
       "  <tbody>\n",
       "    <tr>\n",
       "      <th>0</th>\n",
       "      <td>0</td>\n",
       "      <td>0</td>\n",
       "      <td>6</td>\n",
       "    </tr>\n",
       "    <tr>\n",
       "      <th>1</th>\n",
       "      <td>0</td>\n",
       "      <td>1</td>\n",
       "      <td>5</td>\n",
       "    </tr>\n",
       "    <tr>\n",
       "      <th>2</th>\n",
       "      <td>1</td>\n",
       "      <td>2</td>\n",
       "      <td>9</td>\n",
       "    </tr>\n",
       "    <tr>\n",
       "      <th>3</th>\n",
       "      <td>2</td>\n",
       "      <td>3</td>\n",
       "      <td>7</td>\n",
       "    </tr>\n",
       "    <tr>\n",
       "      <th>4</th>\n",
       "      <td>3</td>\n",
       "      <td>4</td>\n",
       "      <td>8</td>\n",
       "    </tr>\n",
       "  </tbody>\n",
       "</table>\n",
       "</div>"
      ],
      "text/plain": [
       "   user_id  isbn  provided_rating\n",
       "0        0     0                6\n",
       "1        0     1                5\n",
       "2        1     2                9\n",
       "3        2     3                7\n",
       "4        3     4                8"
      ]
     },
     "execution_count": 27,
     "metadata": {},
     "output_type": "execute_result"
    }
   ],
   "source": [
    "train_df_.head()"
   ]
  },
  {
   "cell_type": "code",
   "execution_count": null,
   "metadata": {},
   "outputs": [],
   "source": []
  }
 ],
 "metadata": {
  "kernelspec": {
   "display_name": "data-science",
   "language": "python",
   "name": "python3"
  },
  "language_info": {
   "codemirror_mode": {
    "name": "ipython",
    "version": 3
   },
   "file_extension": ".py",
   "mimetype": "text/x-python",
   "name": "python",
   "nbconvert_exporter": "python",
   "pygments_lexer": "ipython3",
   "version": "3.10.12"
  },
  "orig_nbformat": 4
 },
 "nbformat": 4,
 "nbformat_minor": 2
}
