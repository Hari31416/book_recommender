{
 "cells": [
  {
   "cell_type": "markdown",
   "metadata": {},
   "source": [
    "# Imports"
   ]
  },
  {
   "cell_type": "code",
   "execution_count": 3,
   "metadata": {},
   "outputs": [],
   "source": [
    "import pandas as pd\n",
    "import numpy as np\n",
    "import matplotlib.pyplot as plt\n",
    "import seaborn as sns\n",
    "import os\n",
    "from tqdm.auto import tqdm\n",
    "from sklearn.model_selection import train_test_split\n",
    "from sklearn.metrics.pairwise import pairwise_distances"
   ]
  },
  {
   "cell_type": "markdown",
   "metadata": {},
   "source": [
    "# Data"
   ]
  },
  {
   "cell_type": "code",
   "execution_count": 4,
   "metadata": {},
   "outputs": [],
   "source": [
    "DATA_DIR = os.path.join(\"..\", \"data\", \"final_dataset\")"
   ]
  },
  {
   "cell_type": "code",
   "execution_count": 5,
   "metadata": {},
   "outputs": [
    {
     "name": "stdout",
     "output_type": "stream",
     "text": [
      "Number of ratings: 104756\n",
      "Number of unique users: 31940\n",
      "Number of books: 22020\n"
     ]
    },
    {
     "data": {
      "text/html": [
       "<div>\n",
       "<style scoped>\n",
       "    .dataframe tbody tr th:only-of-type {\n",
       "        vertical-align: middle;\n",
       "    }\n",
       "\n",
       "    .dataframe tbody tr th {\n",
       "        vertical-align: top;\n",
       "    }\n",
       "\n",
       "    .dataframe thead th {\n",
       "        text-align: right;\n",
       "    }\n",
       "</style>\n",
       "<table border=\"1\" class=\"dataframe\">\n",
       "  <thead>\n",
       "    <tr style=\"text-align: right;\">\n",
       "      <th></th>\n",
       "      <th>user_id</th>\n",
       "      <th>isbn</th>\n",
       "      <th>provided_rating</th>\n",
       "    </tr>\n",
       "  </thead>\n",
       "  <tbody>\n",
       "    <tr>\n",
       "      <th>0</th>\n",
       "      <td>17</td>\n",
       "      <td>0891075275</td>\n",
       "      <td>6</td>\n",
       "    </tr>\n",
       "    <tr>\n",
       "      <th>1</th>\n",
       "      <td>17</td>\n",
       "      <td>0553264990</td>\n",
       "      <td>5</td>\n",
       "    </tr>\n",
       "    <tr>\n",
       "      <th>2</th>\n",
       "      <td>26</td>\n",
       "      <td>0449005615</td>\n",
       "      <td>9</td>\n",
       "    </tr>\n",
       "    <tr>\n",
       "      <th>3</th>\n",
       "      <td>39</td>\n",
       "      <td>0671888587</td>\n",
       "      <td>7</td>\n",
       "    </tr>\n",
       "    <tr>\n",
       "      <th>4</th>\n",
       "      <td>69</td>\n",
       "      <td>1853260053</td>\n",
       "      <td>8</td>\n",
       "    </tr>\n",
       "  </tbody>\n",
       "</table>\n",
       "</div>"
      ],
      "text/plain": [
       "   user_id        isbn  provided_rating\n",
       "0       17  0891075275                6\n",
       "1       17  0553264990                5\n",
       "2       26  0449005615                9\n",
       "3       39  0671888587                7\n",
       "4       69  1853260053                8"
      ]
     },
     "execution_count": 5,
     "metadata": {},
     "output_type": "execute_result"
    }
   ],
   "source": [
    "df = pd.read_parquet(os.path.join(DATA_DIR, 'ratings.parquet'))\n",
    "books= pd.read_parquet(os.path.join(DATA_DIR, 'books_all.parquet'))\n",
    "df = df[df[\"isbn\"].isin(books[\"isbn\"])]\n",
    "df = df.query(\"provided_rating!=0\")\n",
    "df.reset_index(drop=True, inplace=True)\n",
    "print(f\"Number of ratings: {len(df)}\")\n",
    "print(f\"Number of unique users: {df['user_id'].nunique()}\")\n",
    "print(f\"Number of books: {df['isbn'].nunique()}\")\n",
    "df.head()"
   ]
  },
  {
   "cell_type": "markdown",
   "metadata": {},
   "source": [
    "## Smaller Dataset"
   ]
  },
  {
   "cell_type": "code",
   "execution_count": 6,
   "metadata": {},
   "outputs": [
    {
     "data": {
      "text/plain": [
       "isbn\n",
       "0316666343    707\n",
       "0060928336    320\n",
       "0671027360    269\n",
       "067976402X    256\n",
       "0786868716    242\n",
       "Name: provided_rating, dtype: int64"
      ]
     },
     "execution_count": 6,
     "metadata": {},
     "output_type": "execute_result"
    }
   ],
   "source": [
    "num_ratings = df.groupby('isbn')['provided_rating'].count().sort_values(ascending=False)\n",
    "most_rated_books = num_ratings.index[:10]\n",
    "num_ratings.head()"
   ]
  },
  {
   "cell_type": "code",
   "execution_count": 11,
   "metadata": {},
   "outputs": [
    {
     "data": {
      "text/plain": [
       "user_id\n",
       "11676     1593\n",
       "98391      595\n",
       "189835     371\n",
       "76499      333\n",
       "153662     322\n",
       "          ... \n",
       "59675        1\n",
       "157184       1\n",
       "59685        1\n",
       "59697        1\n",
       "278854       1\n",
       "Name: provided_rating, Length: 31940, dtype: int64"
      ]
     },
     "execution_count": 11,
     "metadata": {},
     "output_type": "execute_result"
    }
   ],
   "source": [
    "df.groupby('user_id')['provided_rating'].count().sort_values(ascending=False)"
   ]
  },
  {
   "cell_type": "code",
   "execution_count": 14,
   "metadata": {},
   "outputs": [
    {
     "data": {
      "text/html": [
       "<div>\n",
       "<style scoped>\n",
       "    .dataframe tbody tr th:only-of-type {\n",
       "        vertical-align: middle;\n",
       "    }\n",
       "\n",
       "    .dataframe tbody tr th {\n",
       "        vertical-align: top;\n",
       "    }\n",
       "\n",
       "    .dataframe thead th {\n",
       "        text-align: right;\n",
       "    }\n",
       "</style>\n",
       "<table border=\"1\" class=\"dataframe\">\n",
       "  <thead>\n",
       "    <tr style=\"text-align: right;\">\n",
       "      <th></th>\n",
       "      <th>provided_rating</th>\n",
       "      <th>num_ratings</th>\n",
       "    </tr>\n",
       "    <tr>\n",
       "      <th>isbn</th>\n",
       "      <th></th>\n",
       "      <th></th>\n",
       "    </tr>\n",
       "  </thead>\n",
       "  <tbody>\n",
       "    <tr>\n",
       "      <th>0002163578</th>\n",
       "      <td>5.0</td>\n",
       "      <td>1</td>\n",
       "    </tr>\n",
       "    <tr>\n",
       "      <th>0002190915</th>\n",
       "      <td>9.5</td>\n",
       "      <td>2</td>\n",
       "    </tr>\n",
       "    <tr>\n",
       "      <th>0002210479</th>\n",
       "      <td>6.0</td>\n",
       "      <td>1</td>\n",
       "    </tr>\n",
       "    <tr>\n",
       "      <th>0002222469</th>\n",
       "      <td>8.0</td>\n",
       "      <td>1</td>\n",
       "    </tr>\n",
       "    <tr>\n",
       "      <th>0002241358</th>\n",
       "      <td>8.0</td>\n",
       "      <td>1</td>\n",
       "    </tr>\n",
       "  </tbody>\n",
       "</table>\n",
       "</div>"
      ],
      "text/plain": [
       "            provided_rating  num_ratings\n",
       "isbn                                    \n",
       "0002163578              5.0            1\n",
       "0002190915              9.5            2\n",
       "0002210479              6.0            1\n",
       "0002222469              8.0            1\n",
       "0002241358              8.0            1"
      ]
     },
     "execution_count": 14,
     "metadata": {},
     "output_type": "execute_result"
    }
   ],
   "source": [
    "ratings = pd.DataFrame(df.groupby('isbn')['provided_rating'].mean())\n",
    "ratings['num_ratings'] = pd.DataFrame(df.groupby('isbn')['provided_rating'].count())\n",
    "ratings.head()"
   ]
  },
  {
   "cell_type": "code",
   "execution_count": 15,
   "metadata": {},
   "outputs": [
    {
     "name": "stdout",
     "output_type": "stream",
     "text": [
      "Number of books_ with more than 5 ratings: 3823\n",
      "Original number of books_: 22020\n",
      "Number of rows in the original dataset: 104756\n",
      "Number of rows in the new dataset: 72190\n"
     ]
    }
   ],
   "source": [
    "min_ratings = 5\n",
    "books_ = ratings.query(f\"num_ratings > {min_ratings}\").index\n",
    "print(f\"Number of books_ with more than {min_ratings} ratings: {len(books_)}\")\n",
    "print(f\"Original number of books_: {df['isbn'].nunique()}\")\n",
    "print(f\"Number of rows in the original dataset: {df.shape[0]}\")\n",
    "df_small = df[df['isbn'].isin(books_)]\n",
    "print(f\"Number of rows in the new dataset: {df_small.shape[0]}\")"
   ]
  },
  {
   "cell_type": "code",
   "execution_count": 17,
   "metadata": {},
   "outputs": [
    {
     "name": "stdout",
     "output_type": "stream",
     "text": [
      "Number of books_ with more than 10 ratings: 1963\n",
      "Original number of books_: 22020\n",
      "Number of rows in the original dataset: 104756\n",
      "Number of rows in the new dataset: 58166\n",
      "Number of unique users in the new dataset: 22560\n"
     ]
    }
   ],
   "source": [
    "min_ratings = 10\n",
    "books_ = ratings.query(f\"num_ratings > {min_ratings}\").index\n",
    "print(f\"Number of books_ with more than {min_ratings} ratings: {len(books_)}\")\n",
    "print(f\"Original number of books_: {df['isbn'].nunique()}\")\n",
    "print(f\"Number of rows in the original dataset: {df.shape[0]}\")\n",
    "df_small = df[df['isbn'].isin(books_)]\n",
    "unique_users = df_small['user_id'].nunique()\n",
    "print(f\"Number of rows in the new dataset: {df_small.shape[0]}\")\n",
    "print(f\"Number of unique users in the new dataset: {unique_users}\")"
   ]
  },
  {
   "cell_type": "markdown",
   "metadata": {},
   "source": [
    "## Preprocessing"
   ]
  },
  {
   "cell_type": "code",
   "execution_count": 45,
   "metadata": {},
   "outputs": [
    {
     "name": "stdout",
     "output_type": "stream",
     "text": [
      "Num. of Users: 22560\n",
      "Num of Movies: 1963\n"
     ]
    }
   ],
   "source": [
    "n_users = df_small.user_id.nunique()\n",
    "n_items = df_small.isbn.nunique()\n",
    "\n",
    "print('Num. of Users: '+ str(n_users))\n",
    "print('Num of Movies: '+str(n_items))"
   ]
  },
  {
   "cell_type": "code",
   "execution_count": 55,
   "metadata": {},
   "outputs": [
    {
     "name": "stderr",
     "output_type": "stream",
     "text": [
      "C:\\Users\\harik\\AppData\\Local\\Temp\\ipykernel_18428\\1030253374.py:15: SettingWithCopyWarning: \n",
      "A value is trying to be set on a copy of a slice from a DataFrame.\n",
      "Try using .loc[row_indexer,col_indexer] = value instead\n",
      "\n",
      "See the caveats in the documentation: https://pandas.pydata.org/pandas-docs/stable/user_guide/indexing.html#returning-a-view-versus-a-copy\n",
      "  df_small[\"user_id\"] = df_small[\"user_id\"].map(user_id_map)\n",
      "C:\\Users\\harik\\AppData\\Local\\Temp\\ipykernel_18428\\1030253374.py:16: SettingWithCopyWarning: \n",
      "A value is trying to be set on a copy of a slice from a DataFrame.\n",
      "Try using .loc[row_indexer,col_indexer] = value instead\n",
      "\n",
      "See the caveats in the documentation: https://pandas.pydata.org/pandas-docs/stable/user_guide/indexing.html#returning-a-view-versus-a-copy\n",
      "  df_small[\"isbn\"] = df_small[\"isbn\"].map(book_id_map)\n"
     ]
    }
   ],
   "source": [
    "user_id_map = dict(zip(df_small.user_id.unique(), list(range(n_users))))\n",
    "book_id_map = dict(zip(df_small.isbn.unique(), list(range(n_items))))\n",
    "user_id_map_df  = pd.DataFrame(\n",
    "    {\n",
    "        \"user_id\":user_id_map.keys(),\n",
    "        \"user_id_new\": user_id_map.values(),\n",
    "    }\n",
    ")\n",
    "book_id_map_df  = pd.DataFrame(\n",
    "    {\n",
    "        \"isbn\":book_id_map.keys(),\n",
    "        \"isbn_new\": book_id_map.values(),\n",
    "    }\n",
    ")\n",
    "df_small[\"user_id\"] = df_small[\"user_id\"].map(user_id_map)\n",
    "df_small[\"isbn\"] = df_small[\"isbn\"].map(book_id_map)"
   ]
  },
  {
   "cell_type": "markdown",
   "metadata": {},
   "source": [
    "# Model"
   ]
  },
  {
   "cell_type": "code",
   "execution_count": 57,
   "metadata": {},
   "outputs": [],
   "source": [
    "train_data, test_data = train_test_split(df_small, test_size=0.25)"
   ]
  },
  {
   "cell_type": "code",
   "execution_count": 58,
   "metadata": {},
   "outputs": [],
   "source": [
    "train_mat = train_data.pivot_table(index='user_id', columns='isbn', values='provided_rating').fillna(0)\n",
    "test_mat = test_data.pivot_table(index='user_id', columns='isbn', values='provided_rating').fillna(0)"
   ]
  },
  {
   "cell_type": "code",
   "execution_count": 59,
   "metadata": {},
   "outputs": [],
   "source": [
    "user_similarity = pairwise_distances(train_mat, metric='cosine')\n",
    "item_similarity = pairwise_distances(train_mat.T, metric='cosine')"
   ]
  },
  {
   "cell_type": "code",
   "execution_count": 65,
   "metadata": {},
   "outputs": [
    {
     "data": {
      "text/plain": [
       "((18672, 18672), (1963, 1963))"
      ]
     },
     "execution_count": 65,
     "metadata": {},
     "output_type": "execute_result"
    }
   ],
   "source": [
    "user_similarity.shape, item_similarity.shape"
   ]
  },
  {
   "cell_type": "code",
   "execution_count": 72,
   "metadata": {},
   "outputs": [],
   "source": [
    "def predict(ratings, similarity, type='user'):\n",
    "    if type == 'user':\n",
    "        mean_user_rating = ratings.mean(axis=1)\n",
    "        #You use np.newaxis so that mean_user_rating has same format as ratings\n",
    "        ratings_diff = (ratings - mean_user_rating[:, np.newaxis]) \n",
    "        pred = mean_user_rating[:, np.newaxis] + similarity.dot(ratings_diff) / np.array([np.abs(similarity).sum(axis=1)]).T\n",
    "    elif type == 'item':\n",
    "        pred = ratings.dot(similarity) / np.array([np.abs(similarity).sum(axis=1)])     \n",
    "    return pred"
   ]
  },
  {
   "cell_type": "code",
   "execution_count": 86,
   "metadata": {},
   "outputs": [],
   "source": [
    "item_prediction = predict(train_mat.values, item_similarity, type='item')\n",
    "user_prediction = predict(train_mat.values, user_similarity, type='user')"
   ]
  },
  {
   "cell_type": "code",
   "execution_count": 87,
   "metadata": {},
   "outputs": [],
   "source": [
    "from sklearn.metrics import mean_squared_error\n",
    "from math import sqrt\n",
    "def rmse(prediction, ground_truth):\n",
    "    prediction = prediction[ground_truth.nonzero()].flatten() \n",
    "    ground_truth = ground_truth[ground_truth.nonzero()].flatten()\n",
    "    return sqrt(mean_squared_error(prediction, ground_truth))"
   ]
  },
  {
   "cell_type": "code",
   "execution_count": 88,
   "metadata": {},
   "outputs": [
    {
     "name": "stdout",
     "output_type": "stream",
     "text": [
      "User-based CF RMSE: 7.963856306151568\n",
      "Item-based CF RMSE: 7.966272299339274\n"
     ]
    }
   ],
   "source": [
    "print('User-based CF RMSE: ' + str(rmse(user_prediction, test_mat.values)))\n",
    "print('Item-based CF RMSE: ' + str(rmse(item_prediction, test_mat.values)))"
   ]
  },
  {
   "cell_type": "code",
   "execution_count": 109,
   "metadata": {},
   "outputs": [],
   "source": [
    "import scipy.sparse as sp\n",
    "from scipy.sparse.linalg import svds"
   ]
  },
  {
   "cell_type": "code",
   "execution_count": 117,
   "metadata": {},
   "outputs": [
    {
     "data": {
      "text/plain": [
       "(18672, 1963)"
      ]
     },
     "execution_count": 117,
     "metadata": {},
     "output_type": "execute_result"
    }
   ],
   "source": [
    "train_mat.values.shape"
   ]
  },
  {
   "cell_type": "code",
   "execution_count": 125,
   "metadata": {},
   "outputs": [],
   "source": [
    "M = train_mat.values"
   ]
  },
  {
   "cell_type": "code",
   "execution_count": 127,
   "metadata": {},
   "outputs": [
    {
     "data": {
      "text/plain": [
       "array([[1026.,    0.,    0., ...,    0.,    0.,    0.],\n",
       "       [   0., 6822.,    0., ...,    0.,   63.,    0.],\n",
       "       [   0.,    0., 1485., ...,    0.,    0.,    0.],\n",
       "       ...,\n",
       "       [   0.,    0.,    0., ...,  498.,    0.,    0.],\n",
       "       [   0.,   63.,    0., ...,    0.,  495.,    0.],\n",
       "       [   0.,    0.,    0., ...,    0.,    0.,  604.]])"
      ]
     },
     "execution_count": 127,
     "metadata": {},
     "output_type": "execute_result"
    }
   ],
   "source": [
    "np.dot(M.T, M)"
   ]
  },
  {
   "cell_type": "code",
   "execution_count": 128,
   "metadata": {},
   "outputs": [
    {
     "data": {
      "text/plain": [
       "array([[36.,  0.,  0., ...,  0.,  0.,  0.],\n",
       "       [ 0., 81.,  0., ...,  0.,  0.,  0.],\n",
       "       [ 0.,  0., 49., ...,  0.,  0.,  0.],\n",
       "       ...,\n",
       "       [ 0.,  0.,  0., ..., 36.,  0.,  0.],\n",
       "       [ 0.,  0.,  0., ...,  0., 25.,  0.],\n",
       "       [ 0.,  0.,  0., ...,  0.,  0., 64.]])"
      ]
     },
     "execution_count": 128,
     "metadata": {},
     "output_type": "execute_result"
    }
   ],
   "source": [
    "np.dot(M, M.T)"
   ]
  },
  {
   "cell_type": "code",
   "execution_count": 130,
   "metadata": {},
   "outputs": [
    {
     "name": "stdout",
     "output_type": "stream",
     "text": [
      "User-based CF MSE: 7.970228954084404\n"
     ]
    }
   ],
   "source": [
    "from numpy.linalg import svd\n",
    "u, s, vt = svd(train_mat.values, full_matrices=False)\n",
    "s_diag_matrix=np.diag(s)\n",
    "X_pred = np.dot(np.dot(u, s_diag_matrix), vt)\n",
    "print('User-based CF MSE: ' + str(rmse(X_pred, test_mat.values)))"
   ]
  },
  {
   "cell_type": "code",
   "execution_count": 139,
   "metadata": {},
   "outputs": [
    {
     "name": "stdout",
     "output_type": "stream",
     "text": [
      "Column 332 is most similar to column 0\n"
     ]
    }
   ],
   "source": [
    "def cosine_similarity(v,u):\n",
    "    return (v @ u)/ (np.linalg.norm(v) * np.linalg.norm(u))\n",
    " \n",
    "highest_similarity = -np.inf\n",
    "highest_sim_col = -1\n",
    "for col in range(1,vt.shape[1]):\n",
    "    similarity = cosine_similarity(vt[:,0], vt[:,col])\n",
    "    if similarity > highest_similarity:\n",
    "        highest_similarity = similarity\n",
    "        highest_sim_col = col\n",
    " \n",
    "print(\"Column %d is most similar to column 0\" % highest_sim_col)"
   ]
  },
  {
   "cell_type": "code",
   "execution_count": 140,
   "metadata": {},
   "outputs": [
    {
     "data": {
      "text/plain": [
       "4.102621020685147e-16"
      ]
     },
     "execution_count": 140,
     "metadata": {},
     "output_type": "execute_result"
    }
   ],
   "source": [
    "highest_similarity"
   ]
  },
  {
   "cell_type": "code",
   "execution_count": 137,
   "metadata": {},
   "outputs": [
    {
     "data": {
      "text/plain": [
       "7.372574772901429e-17"
      ]
     },
     "execution_count": 137,
     "metadata": {},
     "output_type": "execute_result"
    }
   ],
   "source": [
    "(vt[:, 0]@vt[:, 1])/(np.linalg.norm(vt[:, 0])*np.linalg.norm(vt[:, 1]))"
   ]
  },
  {
   "cell_type": "code",
   "execution_count": 138,
   "metadata": {},
   "outputs": [
    {
     "data": {
      "text/plain": [
       "-1.3877787807814457e-16"
      ]
     },
     "execution_count": 138,
     "metadata": {},
     "output_type": "execute_result"
    }
   ],
   "source": [
    "(vt[:, 0]@vt[:, 111])/(np.linalg.norm(vt[:, 0])*np.linalg.norm(vt[:, 111]))"
   ]
  },
  {
   "cell_type": "code",
   "execution_count": 131,
   "metadata": {},
   "outputs": [
    {
     "data": {
      "text/plain": [
       "((18672, 1963), (1963,), (1963, 1963))"
      ]
     },
     "execution_count": 131,
     "metadata": {},
     "output_type": "execute_result"
    }
   ],
   "source": [
    "u.shape, s.shape, vt.shape"
   ]
  },
  {
   "cell_type": "code",
   "execution_count": 118,
   "metadata": {},
   "outputs": [
    {
     "data": {
      "text/plain": [
       "((18672, 1963), (18672, 20), (20,), (20, 1963), (20, 20))"
      ]
     },
     "execution_count": 118,
     "metadata": {},
     "output_type": "execute_result"
    }
   ],
   "source": [
    "train_mat.shape, u.shape, s.shape, vt.shape, s_diag_matrix.shape"
   ]
  },
  {
   "cell_type": "code",
   "execution_count": 124,
   "metadata": {},
   "outputs": [
    {
     "data": {
      "text/plain": [
       "6.583999588269197"
      ]
     },
     "execution_count": 124,
     "metadata": {},
     "output_type": "execute_result"
    }
   ],
   "source": [
    "u[:, 0].sum()"
   ]
  },
  {
   "cell_type": "code",
   "execution_count": 121,
   "metadata": {},
   "outputs": [
    {
     "data": {
      "text/plain": [
       "1448.3715529218027"
      ]
     },
     "execution_count": 121,
     "metadata": {},
     "output_type": "execute_result"
    }
   ],
   "source": [
    "np.dot(u, vt).sum()"
   ]
  },
  {
   "cell_type": "code",
   "execution_count": 112,
   "metadata": {},
   "outputs": [
    {
     "data": {
      "text/plain": [
       "array([ 97.74726998,  99.58960591, 100.69085555, 102.15672598,\n",
       "       102.62926858, 104.23556462, 105.07571802, 105.59436242,\n",
       "       106.80904882, 107.74733948, 109.90060574, 111.88388   ,\n",
       "       115.40445331, 116.53484794, 118.66014087, 121.01264356,\n",
       "       127.31038341, 139.98254513, 191.92553525, 220.74064862])"
      ]
     },
     "execution_count": 112,
     "metadata": {},
     "output_type": "execute_result"
    }
   ],
   "source": [
    "s"
   ]
  },
  {
   "cell_type": "code",
   "execution_count": 115,
   "metadata": {},
   "outputs": [
    {
     "data": {
      "text/plain": [
       "array([[6., 0., 0., ..., 0., 0., 0.],\n",
       "       [0., 9., 0., ..., 0., 0., 0.],\n",
       "       [0., 0., 7., ..., 0., 0., 0.],\n",
       "       ...,\n",
       "       [0., 0., 0., ..., 0., 0., 0.],\n",
       "       [0., 0., 0., ..., 0., 0., 0.],\n",
       "       [0., 0., 0., ..., 0., 0., 0.]])"
      ]
     },
     "execution_count": 115,
     "metadata": {},
     "output_type": "execute_result"
    }
   ],
   "source": [
    "train_mat.values"
   ]
  },
  {
   "cell_type": "code",
   "execution_count": 116,
   "metadata": {},
   "outputs": [
    {
     "data": {
      "text/plain": [
       "array([[ 8.27140881e-03,  8.75903989e-03, -2.84281293e-03, ...,\n",
       "         3.54610696e-19,  1.46381976e-03, -9.31381750e-04],\n",
       "       [ 1.31385598e-02,  1.59702384e-01, -1.95126404e-02, ...,\n",
       "         1.97560243e-18,  3.27939362e-03, -5.12065381e-03],\n",
       "       [-3.31661509e-03, -1.51764981e-02,  2.27507442e-02, ...,\n",
       "        -2.22316789e-18, -3.80513158e-04,  2.68852015e-03],\n",
       "       ...,\n",
       "       [ 5.10681271e-03,  3.71445908e-02, -3.34748985e-03, ...,\n",
       "         4.34220762e-19,  1.36896697e-03, -2.75107947e-04],\n",
       "       [ 6.31754541e-04, -3.82561136e-03, -5.69476821e-04, ...,\n",
       "         1.00360971e-18,  5.27169051e-04,  3.68500242e-04],\n",
       "       [ 1.44219086e-03, -1.50396559e-02,  1.19180450e-02, ...,\n",
       "        -1.59040351e-19, -3.07661845e-04,  6.63603267e-03]])"
      ]
     },
     "execution_count": 116,
     "metadata": {},
     "output_type": "execute_result"
    }
   ],
   "source": [
    "(np.dot(np.dot(u, s_diag_matrix), vt))"
   ]
  },
  {
   "cell_type": "code",
   "execution_count": null,
   "metadata": {},
   "outputs": [],
   "source": []
  }
 ],
 "metadata": {
  "kernelspec": {
   "display_name": "data-science",
   "language": "python",
   "name": "python3"
  },
  "language_info": {
   "codemirror_mode": {
    "name": "ipython",
    "version": 3
   },
   "file_extension": ".py",
   "mimetype": "text/x-python",
   "name": "python",
   "nbconvert_exporter": "python",
   "pygments_lexer": "ipython3",
   "version": "3.10.12"
  },
  "orig_nbformat": 4
 },
 "nbformat": 4,
 "nbformat_minor": 2
}
