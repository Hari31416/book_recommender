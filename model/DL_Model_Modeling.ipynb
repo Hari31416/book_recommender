{
 "cells": [
  {
   "cell_type": "markdown",
   "metadata": {},
   "source": [
    "# Imports"
   ]
  },
  {
   "cell_type": "code",
   "execution_count": 23,
   "metadata": {},
   "outputs": [],
   "source": [
    "import pandas as pd\n",
    "import numpy as np\n",
    "import matplotlib.pyplot as plt\n",
    "import seaborn as sns\n",
    "import os\n",
    "from tqdm.auto import tqdm\n",
    "from scipy import sparse\n",
    "import torch\n",
    "import wandb\n",
    "\n",
    "import warnings\n",
    "warnings.filterwarnings('ignore')"
   ]
  },
  {
   "cell_type": "code",
   "execution_count": 2,
   "metadata": {},
   "outputs": [
    {
     "name": "stderr",
     "output_type": "stream",
     "text": [
      "Failed to detect the name of this notebook, you can set it manually with the WANDB_NOTEBOOK_NAME environment variable to enable code saving.\n",
      "\u001b[34m\u001b[1mwandb\u001b[0m: Currently logged in as: \u001b[33mhari31416\u001b[0m. Use \u001b[1m`wandb login --relogin`\u001b[0m to force relogin\n"
     ]
    },
    {
     "data": {
      "text/plain": [
       "True"
      ]
     },
     "execution_count": 2,
     "metadata": {},
     "output_type": "execute_result"
    }
   ],
   "source": [
    "wandb.login()"
   ]
  },
  {
   "cell_type": "markdown",
   "metadata": {},
   "source": [
    "# Data"
   ]
  },
  {
   "cell_type": "markdown",
   "metadata": {},
   "source": [
    "## Load data"
   ]
  },
  {
   "cell_type": "code",
   "execution_count": 8,
   "metadata": {},
   "outputs": [
    {
     "data": {
      "application/vnd.jupyter.widget-view+json": {
       "model_id": "c9d474d25d814e3d9368d704be929b89",
       "version_major": 2,
       "version_minor": 0
      },
      "text/plain": [
       "VBox(children=(Label(value='Waiting for wandb.init()...\\r'), FloatProgress(value=0.01693333333338766, max=1.0)…"
      ]
     },
     "metadata": {},
     "output_type": "display_data"
    },
    {
     "data": {
      "text/html": [
       "wandb version 0.15.10 is available!  To upgrade, please run:\n",
       " $ pip install wandb --upgrade"
      ],
      "text/plain": [
       "<IPython.core.display.HTML object>"
      ]
     },
     "metadata": {},
     "output_type": "display_data"
    },
    {
     "data": {
      "text/html": [
       "Tracking run with wandb version 0.15.7"
      ],
      "text/plain": [
       "<IPython.core.display.HTML object>"
      ]
     },
     "metadata": {},
     "output_type": "display_data"
    },
    {
     "data": {
      "text/html": [
       "Run data is saved locally in <code>c:\\Users\\harik\\Desktop\\Book_Recommendation\\model\\wandb\\run-20230910_160800-ziyichj4</code>"
      ],
      "text/plain": [
       "<IPython.core.display.HTML object>"
      ]
     },
     "metadata": {},
     "output_type": "display_data"
    },
    {
     "data": {
      "text/html": [
       "Syncing run <strong><a href='https://wandb.ai/hari31416/Book_Reccomondation/runs/ziyichj4' target=\"_blank\">MLP_Model</a></strong> to <a href='https://wandb.ai/hari31416/Book_Reccomondation' target=\"_blank\">Weights & Biases</a> (<a href='https://wandb.me/run' target=\"_blank\">docs</a>)<br/>"
      ],
      "text/plain": [
       "<IPython.core.display.HTML object>"
      ]
     },
     "metadata": {},
     "output_type": "display_data"
    },
    {
     "data": {
      "text/html": [
       " View project at <a href='https://wandb.ai/hari31416/Book_Reccomondation' target=\"_blank\">https://wandb.ai/hari31416/Book_Reccomondation</a>"
      ],
      "text/plain": [
       "<IPython.core.display.HTML object>"
      ]
     },
     "metadata": {},
     "output_type": "display_data"
    },
    {
     "data": {
      "text/html": [
       " View run at <a href='https://wandb.ai/hari31416/Book_Reccomondation/runs/ziyichj4' target=\"_blank\">https://wandb.ai/hari31416/Book_Reccomondation/runs/ziyichj4</a>"
      ],
      "text/plain": [
       "<IPython.core.display.HTML object>"
      ]
     },
     "metadata": {},
     "output_type": "display_data"
    },
    {
     "data": {
      "text/html": [
       "<button onClick=\"this.nextSibling.style.display='block';this.style.display='none';\">Display W&B run</button><iframe src='https://wandb.ai/hari31416/Book_Reccomondation/runs/ziyichj4?jupyter=true' style='border:none;width:100%;height:420px;display:none;'></iframe>"
      ],
      "text/plain": [
       "<wandb.sdk.wandb_run.Run at 0x1d02e543fd0>"
      ]
     },
     "execution_count": 8,
     "metadata": {},
     "output_type": "execute_result"
    }
   ],
   "source": [
    "wandb.init(project='Book_Reccomondation', name='MLP_Model', notes='Uses MLP Model for creating embedding vectors and then passes it to MLP layer for prediction', tags=['MLP', 'Modeling', \"Pytorch\"])"
   ]
  },
  {
   "cell_type": "code",
   "execution_count": 9,
   "metadata": {},
   "outputs": [],
   "source": [
    "DATA_DIR = os.path.join(\"..\", \"data\", \"final_dataset\")"
   ]
  },
  {
   "cell_type": "code",
   "execution_count": 10,
   "metadata": {},
   "outputs": [
    {
     "name": "stdout",
     "output_type": "stream",
     "text": [
      "Number of ratings: 104756\n",
      "Number of unique users: 31940\n",
      "Number of books: 22020\n",
      "Shape of interactions: (104756, 3)\n",
      "Shape of books: (22058, 13)\n",
      "Shape of users: (31940, 35)\n"
     ]
    }
   ],
   "source": [
    "interactions = pd.read_parquet(os.path.join(DATA_DIR, \"ratings_final.parquet\"))\n",
    "users = pd.read_parquet(os.path.join(DATA_DIR, \"users_final.parquet\"))\n",
    "books = pd.read_parquet(os.path.join(DATA_DIR, \"books_final.parquet\"))\n",
    "user_id_map_df = pd.read_csv(os.path.join(DATA_DIR, \"user_id_map.csv\"))\n",
    "book_id_map_df = pd.read_csv(os.path.join(DATA_DIR, \"book_id_map.csv\"))\n",
    "\n",
    "print(f\"Number of ratings: {len(interactions)}\")\n",
    "print(f\"Number of unique users: {interactions['user_id'].nunique()}\")\n",
    "print(f\"Number of books: {interactions['book_id'].nunique()}\")\n",
    "print(f\"Shape of interactions: {interactions.shape}\")\n",
    "print(f\"Shape of books: {books.shape}\")\n",
    "print(f\"Shape of users: {users.shape}\")"
   ]
  },
  {
   "cell_type": "code",
   "execution_count": 11,
   "metadata": {},
   "outputs": [
    {
     "name": "stdout",
     "output_type": "stream",
     "text": [
      "There are 31940 unique users and 22058 unique books in this data set\n"
     ]
    }
   ],
   "source": [
    "m = len(users)\n",
    "n = len(books)\n",
    "print(f\"There are {m} unique users and {n} unique books in this data set\")"
   ]
  },
  {
   "cell_type": "code",
   "execution_count": 12,
   "metadata": {},
   "outputs": [],
   "source": [
    "users.set_index('user_id', inplace=True)\n",
    "books.set_index('book_id', inplace=True)\n",
    "books.sort_index(inplace=True)"
   ]
  },
  {
   "cell_type": "code",
   "execution_count": 13,
   "metadata": {},
   "outputs": [
    {
     "name": "stdout",
     "output_type": "stream",
     "text": [
      "There are 34 user features and 12 book features\n"
     ]
    }
   ],
   "source": [
    "m_f = users.shape[1]\n",
    "n_f = books.shape[1]\n",
    "print(f\"There are {m_f} user features and {n_f} book features\")"
   ]
  },
  {
   "cell_type": "markdown",
   "metadata": {},
   "source": [
    "## Split"
   ]
  },
  {
   "cell_type": "code",
   "execution_count": 14,
   "metadata": {},
   "outputs": [],
   "source": [
    "def split_dataframe(df, holdout_fraction=0.1):\n",
    "  \"\"\"Splits a DataFrame into training and test sets.\n",
    "  Args:\n",
    "    df: a dataframe.\n",
    "    holdout_fraction: fraction of dataframe rows to use in the test set.\n",
    "  Returns:\n",
    "    train: dataframe for training\n",
    "    test: dataframe for testing\n",
    "  \"\"\"\n",
    "  test = df.sample(frac=holdout_fraction, replace=False)\n",
    "  train = df[~df.index.isin(test.index)]\n",
    "  return train, test\n",
    "\n",
    "train_interactions, test_interactions = split_dataframe(interactions)"
   ]
  },
  {
   "cell_type": "markdown",
   "metadata": {},
   "source": [
    "# Theory"
   ]
  },
  {
   "cell_type": "markdown",
   "metadata": {},
   "source": [
    "Using neural networks instead of matrix factorization (MF) for recommendation systems has a number of advantages. See the notes section for detail. Here, we will be providing the model architecture that will be used for the recommendation system."
   ]
  },
  {
   "cell_type": "markdown",
   "metadata": {},
   "source": [
    "The model will consist of two steps:"
   ]
  },
  {
   "cell_type": "markdown",
   "metadata": {},
   "source": [
    "## The Embedding Layer"
   ]
  },
  {
   "cell_type": "markdown",
   "metadata": {},
   "source": [
    "This layer will take the user and item IDs in one-hot encoded form along with any other user and item feature and will pass it through a fully connected layer. The output of this layer will be the latent representation of the user and item. Let use denote $\\mathbf{u}$ as the user and $\\mathbf{v}$ as the item. Their dimensions will be $m+m_{uf}$ and $n+n_{if}$ respectively where $m$ and $n$ are the number of users and items and $m_{uf}$ and $n_{if}$ are the number of user and item features respectively. The output of the embedding layer will be $\\mathbf{u} \\in \\mathbb{R}^d$ and $\\mathbf{v} \\in \\mathbb{R}^d$ where $d$ is the dimension of the latent space."
   ]
  },
  {
   "cell_type": "markdown",
   "metadata": {},
   "source": [
    "We will have two different layers, one for users and the other of items. This is required because the number of users and items are different and we want to learn different embeddings for them. The user embedding layer will have $m+m_{uf}$ neurons and the item embedding layer will have $n+n_{if}$ neurons."
   ]
  },
  {
   "cell_type": "markdown",
   "metadata": {},
   "source": [
    "## CF Layers"
   ]
  },
  {
   "cell_type": "markdown",
   "metadata": {},
   "source": [
    "CF layers, or collaborative filtering layers are made up of one or more layers of fully connected layers. The input to these layers will be the concatenation of the user and item latent representations. The output of the CF layers will be the predicted rating.\n",
    "\n",
    "![](images/dl_01.png)"
   ]
  },
  {
   "cell_type": "markdown",
   "metadata": {},
   "source": [
    "## Loss Function"
   ]
  },
  {
   "cell_type": "markdown",
   "metadata": {},
   "source": [
    "The loss function can either be MSE or cross entropy. We will be experimenting with both."
   ]
  },
  {
   "cell_type": "markdown",
   "metadata": {},
   "source": [
    "## Data"
   ]
  },
  {
   "cell_type": "markdown",
   "metadata": {},
   "source": [
    "We will be using all the positive data and a random sample of the negative data. The ratio of positive to negative data will be decided by a parameter."
   ]
  },
  {
   "cell_type": "markdown",
   "metadata": {},
   "source": [
    "# Implementation"
   ]
  },
  {
   "cell_type": "markdown",
   "metadata": {},
   "source": [
    "## Dataset"
   ]
  },
  {
   "cell_type": "markdown",
   "metadata": {},
   "source": [
    "The model will be trained using the one-hot representation of the user and item ids along with the user and item features. The output will be the rating. So, the input will be two vectors of length $M = m+m_{uf}$ and $N = n+n_{if}$ and the output will be a scalar. This means that we will be using pointwise approach."
   ]
  },
  {
   "cell_type": "markdown",
   "metadata": {},
   "source": [
    "### Negative Sampling"
   ]
  },
  {
   "cell_type": "markdown",
   "metadata": {},
   "source": [
    "We will be using negative sampling to train the model. This is important, as we want our model to learn that the rating of a user-item pair is zero if the user has not rated the item. We will define a variable `negative_samples_ratio` that can be used to control the ratio of positive to negative samples. The negative samples will be randomly sampled from the negative data. We can set `negative_samples_ratio` to 0.3-0.5. This means that for every positive sample, we will be using 0.3-0.5 negative samples."
   ]
  },
  {
   "cell_type": "markdown",
   "metadata": {},
   "source": [
    "### Dataset Class"
   ]
  },
  {
   "cell_type": "markdown",
   "metadata": {},
   "source": [
    "Here is a class that creates a dataset using the one-hot representation of the user and item ids along with the user and item features."
   ]
  },
  {
   "cell_type": "code",
   "execution_count": 101,
   "metadata": {},
   "outputs": [],
   "source": [
    "class BookDataset(torch.utils.data.Dataset):\n",
    "    \"\"\"Dataset class for the model.\"\"\"\"\"\n",
    "    def __init__(self, users, books, interactions, config):\n",
    "        \"\"\"Initializes the BookDataset.\n",
    "        \n",
    "        Parameters\n",
    "        ----------\n",
    "        users: pandas.DataFrame\n",
    "            DataFrame containing user features.\n",
    "        books: pandas.DataFrame\n",
    "            DataFrame containing book features.\n",
    "        interactions: pandas.DataFrame\n",
    "            DataFrame containing user-book interactions.\n",
    "        negative_samples_ratio: float\n",
    "            Ratio of negative samples to positive samples. Must be between 0 and 1.\n",
    "        features: bool\n",
    "            If True, the model will use features. If False, the model will not use features.\n",
    "        \"\"\"\n",
    "        self.negative_samples_ratio = config.negative_samples_ratio\n",
    "        self.features = config.features\n",
    "        self.normalize = config.normalize\n",
    "        self.users = users\n",
    "        self.books = books\n",
    "        self.interactions = interactions.copy()\n",
    "        self.m = len(self.users)\n",
    "        self.n = len(self.books)\n",
    "        self.m_f = self.users.shape[1]\n",
    "        self.n_f = self.books.shape[1]\n",
    "        if self.normalize:\n",
    "            self.normalize_ratings()\n",
    "        if self.negative_samples_ratio < 0 or self.negative_samples_ratio > 1:\n",
    "            raise ValueError(\"negative_samples_ratio must be between 0 and 1.\")\n",
    "        self.negative_samples_ratio = self.negative_samples_ratio\n",
    "\n",
    "    def normalize_ratings(self):\n",
    "        \"\"\"Normalizes the ratings by dividing by 10.\"\"\"\n",
    "        # mean = self.interactions[\"provided_rating\"].mean()\n",
    "        # std = self.interactions[\"provided_rating\"].std()\n",
    "        # self.mean = mean\n",
    "        # self.std = std\n",
    "        # self.interactions[\"provided_rating\"] = (self.interactions[\"provided_rating\"] - self.interactions[\"provided_rating\"].mean())/self.interactions[\"provided_rating\"].std()\n",
    "        self.interactions[\"provided_rating\"] = (self.interactions[\"provided_rating\"]/10).round(2)\n",
    "    \n",
    "    def decode_rating(self, rating):\n",
    "        \"\"\"Decodes a rating.\"\"\"\n",
    "        # return rating*self.std + self.mean\n",
    "        if not self.normalize:\n",
    "            return rating\n",
    "        return round(rating*10, 0)\n",
    "        \n",
    "    def get_user_features(self, user_id):\n",
    "        # Assumes that the user_id column is the index in the users DataFrame.\n",
    "        user = self.users.iloc[user_id].values\n",
    "        return user.reshape((self.m_f,))\n",
    "\n",
    "    def get_book_features(self, book_id):\n",
    "        # Assumes that the book_id column is the index in the books DataFrame.\n",
    "        book = self.books.iloc[book_id].values\n",
    "        return book.reshape((self.n_f,))\n",
    "\n",
    "    def __len__(self):\n",
    "        # tried this but this will give error as the interaction dataframe will become out of index\n",
    "        # num_times = 1+self.negative_samples_ratio\n",
    "        num_times = 1\n",
    "        return int(len(self.interactions)*num_times)\n",
    "    \n",
    "    def get_positive_sample(self, idx):\n",
    "        \"\"\"Gets a positive sample from the interactions dataframe.\"\"\"\n",
    "        row = self.interactions.iloc[idx]\n",
    "        user_id = row[\"user_id\"]\n",
    "        book_id = row[\"book_id\"]\n",
    "        rating = row[\"provided_rating\"]\n",
    "        user_id = np.array([user_id])\n",
    "        book_id = np.array([book_id])\n",
    "        if self.features:\n",
    "            user_features = self.get_user_features(user_id)\n",
    "            # user_id = user_id.reshape((1, 1))\n",
    "            book_features = self.get_book_features(book_id)\n",
    "            # book_id = book_id.reshape((1, 1))\n",
    "            user_input = np.concatenate([user_id, user_features], axis = -1)\n",
    "            book_input = np.concatenate([book_id, book_features], axis = -1)\n",
    "        else:\n",
    "            user_input = user_id\n",
    "            book_input = book_id\n",
    "\n",
    "        # make sure the length of the input is correct\n",
    "        if self.features:\n",
    "            assert len(user_input) == 1 + self.m_f\n",
    "            assert len(book_input) == 1 + self.n_f\n",
    "        else:\n",
    "            assert len(user_input) == 1\n",
    "            assert len(book_input) == 1\n",
    "        return user_input, book_input, rating\n",
    "    \n",
    "    def get_negative_sample(self, idx):\n",
    "        \"\"\"Gets a negative sample from the interactions dataframe.\"\"\"\"\"\n",
    "        row = self.interactions.iloc[idx]\n",
    "        user_id = row[\"user_id\"]\n",
    "        negative_book_id = np.random.choice(self.books.index.values)\n",
    "        while negative_book_id in self.interactions[self.interactions[\"user_id\"] == user_id][\"book_id\"].values:\n",
    "            negative_book_id = np.random.choice(self.books.index.values)\n",
    "\n",
    "        user_id = np.array([user_id])\n",
    "        book_id = np.array([negative_book_id])\n",
    "        if self.features:\n",
    "            user_features = self.get_user_features(user_id)\n",
    "            # user_id = user_id.reshape((1, 1))\n",
    "            book_features = self.get_book_features(book_id)\n",
    "            # book_id = book_id.reshape((1, 1))\n",
    "            # add user_id at the beginning of the user_features array\n",
    "            user_input = np.concatenate([user_id, user_features], axis = -1)\n",
    "            book_input = np.concatenate([book_id, book_features], axis = -1)\n",
    "        else:\n",
    "            user_input = user_id\n",
    "            book_input = book_id\n",
    "\n",
    "        # make sure the length of the input is correct\n",
    "        if self.features:\n",
    "            assert len(user_input) == 1 + self.m_f\n",
    "            assert len(book_input) == 1 + self.n_f\n",
    "        else:\n",
    "            assert len(user_input) == 1\n",
    "            assert len(book_input) == 1\n",
    "            \n",
    "        rating = 0 # negative sample\n",
    "        return user_input, book_input, rating\n",
    "    \n",
    "    def get_one_sample(self, idx):\n",
    "        \"\"\"Gets one sample from the dataset. Uses negative sampling with probability `negative_samples_ratio`.\"\"\"\n",
    "        if np.random.random() < self.negative_samples_ratio:\n",
    "            return self.get_negative_sample(idx)\n",
    "        else:\n",
    "            return self.get_positive_sample(idx)\n",
    "\n",
    "    def __getitem__(self, idx):\n",
    "        \"\"\"Gets one sample from the dataset.\"\"\"\n",
    "        # A workaround to make interaction dataframe circular when using negative sampling\n",
    "        # with `num_times` > 1. Leaving it as this should not be necessary here.\n",
    "        # if idx >= len(self.interactions):\n",
    "        #     idx = idx%len(self.interactions)\n",
    "        user_input, book_input, rating = self.get_one_sample(idx)\n",
    "        if self.features:\n",
    "            dtype = torch.float32\n",
    "        else:\n",
    "            dtype = torch.long\n",
    "        user_input = torch.tensor(user_input, dtype=dtype)\n",
    "        book_input = torch.tensor(book_input, dtype=dtype)\n",
    "        targets = torch.tensor(rating, dtype=torch.float32)\n",
    "        return user_input, book_input, targets"
   ]
  },
  {
   "cell_type": "code",
   "execution_count": 67,
   "metadata": {},
   "outputs": [
    {
     "data": {
      "text/plain": [
       "tensor(13)"
      ]
     },
     "execution_count": 67,
     "metadata": {},
     "output_type": "execute_result"
    }
   ],
   "source": [
    "config = wandb.config\n",
    "config.negative_samples_ratio = 0.5\n",
    "config.features = False\n",
    "config.normalize = True\n",
    "book_dataset = BookDataset(users, books, interactions, config)\n",
    "book_dataset_batched = torch.utils.data.DataLoader(book_dataset, batch_size=32, shuffle=True)\n",
    "user_input, book_input, targets = next(iter(book_dataset_batched))\n",
    "(targets==0).sum()"
   ]
  },
  {
   "cell_type": "markdown",
   "metadata": {},
   "source": [
    "> When we use `negative_samples_ratio = 0.5` we usually get 17-20 negative samples for each positive sample. This suggests that we can get away with a lower ratio."
   ]
  },
  {
   "cell_type": "markdown",
   "metadata": {},
   "source": [
    "Let use see if the negative sampling is working as expected."
   ]
  },
  {
   "cell_type": "code",
   "execution_count": 55,
   "metadata": {},
   "outputs": [
    {
     "name": "stdout",
     "output_type": "stream",
     "text": [
      "Rating: 0.0\n"
     ]
    },
    {
     "data": {
      "text/html": [
       "<div>\n",
       "<style scoped>\n",
       "    .dataframe tbody tr th:only-of-type {\n",
       "        vertical-align: middle;\n",
       "    }\n",
       "\n",
       "    .dataframe tbody tr th {\n",
       "        vertical-align: top;\n",
       "    }\n",
       "\n",
       "    .dataframe thead th {\n",
       "        text-align: right;\n",
       "    }\n",
       "</style>\n",
       "<table border=\"1\" class=\"dataframe\">\n",
       "  <thead>\n",
       "    <tr style=\"text-align: right;\">\n",
       "      <th></th>\n",
       "      <th>user_id</th>\n",
       "      <th>book_id</th>\n",
       "      <th>provided_rating</th>\n",
       "    </tr>\n",
       "  </thead>\n",
       "  <tbody>\n",
       "  </tbody>\n",
       "</table>\n",
       "</div>"
      ],
      "text/plain": [
       "Empty DataFrame\n",
       "Columns: [user_id, book_id, provided_rating]\n",
       "Index: []"
      ]
     },
     "metadata": {},
     "output_type": "display_data"
    },
    {
     "name": "stdout",
     "output_type": "stream",
     "text": [
      "Rating: 0.0\n"
     ]
    },
    {
     "data": {
      "text/html": [
       "<div>\n",
       "<style scoped>\n",
       "    .dataframe tbody tr th:only-of-type {\n",
       "        vertical-align: middle;\n",
       "    }\n",
       "\n",
       "    .dataframe tbody tr th {\n",
       "        vertical-align: top;\n",
       "    }\n",
       "\n",
       "    .dataframe thead th {\n",
       "        text-align: right;\n",
       "    }\n",
       "</style>\n",
       "<table border=\"1\" class=\"dataframe\">\n",
       "  <thead>\n",
       "    <tr style=\"text-align: right;\">\n",
       "      <th></th>\n",
       "      <th>user_id</th>\n",
       "      <th>book_id</th>\n",
       "      <th>provided_rating</th>\n",
       "    </tr>\n",
       "  </thead>\n",
       "  <tbody>\n",
       "  </tbody>\n",
       "</table>\n",
       "</div>"
      ],
      "text/plain": [
       "Empty DataFrame\n",
       "Columns: [user_id, book_id, provided_rating]\n",
       "Index: []"
      ]
     },
     "metadata": {},
     "output_type": "display_data"
    },
    {
     "name": "stdout",
     "output_type": "stream",
     "text": [
      "Rating: 0.0\n"
     ]
    },
    {
     "data": {
      "text/html": [
       "<div>\n",
       "<style scoped>\n",
       "    .dataframe tbody tr th:only-of-type {\n",
       "        vertical-align: middle;\n",
       "    }\n",
       "\n",
       "    .dataframe tbody tr th {\n",
       "        vertical-align: top;\n",
       "    }\n",
       "\n",
       "    .dataframe thead th {\n",
       "        text-align: right;\n",
       "    }\n",
       "</style>\n",
       "<table border=\"1\" class=\"dataframe\">\n",
       "  <thead>\n",
       "    <tr style=\"text-align: right;\">\n",
       "      <th></th>\n",
       "      <th>user_id</th>\n",
       "      <th>book_id</th>\n",
       "      <th>provided_rating</th>\n",
       "    </tr>\n",
       "  </thead>\n",
       "  <tbody>\n",
       "  </tbody>\n",
       "</table>\n",
       "</div>"
      ],
      "text/plain": [
       "Empty DataFrame\n",
       "Columns: [user_id, book_id, provided_rating]\n",
       "Index: []"
      ]
     },
     "metadata": {},
     "output_type": "display_data"
    },
    {
     "name": "stdout",
     "output_type": "stream",
     "text": [
      "Rating: 0.0\n"
     ]
    },
    {
     "data": {
      "text/html": [
       "<div>\n",
       "<style scoped>\n",
       "    .dataframe tbody tr th:only-of-type {\n",
       "        vertical-align: middle;\n",
       "    }\n",
       "\n",
       "    .dataframe tbody tr th {\n",
       "        vertical-align: top;\n",
       "    }\n",
       "\n",
       "    .dataframe thead th {\n",
       "        text-align: right;\n",
       "    }\n",
       "</style>\n",
       "<table border=\"1\" class=\"dataframe\">\n",
       "  <thead>\n",
       "    <tr style=\"text-align: right;\">\n",
       "      <th></th>\n",
       "      <th>user_id</th>\n",
       "      <th>book_id</th>\n",
       "      <th>provided_rating</th>\n",
       "    </tr>\n",
       "  </thead>\n",
       "  <tbody>\n",
       "  </tbody>\n",
       "</table>\n",
       "</div>"
      ],
      "text/plain": [
       "Empty DataFrame\n",
       "Columns: [user_id, book_id, provided_rating]\n",
       "Index: []"
      ]
     },
     "metadata": {},
     "output_type": "display_data"
    },
    {
     "name": "stdout",
     "output_type": "stream",
     "text": [
      "Rating: 0.0\n"
     ]
    },
    {
     "data": {
      "text/html": [
       "<div>\n",
       "<style scoped>\n",
       "    .dataframe tbody tr th:only-of-type {\n",
       "        vertical-align: middle;\n",
       "    }\n",
       "\n",
       "    .dataframe tbody tr th {\n",
       "        vertical-align: top;\n",
       "    }\n",
       "\n",
       "    .dataframe thead th {\n",
       "        text-align: right;\n",
       "    }\n",
       "</style>\n",
       "<table border=\"1\" class=\"dataframe\">\n",
       "  <thead>\n",
       "    <tr style=\"text-align: right;\">\n",
       "      <th></th>\n",
       "      <th>user_id</th>\n",
       "      <th>book_id</th>\n",
       "      <th>provided_rating</th>\n",
       "    </tr>\n",
       "  </thead>\n",
       "  <tbody>\n",
       "  </tbody>\n",
       "</table>\n",
       "</div>"
      ],
      "text/plain": [
       "Empty DataFrame\n",
       "Columns: [user_id, book_id, provided_rating]\n",
       "Index: []"
      ]
     },
     "metadata": {},
     "output_type": "display_data"
    }
   ],
   "source": [
    "negative_samples = np.where(targets.numpy()==0)\n",
    "for idx in negative_samples[0][:5]:\n",
    "    rating = targets[idx].item()\n",
    "    print(f\"Rating: {rating}\")\n",
    "    user_id = user_input[idx].item()\n",
    "    book_id = book_input[idx].item()\n",
    "    display(interactions[(interactions[\"user_id\"] == user_id) & (interactions[\"book_id\"] == book_id)])"
   ]
  },
  {
   "cell_type": "code",
   "execution_count": 56,
   "metadata": {},
   "outputs": [
    {
     "name": "stdout",
     "output_type": "stream",
     "text": [
      "Rating: 0.800000011920929\n"
     ]
    },
    {
     "data": {
      "text/html": [
       "<div>\n",
       "<style scoped>\n",
       "    .dataframe tbody tr th:only-of-type {\n",
       "        vertical-align: middle;\n",
       "    }\n",
       "\n",
       "    .dataframe tbody tr th {\n",
       "        vertical-align: top;\n",
       "    }\n",
       "\n",
       "    .dataframe thead th {\n",
       "        text-align: right;\n",
       "    }\n",
       "</style>\n",
       "<table border=\"1\" class=\"dataframe\">\n",
       "  <thead>\n",
       "    <tr style=\"text-align: right;\">\n",
       "      <th></th>\n",
       "      <th>user_id</th>\n",
       "      <th>book_id</th>\n",
       "      <th>provided_rating</th>\n",
       "    </tr>\n",
       "  </thead>\n",
       "  <tbody>\n",
       "    <tr>\n",
       "      <th>5503</th>\n",
       "      <td>1273</td>\n",
       "      <td>3700</td>\n",
       "      <td>0.8</td>\n",
       "    </tr>\n",
       "  </tbody>\n",
       "</table>\n",
       "</div>"
      ],
      "text/plain": [
       "      user_id  book_id  provided_rating\n",
       "5503     1273     3700              0.8"
      ]
     },
     "metadata": {},
     "output_type": "display_data"
    },
    {
     "name": "stdout",
     "output_type": "stream",
     "text": [
      "Rating: 1.0\n"
     ]
    },
    {
     "data": {
      "text/html": [
       "<div>\n",
       "<style scoped>\n",
       "    .dataframe tbody tr th:only-of-type {\n",
       "        vertical-align: middle;\n",
       "    }\n",
       "\n",
       "    .dataframe tbody tr th {\n",
       "        vertical-align: top;\n",
       "    }\n",
       "\n",
       "    .dataframe thead th {\n",
       "        text-align: right;\n",
       "    }\n",
       "</style>\n",
       "<table border=\"1\" class=\"dataframe\">\n",
       "  <thead>\n",
       "    <tr style=\"text-align: right;\">\n",
       "      <th></th>\n",
       "      <th>user_id</th>\n",
       "      <th>book_id</th>\n",
       "      <th>provided_rating</th>\n",
       "    </tr>\n",
       "  </thead>\n",
       "  <tbody>\n",
       "    <tr>\n",
       "      <th>103454</th>\n",
       "      <td>31449</td>\n",
       "      <td>2500</td>\n",
       "      <td>1.0</td>\n",
       "    </tr>\n",
       "  </tbody>\n",
       "</table>\n",
       "</div>"
      ],
      "text/plain": [
       "        user_id  book_id  provided_rating\n",
       "103454    31449     2500              1.0"
      ]
     },
     "metadata": {},
     "output_type": "display_data"
    },
    {
     "name": "stdout",
     "output_type": "stream",
     "text": [
      "Rating: 0.8999999761581421\n"
     ]
    },
    {
     "data": {
      "text/html": [
       "<div>\n",
       "<style scoped>\n",
       "    .dataframe tbody tr th:only-of-type {\n",
       "        vertical-align: middle;\n",
       "    }\n",
       "\n",
       "    .dataframe tbody tr th {\n",
       "        vertical-align: top;\n",
       "    }\n",
       "\n",
       "    .dataframe thead th {\n",
       "        text-align: right;\n",
       "    }\n",
       "</style>\n",
       "<table border=\"1\" class=\"dataframe\">\n",
       "  <thead>\n",
       "    <tr style=\"text-align: right;\">\n",
       "      <th></th>\n",
       "      <th>user_id</th>\n",
       "      <th>book_id</th>\n",
       "      <th>provided_rating</th>\n",
       "    </tr>\n",
       "  </thead>\n",
       "  <tbody>\n",
       "    <tr>\n",
       "      <th>43478</th>\n",
       "      <td>12741</td>\n",
       "      <td>8018</td>\n",
       "      <td>0.9</td>\n",
       "    </tr>\n",
       "  </tbody>\n",
       "</table>\n",
       "</div>"
      ],
      "text/plain": [
       "       user_id  book_id  provided_rating\n",
       "43478    12741     8018              0.9"
      ]
     },
     "metadata": {},
     "output_type": "display_data"
    },
    {
     "name": "stdout",
     "output_type": "stream",
     "text": [
      "Rating: 0.8999999761581421\n"
     ]
    },
    {
     "data": {
      "text/html": [
       "<div>\n",
       "<style scoped>\n",
       "    .dataframe tbody tr th:only-of-type {\n",
       "        vertical-align: middle;\n",
       "    }\n",
       "\n",
       "    .dataframe tbody tr th {\n",
       "        vertical-align: top;\n",
       "    }\n",
       "\n",
       "    .dataframe thead th {\n",
       "        text-align: right;\n",
       "    }\n",
       "</style>\n",
       "<table border=\"1\" class=\"dataframe\">\n",
       "  <thead>\n",
       "    <tr style=\"text-align: right;\">\n",
       "      <th></th>\n",
       "      <th>user_id</th>\n",
       "      <th>book_id</th>\n",
       "      <th>provided_rating</th>\n",
       "    </tr>\n",
       "  </thead>\n",
       "  <tbody>\n",
       "    <tr>\n",
       "      <th>38004</th>\n",
       "      <td>11323</td>\n",
       "      <td>98</td>\n",
       "      <td>0.9</td>\n",
       "    </tr>\n",
       "  </tbody>\n",
       "</table>\n",
       "</div>"
      ],
      "text/plain": [
       "       user_id  book_id  provided_rating\n",
       "38004    11323       98              0.9"
      ]
     },
     "metadata": {},
     "output_type": "display_data"
    },
    {
     "name": "stdout",
     "output_type": "stream",
     "text": [
      "Rating: 0.800000011920929\n"
     ]
    },
    {
     "data": {
      "text/html": [
       "<div>\n",
       "<style scoped>\n",
       "    .dataframe tbody tr th:only-of-type {\n",
       "        vertical-align: middle;\n",
       "    }\n",
       "\n",
       "    .dataframe tbody tr th {\n",
       "        vertical-align: top;\n",
       "    }\n",
       "\n",
       "    .dataframe thead th {\n",
       "        text-align: right;\n",
       "    }\n",
       "</style>\n",
       "<table border=\"1\" class=\"dataframe\">\n",
       "  <thead>\n",
       "    <tr style=\"text-align: right;\">\n",
       "      <th></th>\n",
       "      <th>user_id</th>\n",
       "      <th>book_id</th>\n",
       "      <th>provided_rating</th>\n",
       "    </tr>\n",
       "  </thead>\n",
       "  <tbody>\n",
       "    <tr>\n",
       "      <th>65347</th>\n",
       "      <td>19577</td>\n",
       "      <td>6778</td>\n",
       "      <td>0.8</td>\n",
       "    </tr>\n",
       "  </tbody>\n",
       "</table>\n",
       "</div>"
      ],
      "text/plain": [
       "       user_id  book_id  provided_rating\n",
       "65347    19577     6778              0.8"
      ]
     },
     "metadata": {},
     "output_type": "display_data"
    }
   ],
   "source": [
    "positive_samples = np.where(targets.numpy()!=0)\n",
    "for idx in positive_samples[0][:5]:\n",
    "    rating = targets[idx].item()\n",
    "    print(f\"Rating: {rating}\")\n",
    "    user_id = user_input[idx].item()\n",
    "    book_id = book_input[idx].item()\n",
    "    display(book_dataset.interactions[(book_dataset.interactions[\"user_id\"] == user_id) & (book_dataset.interactions[\"book_id\"] == book_id)])"
   ]
  },
  {
   "cell_type": "code",
   "execution_count": 68,
   "metadata": {},
   "outputs": [
    {
     "data": {
      "text/plain": [
       "tensor(20)"
      ]
     },
     "execution_count": 68,
     "metadata": {},
     "output_type": "execute_result"
    }
   ],
   "source": [
    "config = wandb.config\n",
    "config.negative_samples_ratio = 0.5\n",
    "config.features = True\n",
    "config.normalize = True\n",
    "book_dataset = BookDataset(users, books, interactions, config)\n",
    "book_dataset_batched = torch.utils.data.DataLoader(book_dataset, batch_size=32, shuffle=True)\n",
    "user_input, book_input, targets = next(iter(book_dataset_batched))\n",
    "(targets==0).sum()"
   ]
  },
  {
   "cell_type": "code",
   "execution_count": 61,
   "metadata": {},
   "outputs": [
    {
     "name": "stdout",
     "output_type": "stream",
     "text": [
      "Rating: 0.0\n"
     ]
    },
    {
     "data": {
      "text/html": [
       "<div>\n",
       "<style scoped>\n",
       "    .dataframe tbody tr th:only-of-type {\n",
       "        vertical-align: middle;\n",
       "    }\n",
       "\n",
       "    .dataframe tbody tr th {\n",
       "        vertical-align: top;\n",
       "    }\n",
       "\n",
       "    .dataframe thead th {\n",
       "        text-align: right;\n",
       "    }\n",
       "</style>\n",
       "<table border=\"1\" class=\"dataframe\">\n",
       "  <thead>\n",
       "    <tr style=\"text-align: right;\">\n",
       "      <th></th>\n",
       "      <th>user_id</th>\n",
       "      <th>book_id</th>\n",
       "      <th>provided_rating</th>\n",
       "    </tr>\n",
       "  </thead>\n",
       "  <tbody>\n",
       "  </tbody>\n",
       "</table>\n",
       "</div>"
      ],
      "text/plain": [
       "Empty DataFrame\n",
       "Columns: [user_id, book_id, provided_rating]\n",
       "Index: []"
      ]
     },
     "metadata": {},
     "output_type": "display_data"
    },
    {
     "name": "stdout",
     "output_type": "stream",
     "text": [
      "Rating: 0.0\n"
     ]
    },
    {
     "data": {
      "text/html": [
       "<div>\n",
       "<style scoped>\n",
       "    .dataframe tbody tr th:only-of-type {\n",
       "        vertical-align: middle;\n",
       "    }\n",
       "\n",
       "    .dataframe tbody tr th {\n",
       "        vertical-align: top;\n",
       "    }\n",
       "\n",
       "    .dataframe thead th {\n",
       "        text-align: right;\n",
       "    }\n",
       "</style>\n",
       "<table border=\"1\" class=\"dataframe\">\n",
       "  <thead>\n",
       "    <tr style=\"text-align: right;\">\n",
       "      <th></th>\n",
       "      <th>user_id</th>\n",
       "      <th>book_id</th>\n",
       "      <th>provided_rating</th>\n",
       "    </tr>\n",
       "  </thead>\n",
       "  <tbody>\n",
       "  </tbody>\n",
       "</table>\n",
       "</div>"
      ],
      "text/plain": [
       "Empty DataFrame\n",
       "Columns: [user_id, book_id, provided_rating]\n",
       "Index: []"
      ]
     },
     "metadata": {},
     "output_type": "display_data"
    },
    {
     "name": "stdout",
     "output_type": "stream",
     "text": [
      "Rating: 0.0\n"
     ]
    },
    {
     "data": {
      "text/html": [
       "<div>\n",
       "<style scoped>\n",
       "    .dataframe tbody tr th:only-of-type {\n",
       "        vertical-align: middle;\n",
       "    }\n",
       "\n",
       "    .dataframe tbody tr th {\n",
       "        vertical-align: top;\n",
       "    }\n",
       "\n",
       "    .dataframe thead th {\n",
       "        text-align: right;\n",
       "    }\n",
       "</style>\n",
       "<table border=\"1\" class=\"dataframe\">\n",
       "  <thead>\n",
       "    <tr style=\"text-align: right;\">\n",
       "      <th></th>\n",
       "      <th>user_id</th>\n",
       "      <th>book_id</th>\n",
       "      <th>provided_rating</th>\n",
       "    </tr>\n",
       "  </thead>\n",
       "  <tbody>\n",
       "  </tbody>\n",
       "</table>\n",
       "</div>"
      ],
      "text/plain": [
       "Empty DataFrame\n",
       "Columns: [user_id, book_id, provided_rating]\n",
       "Index: []"
      ]
     },
     "metadata": {},
     "output_type": "display_data"
    },
    {
     "name": "stdout",
     "output_type": "stream",
     "text": [
      "Rating: 0.0\n"
     ]
    },
    {
     "data": {
      "text/html": [
       "<div>\n",
       "<style scoped>\n",
       "    .dataframe tbody tr th:only-of-type {\n",
       "        vertical-align: middle;\n",
       "    }\n",
       "\n",
       "    .dataframe tbody tr th {\n",
       "        vertical-align: top;\n",
       "    }\n",
       "\n",
       "    .dataframe thead th {\n",
       "        text-align: right;\n",
       "    }\n",
       "</style>\n",
       "<table border=\"1\" class=\"dataframe\">\n",
       "  <thead>\n",
       "    <tr style=\"text-align: right;\">\n",
       "      <th></th>\n",
       "      <th>user_id</th>\n",
       "      <th>book_id</th>\n",
       "      <th>provided_rating</th>\n",
       "    </tr>\n",
       "  </thead>\n",
       "  <tbody>\n",
       "  </tbody>\n",
       "</table>\n",
       "</div>"
      ],
      "text/plain": [
       "Empty DataFrame\n",
       "Columns: [user_id, book_id, provided_rating]\n",
       "Index: []"
      ]
     },
     "metadata": {},
     "output_type": "display_data"
    },
    {
     "name": "stdout",
     "output_type": "stream",
     "text": [
      "Rating: 0.0\n"
     ]
    },
    {
     "data": {
      "text/html": [
       "<div>\n",
       "<style scoped>\n",
       "    .dataframe tbody tr th:only-of-type {\n",
       "        vertical-align: middle;\n",
       "    }\n",
       "\n",
       "    .dataframe tbody tr th {\n",
       "        vertical-align: top;\n",
       "    }\n",
       "\n",
       "    .dataframe thead th {\n",
       "        text-align: right;\n",
       "    }\n",
       "</style>\n",
       "<table border=\"1\" class=\"dataframe\">\n",
       "  <thead>\n",
       "    <tr style=\"text-align: right;\">\n",
       "      <th></th>\n",
       "      <th>user_id</th>\n",
       "      <th>book_id</th>\n",
       "      <th>provided_rating</th>\n",
       "    </tr>\n",
       "  </thead>\n",
       "  <tbody>\n",
       "  </tbody>\n",
       "</table>\n",
       "</div>"
      ],
      "text/plain": [
       "Empty DataFrame\n",
       "Columns: [user_id, book_id, provided_rating]\n",
       "Index: []"
      ]
     },
     "metadata": {},
     "output_type": "display_data"
    }
   ],
   "source": [
    "negative_samples = np.where(targets.numpy()==0)\n",
    "for idx in negative_samples[0][:5]:\n",
    "    rating = targets[idx].item()\n",
    "    print(f\"Rating: {rating}\")\n",
    "    user_id = user_input[idx][0].item()\n",
    "    book_id = book_input[idx][0].item()\n",
    "    display(interactions[(interactions[\"user_id\"] == user_id) & (interactions[\"book_id\"] == book_id)])"
   ]
  },
  {
   "cell_type": "code",
   "execution_count": 62,
   "metadata": {},
   "outputs": [
    {
     "name": "stdout",
     "output_type": "stream",
     "text": [
      "Rating: 0.800000011920929\n"
     ]
    },
    {
     "data": {
      "text/html": [
       "<div>\n",
       "<style scoped>\n",
       "    .dataframe tbody tr th:only-of-type {\n",
       "        vertical-align: middle;\n",
       "    }\n",
       "\n",
       "    .dataframe tbody tr th {\n",
       "        vertical-align: top;\n",
       "    }\n",
       "\n",
       "    .dataframe thead th {\n",
       "        text-align: right;\n",
       "    }\n",
       "</style>\n",
       "<table border=\"1\" class=\"dataframe\">\n",
       "  <thead>\n",
       "    <tr style=\"text-align: right;\">\n",
       "      <th></th>\n",
       "      <th>user_id</th>\n",
       "      <th>book_id</th>\n",
       "      <th>provided_rating</th>\n",
       "    </tr>\n",
       "  </thead>\n",
       "  <tbody>\n",
       "    <tr>\n",
       "      <th>32532</th>\n",
       "      <td>9799</td>\n",
       "      <td>1540</td>\n",
       "      <td>0.8</td>\n",
       "    </tr>\n",
       "  </tbody>\n",
       "</table>\n",
       "</div>"
      ],
      "text/plain": [
       "       user_id  book_id  provided_rating\n",
       "32532     9799     1540              0.8"
      ]
     },
     "metadata": {},
     "output_type": "display_data"
    },
    {
     "name": "stdout",
     "output_type": "stream",
     "text": [
      "Rating: 0.6000000238418579\n"
     ]
    },
    {
     "data": {
      "text/html": [
       "<div>\n",
       "<style scoped>\n",
       "    .dataframe tbody tr th:only-of-type {\n",
       "        vertical-align: middle;\n",
       "    }\n",
       "\n",
       "    .dataframe tbody tr th {\n",
       "        vertical-align: top;\n",
       "    }\n",
       "\n",
       "    .dataframe thead th {\n",
       "        text-align: right;\n",
       "    }\n",
       "</style>\n",
       "<table border=\"1\" class=\"dataframe\">\n",
       "  <thead>\n",
       "    <tr style=\"text-align: right;\">\n",
       "      <th></th>\n",
       "      <th>user_id</th>\n",
       "      <th>book_id</th>\n",
       "      <th>provided_rating</th>\n",
       "    </tr>\n",
       "  </thead>\n",
       "  <tbody>\n",
       "    <tr>\n",
       "      <th>58561</th>\n",
       "      <td>17510</td>\n",
       "      <td>3006</td>\n",
       "      <td>0.6</td>\n",
       "    </tr>\n",
       "  </tbody>\n",
       "</table>\n",
       "</div>"
      ],
      "text/plain": [
       "       user_id  book_id  provided_rating\n",
       "58561    17510     3006              0.6"
      ]
     },
     "metadata": {},
     "output_type": "display_data"
    },
    {
     "name": "stdout",
     "output_type": "stream",
     "text": [
      "Rating: 0.699999988079071\n"
     ]
    },
    {
     "data": {
      "text/html": [
       "<div>\n",
       "<style scoped>\n",
       "    .dataframe tbody tr th:only-of-type {\n",
       "        vertical-align: middle;\n",
       "    }\n",
       "\n",
       "    .dataframe tbody tr th {\n",
       "        vertical-align: top;\n",
       "    }\n",
       "\n",
       "    .dataframe thead th {\n",
       "        text-align: right;\n",
       "    }\n",
       "</style>\n",
       "<table border=\"1\" class=\"dataframe\">\n",
       "  <thead>\n",
       "    <tr style=\"text-align: right;\">\n",
       "      <th></th>\n",
       "      <th>user_id</th>\n",
       "      <th>book_id</th>\n",
       "      <th>provided_rating</th>\n",
       "    </tr>\n",
       "  </thead>\n",
       "  <tbody>\n",
       "    <tr>\n",
       "      <th>22</th>\n",
       "      <td>17</td>\n",
       "      <td>21</td>\n",
       "      <td>0.7</td>\n",
       "    </tr>\n",
       "  </tbody>\n",
       "</table>\n",
       "</div>"
      ],
      "text/plain": [
       "    user_id  book_id  provided_rating\n",
       "22       17       21              0.7"
      ]
     },
     "metadata": {},
     "output_type": "display_data"
    },
    {
     "name": "stdout",
     "output_type": "stream",
     "text": [
      "Rating: 0.699999988079071\n"
     ]
    },
    {
     "data": {
      "text/html": [
       "<div>\n",
       "<style scoped>\n",
       "    .dataframe tbody tr th:only-of-type {\n",
       "        vertical-align: middle;\n",
       "    }\n",
       "\n",
       "    .dataframe tbody tr th {\n",
       "        vertical-align: top;\n",
       "    }\n",
       "\n",
       "    .dataframe thead th {\n",
       "        text-align: right;\n",
       "    }\n",
       "</style>\n",
       "<table border=\"1\" class=\"dataframe\">\n",
       "  <thead>\n",
       "    <tr style=\"text-align: right;\">\n",
       "      <th></th>\n",
       "      <th>user_id</th>\n",
       "      <th>book_id</th>\n",
       "      <th>provided_rating</th>\n",
       "    </tr>\n",
       "  </thead>\n",
       "  <tbody>\n",
       "    <tr>\n",
       "      <th>52604</th>\n",
       "      <td>15617</td>\n",
       "      <td>4716</td>\n",
       "      <td>0.7</td>\n",
       "    </tr>\n",
       "  </tbody>\n",
       "</table>\n",
       "</div>"
      ],
      "text/plain": [
       "       user_id  book_id  provided_rating\n",
       "52604    15617     4716              0.7"
      ]
     },
     "metadata": {},
     "output_type": "display_data"
    },
    {
     "name": "stdout",
     "output_type": "stream",
     "text": [
      "Rating: 0.5\n"
     ]
    },
    {
     "data": {
      "text/html": [
       "<div>\n",
       "<style scoped>\n",
       "    .dataframe tbody tr th:only-of-type {\n",
       "        vertical-align: middle;\n",
       "    }\n",
       "\n",
       "    .dataframe tbody tr th {\n",
       "        vertical-align: top;\n",
       "    }\n",
       "\n",
       "    .dataframe thead th {\n",
       "        text-align: right;\n",
       "    }\n",
       "</style>\n",
       "<table border=\"1\" class=\"dataframe\">\n",
       "  <thead>\n",
       "    <tr style=\"text-align: right;\">\n",
       "      <th></th>\n",
       "      <th>user_id</th>\n",
       "      <th>book_id</th>\n",
       "      <th>provided_rating</th>\n",
       "    </tr>\n",
       "  </thead>\n",
       "  <tbody>\n",
       "    <tr>\n",
       "      <th>32278</th>\n",
       "      <td>9690</td>\n",
       "      <td>5243</td>\n",
       "      <td>0.5</td>\n",
       "    </tr>\n",
       "  </tbody>\n",
       "</table>\n",
       "</div>"
      ],
      "text/plain": [
       "       user_id  book_id  provided_rating\n",
       "32278     9690     5243              0.5"
      ]
     },
     "metadata": {},
     "output_type": "display_data"
    }
   ],
   "source": [
    "positive_samples = np.where(targets.numpy()!=0)\n",
    "for idx in positive_samples[0][:5]:\n",
    "    rating = targets[idx].item()\n",
    "    print(f\"Rating: {rating}\")\n",
    "    user_id = user_input[idx][0].item()\n",
    "    book_id = book_input[idx][0].item()\n",
    "    display(book_dataset.interactions[(book_dataset.interactions[\"user_id\"] == user_id) & (book_dataset.interactions[\"book_id\"] == book_id)])"
   ]
  },
  {
   "cell_type": "markdown",
   "metadata": {},
   "source": [
    "It is working as expected."
   ]
  },
  {
   "cell_type": "markdown",
   "metadata": {},
   "source": [
    "We will create the final train and test datasets."
   ]
  },
  {
   "cell_type": "code",
   "execution_count": 685,
   "metadata": {},
   "outputs": [],
   "source": [
    "negative_samples_ratio = 0.4\n",
    "batch_size = 32\n",
    "train_dataset = BookDataset(users, books, train_interactions, negative_samples_ratio=negative_samples_ratio)\n",
    "test_dataset = BookDataset(users, books, test_interactions, negative_samples_ratio=negative_samples_ratio)\n",
    "\n",
    "train_df = torch.utils.data.DataLoader(train_dataset, batch_size=32, shuffle=True)\n",
    "test_df = torch.utils.data.DataLoader(test_dataset, batch_size=32, shuffle=True)"
   ]
  },
  {
   "cell_type": "markdown",
   "metadata": {},
   "source": [
    "Now, we will create the model."
   ]
  },
  {
   "cell_type": "markdown",
   "metadata": {},
   "source": [
    "## Model MLP"
   ]
  },
  {
   "cell_type": "markdown",
   "metadata": {},
   "source": [
    "We will use $d = 40$ for the embedding layer. We will use 2 layers for the CF layers. We can treat these as hyperparameters and tune them later."
   ]
  },
  {
   "cell_type": "code",
   "execution_count": 113,
   "metadata": {},
   "outputs": [],
   "source": [
    "class MLPModel(torch.nn.Module):\n",
    "    \"\"\"Model class for the BookNet model.\"\"\"\n",
    "    def __init__(self, config):\n",
    "        \"\"\"Initializes the BookNet model.\n",
    "        \n",
    "        Parameters\n",
    "        ----------\n",
    "        m: int\n",
    "            Number of users.\n",
    "        n: int\n",
    "            Number of books.\n",
    "        m_f: int\n",
    "            Number of user features.\n",
    "        n_f: int\n",
    "            Number of book features.\n",
    "        embedding_dim: int\n",
    "            Hidden dimension for the hidden layer.\n",
    "        cf_layer_neurons: list\n",
    "            List of integers specifying the number of neurons in each layer of the collaborative filtering part of the model.\n",
    "        \"\"\"\n",
    "        super(MLPModel, self).__init__()\n",
    "        m = config.m\n",
    "        n = config.n\n",
    "        m_f = config.m_f\n",
    "        n_f = config.n_f\n",
    "        embedding_dim = config.embedding_dim\n",
    "        cf_layer_neurons = config.cf_layer_neurons\n",
    "        self.m = m\n",
    "        self.n = n\n",
    "        self.m_f = m_f\n",
    "        self.n_f = n_f\n",
    "        self.embedding_dim = embedding_dim\n",
    "        self.cf_layer_neurons = cf_layer_neurons\n",
    "\n",
    "        self.user_embedding, self.book_embedding = self.create_embedding_layer()\n",
    "        self.cf_layer = self.create_CF_layer()\n",
    "        self._init_embedding_weights(self.user_embedding)\n",
    "\n",
    "\n",
    "    def create_embedding_layer(self):\n",
    "        \"\"\"Creates the embedding layer\"\"\"\n",
    "        user_in_shape = self.m + self.m_f\n",
    "        book_in_shape = self.n\n",
    "        out_shape = self.embedding_dim\n",
    "        user_embedding = torch.nn.Embedding(num_embeddings=user_in_shape, embedding_dim=out_shape)\n",
    "        book_embedding = torch.nn.Embedding(num_embeddings=book_in_shape, embedding_dim=out_shape)\n",
    "        return user_embedding, book_embedding\n",
    "    \n",
    "    def _init_embedding_weights(self, embedding_layer):\n",
    "        \"\"\"Initializes the embedding layer weights with a uniform distribution.\"\"\"\n",
    "        embedding_layer.weight.data.uniform_(0, 1)\n",
    "    \n",
    "    def init_weights(self):\n",
    "        \"\"\"Initializes the weights of the model.\"\"\"\n",
    "        self._init_embedding_weights(self.user_embedding)\n",
    "        self._init_embedding_weights(self.book_embedding)\n",
    "        for layer in self.cf_layer:\n",
    "            if isinstance(layer, torch.nn.Linear):\n",
    "                torch.nn.init.xavier_uniform_(layer.weight)\n",
    "    \n",
    "    def create_CF_layer(self):\n",
    "        \"\"\"Creates the collaborative filtering layers. Uses the number of neurons specified in `cf_layer_neurons`.\"\"\"\n",
    "        num_layers = len(self.cf_layer_neurons)\n",
    "        activation = torch.nn.ReLU()\n",
    "        layers = []\n",
    "        for i in range(num_layers):\n",
    "            if i == 0:\n",
    "                layers.append(torch.nn.Linear(self.embedding_dim*2, self.cf_layer_neurons[i]))\n",
    "            else:\n",
    "                layers.append(torch.nn.Linear(self.cf_layer_neurons[i-1], self.cf_layer_neurons[i]))\n",
    "            layers.append(activation)\n",
    "        layers.append(torch.nn.Linear(self.cf_layer_neurons[-1], 1))\n",
    "        if config.use_sigmoid:\n",
    "            layers.append(torch.nn.Sigmoid())\n",
    "        else:\n",
    "            layers.append(activation)\n",
    "        return torch.nn.Sequential(*layers)\n",
    "    \n",
    "    def forward(self, user_input, book_input):\n",
    "        \"\"\"Forward pass of the model.\n",
    "        \n",
    "        Parameters\n",
    "        ----------\n",
    "        user_input: torch.Tensor\n",
    "            Tensor containing the user input.\n",
    "        book_input: torch.Tensor\n",
    "            Tensor containing the book input.\n",
    "        \"\"\"\n",
    "        user_index = user_input.long()\n",
    "        user_embedded = self.user_embedding(user_index)\n",
    "        book_index = book_input.long()\n",
    "        book_embedded = self.book_embedding(book_index)\n",
    "        # Concatenate the user and book embeddings to form one vector.\n",
    "        x = torch.cat([user_embedded, book_embedded], dim=-1)\n",
    "        x = self.cf_layer(x)\n",
    "        x = torch.squeeze(x)\n",
    "        return x"
   ]
  },
  {
   "cell_type": "markdown",
   "metadata": {},
   "source": [
    "We have our model. Next, we will define a loss function and an optimizer. Then we will train the model."
   ]
  },
  {
   "cell_type": "markdown",
   "metadata": {},
   "source": [
    "### Loss Function"
   ]
  },
  {
   "cell_type": "markdown",
   "metadata": {},
   "source": [
    "We will use MSE loss. We will also add the l1 and l2 regularization terms. This way, we can experiment with different regularization parameters."
   ]
  },
  {
   "cell_type": "code",
   "execution_count": 69,
   "metadata": {},
   "outputs": [],
   "source": [
    "class MSE_L1L2Loss(torch.nn.Module):\n",
    "    def __init__(self, model, config):\n",
    "        \"\"\"Initializes the loss function.\n",
    "\n",
    "        Parameters\n",
    "        ----------\n",
    "        model: torch.nn.Module\n",
    "            The model to use for the loss function.\n",
    "        l1_weight: float\n",
    "            Weight for the L1 regularization term.\n",
    "        l2_weight: float\n",
    "            Weight for the L2 regularization term.\n",
    "        \"\"\"\n",
    "        super().__init__()\n",
    "        self.model = model\n",
    "        self.l1_weight = config.l1_weight\n",
    "        self.l2_weight = config.l2_weight\n",
    "\n",
    "    def forward(self, y_hat, y):\n",
    "        \"\"\"The forward pass of the loss function.\"\"\"\n",
    "        mse_loss = torch.nn.functional.mse_loss(y_hat, y)\n",
    "        l2_regularization = torch.tensor(0.)\n",
    "        l1_regularization = torch.tensor(0.)\n",
    "        for param in self.model.parameters():\n",
    "            l2_regularization += torch.norm(param, 2)\n",
    "            l1_regularization += torch.norm(param, 1)\n",
    "        l1_regularization *= self.l1_weight\n",
    "        l2_regularization *= self.l2_weight\n",
    "        loss = mse_loss + l1_regularization + l2_regularization\n",
    "        return loss"
   ]
  },
  {
   "cell_type": "markdown",
   "metadata": {},
   "source": [
    "### Optimizer and Other Parameters"
   ]
  },
  {
   "cell_type": "markdown",
   "metadata": {},
   "source": [
    "We can use the Adam optimizer. We will also create a learning rate scheduler."
   ]
  },
  {
   "cell_type": "code",
   "execution_count": 145,
   "metadata": {},
   "outputs": [
    {
     "data": {
      "text/html": [
       "wandb version 0.15.10 is available!  To upgrade, please run:\n",
       " $ pip install wandb --upgrade"
      ],
      "text/plain": [
       "<IPython.core.display.HTML object>"
      ]
     },
     "metadata": {},
     "output_type": "display_data"
    },
    {
     "data": {
      "text/html": [
       "Tracking run with wandb version 0.15.7"
      ],
      "text/plain": [
       "<IPython.core.display.HTML object>"
      ]
     },
     "metadata": {},
     "output_type": "display_data"
    },
    {
     "data": {
      "text/html": [
       "Run data is saved locally in <code>c:\\Users\\harik\\Desktop\\Book_Recommendation\\model\\wandb\\run-20230910_174619-ogx87hv2</code>"
      ],
      "text/plain": [
       "<IPython.core.display.HTML object>"
      ]
     },
     "metadata": {},
     "output_type": "display_data"
    },
    {
     "data": {
      "text/html": [
       "Syncing run <strong><a href='https://wandb.ai/hari31416/Book_Recommendation/runs/ogx87hv2' target=\"_blank\">MLP_Model_Sigmoid_Embedding_Dim_2</a></strong> to <a href='https://wandb.ai/hari31416/Book_Recommendation' target=\"_blank\">Weights & Biases</a> (<a href='https://wandb.me/run' target=\"_blank\">docs</a>)<br/>"
      ],
      "text/plain": [
       "<IPython.core.display.HTML object>"
      ]
     },
     "metadata": {},
     "output_type": "display_data"
    },
    {
     "data": {
      "text/html": [
       " View project at <a href='https://wandb.ai/hari31416/Book_Recommendation' target=\"_blank\">https://wandb.ai/hari31416/Book_Recommendation</a>"
      ],
      "text/plain": [
       "<IPython.core.display.HTML object>"
      ]
     },
     "metadata": {},
     "output_type": "display_data"
    },
    {
     "data": {
      "text/html": [
       " View run at <a href='https://wandb.ai/hari31416/Book_Recommendation/runs/ogx87hv2' target=\"_blank\">https://wandb.ai/hari31416/Book_Recommendation/runs/ogx87hv2</a>"
      ],
      "text/plain": [
       "<IPython.core.display.HTML object>"
      ]
     },
     "metadata": {},
     "output_type": "display_data"
    }
   ],
   "source": [
    "wandb.init(project='Book_Recommendation', name='MLP_Model_Sigmoid_Embedding_Dim_2', tags=['MLP', 'Recommendation', \"Pytorch\"])\n",
    "# somewhat constants\n",
    "config = wandb.config\n",
    "config.log_interval = 20\n",
    "config.m = m\n",
    "config.n = n\n",
    "config.m_f = m_f\n",
    "config.n_f = n_f\n",
    "config.batch_size = 256\n",
    "config.optimizer_str = \"adam\"\n",
    "config.learning_rate = 0.001\n",
    "config.scheduler_str = \"plateau\"\n",
    "config.negative_samples_ratio = 0.4"
   ]
  },
  {
   "cell_type": "code",
   "execution_count": 146,
   "metadata": {},
   "outputs": [],
   "source": [
    "# Variables\n",
    "# For Dataset\n",
    "config.features = False\n",
    "config.normalize = True\n",
    "train_dataset = BookDataset(users, books, train_interactions, config=config)\n",
    "test_dataset = BookDataset(users, books, test_interactions, config=config)\n",
    "train_df = torch.utils.data.DataLoader(train_dataset, batch_size=config.batch_size, shuffle=True)\n",
    "test_df = torch.utils.data.DataLoader(test_dataset, batch_size=config.batch_size, shuffle=True)\n",
    "\n",
    "# For Model\n",
    "config.embedding_dim = 64\n",
    "config.cf_layer_neurons = [40, 20]\n",
    "config.use_sigmoid = True\n",
    "model = MLPModel(config=config)\n",
    "\n",
    "# For loss function\n",
    "config.l1_weight = 0\n",
    "config.l2_weight = 0\n",
    "loss_func = MSE_L1L2Loss(model, config)\n",
    "if config.optimizer_str == \"adam\":\n",
    "    optimizer = torch.optim.Adam(model.parameters(), lr=config.learning_rate)\n",
    "elif config.optimizer_str == \"sgd\":\n",
    "    optimizer = torch.optim.SGD(model.parameters(), lr=config.learning_rate)\n",
    "\n",
    "if config.scheduler_str == \"plateau\":\n",
    "    scheduler = torch.optim.lr_scheduler.ReduceLROnPlateau(optimizer, patience=10, verbose=True, min_lr=1e-7)\n",
    "elif config.scheduler_str == \"step\":\n",
    "    scheduler = torch.optim.lr_scheduler.StepLR(optimizer, step_size=30, gamma=0.1)\n"
   ]
  },
  {
   "cell_type": "markdown",
   "metadata": {},
   "source": [
    "### Training"
   ]
  },
  {
   "cell_type": "markdown",
   "metadata": {},
   "source": [
    "Excellent! We have our model. Now, we will train it."
   ]
  },
  {
   "cell_type": "code",
   "execution_count": 147,
   "metadata": {},
   "outputs": [],
   "source": [
    "def train_step(user, item, rating, optimizer):\n",
    "    model.train()\n",
    "    optimizer.zero_grad()\n",
    "    prediction = model(user, item)\n",
    "    loss = loss_func(prediction, rating)\n",
    "    loss.backward()\n",
    "    optimizer.step()\n",
    "    wandb.log({\"train_loss\": loss.item()})\n",
    "    return loss.item(), prediction\n",
    "\n",
    "def test_step(user, item, rating):\n",
    "    model.eval()\n",
    "    prediction = model(user, item)\n",
    "    loss = loss_func(prediction, rating)\n",
    "    wandb.log({\"test_loss\": loss.item()})\n",
    "    sample_rating_pred = test_dataset.decode_rating(prediction[0].item())\n",
    "    sample_rating_true = test_dataset.decode_rating(rating[0].item())\n",
    "    wandb.log({\"sample_rating_pred\": sample_rating_pred, \"sample_rating_true\": sample_rating_true})\n",
    "    return loss.item()"
   ]
  },
  {
   "cell_type": "code",
   "execution_count": 148,
   "metadata": {},
   "outputs": [
    {
     "data": {
      "application/vnd.jupyter.widget-view+json": {
       "model_id": "75f5254127d74859ad952c8018cdc027",
       "version_major": 2,
       "version_minor": 0
      },
      "text/plain": [
       "  0%|          | 0/5 [00:00<?, ?it/s]"
      ]
     },
     "metadata": {},
     "output_type": "display_data"
    },
    {
     "name": "stdout",
     "output_type": "stream",
     "text": [
      "Epoch: 0, Train loss: 0.16070952381544967, Test loss: 0.15654409622273793\n",
      "Epoch: 1, Train loss: 0.14977387470120013, Test loss: 0.1469346324845058\n",
      "Epoch: 2, Train loss: 0.13990050616868466, Test loss: 0.14190465866065607\n",
      "Epoch: 3, Train loss: 0.13239042975795948, Test loss: 0.1371296004551213\n",
      "Epoch: 4, Train loss: 0.1269333143907834, Test loss: 0.1372857580824596\n"
     ]
    }
   ],
   "source": [
    "wandb.watch(model, log=\"all\")\n",
    "epochs = 5\n",
    "train_losses = []\n",
    "test_losses = []\n",
    "for epoch in tqdm(range(epochs)):\n",
    "    batch = 0\n",
    "    train_loss = 0\n",
    "    test_loss = 0\n",
    "    for user, item, rating in train_df:\n",
    "        batch += 1\n",
    "        loss, rating = train_step(user, item, rating, optimizer)\n",
    "        train_loss += loss\n",
    "        print(f\"Epoch: {epoch}, Batch: {batch}/{len(train_df)}, Loss: {loss}\", end = \"\\r\")\n",
    "    train_loss /= len(train_df)\n",
    "    train_losses.append(train_loss)\n",
    "    for user, item, rating in test_df:\n",
    "        loss = test_step(user, item, rating)\n",
    "        test_loss += loss\n",
    "    test_loss /= len(test_df)\n",
    "    test_losses.append(test_loss)\n",
    "    scheduler.step(test_loss)\n",
    "    print(f\"Epoch: {epoch}, Train loss: {train_loss}, Test loss: {test_loss}\")"
   ]
  },
  {
   "cell_type": "code",
   "execution_count": 149,
   "metadata": {},
   "outputs": [
    {
     "data": {
      "text/html": [
       "Waiting for W&B process to finish... <strong style=\"color:green\">(success).</strong>"
      ],
      "text/plain": [
       "<IPython.core.display.HTML object>"
      ]
     },
     "metadata": {},
     "output_type": "display_data"
    },
    {
     "data": {
      "text/html": [
       "<style>\n",
       "    table.wandb td:nth-child(1) { padding: 0 10px; text-align: left ; width: auto;} td:nth-child(2) {text-align: left ; width: 100%}\n",
       "    .wandb-row { display: flex; flex-direction: row; flex-wrap: wrap; justify-content: flex-start; width: 100% }\n",
       "    .wandb-col { display: flex; flex-direction: column; flex-basis: 100%; flex: 1; padding: 10px; }\n",
       "    </style>\n",
       "<div class=\"wandb-row\"><div class=\"wandb-col\"><h3>Run history:</h3><br/><table class=\"wandb\"><tr><td>sample_rating_pred</td><td>▃▃▅▃▃▅▃▃▃▃▃▆▂▆▂▆▂▅▅▃▂▂▅▁▆▅▅▃▅▆▆▇▇▁▃█▁▆▇█</td></tr><tr><td>sample_rating_true</td><td>▁██▆▁▁▇▅▁▁▇▁▁▇▇▅▅▁▅▅▇▆▇█▁▇▆▁▁██▅▄▁▁▅▁▇▇█</td></tr><tr><td>test_loss</td><td>▇▇▆▇██▇▇▅▆▅▇▂▅▆▆▃▆▃▃▆▂▇▅▁▂▅▂▂▃▅▃▁▂▂▅▄▃▂▃</td></tr><tr><td>train_loss</td><td>█▇▇▇▆▆▆▆▅▆▇▇▅▅▆▄▄▂▅▃▅▄▂▃▅▄▃▃▃▄▂▂▄▂▂▂▁▂▁▂</td></tr></table><br/></div><div class=\"wandb-col\"><h3>Run summary:</h3><br/><table class=\"wandb\"><tr><td>sample_rating_pred</td><td>6.0</td></tr><tr><td>sample_rating_true</td><td>3.0</td></tr><tr><td>test_loss</td><td>0.1449</td></tr><tr><td>train_loss</td><td>0.13632</td></tr></table><br/></div></div>"
      ],
      "text/plain": [
       "<IPython.core.display.HTML object>"
      ]
     },
     "metadata": {},
     "output_type": "display_data"
    },
    {
     "data": {
      "text/html": [
       " View run <strong style=\"color:#cdcd00\">MLP_Model_Sigmoid_Embedding_Dim_2</strong> at: <a href='https://wandb.ai/hari31416/Book_Recommendation/runs/ogx87hv2' target=\"_blank\">https://wandb.ai/hari31416/Book_Recommendation/runs/ogx87hv2</a><br/>Synced 5 W&B file(s), 0 media file(s), 0 artifact file(s) and 0 other file(s)"
      ],
      "text/plain": [
       "<IPython.core.display.HTML object>"
      ]
     },
     "metadata": {},
     "output_type": "display_data"
    },
    {
     "data": {
      "text/html": [
       "Find logs at: <code>.\\wandb\\run-20230910_174619-ogx87hv2\\logs</code>"
      ],
      "text/plain": [
       "<IPython.core.display.HTML object>"
      ]
     },
     "metadata": {},
     "output_type": "display_data"
    }
   ],
   "source": [
    "wandb.finish()"
   ]
  },
  {
   "cell_type": "markdown",
   "metadata": {},
   "source": [
    "Using normalized data with sigmoid is giving the best result.\n"
   ]
  },
  {
   "cell_type": "code",
   "execution_count": 150,
   "metadata": {},
   "outputs": [],
   "source": [
    "user_input, book_input, targets = next(iter(test_df))"
   ]
  },
  {
   "cell_type": "code",
   "execution_count": 151,
   "metadata": {},
   "outputs": [],
   "source": [
    "pred = model(user_input, book_input)"
   ]
  },
  {
   "cell_type": "code",
   "execution_count": 152,
   "metadata": {},
   "outputs": [
    {
     "data": {
      "text/plain": [
       "tensor([0.0000, 0.9000, 0.9000, 0.8000, 0.0000, 0.0000, 0.0000, 0.9000, 0.8000,\n",
       "        0.0000, 0.0000, 0.7000, 0.6000, 0.5000, 0.8000, 0.0000, 0.0000, 0.8000,\n",
       "        1.0000, 0.8000, 0.9000, 0.0000, 1.0000, 0.7000, 0.7000, 0.9000, 0.0000,\n",
       "        0.0000, 0.3000, 1.0000, 0.0000, 1.0000, 0.0000, 0.7000, 1.0000, 0.0000,\n",
       "        0.7000, 0.5000, 0.8000, 0.0000, 0.7000, 0.8000, 0.0000, 0.7000, 0.6000,\n",
       "        0.0000, 0.0000, 1.0000, 0.8000, 1.0000, 0.0000, 0.8000, 0.8000, 0.9000,\n",
       "        0.7000, 0.0000, 0.0000, 0.7000, 0.7000, 0.0000, 0.5000, 0.9000, 0.7000,\n",
       "        0.0000, 1.0000, 0.0000, 1.0000, 1.0000, 0.7000, 0.7000, 0.0000, 0.8000,\n",
       "        0.7000, 1.0000, 0.0000, 0.0000, 0.0000, 0.0000, 0.0000, 0.0000, 0.7000,\n",
       "        0.9000, 0.7000, 1.0000, 0.0000, 1.0000, 0.0000, 0.0000, 0.7000, 0.8000,\n",
       "        0.0000, 0.9000, 0.7000, 0.0000, 1.0000, 0.6000, 0.8000, 0.8000, 0.8000,\n",
       "        0.9000, 0.9000, 0.7000, 0.9000, 0.7000, 0.6000, 0.0000, 0.0000, 1.0000,\n",
       "        1.0000, 0.8000, 0.6000, 0.9000, 0.7000, 0.0000, 0.8000, 0.9000, 0.0000,\n",
       "        0.0000, 0.0000, 1.0000, 0.0000, 0.0000, 0.7000, 0.0000, 0.0000, 0.0000,\n",
       "        0.8000, 1.0000, 0.8000, 0.6000, 0.8000, 0.0000, 0.0000, 0.9000, 1.0000,\n",
       "        0.0000, 0.5000, 0.0000, 0.8000, 0.8000, 0.0000, 0.6000, 0.0000, 0.7000,\n",
       "        0.8000, 0.0000, 0.0000, 0.9000, 0.5000, 0.7000, 0.8000, 0.9000, 0.0000,\n",
       "        1.0000, 0.9000, 0.9000, 0.5000, 0.7000, 0.0000, 0.8000, 0.9000, 0.8000,\n",
       "        0.0000, 0.8000, 0.0000, 0.0000, 1.0000, 0.0000, 0.6000, 0.0000, 0.0000,\n",
       "        0.4000, 1.0000, 0.0000, 0.8000, 0.9000, 0.6000, 0.8000, 0.0000, 0.9000,\n",
       "        1.0000, 0.0000, 0.5000, 0.0000, 0.9000, 0.8000, 1.0000, 1.0000, 0.0000,\n",
       "        0.0000, 0.0000, 0.0000, 0.0000, 0.0000, 0.0000, 1.0000, 0.9000, 0.8000,\n",
       "        0.5000, 0.0000, 0.5000, 0.9000, 1.0000, 0.0000, 0.0000, 0.7000, 0.0000,\n",
       "        0.7000, 0.9000, 0.9000, 0.9000, 0.6000, 0.0000, 0.0000, 0.6000, 0.8000,\n",
       "        0.0000, 0.0000, 0.5000, 0.0000, 1.0000, 0.7000, 0.7000, 0.0000, 0.5000,\n",
       "        0.0000, 0.0000, 0.8000, 0.0000, 0.8000, 0.0000, 0.8000, 1.0000, 0.0000,\n",
       "        1.0000, 0.0000, 0.8000, 0.8000, 0.0000, 1.0000, 0.0000, 0.6000, 0.5000,\n",
       "        0.9000, 0.5000, 0.8000, 0.0000, 0.0000, 0.0000, 0.0000, 1.0000, 1.0000,\n",
       "        0.0000, 0.7000, 1.0000, 0.0000])"
      ]
     },
     "execution_count": 152,
     "metadata": {},
     "output_type": "execute_result"
    }
   ],
   "source": [
    "targets"
   ]
  },
  {
   "cell_type": "code",
   "execution_count": 153,
   "metadata": {},
   "outputs": [
    {
     "data": {
      "text/plain": [
       "tensor([0.2631, 0.1657, 0.8339, 0.6654, 0.3361, 0.5269, 0.3439, 0.6599, 0.5768,\n",
       "        0.1337, 0.3506, 0.4981, 0.6131, 0.6089, 0.5697, 0.3241, 0.4278, 0.8464,\n",
       "        0.8134, 0.3116, 0.4886, 0.4040, 0.3292, 0.2744, 0.5992, 0.3515, 0.2701,\n",
       "        0.3002, 0.7850, 0.2551, 0.4636, 0.5408, 0.4053, 0.3488, 0.4705, 0.3538,\n",
       "        0.7446, 0.3910, 0.6504, 0.4574, 0.4509, 0.2598, 0.4134, 0.7760, 0.7726,\n",
       "        0.2326, 0.6744, 0.5321, 0.4582, 0.6402, 0.2109, 0.3758, 0.5220, 0.3016,\n",
       "        0.6751, 0.3863, 0.4690, 0.4374, 0.2419, 0.3067, 0.4495, 0.2553, 0.5197,\n",
       "        0.1834, 0.4100, 0.3394, 0.5648, 0.5805, 0.5820, 0.1327, 0.3698, 0.8139,\n",
       "        0.2320, 0.4330, 0.5554, 0.2710, 0.2383, 0.2298, 0.3110, 0.4650, 0.6527,\n",
       "        0.7670, 0.4119, 0.5186, 0.3451, 0.3827, 0.3105, 0.3094, 0.7133, 0.3180,\n",
       "        0.1511, 0.7202, 0.6250, 0.6934, 0.7238, 0.7627, 0.1353, 0.7255, 0.5959,\n",
       "        0.4841, 0.7374, 0.5581, 0.4351, 0.3193, 0.6245, 0.4703, 0.3735, 0.6219,\n",
       "        0.4314, 0.5662, 0.6748, 0.5413, 0.2768, 0.3967, 0.7518, 0.6121, 0.2581,\n",
       "        0.4086, 0.7111, 0.7051, 0.6332, 0.4200, 0.8269, 0.3574, 0.1713, 0.3948,\n",
       "        0.7763, 0.7447, 0.5047, 0.2565, 0.7961, 0.2298, 0.3891, 0.2953, 0.5479,\n",
       "        0.1919, 0.2887, 0.4292, 0.7389, 0.7380, 0.4989, 0.7920, 0.4849, 0.4249,\n",
       "        0.4370, 0.1373, 0.3229, 0.7240, 0.2584, 0.5579, 0.6685, 0.2955, 0.3986,\n",
       "        0.6934, 0.5855, 0.8259, 0.4027, 0.3224, 0.7133, 0.6707, 0.6855, 0.3430,\n",
       "        0.3461, 0.6831, 0.2569, 0.7259, 0.7647, 0.3051, 0.6881, 0.2866, 0.3119,\n",
       "        0.8862, 0.6705, 0.7178, 0.6627, 0.4032, 0.7516, 0.4804, 0.3250, 0.5578,\n",
       "        0.2701, 0.4585, 0.1185, 0.2472, 0.7064, 0.4249, 0.6350, 0.1911, 0.1641,\n",
       "        0.6412, 0.2868, 0.3669, 0.5374, 0.7698, 0.5906, 0.8285, 0.2774, 0.5590,\n",
       "        0.6439, 0.2956, 0.6330, 0.3390, 0.5607, 0.6428, 0.5045, 0.6966, 0.4609,\n",
       "        0.5826, 0.6861, 0.2905, 0.6503, 0.4725, 0.4666, 0.3315, 0.8411, 0.4084,\n",
       "        0.2493, 0.0770, 0.7759, 0.3545, 0.8255, 0.1400, 0.6898, 0.2567, 0.1724,\n",
       "        0.4352, 0.6453, 0.5654, 0.3025, 0.2274, 0.2007, 0.3275, 0.7509, 0.4042,\n",
       "        0.7389, 0.4895, 0.7525, 0.7145, 0.4833, 0.1992, 0.4217, 0.7669, 0.6559,\n",
       "        0.6661, 0.6869, 0.5597, 0.2284, 0.2138, 0.4216, 0.2421, 0.8031, 0.3221,\n",
       "        0.4298, 0.1589, 0.4044, 0.2307], grad_fn=<SqueezeBackward0>)"
      ]
     },
     "execution_count": 153,
     "metadata": {},
     "output_type": "execute_result"
    }
   ],
   "source": [
    "pred"
   ]
  },
  {
   "cell_type": "code",
   "execution_count": null,
   "metadata": {},
   "outputs": [],
   "source": []
  }
 ],
 "metadata": {
  "kernelspec": {
   "display_name": "data-science",
   "language": "python",
   "name": "python3"
  },
  "language_info": {
   "codemirror_mode": {
    "name": "ipython",
    "version": 3
   },
   "file_extension": ".py",
   "mimetype": "text/x-python",
   "name": "python",
   "nbconvert_exporter": "python",
   "pygments_lexer": "ipython3",
   "version": "3.10.12"
  },
  "orig_nbformat": 4
 },
 "nbformat": 4,
 "nbformat_minor": 2
}
