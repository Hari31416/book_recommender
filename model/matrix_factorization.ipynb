{
 "cells": [
  {
   "cell_type": "markdown",
   "metadata": {},
   "source": [
    "# Imports"
   ]
  },
  {
   "cell_type": "code",
   "execution_count": 1,
   "metadata": {},
   "outputs": [],
   "source": [
    "import pandas as pd\n",
    "import numpy as np\n",
    "import matplotlib.pyplot as plt\n",
    "import seaborn as sns\n",
    "import os\n",
    "from tqdm.auto import tqdm\n",
    "import tensorflow as tf\n",
    "from tensorflow import keras\n",
    "from scipy import sparse\n",
    "import torch\n",
    "\n",
    "import warnings\n",
    "warnings.filterwarnings('ignore')"
   ]
  },
  {
   "cell_type": "markdown",
   "metadata": {},
   "source": [
    "# Data"
   ]
  },
  {
   "cell_type": "code",
   "execution_count": 2,
   "metadata": {},
   "outputs": [],
   "source": [
    "DATA_DIR = os.path.join(\"..\", \"data\", \"final_dataset\")"
   ]
  },
  {
   "cell_type": "code",
   "execution_count": 3,
   "metadata": {},
   "outputs": [
    {
     "name": "stdout",
     "output_type": "stream",
     "text": [
      "Number of ratings: 104756\n",
      "Number of unique users: 31940\n",
      "Number of books: 22020\n"
     ]
    },
    {
     "data": {
      "text/html": [
       "<div>\n",
       "<style scoped>\n",
       "    .dataframe tbody tr th:only-of-type {\n",
       "        vertical-align: middle;\n",
       "    }\n",
       "\n",
       "    .dataframe tbody tr th {\n",
       "        vertical-align: top;\n",
       "    }\n",
       "\n",
       "    .dataframe thead th {\n",
       "        text-align: right;\n",
       "    }\n",
       "</style>\n",
       "<table border=\"1\" class=\"dataframe\">\n",
       "  <thead>\n",
       "    <tr style=\"text-align: right;\">\n",
       "      <th></th>\n",
       "      <th>user_id</th>\n",
       "      <th>isbn</th>\n",
       "      <th>provided_rating</th>\n",
       "    </tr>\n",
       "  </thead>\n",
       "  <tbody>\n",
       "    <tr>\n",
       "      <th>0</th>\n",
       "      <td>17</td>\n",
       "      <td>0891075275</td>\n",
       "      <td>6</td>\n",
       "    </tr>\n",
       "    <tr>\n",
       "      <th>1</th>\n",
       "      <td>17</td>\n",
       "      <td>0553264990</td>\n",
       "      <td>5</td>\n",
       "    </tr>\n",
       "    <tr>\n",
       "      <th>2</th>\n",
       "      <td>26</td>\n",
       "      <td>0449005615</td>\n",
       "      <td>9</td>\n",
       "    </tr>\n",
       "    <tr>\n",
       "      <th>3</th>\n",
       "      <td>39</td>\n",
       "      <td>0671888587</td>\n",
       "      <td>7</td>\n",
       "    </tr>\n",
       "    <tr>\n",
       "      <th>4</th>\n",
       "      <td>69</td>\n",
       "      <td>1853260053</td>\n",
       "      <td>8</td>\n",
       "    </tr>\n",
       "  </tbody>\n",
       "</table>\n",
       "</div>"
      ],
      "text/plain": [
       "   user_id        isbn  provided_rating\n",
       "0       17  0891075275                6\n",
       "1       17  0553264990                5\n",
       "2       26  0449005615                9\n",
       "3       39  0671888587                7\n",
       "4       69  1853260053                8"
      ]
     },
     "execution_count": 3,
     "metadata": {},
     "output_type": "execute_result"
    }
   ],
   "source": [
    "df = pd.read_parquet(os.path.join(DATA_DIR, 'ratings.parquet'))\n",
    "books= pd.read_parquet(os.path.join(DATA_DIR, 'books_all.parquet'))\n",
    "df = df[df[\"isbn\"].isin(books[\"isbn\"])]\n",
    "df = df.query(\"provided_rating!=0\")\n",
    "df.reset_index(drop=True, inplace=True)\n",
    "print(f\"Number of ratings: {len(df)}\")\n",
    "print(f\"Number of unique users: {df['user_id'].nunique()}\")\n",
    "print(f\"Number of books: {df['isbn'].nunique()}\")\n",
    "df.head()"
   ]
  },
  {
   "cell_type": "markdown",
   "metadata": {},
   "source": [
    "## Smaller Dataset"
   ]
  },
  {
   "cell_type": "code",
   "execution_count": 4,
   "metadata": {},
   "outputs": [
    {
     "data": {
      "text/plain": [
       "isbn\n",
       "0316666343    707\n",
       "0060928336    320\n",
       "0671027360    269\n",
       "067976402X    256\n",
       "0786868716    242\n",
       "Name: provided_rating, dtype: int64"
      ]
     },
     "execution_count": 4,
     "metadata": {},
     "output_type": "execute_result"
    }
   ],
   "source": [
    "num_ratings = df.groupby('isbn')['provided_rating'].count().sort_values(ascending=False)\n",
    "most_rated_books = num_ratings.index[:10]\n",
    "num_ratings = df.groupby('isbn')['provided_rating'].count().sort_values(ascending=False)\n",
    "most_rated_books = num_ratings.index[:10]\n",
    "num_ratings.head()"
   ]
  },
  {
   "cell_type": "code",
   "execution_count": 5,
   "metadata": {},
   "outputs": [
    {
     "data": {
      "text/plain": [
       "user_id\n",
       "11676     1593\n",
       "98391      595\n",
       "189835     371\n",
       "76499      333\n",
       "153662     322\n",
       "          ... \n",
       "59675        1\n",
       "157184       1\n",
       "59685        1\n",
       "59697        1\n",
       "278854       1\n",
       "Name: provided_rating, Length: 31940, dtype: int64"
      ]
     },
     "execution_count": 5,
     "metadata": {},
     "output_type": "execute_result"
    }
   ],
   "source": [
    "df.groupby('user_id')['provided_rating'].count().sort_values(ascending=False)"
   ]
  },
  {
   "cell_type": "code",
   "execution_count": 6,
   "metadata": {},
   "outputs": [
    {
     "data": {
      "text/html": [
       "<div>\n",
       "<style scoped>\n",
       "    .dataframe tbody tr th:only-of-type {\n",
       "        vertical-align: middle;\n",
       "    }\n",
       "\n",
       "    .dataframe tbody tr th {\n",
       "        vertical-align: top;\n",
       "    }\n",
       "\n",
       "    .dataframe thead th {\n",
       "        text-align: right;\n",
       "    }\n",
       "</style>\n",
       "<table border=\"1\" class=\"dataframe\">\n",
       "  <thead>\n",
       "    <tr style=\"text-align: right;\">\n",
       "      <th></th>\n",
       "      <th>provided_rating</th>\n",
       "      <th>num_ratings</th>\n",
       "    </tr>\n",
       "    <tr>\n",
       "      <th>isbn</th>\n",
       "      <th></th>\n",
       "      <th></th>\n",
       "    </tr>\n",
       "  </thead>\n",
       "  <tbody>\n",
       "    <tr>\n",
       "      <th>0002163578</th>\n",
       "      <td>5.0</td>\n",
       "      <td>1</td>\n",
       "    </tr>\n",
       "    <tr>\n",
       "      <th>0002190915</th>\n",
       "      <td>9.5</td>\n",
       "      <td>2</td>\n",
       "    </tr>\n",
       "    <tr>\n",
       "      <th>0002210479</th>\n",
       "      <td>6.0</td>\n",
       "      <td>1</td>\n",
       "    </tr>\n",
       "    <tr>\n",
       "      <th>0002222469</th>\n",
       "      <td>8.0</td>\n",
       "      <td>1</td>\n",
       "    </tr>\n",
       "    <tr>\n",
       "      <th>0002241358</th>\n",
       "      <td>8.0</td>\n",
       "      <td>1</td>\n",
       "    </tr>\n",
       "  </tbody>\n",
       "</table>\n",
       "</div>"
      ],
      "text/plain": [
       "            provided_rating  num_ratings\n",
       "isbn                                    \n",
       "0002163578              5.0            1\n",
       "0002190915              9.5            2\n",
       "0002210479              6.0            1\n",
       "0002222469              8.0            1\n",
       "0002241358              8.0            1"
      ]
     },
     "execution_count": 6,
     "metadata": {},
     "output_type": "execute_result"
    }
   ],
   "source": [
    "ratings = pd.DataFrame(df.groupby('isbn')['provided_rating'].mean())\n",
    "ratings['num_ratings'] = pd.DataFrame(df.groupby('isbn')['provided_rating'].count())\n",
    "ratings.head()"
   ]
  },
  {
   "cell_type": "code",
   "execution_count": 7,
   "metadata": {},
   "outputs": [
    {
     "name": "stdout",
     "output_type": "stream",
     "text": [
      "Number of books_ with more than 5 ratings: 3823\n",
      "Original number of books_: 22020\n",
      "Number of rows in the original dataset: 104756\n",
      "Number of rows in the new dataset: 72190\n",
      "Number of unique users in the new dataset: 25812\n"
     ]
    }
   ],
   "source": [
    "min_ratings = 5\n",
    "books_ = ratings.query(f\"num_ratings > {min_ratings}\").index\n",
    "print(f\"Number of books_ with more than {min_ratings} ratings: {len(books_)}\")\n",
    "print(f\"Original number of books_: {df['isbn'].nunique()}\")\n",
    "print(f\"Number of rows in the original dataset: {df.shape[0]}\")\n",
    "df_small = df[df['isbn'].isin(books_)]\n",
    "unique_users = df_small['user_id'].nunique()\n",
    "print(f\"Number of rows in the new dataset: {df_small.shape[0]}\")\n",
    "print(f\"Number of unique users in the new dataset: {unique_users}\")"
   ]
  },
  {
   "cell_type": "markdown",
   "metadata": {},
   "source": [
    "## Preprocessing"
   ]
  },
  {
   "cell_type": "code",
   "execution_count": 8,
   "metadata": {},
   "outputs": [
    {
     "name": "stdout",
     "output_type": "stream",
     "text": [
      "Num. of Users: 25812\n",
      "Num of Movies: 3823\n"
     ]
    }
   ],
   "source": [
    "n_users = df_small.user_id.nunique()\n",
    "n_items = df_small.isbn.nunique()\n",
    "\n",
    "print('Num. of Users: '+ str(n_users))\n",
    "print('Num of Movies: '+str(n_items))"
   ]
  },
  {
   "cell_type": "code",
   "execution_count": 9,
   "metadata": {},
   "outputs": [],
   "source": [
    "user_id_map = dict(zip(df_small.user_id.unique(), list(range(n_users))))\n",
    "book_id_map = dict(zip(df_small.isbn.unique(), list(range(n_items))))\n",
    "user_id_map_df  = pd.DataFrame(\n",
    "    {\n",
    "        \"user_id\":user_id_map.keys(),\n",
    "        \"user_id_new\": user_id_map.values(),\n",
    "    }\n",
    ")\n",
    "book_id_map_df  = pd.DataFrame(\n",
    "    {\n",
    "        \"isbn\":book_id_map.keys(),\n",
    "        \"isbn_new\": book_id_map.values(),\n",
    "    }\n",
    ")\n",
    "df_small[\"user_id\"] = df_small[\"user_id\"].map(user_id_map)\n",
    "df_small[\"isbn\"] = df_small[\"isbn\"].map(book_id_map)"
   ]
  },
  {
   "cell_type": "code",
   "execution_count": 10,
   "metadata": {},
   "outputs": [],
   "source": [
    "def split_dataframe(df, holdout_fraction=0.1):\n",
    "  \"\"\"Splits a DataFrame into training and test sets.\n",
    "  Args:\n",
    "    df: a dataframe.\n",
    "    holdout_fraction: fraction of dataframe rows to use in the test set.\n",
    "  Returns:\n",
    "    train: dataframe for training\n",
    "    test: dataframe for testing\n",
    "  \"\"\"\n",
    "  test = df.sample(frac=holdout_fraction, replace=False)\n",
    "  train = df[~df.index.isin(test.index)]\n",
    "  return train, test\n",
    "\n",
    "train_df_, test_df_ = split_dataframe(df_small)"
   ]
  },
  {
   "cell_type": "markdown",
   "metadata": {},
   "source": [
    "# Preliminaries and Preprocessing"
   ]
  },
  {
   "cell_type": "markdown",
   "metadata": {},
   "source": [
    "Our goal is to factorize the ratings matrix $A$ into the product of a user embedding matrix $U$ and movie embedding matrix $V$, such that $A \\approx UV^\\top$ with\n",
    "$U = \\begin{bmatrix} u_{1} \\\\ \\hline \\vdots \\\\ \\hline u_{N} \\end{bmatrix}$ and\n",
    "$V = \\begin{bmatrix} v_{1} \\\\ \\hline \\vdots \\\\ \\hline v_{M} \\end{bmatrix}$.\n",
    "\n",
    "Here\n",
    "- $N$ is the number of users,\n",
    "- $M$ is the number of movies,\n",
    "- $A_{ij}$ is the rating of the $j^{th}$ movies by the $i^{th}$ user,\n",
    "- each row $U_i$ is a $d$-dimensional vector (embedding) representing user $i$,\n",
    "- each row $V_j$ is a $d$-dimensional vector (embedding) representing movie $j$,\n",
    "- the prediction of the model for the $(i, j)$ pair is the dot product $\\langle U_i, V_j \\rangle$."
   ]
  },
  {
   "cell_type": "markdown",
   "metadata": {},
   "source": [
    "## Sparse Matrix"
   ]
  },
  {
   "cell_type": "markdown",
   "metadata": {},
   "source": [
    "We will be using [tf.SparseTensor](https://www.tensorflow.org/api_docs/python/tf/SparseTensor) to represent the ratings matrix $A$ as a sparse matrix."
   ]
  },
  {
   "cell_type": "code",
   "execution_count": 11,
   "metadata": {},
   "outputs": [],
   "source": [
    "def build_rating_sparse_tensor(ratings_df):\n",
    "    \"\"\"\n",
    "    Builds a sparse tensor representation of ratings.\n",
    "\n",
    "    Parameters\n",
    "    ----------\n",
    "    ratings_df : pd.DataFrame\n",
    "        A dataframe containing one row per rating, with columns for\n",
    "\n",
    "    Returns\n",
    "    -------\n",
    "    tf.SparseTensor\n",
    "        A sparse tensor of ratings, in which each element represents a rating\n",
    "    \"\"\"\n",
    "    indices = ratings_df[['user_id', 'isbn']].values\n",
    "    values = ratings_df['provided_rating'].values\n",
    "    sparse =  tf.SparseTensor(\n",
    "        indices=indices,\n",
    "        values=values,\n",
    "        dense_shape=[n_users, n_items]\n",
    "    )\n",
    "    return sparse"
   ]
  },
  {
   "cell_type": "markdown",
   "metadata": {},
   "source": [
    "## Error Metric"
   ]
  },
  {
   "cell_type": "markdown",
   "metadata": {},
   "source": [
    "We will be using [RMSE](https://en.wikipedia.org/wiki/Root-mean-square_deviation) as our error metric. Since a lot of the ratings are missing, we will only compute the RMSE over the observed ratings. So, we have a formula for RMSE over the observed ratings:\n",
    "\n",
    "$$\n",
    "\\begin{align*}\n",
    "\\text{MSE}(A, UV^\\top)\n",
    "&= \\frac{1}{|\\Omega|}\\sum_{(i, j) \\in\\Omega}{( A_{ij} - (UV^\\top)_{ij})^2} \\\\\n",
    "&= \\frac{1}{|\\Omega|}\\sum_{(i, j) \\in\\Omega}{( A_{ij} - \\langle U_i, V_j\\rangle)^2}\n",
    "\\end{align*}\n",
    "$$\n",
    "where $\\Omega$ is the set of observed ratings, and $|\\Omega|$ is the cardinality of $\\Omega$."
   ]
  },
  {
   "cell_type": "code",
   "execution_count": 12,
   "metadata": {},
   "outputs": [],
   "source": [
    "def sparse_mean_square_error(sparse_ratings, user_embeddings, movie_embeddings):\n",
    "    \"\"\"\n",
    "    Computes the mean square error of the sparse ratings compared to the\n",
    "    embeddings.\n",
    "\n",
    "    Parameters\n",
    "    ----------\n",
    "    sparse_ratings : tf.SparseTensor\n",
    "        SparseTensor representation of the ratings\n",
    "    user_embeddings : tf.Variable\n",
    "        Embeddings for each user\n",
    "    movie_embeddings : tf.Variable\n",
    "        Embeddings for each movie\n",
    "\n",
    "    Returns\n",
    "    -------\n",
    "    tf.float32\n",
    "        Mean Square Error of the ratings with respect to the embeddings\n",
    "    \"\"\"\n",
    "    predictions = tf.gather_nd(\n",
    "        tf.matmul(user_embeddings, movie_embeddings, transpose_b=True),\n",
    "        sparse_ratings.indices) #Use only those indices that are in the sparse matrix\n",
    "    loss = tf.losses.mean_squared_error(sparse_ratings.values, predictions)\n",
    "    return loss"
   ]
  },
  {
   "cell_type": "code",
   "execution_count": 13,
   "metadata": {},
   "outputs": [],
   "source": [
    "def sparse_mean_square_error(sparse_ratings, user_embeddings, movie_embeddings, sigmoid=False):\n",
    "    \"\"\"\n",
    "    Computes the mean square error of the sparse ratings compared to the\n",
    "    embeddings.\n",
    "\n",
    "    Parameters\n",
    "    ----------\n",
    "    sparse_ratings : tf.SparseTensor\n",
    "        SparseTensor representation of the ratings\n",
    "    user_embeddings : tf.Variable\n",
    "        Embeddings for each user\n",
    "    movie_embeddings : tf.Variable\n",
    "        Embeddings for each movie\n",
    "\n",
    "    Returns\n",
    "    -------\n",
    "    tf.float32\n",
    "        Mean Square Error of the ratings with respect to the embeddings\n",
    "    \"\"\"\n",
    "    predictions = tf.reduce_sum(\n",
    "        tf.gather(user_embeddings, sparse_ratings.indices[:, 0])\n",
    "        * tf.gather(movie_embeddings, sparse_ratings.indices[:, 1]),\n",
    "        axis=1,\n",
    "    )\n",
    "    if sigmoid:\n",
    "        predictions = tf.nn.sigmoid(predictions)\n",
    "    loss = tf.losses.mean_squared_error(sparse_ratings.values, predictions)\n",
    "    return loss"
   ]
  },
  {
   "cell_type": "markdown",
   "metadata": {},
   "source": [
    "# Model"
   ]
  },
  {
   "cell_type": "markdown",
   "metadata": {},
   "source": [
    "## Using Gradient Descent"
   ]
  },
  {
   "cell_type": "markdown",
   "metadata": {},
   "source": [
    "Let us use gradient descent to minimize the MSE loss function. The update rule for the user embedding $U_i$ is given by\n",
    "\n",
    "$$\n",
    "U_i \\leftarrow U_i - \\eta \\frac{\\partial \\text{MSE}}{\\partial U_i}\n",
    "$$\n",
    "\n",
    "where $\\eta$ is the learning rate. Similarly, the update rule for the movie embedding $V_j$ is given by\n",
    "\n",
    "$$\n",
    "V_j \\leftarrow V_j - \\eta \\frac{\\partial \\text{MSE}}{\\partial V_j}\n",
    "$$"
   ]
  },
  {
   "cell_type": "markdown",
   "metadata": {},
   "source": [
    "### Tensorflow Implementation"
   ]
  },
  {
   "cell_type": "code",
   "execution_count": 14,
   "metadata": {},
   "outputs": [],
   "source": [
    "train_df_, test_df_ = split_dataframe(df_small, 0.4)\n",
    "embedding_dim = 30\n",
    "n_users = df_small.user_id.nunique()\n",
    "n_items = df_small.isbn.nunique()"
   ]
  },
  {
   "cell_type": "code",
   "execution_count": 15,
   "metadata": {},
   "outputs": [],
   "source": [
    "def normalize_ratings(rating):\n",
    "    \"\"\"\n",
    "    Normalizes a rating value to be between 0 and 1.\n",
    "\n",
    "    Parameters\n",
    "    ----------\n",
    "    rating : int\n",
    "        A rating between 1 and 10\n",
    "\n",
    "    Returns\n",
    "    -------\n",
    "    float\n",
    "        A float between 0 and 1\n",
    "    \"\"\"\n",
    "    min_rating = 1\n",
    "    max_rating = 10\n",
    "    normalized_rating = (rating - min_rating) / (max_rating - min_rating)\n",
    "    return float(normalized_rating)"
   ]
  },
  {
   "cell_type": "code",
   "execution_count": 16,
   "metadata": {},
   "outputs": [],
   "source": [
    "# train_df_[\"provided_rating\"] = train_df_[\"provided_rating\"].apply(normalize_ratings)\n",
    "# test_df_[\"provided_rating\"] = test_df_[\"provided_rating\"].apply(normalize_ratings)"
   ]
  },
  {
   "cell_type": "code",
   "execution_count": 17,
   "metadata": {},
   "outputs": [
    {
     "name": "stdout",
     "output_type": "stream",
     "text": [
      "Initial train loss = 9.717855453491211, test loss = 9.633708000183105\n"
     ]
    },
    {
     "data": {
      "application/vnd.jupyter.widget-view+json": {
       "model_id": "2e0855c5c75e445ea988a04dedb78255",
       "version_major": 2,
       "version_minor": 0
      },
      "text/plain": [
       "Training...:   0%|          | 0/50 [00:00<?, ?it/s]"
      ]
     },
     "metadata": {},
     "output_type": "display_data"
    },
    {
     "name": "stdout",
     "output_type": "stream",
     "text": [
      "Iteration 0: train loss = 9.717855453491211, test loss = 9.633646011352539\n",
      "Iteration 10: train loss = 3.117347478866577, test loss = 9.633023262023926\n",
      "Iteration 20: train loss = 1.7656011581420898, test loss = 9.632401466369629\n",
      "Iteration 30: train loss = 1.3287593126296997, test loss = 9.631783485412598\n",
      "Iteration 40: train loss = 1.152718186378479, test loss = 9.631165504455566\n",
      "Iteration 49: train loss = 1.073647141456604, test loss = 9.630611419677734\n"
     ]
    }
   ],
   "source": [
    "U = tf.Variable(tf.random.normal([n_users, embedding_dim]))\n",
    "V = tf.Variable(tf.random.normal([n_items, embedding_dim]))\n",
    "train_df = build_rating_sparse_tensor(train_df_)\n",
    "test_df = build_rating_sparse_tensor(test_df_)\n",
    "train_loss = sparse_mean_square_error(train_df, U, V)\n",
    "test_loss = sparse_mean_square_error(test_df, U, V)\n",
    "print(f\"Initial train loss = {np.sqrt(train_loss.numpy())}, test loss = {np.sqrt(test_loss.numpy())}\")\n",
    "\n",
    "lr = 0.01\n",
    "optimizer = tf.keras.optimizers.SGD(learning_rate=lr)\n",
    "epochs = 50\n",
    "num_print = 10\n",
    "print_freq = epochs // num_print\n",
    "train_losses = []\n",
    "test_losses = []\n",
    "for i in tqdm(range(epochs), total=epochs, desc=\"Training...\"):\n",
    "    with tf.GradientTape() as tape:\n",
    "        loss = sparse_mean_square_error(train_df, U, V)\n",
    "    grads = tape.gradient(loss, [U, V])\n",
    "    optimizer.apply_gradients(zip(grads, [U, V]))\n",
    "\n",
    "    if i % 10 == 0 or i == epochs - 1:\n",
    "        test_loss = sparse_mean_square_error(test_df, U, V)\n",
    "        train_loss = tf.sqrt(train_loss).numpy()\n",
    "        test_loss = tf.sqrt(test_loss).numpy()\n",
    "        train_losses.append(train_loss)\n",
    "        test_losses.append(test_loss)\n",
    "\n",
    "        if i % print_freq == 0 or i == epochs - 1:\n",
    "            print(f\"Iteration {i}: train loss = {train_loss}, test loss = {test_loss}\")\n"
   ]
  },
  {
   "cell_type": "markdown",
   "metadata": {},
   "source": [
    "### PyTorch Implementation"
   ]
  },
  {
   "cell_type": "markdown",
   "metadata": {},
   "source": [
    "The TensorFlow implementation given above just scratches the surface for matrix factorization. We will be using PyTorch from now on. We will start by creating a class for the matrix factorization model:"
   ]
  },
  {
   "cell_type": "code",
   "execution_count": 18,
   "metadata": {},
   "outputs": [],
   "source": [
    "class MatrixFactorization(torch.nn.Module):\n",
    "    def __init__(self, n_users, n_items, n_factors=20):\n",
    "        super().__init__()\n",
    "        #Embedding: A simple lookup table that stores embeddings of a fixed dictionary and size.\n",
    "        # self.user_factors = torch.nn.Embedding(n_users, n_factors, sparse=True)\n",
    "        # self.item_factors = torch.nn.Embedding(n_items, n_factors, sparse=True)\n",
    "\n",
    "        # The same as above, but now we use Parameters instead of Embeddings\n",
    "        self.user_factors  = torch.nn.Parameter(torch.randn(n_users, n_factors, requires_grad=True))\n",
    "        self.item_factors  = torch.nn.Parameter(torch.randn(n_items, n_factors, requires_grad=True))\n",
    "        # torch.nn.init.xavier_normal_(self.user_factors)\n",
    "        # torch.nn.init.xavier_normal_(self.item_factors)\n",
    "        # xavier initialization does not seem to work well\n",
    "\n",
    "    def forward(self, user, item, sigmoid=True):\n",
    "        res = (self.user_factors[user] * self.item_factors[item]).sum(1)\n",
    "        # res = (self.user_factors(user) * self.item_factors(item)).sum(1)\n",
    "        if sigmoid:\n",
    "            res = torch.sigmoid(res)\n",
    "        return res\n",
    "    "
   ]
  },
  {
   "cell_type": "markdown",
   "metadata": {},
   "source": [
    "Good think about the above class is that if we want to add the bias vectors $b_U$ and $b_V$ to the model, we can just add them to the `forward` method after initializing them in the `__init__` method."
   ]
  },
  {
   "cell_type": "markdown",
   "metadata": {},
   "source": [
    "Next, we will create the loss function. We are going to use MSE loss as before but this time, we will use the `l1` and `l2` loss in it too. This is essential for avoiding overfitting."
   ]
  },
  {
   "cell_type": "code",
   "execution_count": 19,
   "metadata": {},
   "outputs": [],
   "source": [
    "class MSE_L1L2Loss(torch.nn.Module):\n",
    "    def __init__(self, model, l1_weight=0, l2_weight=0):\n",
    "        super().__init__()\n",
    "        self.model = model\n",
    "        self.l1_weight = l1_weight\n",
    "        self.l2_weight = l2_weight\n",
    "\n",
    "    def forward(self, y_hat, y):\n",
    "        mse_loss = torch.nn.functional.mse_loss(y_hat, y)\n",
    "        l2_regularization = torch.tensor(0.)\n",
    "        l1_regularization = torch.tensor(0.)\n",
    "        for param in self.model.parameters():\n",
    "            l2_regularization += torch.norm(param, 2)\n",
    "            l1_regularization += torch.norm(param, 1)\n",
    "        l1_regularization *= self.l1_weight\n",
    "        l2_regularization *= self.l2_weight\n",
    "        loss = mse_loss + l1_regularization + l2_regularization\n",
    "        return loss"
   ]
  },
  {
   "cell_type": "markdown",
   "metadata": {},
   "source": [
    "Next, we will create the dataset:"
   ]
  },
  {
   "cell_type": "code",
   "execution_count": 20,
   "metadata": {},
   "outputs": [],
   "source": [
    "class BooksDataset(torch.utils.data.Dataset):\n",
    "    def __init__(self, df, normalize = True):\n",
    "        self.df = df\n",
    "        self.normalize = normalize\n",
    "        if normalize:\n",
    "            self.df[\"provided_rating\"] = self.df[\"provided_rating\"].apply(normalize_ratings)\n",
    "        self.df_sparse = sparse.coo_matrix(\n",
    "            (\n",
    "                self.df[\"provided_rating\"].astype(np.float32),\n",
    "                (\n",
    "                    self.df[\"user_id\"].astype(np.int64),\n",
    "                    self.df[\"isbn\"].astype(np.int64),\n",
    "                )\n",
    "            )\n",
    "        )\n",
    "        self.rows, self.cols = self.df_sparse.nonzero()\n",
    "\n",
    "    def __len__(self):\n",
    "        return len(self.df)\n",
    "\n",
    "    def batch(self, batch_size=1000):\n",
    "        rows = self.rows\n",
    "        columns = self.cols\n",
    "        ratings = self.df_sparse.data\n",
    "\n",
    "        for start in range(0, len(rows), batch_size):\n",
    "            end = min(start + batch_size, len(rows))\n",
    "            rows_batch = rows[start:end]\n",
    "            columns_batch = columns[start:end]\n",
    "            ratings_batch = ratings[start:end]\n",
    "            rows_batch = torch.LongTensor(rows_batch)\n",
    "            columns_batch = torch.LongTensor(columns_batch)\n",
    "            ratings_batch = torch.FloatTensor(ratings_batch)\n",
    "            yield rows_batch, columns_batch, ratings_batch\n",
    "\n",
    "    def __getitem__(self, idx):\n",
    "        row = self.rows[idx]\n",
    "        col = self.cols[idx]\n",
    "        rating = self.df_sparse[row, col]\n",
    "        row = torch.LongTensor([row])\n",
    "        col = torch.LongTensor([col])\n",
    "        rating = torch.FloatTensor([rating])\n",
    "        return row, col, rating"
   ]
  },
  {
   "cell_type": "code",
   "execution_count": 21,
   "metadata": {},
   "outputs": [],
   "source": [
    "train_df_, test_df_ = split_dataframe(df_small, 0.15)\n",
    "normalize = True\n",
    "train_dataset = BooksDataset(train_df_, normalize=normalize)\n",
    "test_dataset = BooksDataset(test_df_, normalize=normalize)"
   ]
  },
  {
   "cell_type": "markdown",
   "metadata": {},
   "source": [
    "> The dataset class is running slow so I am using a function based iterator below:"
   ]
  },
  {
   "cell_type": "code",
   "execution_count": 22,
   "metadata": {},
   "outputs": [],
   "source": [
    "train_df_, test_df_ = split_dataframe(df_small, 0.15)\n",
    "train_df_[\"provided_rating\"] = train_df_[\"provided_rating\"].apply(normalize_ratings)\n",
    "test_df_[\"provided_rating\"] = test_df_[\"provided_rating\"].apply(normalize_ratings)\n",
    "\n",
    "\n",
    "train_sparse = sparse.coo_matrix(\n",
    "    (train_df_['provided_rating'].astype(np.float32),\n",
    "        (train_df_['user_id'], train_df_['isbn']))\n",
    ")\n",
    "test_sparse = sparse.coo_matrix(\n",
    "    (test_df_['provided_rating'].astype(np.float32),\n",
    "    (test_df_['user_id'], test_df_['isbn']))\n",
    ")\n",
    "\n",
    "train_rows, train_columns = train_sparse.nonzero()\n",
    "test_rows, test_columns = test_sparse.nonzero()"
   ]
  },
  {
   "cell_type": "code",
   "execution_count": 23,
   "metadata": {},
   "outputs": [],
   "source": [
    "train_rows, train_columns = train_sparse.nonzero()\n",
    "test_rows, test_columns = test_sparse.nonzero()\n",
    "\n",
    "def get_batch(rows, columns, ratings, batch_size=1000):\n",
    "    for start in range(0, len(rows), batch_size):\n",
    "        end = min(start + batch_size, len(rows))\n",
    "        rows_batch = rows[start:end]\n",
    "        columns_batch = columns[start:end]\n",
    "        ratings_batch = ratings[start:end]\n",
    "        rows_batch = torch.LongTensor(rows_batch)\n",
    "        columns_batch = torch.LongTensor(columns_batch)\n",
    "        ratings_batch = torch.FloatTensor(ratings_batch)\n",
    "        yield rows_batch, columns_batch, ratings_batch"
   ]
  },
  {
   "cell_type": "code",
   "execution_count": 24,
   "metadata": {},
   "outputs": [],
   "source": [
    "embedding_dim = 30\n",
    "n_users = df_small.user_id.nunique()\n",
    "n_items = df_small.isbn.nunique()\n",
    "l1_weight = 0\n",
    "l2_weight = 1e-5\n",
    "# l1_weight = 0\n",
    "# l2_weight = 0\n",
    "optimizer_str = \"adam\"\n",
    "lr = 0.005\n",
    "scheduler_str = \"plateau\"\n",
    "\n",
    "model = MatrixFactorization(n_users, n_items, n_factors=embedding_dim)\n",
    "loss_func = MSE_L1L2Loss(model, l1_weight=l1_weight, l2_weight=l2_weight)\n",
    "if optimizer_str == \"adam\":\n",
    "    optimizer = torch.optim.Adam(model.parameters(), lr=lr)\n",
    "elif optimizer_str == \"sgd\":\n",
    "    optimizer = torch.optim.SGD(model.parameters(), lr=lr)\n",
    "\n",
    "if scheduler_str == \"plateau\":\n",
    "    scheduler = torch.optim.lr_scheduler.ReduceLROnPlateau(optimizer, patience=10, verbose=True, min_lr=1e-7)\n",
    "elif scheduler_str == \"step\":\n",
    "    scheduler = torch.optim.lr_scheduler.StepLR(optimizer, step_size=30, gamma=0.1)\n"
   ]
  },
  {
   "cell_type": "code",
   "execution_count": 25,
   "metadata": {},
   "outputs": [],
   "source": [
    "def train_step(user, item, rating, optimizer):\n",
    "    optimizer.zero_grad()\n",
    "    prediction = model(user, item)\n",
    "    loss = loss_func(prediction, rating)\n",
    "    loss.backward()\n",
    "    optimizer.step()\n",
    "    return loss.item()\n",
    "\n",
    "def test_step(user, item, rating):\n",
    "    prediction = model(user, item)\n",
    "    loss = loss_func(prediction, rating)\n",
    "    return loss.item()"
   ]
  },
  {
   "cell_type": "code",
   "execution_count": 26,
   "metadata": {},
   "outputs": [],
   "source": [
    "# epochs = 500\n",
    "# num_print = 10\n",
    "# print_freq = epochs // num_print\n",
    "# train_losses = []\n",
    "# test_losses = []\n",
    "# for epoch in tqdm(range(epochs), total=epochs, desc=\"Training...\"):\n",
    "#     model.train()\n",
    "#     train_loss = 0\n",
    "#     for rows, columns, ratings in train_dataset.batch(batch_size=1000):\n",
    "#         loss = train_step(rows.squeeze(), columns.squeeze(), ratings.squeeze(), optimizer)\n",
    "#         train_loss += loss\n",
    "#     train_loss /= len(train_loader)\n",
    "#     train_losses.append(train_loss)\n",
    "\n",
    "#     model.eval()\n",
    "#     test_loss = 0\n",
    "#     for rows, columns, ratings in test_dataset.batch(batch_size=1000):\n",
    "#         loss = test_step(rows.squeeze(), columns.squeeze(), ratings.squeeze())\n",
    "#         test_loss += loss\n",
    "#     test_loss /= len(test_loader)\n",
    "#     test_losses.append(test_loss)\n",
    "\n",
    "#     if epoch % print_freq == 0 or epoch == epochs - 1:\n",
    "#         print(f\"Epoch {epoch}: train loss = {train_loss}, test loss = {test_loss}\")\n",
    "#     scheduler.step(test_loss)\n",
    "    "
   ]
  },
  {
   "cell_type": "code",
   "execution_count": 27,
   "metadata": {},
   "outputs": [
    {
     "data": {
      "application/vnd.jupyter.widget-view+json": {
       "model_id": "ac5bb556926d40339165b10a7f1d43ed",
       "version_major": 2,
       "version_minor": 0
      },
      "text/plain": [
       "Training...:   0%|          | 0/500 [00:00<?, ?it/s]"
      ]
     },
     "metadata": {},
     "output_type": "display_data"
    },
    {
     "name": "stdout",
     "output_type": "stream",
     "text": [
      "Epoch 0: train loss = 0.287413, test loss = 0.285535\n",
      "Epoch 50: train loss = 0.035892, test loss = 0.226585\n",
      "Epoch 100: train loss = 0.019162, test loss = 0.208299\n",
      "Epoch 150: train loss = 0.011048, test loss = 0.185753\n",
      "Epoch 200: train loss = 0.007579, test loss = 0.164474\n",
      "Epoch 250: train loss = 0.005819, test loss = 0.145853\n",
      "Epoch 300: train loss = 0.004825, test loss = 0.130221\n",
      "Epoch 350: train loss = 0.004282, test loss = 0.118829\n",
      "Epoch 400: train loss = 0.004010, test loss = 0.110892\n",
      "Epoch 450: train loss = 0.003865, test loss = 0.105396\n",
      "Epoch 499: train loss = 0.003771, test loss = 0.101615\n"
     ]
    }
   ],
   "source": [
    "epochs = 500\n",
    "num_print = 10\n",
    "print_freq = epochs // num_print\n",
    "train_losses = []\n",
    "test_losses = []\n",
    "for epoch in tqdm(range(epochs), total=epochs, desc=\"Training...\"):\n",
    "    model.train()\n",
    "    losses = []\n",
    "    train_data = get_batch(train_rows, train_columns, train_sparse.data)\n",
    "    test_data = get_batch(test_rows, test_columns, test_sparse.data)\n",
    "    for row_batch, column_batch, rating_batch in train_data:\n",
    "        loss = train_step(row_batch, column_batch, rating_batch, optimizer)\n",
    "        losses.append(loss)\n",
    "    train_loss = np.mean(losses)\n",
    "    train_losses.append(train_loss)\n",
    "    scheduler.step(train_loss)\n",
    "\n",
    "    model.eval()\n",
    "    losses = []\n",
    "    for row_batch, column_batch, rating_batch in test_data:\n",
    "        loss = test_step(row_batch, column_batch, rating_batch)\n",
    "        losses.append(loss)\n",
    "    test_loss = np.mean(losses)\n",
    "    test_losses.append(test_loss)\n",
    "\n",
    "    if epoch % print_freq == 0 or epoch == epochs - 1:\n",
    "        print(f\"Epoch {epoch}: train loss = {train_loss:6f}, test loss = {test_loss:6f}\")"
   ]
  },
  {
   "cell_type": "code",
   "execution_count": 28,
   "metadata": {},
   "outputs": [
    {
     "data": {
      "text/plain": [
       "<matplotlib.legend.Legend at 0x1b42f0b39a0>"
      ]
     },
     "execution_count": 28,
     "metadata": {},
     "output_type": "execute_result"
    },
    {
     "data": {
      "image/png": "[encoded data removed]",
      "text/plain": [
       "<Figure size 1000x600 with 1 Axes>"
      ]
     },
     "metadata": {},
     "output_type": "display_data"
    }
   ],
   "source": [
    "plt.figure(figsize=(10, 6))\n",
    "plt.plot(train_losses, label=\"train loss\")\n",
    "plt.plot(test_losses, label=\"test loss\")\n",
    "plt.xlabel(\"Epoch\")\n",
    "plt.ylabel(\"Loss\")\n",
    "plt.legend()"
   ]
  },
  {
   "cell_type": "code",
   "execution_count": 29,
   "metadata": {},
   "outputs": [
    {
     "data": {
      "text/html": [
       "<div>\n",
       "<style scoped>\n",
       "    .dataframe tbody tr th:only-of-type {\n",
       "        vertical-align: middle;\n",
       "    }\n",
       "\n",
       "    .dataframe tbody tr th {\n",
       "        vertical-align: top;\n",
       "    }\n",
       "\n",
       "    .dataframe thead th {\n",
       "        text-align: right;\n",
       "    }\n",
       "</style>\n",
       "<table border=\"1\" class=\"dataframe\">\n",
       "  <thead>\n",
       "    <tr style=\"text-align: right;\">\n",
       "      <th></th>\n",
       "      <th>user_id</th>\n",
       "      <th>isbn</th>\n",
       "      <th>rating</th>\n",
       "      <th>prediction</th>\n",
       "    </tr>\n",
       "  </thead>\n",
       "  <tbody>\n",
       "    <tr>\n",
       "      <th>0</th>\n",
       "      <td>12635</td>\n",
       "      <td>1172</td>\n",
       "      <td>1.000000</td>\n",
       "      <td>0.500000</td>\n",
       "    </tr>\n",
       "    <tr>\n",
       "      <th>1</th>\n",
       "      <td>17943</td>\n",
       "      <td>2529</td>\n",
       "      <td>0.888889</td>\n",
       "      <td>0.500000</td>\n",
       "    </tr>\n",
       "    <tr>\n",
       "      <th>2</th>\n",
       "      <td>22735</td>\n",
       "      <td>1540</td>\n",
       "      <td>0.777778</td>\n",
       "      <td>0.552564</td>\n",
       "    </tr>\n",
       "    <tr>\n",
       "      <th>3</th>\n",
       "      <td>3672</td>\n",
       "      <td>2818</td>\n",
       "      <td>0.777778</td>\n",
       "      <td>0.624437</td>\n",
       "    </tr>\n",
       "    <tr>\n",
       "      <th>4</th>\n",
       "      <td>15333</td>\n",
       "      <td>2541</td>\n",
       "      <td>0.444444</td>\n",
       "      <td>0.480082</td>\n",
       "    </tr>\n",
       "    <tr>\n",
       "      <th>...</th>\n",
       "      <td>...</td>\n",
       "      <td>...</td>\n",
       "      <td>...</td>\n",
       "      <td>...</td>\n",
       "    </tr>\n",
       "    <tr>\n",
       "      <th>995</th>\n",
       "      <td>8977</td>\n",
       "      <td>935</td>\n",
       "      <td>0.444444</td>\n",
       "      <td>0.457640</td>\n",
       "    </tr>\n",
       "    <tr>\n",
       "      <th>996</th>\n",
       "      <td>20493</td>\n",
       "      <td>1985</td>\n",
       "      <td>0.777778</td>\n",
       "      <td>0.649868</td>\n",
       "    </tr>\n",
       "    <tr>\n",
       "      <th>997</th>\n",
       "      <td>12263</td>\n",
       "      <td>1402</td>\n",
       "      <td>0.777778</td>\n",
       "      <td>0.500000</td>\n",
       "    </tr>\n",
       "    <tr>\n",
       "      <th>998</th>\n",
       "      <td>14047</td>\n",
       "      <td>452</td>\n",
       "      <td>0.888889</td>\n",
       "      <td>0.532961</td>\n",
       "    </tr>\n",
       "    <tr>\n",
       "      <th>999</th>\n",
       "      <td>23349</td>\n",
       "      <td>132</td>\n",
       "      <td>0.777778</td>\n",
       "      <td>0.133321</td>\n",
       "    </tr>\n",
       "  </tbody>\n",
       "</table>\n",
       "<p>1000 rows × 4 columns</p>\n",
       "</div>"
      ],
      "text/plain": [
       "     user_id  isbn    rating  prediction\n",
       "0      12635  1172  1.000000    0.500000\n",
       "1      17943  2529  0.888889    0.500000\n",
       "2      22735  1540  0.777778    0.552564\n",
       "3       3672  2818  0.777778    0.624437\n",
       "4      15333  2541  0.444444    0.480082\n",
       "..       ...   ...       ...         ...\n",
       "995     8977   935  0.444444    0.457640\n",
       "996    20493  1985  0.777778    0.649868\n",
       "997    12263  1402  0.777778    0.500000\n",
       "998    14047   452  0.888889    0.532961\n",
       "999    23349   132  0.777778    0.133321\n",
       "\n",
       "[1000 rows x 4 columns]"
      ]
     },
     "execution_count": 29,
     "metadata": {},
     "output_type": "execute_result"
    }
   ],
   "source": [
    "test_data = get_batch(test_rows, test_columns, test_sparse.data)\n",
    "for row_batch, column_batch, rating_batch in test_data:\n",
    "    predictions = model(row_batch, column_batch).detach().numpy()\n",
    "    row_batch = row_batch.numpy()\n",
    "    column_batch = column_batch.numpy()\n",
    "    rating_batch = rating_batch.numpy()\n",
    "\n",
    "    predictions_test = pd.DataFrame(\n",
    "        {\n",
    "            \"user_id\": row_batch,\n",
    "            \"isbn\": column_batch,\n",
    "            \"rating\": rating_batch,\n",
    "            \"prediction\": predictions,\n",
    "        }\n",
    "    )\n",
    "    break\n",
    "predictions_test"
   ]
  },
  {
   "cell_type": "code",
   "execution_count": 30,
   "metadata": {},
   "outputs": [
    {
     "data": {
      "text/html": [
       "<div>\n",
       "<style scoped>\n",
       "    .dataframe tbody tr th:only-of-type {\n",
       "        vertical-align: middle;\n",
       "    }\n",
       "\n",
       "    .dataframe tbody tr th {\n",
       "        vertical-align: top;\n",
       "    }\n",
       "\n",
       "    .dataframe thead th {\n",
       "        text-align: right;\n",
       "    }\n",
       "</style>\n",
       "<table border=\"1\" class=\"dataframe\">\n",
       "  <thead>\n",
       "    <tr style=\"text-align: right;\">\n",
       "      <th></th>\n",
       "      <th>user_id</th>\n",
       "      <th>isbn</th>\n",
       "      <th>rating</th>\n",
       "      <th>prediction</th>\n",
       "    </tr>\n",
       "  </thead>\n",
       "  <tbody>\n",
       "    <tr>\n",
       "      <th>0</th>\n",
       "      <td>0</td>\n",
       "      <td>0</td>\n",
       "      <td>0.555556</td>\n",
       "      <td>0.514829</td>\n",
       "    </tr>\n",
       "    <tr>\n",
       "      <th>1</th>\n",
       "      <td>0</td>\n",
       "      <td>1</td>\n",
       "      <td>0.444444</td>\n",
       "      <td>0.446899</td>\n",
       "    </tr>\n",
       "    <tr>\n",
       "      <th>2</th>\n",
       "      <td>1</td>\n",
       "      <td>2</td>\n",
       "      <td>0.888889</td>\n",
       "      <td>0.894077</td>\n",
       "    </tr>\n",
       "    <tr>\n",
       "      <th>3</th>\n",
       "      <td>2</td>\n",
       "      <td>3</td>\n",
       "      <td>0.666667</td>\n",
       "      <td>0.697367</td>\n",
       "    </tr>\n",
       "    <tr>\n",
       "      <th>4</th>\n",
       "      <td>3</td>\n",
       "      <td>4</td>\n",
       "      <td>0.777778</td>\n",
       "      <td>0.780262</td>\n",
       "    </tr>\n",
       "    <tr>\n",
       "      <th>...</th>\n",
       "      <td>...</td>\n",
       "      <td>...</td>\n",
       "      <td>...</td>\n",
       "      <td>...</td>\n",
       "    </tr>\n",
       "    <tr>\n",
       "      <th>995</th>\n",
       "      <td>518</td>\n",
       "      <td>281</td>\n",
       "      <td>0.777778</td>\n",
       "      <td>0.759296</td>\n",
       "    </tr>\n",
       "    <tr>\n",
       "      <th>996</th>\n",
       "      <td>519</td>\n",
       "      <td>852</td>\n",
       "      <td>0.666667</td>\n",
       "      <td>0.694155</td>\n",
       "    </tr>\n",
       "    <tr>\n",
       "      <th>997</th>\n",
       "      <td>520</td>\n",
       "      <td>853</td>\n",
       "      <td>0.666667</td>\n",
       "      <td>0.659565</td>\n",
       "    </tr>\n",
       "    <tr>\n",
       "      <th>998</th>\n",
       "      <td>521</td>\n",
       "      <td>854</td>\n",
       "      <td>0.777778</td>\n",
       "      <td>0.743388</td>\n",
       "    </tr>\n",
       "    <tr>\n",
       "      <th>999</th>\n",
       "      <td>523</td>\n",
       "      <td>857</td>\n",
       "      <td>1.000000</td>\n",
       "      <td>0.969419</td>\n",
       "    </tr>\n",
       "  </tbody>\n",
       "</table>\n",
       "<p>1000 rows × 4 columns</p>\n",
       "</div>"
      ],
      "text/plain": [
       "     user_id  isbn    rating  prediction\n",
       "0          0     0  0.555556    0.514829\n",
       "1          0     1  0.444444    0.446899\n",
       "2          1     2  0.888889    0.894077\n",
       "3          2     3  0.666667    0.697367\n",
       "4          3     4  0.777778    0.780262\n",
       "..       ...   ...       ...         ...\n",
       "995      518   281  0.777778    0.759296\n",
       "996      519   852  0.666667    0.694155\n",
       "997      520   853  0.666667    0.659565\n",
       "998      521   854  0.777778    0.743388\n",
       "999      523   857  1.000000    0.969419\n",
       "\n",
       "[1000 rows x 4 columns]"
      ]
     },
     "execution_count": 30,
     "metadata": {},
     "output_type": "execute_result"
    }
   ],
   "source": [
    "train_data = get_batch(train_rows, train_columns, train_sparse.data)\n",
    "for row_batch, column_batch, rating_batch in train_data:\n",
    "    predictions = model(row_batch, column_batch).detach().numpy()\n",
    "    row_batch = row_batch.numpy()\n",
    "    column_batch = column_batch.numpy()\n",
    "    rating_batch = rating_batch.numpy()\n",
    "\n",
    "    predictions_train = pd.DataFrame(\n",
    "        {\n",
    "            \"user_id\": row_batch,\n",
    "            \"isbn\": column_batch,\n",
    "            \"rating\": rating_batch,\n",
    "            \"prediction\": predictions,\n",
    "        }\n",
    "    )\n",
    "    break\n",
    "predictions_train"
   ]
  },
  {
   "cell_type": "markdown",
   "metadata": {},
   "source": [
    "## Using ALS"
   ]
  },
  {
   "cell_type": "markdown",
   "metadata": {},
   "source": [
    "ALS stands for Alternating Least Squares. It is an algorithm that solves the following optimization problem:\n",
    "\n",
    "$$\n",
    "\\min_{U, V} \\sum_{(i, j) \\in \\Omega}{( A_{ij} - \\langle U_i, V_j\\rangle)^2}\n",
    "$$\n",
    "\n",
    "where $\\Omega$ is the set of observed ratings. The algorithm alternates between the following two steps:\n",
    "\n",
    "1. Fix $V$ and solve for $U$.\n",
    "2. Fix $U$ and solve for $V$.\n",
    "3. Repeat until convergence."
   ]
  },
  {
   "cell_type": "code",
   "execution_count": 31,
   "metadata": {},
   "outputs": [],
   "source": [
    "train_df_, test_df_ = split_dataframe(df_small, 0.15)\n",
    "train_df_[\"provided_rating\"] = train_df_[\"provided_rating\"].apply(normalize_ratings)\n",
    "test_df_[\"provided_rating\"] = test_df_[\"provided_rating\"].apply(normalize_ratings)\n",
    "\n",
    "\n",
    "train_sparse = sparse.coo_matrix(\n",
    "    (train_df_['provided_rating'].astype(np.float32),\n",
    "        (train_df_['user_id'], train_df_['isbn']))\n",
    ")\n",
    "test_sparse = sparse.coo_matrix(\n",
    "    (test_df_['provided_rating'].astype(np.float32),\n",
    "    (test_df_['user_id'], test_df_['isbn']))\n",
    ")\n",
    "\n",
    "train_rows, train_columns = train_sparse.nonzero()\n",
    "test_rows, test_columns = test_sparse.nonzero()\n",
    "\n",
    "def get_batch(rows, columns, ratings, batch_size=1000):\n",
    "    for start in range(0, len(rows), batch_size):\n",
    "        end = min(start + batch_size, len(rows))\n",
    "        rows_batch = rows[start:end]\n",
    "        columns_batch = columns[start:end]\n",
    "        ratings_batch = ratings[start:end]\n",
    "        rows_batch = torch.LongTensor(rows_batch)\n",
    "        columns_batch = torch.LongTensor(columns_batch)\n",
    "        ratings_batch = torch.FloatTensor(ratings_batch)\n",
    "        yield rows_batch, columns_batch, ratings_batch"
   ]
  },
  {
   "cell_type": "code",
   "execution_count": 32,
   "metadata": {},
   "outputs": [],
   "source": [
    "embedding_dim = 30\n",
    "n_users = df_small.user_id.nunique()\n",
    "n_items = df_small.isbn.nunique()\n",
    "U = torch.nn.Parameter(torch.randn(n_users, embedding_dim, requires_grad=True))\n",
    "V = torch.nn.Parameter(torch.randn(n_items, embedding_dim, requires_grad=True))\n",
    "# torch.nn.init.xavier_uniform(U)\n",
    "# torch.nn.init.xavier_uniform(V)\n",
    "\n",
    "def predict_ratings(user, item):\n",
    "    prediction = (U[user] * V[item]).sum(1)\n",
    "    prediction = torch.sigmoid(prediction)\n",
    "    return prediction\n",
    "\n",
    "l1_weight = 0\n",
    "l2_weight = 0\n",
    "lr = 0.01\n",
    "u_optimizer = torch.optim.Adam([U], lr=lr)\n",
    "v_optimizer = torch.optim.Adam([V], lr=lr)\n",
    "\n",
    "scheduler_str = \"plateau\"\n",
    "loss_func = MSE_L1L2Loss(model, l1_weight=l1_weight, l2_weight=l2_weight)\n",
    "if scheduler_str == \"plateau\":\n",
    "    u_scheduler = torch.optim.lr_scheduler.ReduceLROnPlateau(u_optimizer, patience=10, verbose=True, min_lr=1e-7)\n",
    "    v_scheduler = torch.optim.lr_scheduler.ReduceLROnPlateau(v_optimizer, patience=10, verbose=True, min_lr=1e-7)\n",
    "elif scheduler_str == \"step\":\n",
    "    u_scheduler = torch.optim.lr_scheduler.StepLR(u_optimizer, step_size=30, gamma=0.1)\n",
    "    v_scheduler = torch.optim.lr_scheduler.StepLR(v_optimizer, step_size=30, gamma=0.1)\n"
   ]
  },
  {
   "cell_type": "code",
   "execution_count": 33,
   "metadata": {},
   "outputs": [],
   "source": [
    "def als_train_step(user, item, rating, optimizer_u, optimizer_v):\n",
    "    optimizer_u.zero_grad()\n",
    "    # optimizer_v.zero_grad()\n",
    "\n",
    "    prediction_u = predict_ratings(user, item)\n",
    "    loss_u = loss_func(prediction_u, rating)\n",
    "    loss_u.backward()\n",
    "    optimizer_u.step()\n",
    "    optimizer_v.zero_grad()\n",
    "    \n",
    "    prediction_v = predict_ratings(user, item)\n",
    "    loss_v = loss_func(prediction_v, rating)\n",
    "    loss_v.backward()\n",
    "    optimizer_v.step()\n",
    "    return loss_u.item() , loss_v.item()\n",
    "\n",
    "def als_test_step(user, item, rating):\n",
    "    prediction = predict_ratings(user, item)\n",
    "    loss = loss_func(prediction, rating)\n",
    "    return loss.item()"
   ]
  },
  {
   "cell_type": "code",
   "execution_count": 34,
   "metadata": {},
   "outputs": [
    {
     "data": {
      "application/vnd.jupyter.widget-view+json": {
       "model_id": "71d32604fee74f739363260cad7cae90",
       "version_major": 2,
       "version_minor": 0
      },
      "text/plain": [
       "Training...:   0%|          | 0/200 [00:00<?, ?it/s]"
      ]
     },
     "metadata": {},
     "output_type": "display_data"
    },
    {
     "name": "stdout",
     "output_type": "stream",
     "text": [
      "Epoch 0: train loss = 0.556930897216643, test loss = 0.2790404395623641\n",
      "Epoch 20: train loss = 0.11080517121140034, test loss = 0.2711117755283009\n",
      "Epoch 40: train loss = 0.07221151912404646, test loss = 0.2576108520681208\n",
      "Epoch 60: train loss = 0.047787392511963844, test loss = 0.24266499009999362\n",
      "Epoch 80: train loss = 0.03165435842088153, test loss = 0.2297681434587999\n",
      "Epoch 00091: reducing learning rate of group 0 to 1.0000e-03.\n",
      "Epoch 00091: reducing learning rate of group 0 to 1.0000e-03.\n",
      "Epoch 100: train loss = 0.012222323446504531, test loss = 0.22260056977922266\n",
      "Epoch 120: train loss = 0.009238690693652438, test loss = 0.22318654168735852\n",
      "Epoch 140: train loss = 0.007331920605558422, test loss = 0.22393679076975043\n",
      "Epoch 160: train loss = 0.005838947294602891, test loss = 0.2249736785888672\n",
      "Epoch 00164: reducing learning rate of group 0 to 1.0000e-04.\n",
      "Epoch 00164: reducing learning rate of group 0 to 1.0000e-04.\n",
      "Epoch 180: train loss = 0.005381882337162331, test loss = 0.2251943661407991\n",
      "Epoch 199: train loss = 0.0052933601470994615, test loss = 0.22536279532042416\n"
     ]
    }
   ],
   "source": [
    "epochs = 200\n",
    "num_print = 10\n",
    "print_freq = epochs // num_print\n",
    "train_losses = []\n",
    "test_losses = []\n",
    "\n",
    "for epoch in tqdm(range(epochs), total=epochs, desc=\"Training...\"):\n",
    "    train_data = get_batch(train_rows, train_columns, train_sparse.data)\n",
    "    test_data = get_batch(test_rows, test_columns, test_sparse.data)\n",
    "\n",
    "    losses = []\n",
    "    for row_batch, column_batch, rating_batch in train_data:\n",
    "        loss_u, loss_v = als_train_step(row_batch, column_batch, rating_batch, u_optimizer, v_optimizer)\n",
    "        loss = loss_u + loss_v\n",
    "        losses.append(loss)\n",
    "    train_loss = np.mean(losses)\n",
    "    train_losses.append(train_loss)\n",
    "\n",
    "    train_loss_u = np.mean(loss_u)\n",
    "    train_loss_v = np.mean(loss_v)\n",
    "    u_scheduler.step(train_loss_u)\n",
    "    v_scheduler.step(train_loss_v)\n",
    "    \n",
    "    losses = []\n",
    "    for row_batch, column_batch, rating_batch in test_data:\n",
    "        loss = als_test_step(row_batch, column_batch, rating_batch)\n",
    "        losses.append(loss)\n",
    "    test_loss = np.mean(losses)\n",
    "    test_losses.append(test_loss)\n",
    "\n",
    "    if epoch % print_freq == 0 or epoch == epochs - 1:\n",
    "        print(f\"Epoch {epoch}: train loss = {train_loss}, test loss = {test_loss}\")"
   ]
  },
  {
   "cell_type": "code",
   "execution_count": 35,
   "metadata": {},
   "outputs": [
    {
     "data": {
      "text/plain": [
       "<matplotlib.legend.Legend at 0x1b4393fd540>"
      ]
     },
     "execution_count": 35,
     "metadata": {},
     "output_type": "execute_result"
    },
    {
     "data": {
      "image/png": "[encoded data removed]",
      "text/plain": [
       "<Figure size 1000x600 with 1 Axes>"
      ]
     },
     "metadata": {},
     "output_type": "display_data"
    }
   ],
   "source": [
    "plt.figure(figsize=(10, 6))\n",
    "plt.plot(train_losses, label=\"train loss\")\n",
    "plt.plot(test_losses, label=\"test loss\")\n",
    "plt.xlabel(\"Epoch\")\n",
    "plt.ylabel(\"Loss\")\n",
    "plt.legend()"
   ]
  },
  {
   "cell_type": "code",
   "execution_count": 36,
   "metadata": {},
   "outputs": [
    {
     "data": {
      "text/html": [
       "<div>\n",
       "<style scoped>\n",
       "    .dataframe tbody tr th:only-of-type {\n",
       "        vertical-align: middle;\n",
       "    }\n",
       "\n",
       "    .dataframe tbody tr th {\n",
       "        vertical-align: top;\n",
       "    }\n",
       "\n",
       "    .dataframe thead th {\n",
       "        text-align: right;\n",
       "    }\n",
       "</style>\n",
       "<table border=\"1\" class=\"dataframe\">\n",
       "  <thead>\n",
       "    <tr style=\"text-align: right;\">\n",
       "      <th></th>\n",
       "      <th>user_id</th>\n",
       "      <th>isbn</th>\n",
       "      <th>rating</th>\n",
       "      <th>prediction</th>\n",
       "    </tr>\n",
       "  </thead>\n",
       "  <tbody>\n",
       "    <tr>\n",
       "      <th>0</th>\n",
       "      <td>3419</td>\n",
       "      <td>2443</td>\n",
       "      <td>1.000000</td>\n",
       "      <td>0.234506</td>\n",
       "    </tr>\n",
       "    <tr>\n",
       "      <th>1</th>\n",
       "      <td>993</td>\n",
       "      <td>486</td>\n",
       "      <td>1.000000</td>\n",
       "      <td>0.074517</td>\n",
       "    </tr>\n",
       "    <tr>\n",
       "      <th>2</th>\n",
       "      <td>13962</td>\n",
       "      <td>94</td>\n",
       "      <td>0.555556</td>\n",
       "      <td>0.982237</td>\n",
       "    </tr>\n",
       "    <tr>\n",
       "      <th>3</th>\n",
       "      <td>830</td>\n",
       "      <td>751</td>\n",
       "      <td>0.444444</td>\n",
       "      <td>0.516354</td>\n",
       "    </tr>\n",
       "    <tr>\n",
       "      <th>4</th>\n",
       "      <td>20371</td>\n",
       "      <td>2001</td>\n",
       "      <td>0.666667</td>\n",
       "      <td>0.837317</td>\n",
       "    </tr>\n",
       "    <tr>\n",
       "      <th>...</th>\n",
       "      <td>...</td>\n",
       "      <td>...</td>\n",
       "      <td>...</td>\n",
       "      <td>...</td>\n",
       "    </tr>\n",
       "    <tr>\n",
       "      <th>995</th>\n",
       "      <td>993</td>\n",
       "      <td>1181</td>\n",
       "      <td>0.666667</td>\n",
       "      <td>0.791814</td>\n",
       "    </tr>\n",
       "    <tr>\n",
       "      <th>996</th>\n",
       "      <td>7266</td>\n",
       "      <td>14</td>\n",
       "      <td>1.000000</td>\n",
       "      <td>0.986061</td>\n",
       "    </tr>\n",
       "    <tr>\n",
       "      <th>997</th>\n",
       "      <td>12637</td>\n",
       "      <td>2784</td>\n",
       "      <td>0.666667</td>\n",
       "      <td>0.016166</td>\n",
       "    </tr>\n",
       "    <tr>\n",
       "      <th>998</th>\n",
       "      <td>18056</td>\n",
       "      <td>2357</td>\n",
       "      <td>0.555556</td>\n",
       "      <td>0.010672</td>\n",
       "    </tr>\n",
       "    <tr>\n",
       "      <th>999</th>\n",
       "      <td>19923</td>\n",
       "      <td>114</td>\n",
       "      <td>0.777778</td>\n",
       "      <td>0.232025</td>\n",
       "    </tr>\n",
       "  </tbody>\n",
       "</table>\n",
       "<p>1000 rows × 4 columns</p>\n",
       "</div>"
      ],
      "text/plain": [
       "     user_id  isbn    rating  prediction\n",
       "0       3419  2443  1.000000    0.234506\n",
       "1        993   486  1.000000    0.074517\n",
       "2      13962    94  0.555556    0.982237\n",
       "3        830   751  0.444444    0.516354\n",
       "4      20371  2001  0.666667    0.837317\n",
       "..       ...   ...       ...         ...\n",
       "995      993  1181  0.666667    0.791814\n",
       "996     7266    14  1.000000    0.986061\n",
       "997    12637  2784  0.666667    0.016166\n",
       "998    18056  2357  0.555556    0.010672\n",
       "999    19923   114  0.777778    0.232025\n",
       "\n",
       "[1000 rows x 4 columns]"
      ]
     },
     "execution_count": 36,
     "metadata": {},
     "output_type": "execute_result"
    }
   ],
   "source": [
    "test_data = get_batch(test_rows, test_columns, test_sparse.data)\n",
    "for row_batch, column_batch, rating_batch in test_data:\n",
    "    predictions = predict_ratings(row_batch, column_batch).detach().numpy()\n",
    "    row_batch = row_batch.numpy()\n",
    "    column_batch = column_batch.numpy()\n",
    "    rating_batch = rating_batch.numpy()\n",
    "\n",
    "    predictions_test = pd.DataFrame(\n",
    "        {\n",
    "            \"user_id\": row_batch,\n",
    "            \"isbn\": column_batch,\n",
    "            \"rating\": rating_batch,\n",
    "            \"prediction\": predictions,\n",
    "        }\n",
    "    )\n",
    "    break\n",
    "predictions_test"
   ]
  },
  {
   "cell_type": "code",
   "execution_count": 37,
   "metadata": {},
   "outputs": [
    {
     "data": {
      "text/html": [
       "<div>\n",
       "<style scoped>\n",
       "    .dataframe tbody tr th:only-of-type {\n",
       "        vertical-align: middle;\n",
       "    }\n",
       "\n",
       "    .dataframe tbody tr th {\n",
       "        vertical-align: top;\n",
       "    }\n",
       "\n",
       "    .dataframe thead th {\n",
       "        text-align: right;\n",
       "    }\n",
       "</style>\n",
       "<table border=\"1\" class=\"dataframe\">\n",
       "  <thead>\n",
       "    <tr style=\"text-align: right;\">\n",
       "      <th></th>\n",
       "      <th>user_id</th>\n",
       "      <th>isbn</th>\n",
       "      <th>rating</th>\n",
       "      <th>prediction</th>\n",
       "    </tr>\n",
       "  </thead>\n",
       "  <tbody>\n",
       "    <tr>\n",
       "      <th>0</th>\n",
       "      <td>0</td>\n",
       "      <td>0</td>\n",
       "      <td>0.555556</td>\n",
       "      <td>0.555583</td>\n",
       "    </tr>\n",
       "    <tr>\n",
       "      <th>1</th>\n",
       "      <td>1</td>\n",
       "      <td>2</td>\n",
       "      <td>0.888889</td>\n",
       "      <td>0.889288</td>\n",
       "    </tr>\n",
       "    <tr>\n",
       "      <th>2</th>\n",
       "      <td>2</td>\n",
       "      <td>3</td>\n",
       "      <td>0.666667</td>\n",
       "      <td>0.666710</td>\n",
       "    </tr>\n",
       "    <tr>\n",
       "      <th>3</th>\n",
       "      <td>3</td>\n",
       "      <td>4</td>\n",
       "      <td>0.777778</td>\n",
       "      <td>0.989298</td>\n",
       "    </tr>\n",
       "    <tr>\n",
       "      <th>4</th>\n",
       "      <td>4</td>\n",
       "      <td>5</td>\n",
       "      <td>0.777778</td>\n",
       "      <td>0.777821</td>\n",
       "    </tr>\n",
       "    <tr>\n",
       "      <th>...</th>\n",
       "      <td>...</td>\n",
       "      <td>...</td>\n",
       "      <td>...</td>\n",
       "      <td>...</td>\n",
       "    </tr>\n",
       "    <tr>\n",
       "      <th>995</th>\n",
       "      <td>525</td>\n",
       "      <td>864</td>\n",
       "      <td>0.555556</td>\n",
       "      <td>0.555164</td>\n",
       "    </tr>\n",
       "    <tr>\n",
       "      <th>996</th>\n",
       "      <td>525</td>\n",
       "      <td>636</td>\n",
       "      <td>0.666667</td>\n",
       "      <td>0.666893</td>\n",
       "    </tr>\n",
       "    <tr>\n",
       "      <th>997</th>\n",
       "      <td>525</td>\n",
       "      <td>866</td>\n",
       "      <td>0.666667</td>\n",
       "      <td>0.667081</td>\n",
       "    </tr>\n",
       "    <tr>\n",
       "      <th>998</th>\n",
       "      <td>525</td>\n",
       "      <td>428</td>\n",
       "      <td>0.444444</td>\n",
       "      <td>0.444012</td>\n",
       "    </tr>\n",
       "    <tr>\n",
       "      <th>999</th>\n",
       "      <td>525</td>\n",
       "      <td>713</td>\n",
       "      <td>0.777778</td>\n",
       "      <td>0.777748</td>\n",
       "    </tr>\n",
       "  </tbody>\n",
       "</table>\n",
       "<p>1000 rows × 4 columns</p>\n",
       "</div>"
      ],
      "text/plain": [
       "     user_id  isbn    rating  prediction\n",
       "0          0     0  0.555556    0.555583\n",
       "1          1     2  0.888889    0.889288\n",
       "2          2     3  0.666667    0.666710\n",
       "3          3     4  0.777778    0.989298\n",
       "4          4     5  0.777778    0.777821\n",
       "..       ...   ...       ...         ...\n",
       "995      525   864  0.555556    0.555164\n",
       "996      525   636  0.666667    0.666893\n",
       "997      525   866  0.666667    0.667081\n",
       "998      525   428  0.444444    0.444012\n",
       "999      525   713  0.777778    0.777748\n",
       "\n",
       "[1000 rows x 4 columns]"
      ]
     },
     "execution_count": 37,
     "metadata": {},
     "output_type": "execute_result"
    }
   ],
   "source": [
    "train_data = get_batch(train_rows, train_columns, train_sparse.data)\n",
    "for row_batch, column_batch, rating_batch in train_data:\n",
    "    predictions = predict_ratings(row_batch, column_batch).detach().numpy()\n",
    "    row_batch = row_batch.numpy()\n",
    "    column_batch = column_batch.numpy()\n",
    "    rating_batch = rating_batch.numpy()\n",
    "\n",
    "    predictions_train = pd.DataFrame(\n",
    "        {\n",
    "            \"user_id\": row_batch,\n",
    "            \"isbn\": column_batch,\n",
    "            \"rating\": rating_batch,\n",
    "            \"prediction\": predictions,\n",
    "        }\n",
    "    )\n",
    "    break\n",
    "predictions_train"
   ]
  }
 ],
 "metadata": {
  "kernelspec": {
   "display_name": "data-science",
   "language": "python",
   "name": "python3"
  },
  "language_info": {
   "codemirror_mode": {
    "name": "ipython",
    "version": 3
   },
   "file_extension": ".py",
   "mimetype": "text/x-python",
   "name": "python",
   "nbconvert_exporter": "python",
   "pygments_lexer": "ipython3",
   "version": "3.10.12"
  },
  "orig_nbformat": 4
 },
 "nbformat": 4,
 "nbformat_minor": 2
}
